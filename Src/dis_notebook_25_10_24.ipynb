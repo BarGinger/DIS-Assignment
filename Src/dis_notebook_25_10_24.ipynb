{
  "nbformat": 4,
  "nbformat_minor": 0,
  "metadata": {
    "colab": {
      "provenance": []
    },
    "kernelspec": {
      "name": "python3",
      "display_name": "Python 3"
    },
    "language_info": {
      "name": "python"
    }
  },
  "cells": [
    {
      "cell_type": "code",
      "execution_count": 1,
      "metadata": {
        "colab": {
          "base_uri": "https://localhost:8080/"
        },
        "id": "QFDENKMNs-52",
        "outputId": "2e0545f7-9c24-47dd-badd-de05bfac72dc"
      },
      "outputs": [
        {
          "output_type": "stream",
          "name": "stdout",
          "text": [
            "Requirement already satisfied: pyspark in /usr/local/lib/python3.10/dist-packages (3.5.3)\n",
            "Requirement already satisfied: py4j==0.10.9.7 in /usr/local/lib/python3.10/dist-packages (from pyspark) (0.10.9.7)\n",
            "The following additional packages will be installed:\n",
            "  libxtst6 openjdk-8-jre-headless\n",
            "Suggested packages:\n",
            "  openjdk-8-demo openjdk-8-source libnss-mdns fonts-dejavu-extra fonts-nanum fonts-ipafont-gothic\n",
            "  fonts-ipafont-mincho fonts-wqy-microhei fonts-wqy-zenhei fonts-indic\n",
            "The following NEW packages will be installed:\n",
            "  libxtst6 openjdk-8-jdk-headless openjdk-8-jre-headless\n",
            "0 upgraded, 3 newly installed, 0 to remove and 49 not upgraded.\n",
            "Need to get 39.6 MB of archives.\n",
            "After this operation, 144 MB of additional disk space will be used.\n",
            "Selecting previously unselected package libxtst6:amd64.\n",
            "(Reading database ... 123622 files and directories currently installed.)\n",
            "Preparing to unpack .../libxtst6_2%3a1.2.3-1build4_amd64.deb ...\n",
            "Unpacking libxtst6:amd64 (2:1.2.3-1build4) ...\n",
            "Selecting previously unselected package openjdk-8-jre-headless:amd64.\n",
            "Preparing to unpack .../openjdk-8-jre-headless_8u422-b05-1~22.04_amd64.deb ...\n",
            "Unpacking openjdk-8-jre-headless:amd64 (8u422-b05-1~22.04) ...\n",
            "Selecting previously unselected package openjdk-8-jdk-headless:amd64.\n",
            "Preparing to unpack .../openjdk-8-jdk-headless_8u422-b05-1~22.04_amd64.deb ...\n",
            "Unpacking openjdk-8-jdk-headless:amd64 (8u422-b05-1~22.04) ...\n",
            "Setting up libxtst6:amd64 (2:1.2.3-1build4) ...\n",
            "Setting up openjdk-8-jre-headless:amd64 (8u422-b05-1~22.04) ...\n",
            "update-alternatives: using /usr/lib/jvm/java-8-openjdk-amd64/jre/bin/orbd to provide /usr/bin/orbd (orbd) in auto mode\n",
            "update-alternatives: using /usr/lib/jvm/java-8-openjdk-amd64/jre/bin/servertool to provide /usr/bin/servertool (servertool) in auto mode\n",
            "update-alternatives: using /usr/lib/jvm/java-8-openjdk-amd64/jre/bin/tnameserv to provide /usr/bin/tnameserv (tnameserv) in auto mode\n",
            "Setting up openjdk-8-jdk-headless:amd64 (8u422-b05-1~22.04) ...\n",
            "update-alternatives: using /usr/lib/jvm/java-8-openjdk-amd64/bin/clhsdb to provide /usr/bin/clhsdb (clhsdb) in auto mode\n",
            "update-alternatives: using /usr/lib/jvm/java-8-openjdk-amd64/bin/extcheck to provide /usr/bin/extcheck (extcheck) in auto mode\n",
            "update-alternatives: using /usr/lib/jvm/java-8-openjdk-amd64/bin/hsdb to provide /usr/bin/hsdb (hsdb) in auto mode\n",
            "update-alternatives: using /usr/lib/jvm/java-8-openjdk-amd64/bin/idlj to provide /usr/bin/idlj (idlj) in auto mode\n",
            "update-alternatives: using /usr/lib/jvm/java-8-openjdk-amd64/bin/javah to provide /usr/bin/javah (javah) in auto mode\n",
            "update-alternatives: using /usr/lib/jvm/java-8-openjdk-amd64/bin/jhat to provide /usr/bin/jhat (jhat) in auto mode\n",
            "update-alternatives: using /usr/lib/jvm/java-8-openjdk-amd64/bin/jsadebugd to provide /usr/bin/jsadebugd (jsadebugd) in auto mode\n",
            "update-alternatives: using /usr/lib/jvm/java-8-openjdk-amd64/bin/native2ascii to provide /usr/bin/native2ascii (native2ascii) in auto mode\n",
            "update-alternatives: using /usr/lib/jvm/java-8-openjdk-amd64/bin/schemagen to provide /usr/bin/schemagen (schemagen) in auto mode\n",
            "update-alternatives: using /usr/lib/jvm/java-8-openjdk-amd64/bin/wsgen to provide /usr/bin/wsgen (wsgen) in auto mode\n",
            "update-alternatives: using /usr/lib/jvm/java-8-openjdk-amd64/bin/wsimport to provide /usr/bin/wsimport (wsimport) in auto mode\n",
            "update-alternatives: using /usr/lib/jvm/java-8-openjdk-amd64/bin/xjc to provide /usr/bin/xjc (xjc) in auto mode\n",
            "Processing triggers for libc-bin (2.35-0ubuntu3.4) ...\n",
            "/sbin/ldconfig.real: /usr/local/lib/libtbbbind_2_0.so.3 is not a symbolic link\n",
            "\n",
            "/sbin/ldconfig.real: /usr/local/lib/libur_adapter_opencl.so.0 is not a symbolic link\n",
            "\n",
            "/sbin/ldconfig.real: /usr/local/lib/libtbbbind.so.3 is not a symbolic link\n",
            "\n",
            "/sbin/ldconfig.real: /usr/local/lib/libtbbmalloc.so.2 is not a symbolic link\n",
            "\n",
            "/sbin/ldconfig.real: /usr/local/lib/libur_loader.so.0 is not a symbolic link\n",
            "\n",
            "/sbin/ldconfig.real: /usr/local/lib/libtbbbind_2_5.so.3 is not a symbolic link\n",
            "\n",
            "/sbin/ldconfig.real: /usr/local/lib/libtbbmalloc_proxy.so.2 is not a symbolic link\n",
            "\n",
            "/sbin/ldconfig.real: /usr/local/lib/libur_adapter_level_zero.so.0 is not a symbolic link\n",
            "\n",
            "/sbin/ldconfig.real: /usr/local/lib/libtbb.so.12 is not a symbolic link\n",
            "\n",
            "Collecting graphframes\n",
            "  Downloading graphframes-0.6-py2.py3-none-any.whl.metadata (934 bytes)\n",
            "Requirement already satisfied: numpy in /usr/local/lib/python3.10/dist-packages (from graphframes) (1.26.4)\n",
            "Collecting nose (from graphframes)\n",
            "  Downloading nose-1.3.7-py3-none-any.whl.metadata (1.7 kB)\n",
            "Downloading graphframes-0.6-py2.py3-none-any.whl (18 kB)\n",
            "Downloading nose-1.3.7-py3-none-any.whl (154 kB)\n",
            "\u001b[2K   \u001b[90m━━━━━━━━━━━━━━━━━━━━━━━━━━━━━━━━━━━━━━━━\u001b[0m \u001b[32m154.7/154.7 kB\u001b[0m \u001b[31m3.6 MB/s\u001b[0m eta \u001b[36m0:00:00\u001b[0m\n",
            "\u001b[?25hInstalling collected packages: nose, graphframes\n",
            "Successfully installed graphframes-0.6 nose-1.3.7\n"
          ]
        }
      ],
      "source": [
        "!pip install pyspark\n",
        "!pip install -U -q PyDrive\n",
        "!apt install openjdk-8-jdk-headless -qq\n",
        "!pip install graphframes\n",
        "import os\n",
        "os.environ[\"JAVA_HOME\"] = \"/usr/lib/jvm/java-8-openjdk-amd64\""
      ]
    },
    {
      "cell_type": "code",
      "source": [
        "import pyspark\n",
        "from pyspark.sql import SparkSession\n",
        "from pyspark.sql.functions import udf, col, collect_list, countDistinct, row_number, lit, struct, max as spark_max\n",
        "from pyspark.sql.types import StringType, IntegerType, BinaryType, DoubleType, ArrayType, StructType, StructField\n",
        "from pyspark.sql import Window\n",
        "from datetime import datetime\n",
        "from graphframes import GraphFrame\n",
        "from scipy.sparse import csr_matrix, vstack, hstack\n",
        "import numpy as np\n",
        "import pickle\n",
        "import base64"
      ],
      "metadata": {
        "id": "gjrP64v5QyEd"
      },
      "execution_count": 42,
      "outputs": []
    },
    {
      "cell_type": "code",
      "source": [
        "# Initialize Spark session\n",
        "spark = SparkSession.builder \\\n",
        "    .appName(\"PhoneCallsCommunityDetection\") \\\n",
        "    .config(\"spark.jars.packages\", \"graphframes:graphframes:0.8.2-spark3.1-s_2.12\") \\\n",
        "    .config(\"spark.executor.memory\", \"4g\") \\\n",
        "    .config(\"spark.driver.memory\", \"4g\") \\\n",
        "    .config(\"spark.default.parallelism\", \"8\") \\\n",
        "    .config(\"spark.sql.shuffle.partitions\", \"8\") \\\n",
        "    .getOrCreate()\n",
        "\n",
        "# Set a checkpoint directory for Spark\n",
        "spark.sparkContext.setCheckpointDir(\"/tmp/spark-checkpoints\")\n",
        "\n",
        "file_path = 'adjusted_phone_calls.csv'\n",
        "df = spark.read.csv(file_path, header=True, inferSchema=True)\n",
        "\n",
        "# Convert YYMMDDHHMM to a proper datetime object\n",
        "def convert_to_datetime(yyMMddHHMM):\n",
        "    return datetime.strptime(str(yyMMddHHMM), '%y%m%d%H%M')\n",
        "\n",
        "# Define UDF for calculating duration in minutes\n",
        "def calculate_duration_minutes(start_time, end_time):\n",
        "    start_dt = convert_to_datetime(start_time)\n",
        "    end_dt = convert_to_datetime(end_time)\n",
        "    duration = end_dt - start_dt\n",
        "    return duration.total_seconds() / 60\n",
        "\n",
        "# Define UDF for calculating duration in DDHHMM format\n",
        "def calculate_duration_string(start_time, end_time):\n",
        "    start_dt = convert_to_datetime(start_time)\n",
        "    end_dt = convert_to_datetime(end_time)\n",
        "    duration = end_dt - start_dt\n",
        "\n",
        "    days = duration.days\n",
        "    hours, remainder = divmod(duration.seconds, 3600)\n",
        "    minutes = remainder // 60\n",
        "    return f'{days:02d}{hours:02d}{minutes:02d}'\n",
        "\n",
        "# Register the UDF in Spark\n",
        "calculate_duration_minutes_udf = udf(calculate_duration_minutes, DoubleType())\n",
        "calculate_duration_string_udf = udf(calculate_duration_string, StringType())\n",
        "\n",
        "# Add columns for duration in minutes and DDHHMM format\n",
        "df = df.withColumn('duration_minutes', calculate_duration_minutes_udf(col('Start_Time'), col('End_Time')))\n",
        "df = df.withColumn('duration_DDHHMM', calculate_duration_string_udf(col('Start_Time'), col('End_Time')))\n",
        "\n",
        "# Create Graph using GraphFrames for community detection\n",
        "vertices = df.selectExpr(\"Client1 as id\").union(df.selectExpr(\"Client2 as id\")).distinct()\n",
        "edges = df.selectExpr(\"Client1 as src\", \"Client2 as dst\", \"duration_minutes as weight\")\n",
        "\n",
        "# Cache vertices and edges\n",
        "vertices.cache()\n",
        "edges.cache()\n",
        "\n",
        "# Create a GraphFrame\n",
        "g = GraphFrame(vertices, edges)\n",
        "\n",
        "# Find connected components (communities) using GraphFrames\n",
        "result = g.connectedComponents()\n",
        "\n",
        "# Join the result (community IDs) with the original dataframe\n",
        "df_with_communities = df.join(result, df['Client1'] == result['id'], 'inner').withColumnRenamed('component', 'community_id')\n",
        "\n",
        "# Calculate the number of unique clients (community size) per community\n",
        "community_sizes = df_with_communities.select(\"community_id\", \"Client1\").union(df_with_communities.select(\"community_id\", \"Client2\")) \\\n",
        "    .distinct() \\\n",
        "    .groupBy(\"community_id\").agg(countDistinct(\"Client1\").alias(\"community_size\"))\n",
        "\n",
        "# Merge the community sizes into the main DataFrame\n",
        "df_final = df_with_communities.join(community_sizes, 'community_id')\n",
        "from pyspark.sql.functions import struct, collect_list, col\n",
        "# Get list of tuples for each community member by considering both Client1 and Client2\n",
        "community_members = df_final.select(\"community_id\", \"Client1\", \"Client2\", \"duration_DDHHMM\", \"duration_minutes\") \\\n",
        "    .distinct() \\\n",
        "    .groupBy(\"community_id\") \\\n",
        "    .agg(collect_list(struct(col(\"Client1\"), col(\"Client2\"), col(\"duration_DDHHMM\"), col(\"duration_minutes\"))).alias(\"members\"))\n",
        "# Show the final DataFrame with community IDs, duration, and community sizes\n",
        "df_final.select('Client1', 'Client2', 'duration_DDHHMM','duration_minutes', 'community_id', 'community_size').show()\n",
        "\n",
        "# Show the list of community members as tuples\n",
        "community_members.show(truncate=False)"
      ],
      "metadata": {
        "id": "RAMTvsL2v2YH",
        "colab": {
          "base_uri": "https://localhost:8080/"
        },
        "outputId": "53cba091-bba4-41bc-fb77-f2a898cc13c1"
      },
      "execution_count": 48,
      "outputs": [
        {
          "output_type": "stream",
          "name": "stderr",
          "text": [
            "/usr/local/lib/python3.10/dist-packages/pyspark/sql/dataframe.py:168: UserWarning: DataFrame.sql_ctx is an internal property, and will be removed in future releases. Use DataFrame.sparkSession instead.\n",
            "  warnings.warn(\n",
            "/usr/local/lib/python3.10/dist-packages/pyspark/sql/dataframe.py:147: UserWarning: DataFrame constructor is internal. Do not directly use it.\n",
            "  warnings.warn(\"DataFrame constructor is internal. Do not directly use it.\")\n"
          ]
        },
        {
          "output_type": "stream",
          "name": "stdout",
          "text": [
            "+-------+-------+---------------+----------------+------------+--------------+\n",
            "|Client1|Client2|duration_DDHHMM|duration_minutes|community_id|community_size|\n",
            "+-------+-------+---------------+----------------+------------+--------------+\n",
            "|      4|      5|         000058|            58.0|           4|             4|\n",
            "|      5|      6|         000257|           177.0|           4|             4|\n",
            "|      6|      7|         000200|           120.0|           4|             4|\n",
            "|      8|      9|         000233|           153.0|           8|             2|\n",
            "|     11|     12|         000215|           135.0|          10|             3|\n",
            "|     10|     11|         000029|            29.0|          10|             3|\n",
            "|      2|      3|         000035|            35.0|           1|             3|\n",
            "|      1|      2|         010200|          1560.0|           1|             3|\n",
            "|     14|     15|         000108|            68.0|          13|             3|\n",
            "|     13|     14|         000132|            92.0|          13|             3|\n",
            "+-------+-------+---------------+----------------+------------+--------------+\n",
            "\n",
            "+------------+--------------------------------------------------------------------+\n",
            "|community_id|members                                                             |\n",
            "+------------+--------------------------------------------------------------------+\n",
            "|13          |[{14, 15, 000108, 68.0}, {13, 14, 000132, 92.0}]                    |\n",
            "|4           |[{4, 5, 000058, 58.0}, {5, 6, 000257, 177.0}, {6, 7, 000200, 120.0}]|\n",
            "|10          |[{11, 12, 000215, 135.0}, {10, 11, 000029, 29.0}]                   |\n",
            "|1           |[{2, 3, 000035, 35.0}, {1, 2, 010200, 1560.0}]                      |\n",
            "|8           |[{8, 9, 000233, 153.0}]                                             |\n",
            "+------------+--------------------------------------------------------------------+\n",
            "\n"
          ]
        }
      ]
    },
    {
      "cell_type": "code",
      "source": [
        "# Create CSR adjacency matrices for each community and serialize them\n",
        "def create_csr_matrix(members, use_weights=False):\n",
        "    clients = list(set([member['Client1'] for member in members] + [member['Client2'] for member in members]))\n",
        "    client_index = {client: idx for idx, client in enumerate(clients)}\n",
        "\n",
        "    row_indices = []\n",
        "    col_indices = []\n",
        "    data = []\n",
        "\n",
        "    for member in members:\n",
        "        row_indices.append(client_index[member['Client1']])\n",
        "        col_indices.append(client_index[member['Client2']])\n",
        "        if use_weights:\n",
        "            data.append(float(member['duration_minutes']))  # Use duration in minutes as the weight of the edge\n",
        "        else:\n",
        "            data.append(1)  # Use 1 for unweighted similarity\n",
        "\n",
        "    num_clients = len(clients)\n",
        "    csr = csr_matrix((data, (row_indices, col_indices)), shape=(num_clients, num_clients))\n",
        "\n",
        "    # Serialize the CSR matrix\n",
        "    serialized_csr = base64.b64encode(pickle.dumps(csr)).decode('utf-8')\n",
        "    return serialized_csr"
      ],
      "metadata": {
        "id": "SLVvHeMPPduW"
      },
      "execution_count": 49,
      "outputs": []
    },
    {
      "cell_type": "code",
      "source": [
        "# Convert the collected list of Row objects to a list of dictionaries before passing to UDF\n",
        "schema = StructType([\n",
        "    StructField(\"Client1\", StringType(), True),\n",
        "    StructField(\"Client2\", StringType(), True),\n",
        "    StructField(\"duration_DDHHMM\", StringType(), True),\n",
        "    StructField(\"duration_minutes\", DoubleType(), True)\n",
        "])\n",
        "convert_members_udf = udf(lambda members: [member.asDict() for member in members], ArrayType(schema))\n",
        "community_members = community_members.withColumn(\"members_dict\", convert_members_udf(col(\"members\")))\n",
        "#Register UDF to create and serialize CSR matrices (both unweighted and weighted)\n",
        "create_csr_unweighted_udf = udf(lambda members: create_csr_matrix(members, use_weights=False), StringType())\n",
        "create_csr_weighted_udf = udf(lambda members: create_csr_matrix(members, use_weights=True), StringType())\n",
        "\n",
        "# Add CSR matrix representations (unweighted and weighted) to each community\n",
        "community_members = community_members.withColumn(\"csr_matrix_unweighted\", create_csr_unweighted_udf(col(\"members_dict\")))\n",
        "community_members = community_members.withColumn(\"csr_matrix_weighted\", create_csr_weighted_udf(col(\"members_dict\")))\n",
        "\n",
        "community_members.show(truncate=False)\n"
      ],
      "metadata": {
        "colab": {
          "base_uri": "https://localhost:8080/"
        },
        "id": "OjuHFxkPcriO",
        "outputId": "6326dbdc-b4a7-4830-eebf-5be24859038a"
      },
      "execution_count": 59,
      "outputs": [
        {
          "output_type": "stream",
          "name": "stdout",
          "text": [
            "+------------+--------------------------------------------------------------------+--------------------------------------------------------------------+----------------------------------------------------------------------------------------------------------------------------------------------------------------------------------------------------------------------------------------------------------------------------------------------------------------------------------------------------------------------------------------------------------------------------------------------------------------------------------------------------------------------------------------------------------------------------------------------------------------+----------------------------------------------------------------------------------------------------------------------------------------------------------------------------------------------------------------------------------------------------------------------------------------------------------------------------------------------------------------------------------------------------------------------------------------------------------------------------------------------------------------------------------------------------------------------------------------------------------------+\n",
            "|community_id|members                                                             |members_dict                                                        |csr_matrix_unweighted                                                                                                                                                                                                                                                                                                                                                                                                                                                                                                                                                                                           |csr_matrix_weighted                                                                                                                                                                                                                                                                                                                                                                                                                                                                                                                                                                                             |\n",
            "+------------+--------------------------------------------------------------------+--------------------------------------------------------------------+----------------------------------------------------------------------------------------------------------------------------------------------------------------------------------------------------------------------------------------------------------------------------------------------------------------------------------------------------------------------------------------------------------------------------------------------------------------------------------------------------------------------------------------------------------------------------------------------------------------+----------------------------------------------------------------------------------------------------------------------------------------------------------------------------------------------------------------------------------------------------------------------------------------------------------------------------------------------------------------------------------------------------------------------------------------------------------------------------------------------------------------------------------------------------------------------------------------------------------------+\n",
            "|13          |[{14, 15, 000108, 68.0}, {13, 14, 000132, 92.0}]                    |[{14, 15, 000108, 68.0}, {13, 14, 000132, 92.0}]                    |gASVnwEAAAAAAACMEXNjaXB5LnNwYXJzZS5fY3NylIwKY3NyX21hdHJpeJSTlCmBlH2UKIwGX3NoYXBllEsDSwOGlIwIbWF4cHJpbnSUSzKMBmluZHB0cpSMFW51bXB5LmNvcmUubXVsdGlhcnJheZSMDF9yZWNvbnN0cnVjdJSTlIwFbnVtcHmUjAduZGFycmF5lJOUSwCFlEMBYpSHlFKUKEsBSwSFlGgMjAVkdHlwZZSTlIwCaTSUiYiHlFKUKEsDjAE8lE5OTkr/////Sv////9LAHSUYolDEAAAAAABAAAAAgAAAAIAAACUdJRijAdpbmRpY2VzlGgLaA5LAIWUaBCHlFKUKEsBSwKFlGgYiUMIAQAAAAIAAACUdJRijARkYXRhlGgLaA5LAIWUaBCHlFKUKEsBSwKFlGgVjAJpOJSJiIeUUpQoSwNoGU5OTkr/////Sv////9LAHSUYolDEAEAAAAAAAAAAQAAAAAAAACUdJRijBVfaGFzX2Nhbm9uaWNhbF9mb3JtYXSUiIwTX2hhc19zb3J0ZWRfaW5kaWNlc5SIdWIu                        |gASVnwEAAAAAAACMEXNjaXB5LnNwYXJzZS5fY3NylIwKY3NyX21hdHJpeJSTlCmBlH2UKIwGX3NoYXBllEsDSwOGlIwIbWF4cHJpbnSUSzKMBmluZHB0cpSMFW51bXB5LmNvcmUubXVsdGlhcnJheZSMDF9yZWNvbnN0cnVjdJSTlIwFbnVtcHmUjAduZGFycmF5lJOUSwCFlEMBYpSHlFKUKEsBSwSFlGgMjAVkdHlwZZSTlIwCaTSUiYiHlFKUKEsDjAE8lE5OTkr/////Sv////9LAHSUYolDEAAAAAABAAAAAgAAAAIAAACUdJRijAdpbmRpY2VzlGgLaA5LAIWUaBCHlFKUKEsBSwKFlGgYiUMIAQAAAAIAAACUdJRijARkYXRhlGgLaA5LAIWUaBCHlFKUKEsBSwKFlGgVjAJmOJSJiIeUUpQoSwNoGU5OTkr/////Sv////9LAHSUYolDEAAAAAAAAFdAAAAAAAAAUUCUdJRijBVfaGFzX2Nhbm9uaWNhbF9mb3JtYXSUiIwTX2hhc19zb3J0ZWRfaW5kaWNlc5SIdWIu                        |\n",
            "|4           |[{4, 5, 000058, 58.0}, {5, 6, 000257, 177.0}, {6, 7, 000200, 120.0}]|[{4, 5, 000058, 58.0}, {5, 6, 000257, 177.0}, {6, 7, 000200, 120.0}]|gASVrwEAAAAAAACMEXNjaXB5LnNwYXJzZS5fY3NylIwKY3NyX21hdHJpeJSTlCmBlH2UKIwGX3NoYXBllEsESwSGlIwIbWF4cHJpbnSUSzKMBmluZHB0cpSMFW51bXB5LmNvcmUubXVsdGlhcnJheZSMDF9yZWNvbnN0cnVjdJSTlIwFbnVtcHmUjAduZGFycmF5lJOUSwCFlEMBYpSHlFKUKEsBSwWFlGgMjAVkdHlwZZSTlIwCaTSUiYiHlFKUKEsDjAE8lE5OTkr/////Sv////9LAHSUYolDFAAAAAABAAAAAgAAAAMAAAADAAAAlHSUYowHaW5kaWNlc5RoC2gOSwCFlGgQh5RSlChLAUsDhZRoGIlDDAEAAAACAAAAAwAAAJR0lGKMBGRhdGGUaAtoDksAhZRoEIeUUpQoSwFLA4WUaBWMAmk4lImIh5RSlChLA2gZTk5OSv////9K/////0sAdJRiiUMYAQAAAAAAAAABAAAAAAAAAAEAAAAAAAAAlHSUYowVX2hhc19jYW5vbmljYWxfZm9ybWF0lIiME19oYXNfc29ydGVkX2luZGljZXOUiHViLg==|gASVrwEAAAAAAACMEXNjaXB5LnNwYXJzZS5fY3NylIwKY3NyX21hdHJpeJSTlCmBlH2UKIwGX3NoYXBllEsESwSGlIwIbWF4cHJpbnSUSzKMBmluZHB0cpSMFW51bXB5LmNvcmUubXVsdGlhcnJheZSMDF9yZWNvbnN0cnVjdJSTlIwFbnVtcHmUjAduZGFycmF5lJOUSwCFlEMBYpSHlFKUKEsBSwWFlGgMjAVkdHlwZZSTlIwCaTSUiYiHlFKUKEsDjAE8lE5OTkr/////Sv////9LAHSUYolDFAAAAAABAAAAAgAAAAMAAAADAAAAlHSUYowHaW5kaWNlc5RoC2gOSwCFlGgQh5RSlChLAUsDhZRoGIlDDAEAAAACAAAAAwAAAJR0lGKMBGRhdGGUaAtoDksAhZRoEIeUUpQoSwFLA4WUaBWMAmY4lImIh5RSlChLA2gZTk5OSv////9K/////0sAdJRiiUMYAAAAAAAATUAAAAAAACBmQAAAAAAAAF5AlHSUYowVX2hhc19jYW5vbmljYWxfZm9ybWF0lIiME19oYXNfc29ydGVkX2luZGljZXOUiHViLg==|\n",
            "|10          |[{11, 12, 000215, 135.0}, {10, 11, 000029, 29.0}]                   |[{11, 12, 000215, 135.0}, {10, 11, 000029, 29.0}]                   |gASVnwEAAAAAAACMEXNjaXB5LnNwYXJzZS5fY3NylIwKY3NyX21hdHJpeJSTlCmBlH2UKIwGX3NoYXBllEsDSwOGlIwIbWF4cHJpbnSUSzKMBmluZHB0cpSMFW51bXB5LmNvcmUubXVsdGlhcnJheZSMDF9yZWNvbnN0cnVjdJSTlIwFbnVtcHmUjAduZGFycmF5lJOUSwCFlEMBYpSHlFKUKEsBSwSFlGgMjAVkdHlwZZSTlIwCaTSUiYiHlFKUKEsDjAE8lE5OTkr/////Sv////9LAHSUYolDEAAAAAABAAAAAgAAAAIAAACUdJRijAdpbmRpY2VzlGgLaA5LAIWUaBCHlFKUKEsBSwKFlGgYiUMIAQAAAAIAAACUdJRijARkYXRhlGgLaA5LAIWUaBCHlFKUKEsBSwKFlGgVjAJpOJSJiIeUUpQoSwNoGU5OTkr/////Sv////9LAHSUYolDEAEAAAAAAAAAAQAAAAAAAACUdJRijBVfaGFzX2Nhbm9uaWNhbF9mb3JtYXSUiIwTX2hhc19zb3J0ZWRfaW5kaWNlc5SIdWIu                        |gASVnwEAAAAAAACMEXNjaXB5LnNwYXJzZS5fY3NylIwKY3NyX21hdHJpeJSTlCmBlH2UKIwGX3NoYXBllEsDSwOGlIwIbWF4cHJpbnSUSzKMBmluZHB0cpSMFW51bXB5LmNvcmUubXVsdGlhcnJheZSMDF9yZWNvbnN0cnVjdJSTlIwFbnVtcHmUjAduZGFycmF5lJOUSwCFlEMBYpSHlFKUKEsBSwSFlGgMjAVkdHlwZZSTlIwCaTSUiYiHlFKUKEsDjAE8lE5OTkr/////Sv////9LAHSUYolDEAAAAAABAAAAAgAAAAIAAACUdJRijAdpbmRpY2VzlGgLaA5LAIWUaBCHlFKUKEsBSwKFlGgYiUMIAQAAAAIAAACUdJRijARkYXRhlGgLaA5LAIWUaBCHlFKUKEsBSwKFlGgVjAJmOJSJiIeUUpQoSwNoGU5OTkr/////Sv////9LAHSUYolDEAAAAAAAAD1AAAAAAADgYECUdJRijBVfaGFzX2Nhbm9uaWNhbF9mb3JtYXSUiIwTX2hhc19zb3J0ZWRfaW5kaWNlc5SIdWIu                        |\n",
            "|1           |[{2, 3, 000035, 35.0}, {1, 2, 010200, 1560.0}]                      |[{2, 3, 000035, 35.0}, {1, 2, 010200, 1560.0}]                      |gASVnwEAAAAAAACMEXNjaXB5LnNwYXJzZS5fY3NylIwKY3NyX21hdHJpeJSTlCmBlH2UKIwGX3NoYXBllEsDSwOGlIwIbWF4cHJpbnSUSzKMBmluZHB0cpSMFW51bXB5LmNvcmUubXVsdGlhcnJheZSMDF9yZWNvbnN0cnVjdJSTlIwFbnVtcHmUjAduZGFycmF5lJOUSwCFlEMBYpSHlFKUKEsBSwSFlGgMjAVkdHlwZZSTlIwCaTSUiYiHlFKUKEsDjAE8lE5OTkr/////Sv////9LAHSUYolDEAAAAAABAAAAAgAAAAIAAACUdJRijAdpbmRpY2VzlGgLaA5LAIWUaBCHlFKUKEsBSwKFlGgYiUMIAQAAAAIAAACUdJRijARkYXRhlGgLaA5LAIWUaBCHlFKUKEsBSwKFlGgVjAJpOJSJiIeUUpQoSwNoGU5OTkr/////Sv////9LAHSUYolDEAEAAAAAAAAAAQAAAAAAAACUdJRijBVfaGFzX2Nhbm9uaWNhbF9mb3JtYXSUiIwTX2hhc19zb3J0ZWRfaW5kaWNlc5SIdWIu                        |gASVnwEAAAAAAACMEXNjaXB5LnNwYXJzZS5fY3NylIwKY3NyX21hdHJpeJSTlCmBlH2UKIwGX3NoYXBllEsDSwOGlIwIbWF4cHJpbnSUSzKMBmluZHB0cpSMFW51bXB5LmNvcmUubXVsdGlhcnJheZSMDF9yZWNvbnN0cnVjdJSTlIwFbnVtcHmUjAduZGFycmF5lJOUSwCFlEMBYpSHlFKUKEsBSwSFlGgMjAVkdHlwZZSTlIwCaTSUiYiHlFKUKEsDjAE8lE5OTkr/////Sv////9LAHSUYolDEAAAAAABAAAAAgAAAAIAAACUdJRijAdpbmRpY2VzlGgLaA5LAIWUaBCHlFKUKEsBSwKFlGgYiUMIAQAAAAIAAACUdJRijARkYXRhlGgLaA5LAIWUaBCHlFKUKEsBSwKFlGgVjAJmOJSJiIeUUpQoSwNoGU5OTkr/////Sv////9LAHSUYolDEAAAAAAAYJhAAAAAAACAQUCUdJRijBVfaGFzX2Nhbm9uaWNhbF9mb3JtYXSUiIwTX2hhc19zb3J0ZWRfaW5kaWNlc5SIdWIu                        |\n",
            "|8           |[{8, 9, 000233, 153.0}]                                             |[{8, 9, 000233, 153.0}]                                             |gASVjwEAAAAAAACMEXNjaXB5LnNwYXJzZS5fY3NylIwKY3NyX21hdHJpeJSTlCmBlH2UKIwGX3NoYXBllEsCSwKGlIwIbWF4cHJpbnSUSzKMBmluZHB0cpSMFW51bXB5LmNvcmUubXVsdGlhcnJheZSMDF9yZWNvbnN0cnVjdJSTlIwFbnVtcHmUjAduZGFycmF5lJOUSwCFlEMBYpSHlFKUKEsBSwOFlGgMjAVkdHlwZZSTlIwCaTSUiYiHlFKUKEsDjAE8lE5OTkr/////Sv////9LAHSUYolDDAAAAAABAAAAAQAAAJR0lGKMB2luZGljZXOUaAtoDksAhZRoEIeUUpQoSwFLAYWUaBiJQwQBAAAAlHSUYowEZGF0YZRoC2gOSwCFlGgQh5RSlChLAUsBhZRoFYwCaTiUiYiHlFKUKEsDaBlOTk5K/////0r/////SwB0lGKJQwgBAAAAAAAAAJR0lGKMFV9oYXNfY2Fub25pY2FsX2Zvcm1hdJSIjBNfaGFzX3NvcnRlZF9pbmRpY2VzlIh1Yi4=                                            |gASVjwEAAAAAAACMEXNjaXB5LnNwYXJzZS5fY3NylIwKY3NyX21hdHJpeJSTlCmBlH2UKIwGX3NoYXBllEsCSwKGlIwIbWF4cHJpbnSUSzKMBmluZHB0cpSMFW51bXB5LmNvcmUubXVsdGlhcnJheZSMDF9yZWNvbnN0cnVjdJSTlIwFbnVtcHmUjAduZGFycmF5lJOUSwCFlEMBYpSHlFKUKEsBSwOFlGgMjAVkdHlwZZSTlIwCaTSUiYiHlFKUKEsDjAE8lE5OTkr/////Sv////9LAHSUYolDDAAAAAABAAAAAQAAAJR0lGKMB2luZGljZXOUaAtoDksAhZRoEIeUUpQoSwFLAYWUaBiJQwQBAAAAlHSUYowEZGF0YZRoC2gOSwCFlGgQh5RSlChLAUsBhZRoFYwCZjiUiYiHlFKUKEsDaBlOTk5K/////0r/////SwB0lGKJQwgAAAAAACBjQJR0lGKMFV9oYXNfY2Fub25pY2FsX2Zvcm1hdJSIjBNfaGFzX3NvcnRlZF9pbmRpY2VzlIh1Yi4=                                            |\n",
            "+------------+--------------------------------------------------------------------+--------------------------------------------------------------------+----------------------------------------------------------------------------------------------------------------------------------------------------------------------------------------------------------------------------------------------------------------------------------------------------------------------------------------------------------------------------------------------------------------------------------------------------------------------------------------------------------------------------------------------------------------------------------------------------------------+----------------------------------------------------------------------------------------------------------------------------------------------------------------------------------------------------------------------------------------------------------------------------------------------------------------------------------------------------------------------------------------------------------------------------------------------------------------------------------------------------------------------------------------------------------------------------------------------------------------+\n",
            "\n"
          ]
        }
      ]
    },
    {
      "cell_type": "code",
      "source": [
        "def compare_weighted_structural_similarity(csr_matrix_1, csr_matrix_2):\n",
        "    # Deserialize CSR matrices\n",
        "    csr_1 = pickle.loads(base64.b64decode(csr_matrix_1))\n",
        "    csr_2 = pickle.loads(base64.b64decode(csr_matrix_2))\n",
        "\n",
        "\n",
        "    # Align matrix dimensions to the largest size\n",
        "    max_rows = max(csr_1.shape[0], csr_2.shape[0])\n",
        "    max_cols = max(csr_1.shape[1], csr_2.shape[1])\n",
        "\n",
        "    # Pad csr_1 to match max dimensions\n",
        "    if csr_1.shape[0] < max_rows or csr_1.shape[1] < max_cols:\n",
        "        csr_1 = vstack([csr_1, csr_matrix((max_rows - csr_1.shape[0], csr_1.shape[1]))]) if csr_1.shape[0] < max_rows else csr_1\n",
        "        csr_1 = hstack([csr_1, csr_matrix((csr_1.shape[0], max_cols - csr_1.shape[1]))]) if csr_1.shape[1] < max_cols else csr_1\n",
        "\n",
        "    # Pad csr_2 to match max dimensions\n",
        "    if csr_2.shape[0] < max_rows or csr_2.shape[1] < max_cols:\n",
        "        csr_2 = vstack([csr_2, csr_matrix((max_rows - csr_2.shape[0], csr_2.shape[1]))]) if csr_2.shape[0] < max_rows else csr_2\n",
        "        csr_2 = hstack([csr_2, csr_matrix((csr_2.shape[0], max_cols - csr_2.shape[1]))]) if csr_2.shape[1] < max_cols else csr_2\n",
        "\n",
        "    # Calculate structural similarity (e.g., using cosine similarity)\n",
        "    dot_product = csr_1.multiply(csr_2).sum()\n",
        "    norm_1 = np.sqrt(csr_1.multiply(csr_1).sum())\n",
        "    norm_2 = np.sqrt(csr_2.multiply(csr_2).sum())\n",
        "    similarity = dot_product / (norm_1 * norm_2) if norm_1 != 0 and norm_2 != 0 else 0\n",
        "    return float(similarity)"
      ],
      "metadata": {
        "id": "q-64vmO6eNT0"
      },
      "execution_count": 51,
      "outputs": []
    },
    {
      "cell_type": "code",
      "source": [
        "# Register UDF to compare structural similarity\n",
        "compare_structural_similarity_udf = udf(lambda csr_1, csr_2: compare_weighted_structural_similarity(csr_1, csr_2), DoubleType())\n",
        "compare_weighted_similarity_udf = udf(lambda csr_1, csr_2: compare_weighted_structural_similarity(csr_1, csr_2), DoubleType())\n",
        "\n",
        "# Cross join to compare each pair of communities and calculate both similarities\n",
        "cross_joined = community_members.alias(\"a\").crossJoin(community_members.alias(\"b\")) \\\n",
        "    .filter(col(\"a.community_id\") < col(\"b.community_id\")) \\\n",
        "    .withColumn(\"unweighted_similarity_score\", compare_structural_similarity_udf(col(\"a.csr_matrix_unweighted\"), col(\"b.csr_matrix_unweighted\"))) \\\n",
        "    .withColumn(\"weighted_similarity_score\", compare_weighted_similarity_udf(col(\"a.csr_matrix_weighted\"), col(\"b.csr_matrix_weighted\")))\n",
        "\n",
        "# Add combined similarity score (50/50 importance)\n",
        "cross_joined = cross_joined.withColumn(\"combined_similarity_score\",\n",
        "                                       0.5 * col(\"unweighted_similarity_score\") + 0.5 * col(\"weighted_similarity_score\"))\n",
        "\n",
        "# Show the similarity scores between communities\n",
        "cross_joined.select(col(\"a.community_id\").alias(\"community_id_1\"),\n",
        "                    col(\"b.community_id\").alias(\"community_id_2\"),\n",
        "                    \"unweighted_similarity_score\",\n",
        "                    \"weighted_similarity_score\",\n",
        "                    \"combined_similarity_score\").show(truncate=False)\n"
      ],
      "metadata": {
        "colab": {
          "base_uri": "https://localhost:8080/"
        },
        "id": "LXw_Pfk5Q8zf",
        "outputId": "b8712085-28ba-4b98-9ae3-868fa3044f47"
      },
      "execution_count": 58,
      "outputs": [
        {
          "output_type": "stream",
          "name": "stdout",
          "text": [
            "+--------------+--------------+---------------------------+-------------------------+-------------------------+\n",
            "|community_id_1|community_id_2|unweighted_similarity_score|weighted_similarity_score|combined_similarity_score|\n",
            "+--------------+--------------+---------------------------+-------------------------+-------------------------+\n",
            "|4             |13            |0.8164965809277259         |0.6853357570839352       |0.7509161690058306       |\n",
            "|4             |10            |0.8164965809277259         |0.8360072103535584       |0.8262518956406422       |\n",
            "|4             |8             |0.5773502691896258         |0.26176899616530314      |0.4195596326774645       |\n",
            "|10            |13            |0.9999999999999998         |0.7500299536866752       |0.8750149768433375       |\n",
            "|1             |13            |0.9999999999999998         |0.8173061607351331       |0.9086530803675664       |\n",
            "|1             |4             |0.8164965809277259         |0.27962147262753995      |0.548059026777633        |\n",
            "|1             |10            |0.9999999999999998         |0.2319007863332522       |0.615950393166626        |\n",
            "|1             |8             |0.7071067811865475         |0.9997484102311005       |0.853427595708824        |\n",
            "|8             |13            |0.7071067811865475         |0.8041761414663255       |0.7556414613264365       |\n",
            "|8             |10            |0.7071067811865475         |0.2100236508438352       |0.45856521601519135      |\n",
            "+--------------+--------------+---------------------------+-------------------------+-------------------------+\n",
            "\n"
          ]
        }
      ]
    }
  ]
}