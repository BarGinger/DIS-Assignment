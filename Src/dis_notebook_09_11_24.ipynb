{
  "cells": [
    {
      "cell_type": "markdown",
      "metadata": {
        "id": "view-in-github"
      },
      "source": [
        "<a href=\"https://colab.research.google.com/github/BarGinger/DIS-Assignment/blob/main/Src/dis_notebook_08_11_24.ipynb\" target=\"_parent\"><img src=\"https://colab.research.google.com/assets/colab-badge.svg\" alt=\"Open In Colab\"/></a>"
      ]
    },
    {
      "cell_type": "code",
      "execution_count": 1,
      "metadata": {
        "id": "QFDENKMNs-52",
        "colab": {
          "base_uri": "https://localhost:8080/"
        },
        "outputId": "4a0e7446-042d-4117-d01e-09d23cbd886b"
      },
      "outputs": [
        {
          "output_type": "stream",
          "name": "stdout",
          "text": [
            "Requirement already satisfied: pyspark in /usr/local/lib/python3.10/dist-packages (3.5.3)\n",
            "Requirement already satisfied: py4j==0.10.9.7 in /usr/local/lib/python3.10/dist-packages (from pyspark) (0.10.9.7)\n",
            "openjdk-8-jdk-headless is already the newest version (8u422-b05-1~22.04).\n",
            "0 upgraded, 0 newly installed, 0 to remove and 49 not upgraded.\n",
            "Requirement already satisfied: graphframes in /usr/local/lib/python3.10/dist-packages (0.6)\n",
            "Requirement already satisfied: numpy in /usr/local/lib/python3.10/dist-packages (from graphframes) (1.26.4)\n",
            "Requirement already satisfied: nose in /usr/local/lib/python3.10/dist-packages (from graphframes) (1.3.7)\n",
            "Requirement already satisfied: sparkmeasure==0.24 in /usr/local/lib/python3.10/dist-packages (0.24.0)\n",
            "Requirement already satisfied: matplotlib in /usr/local/lib/python3.10/dist-packages (3.8.0)\n",
            "Requirement already satisfied: seaborn in /usr/local/lib/python3.10/dist-packages (0.13.2)\n",
            "Requirement already satisfied: contourpy>=1.0.1 in /usr/local/lib/python3.10/dist-packages (from matplotlib) (1.3.0)\n",
            "Requirement already satisfied: cycler>=0.10 in /usr/local/lib/python3.10/dist-packages (from matplotlib) (0.12.1)\n",
            "Requirement already satisfied: fonttools>=4.22.0 in /usr/local/lib/python3.10/dist-packages (from matplotlib) (4.54.1)\n",
            "Requirement already satisfied: kiwisolver>=1.0.1 in /usr/local/lib/python3.10/dist-packages (from matplotlib) (1.4.7)\n",
            "Requirement already satisfied: numpy<2,>=1.21 in /usr/local/lib/python3.10/dist-packages (from matplotlib) (1.26.4)\n",
            "Requirement already satisfied: packaging>=20.0 in /usr/local/lib/python3.10/dist-packages (from matplotlib) (24.1)\n",
            "Requirement already satisfied: pillow>=6.2.0 in /usr/local/lib/python3.10/dist-packages (from matplotlib) (10.4.0)\n",
            "Requirement already satisfied: pyparsing>=2.3.1 in /usr/local/lib/python3.10/dist-packages (from matplotlib) (3.2.0)\n",
            "Requirement already satisfied: python-dateutil>=2.7 in /usr/local/lib/python3.10/dist-packages (from matplotlib) (2.8.2)\n",
            "Requirement already satisfied: pandas>=1.2 in /usr/local/lib/python3.10/dist-packages (from seaborn) (2.2.2)\n",
            "Requirement already satisfied: pytz>=2020.1 in /usr/local/lib/python3.10/dist-packages (from pandas>=1.2->seaborn) (2024.2)\n",
            "Requirement already satisfied: tzdata>=2022.7 in /usr/local/lib/python3.10/dist-packages (from pandas>=1.2->seaborn) (2024.2)\n",
            "Requirement already satisfied: six>=1.5 in /usr/local/lib/python3.10/dist-packages (from python-dateutil>=2.7->matplotlib) (1.16.0)\n"
          ]
        }
      ],
      "source": [
        "# 1st cell - Install requirements\n",
        "!pip install pyspark\n",
        "!pip install -U -q PyDrive\n",
        "!apt install openjdk-8-jdk-headless -qq\n",
        "!pip install graphframes\n",
        "!pip install sparkmeasure==0.24\n",
        "!pip install matplotlib seaborn\n",
        "import os\n",
        "os.environ[\"JAVA_HOME\"] = \"/usr/lib/jvm/java-8-openjdk-amd64\""
      ]
    },
    {
      "cell_type": "code",
      "execution_count": 2,
      "metadata": {
        "id": "gjrP64v5QyEd"
      },
      "outputs": [],
      "source": [
        "# 2nd cell - Import libraries\n",
        "import pyspark\n",
        "from pyspark.sql import SparkSession, Row, DataFrame\n",
        "from pyspark.sql.functions import (\n",
        "    col,\n",
        "    udf,\n",
        "    row_number,\n",
        "    countDistinct,\n",
        "    collect_list,\n",
        "    struct,\n",
        "    count,\n",
        "    sum,\n",
        "    avg,\n",
        "    expr,\n",
        "    percentile_approx,\n",
        "    max as spark_max,\n",
        "    explode,\n",
        "    round,\n",
        "    rand,\n",
        "    monotonically_increasing_id,\n",
        "    array,\n",
        "    lit,\n",
        "    broadcast,\n",
        "    lag,\n",
        "    pandas_udf,\n",
        "    PandasUDFType,\n",
        "    least,\n",
        "    greatest\n",
        ")\n",
        "import pyspark.sql.functions as F\n",
        "from sparkmeasure import StageMetrics\n",
        "from pyspark.sql.types import (\n",
        "    StringType, IntegerType, BinaryType, DoubleType,\n",
        "    ArrayType, StructType, StructField, LongType, TimestampType\n",
        ")\n",
        "from pyspark.sql import Window\n",
        "from datetime import datetime, timedelta\n",
        "from graphframes import GraphFrame\n",
        "from scipy.sparse import csr_matrix, vstack, hstack\n",
        "import numpy as np\n",
        "import pandas as pd\n",
        "import pickle\n",
        "import gc\n",
        "import base64\n",
        "from sparkmeasure import StageMetrics # for resources monitoring\n",
        "from functools import wraps\n",
        "import time\n",
        "import matplotlib.pyplot as plt\n",
        "import seaborn as sns\n",
        "import re\n",
        "import random\n",
        "from operator import truediv\n",
        "from google.colab import files\n",
        "from itertools import combinations\n",
        "from scipy.sparse.linalg import inv\n",
        "from scipy.sparse import identity\n",
        "from sklearn.metrics.pairwise import cosine_similarity\n",
        "import shutil\n",
        "import zipfile"
      ]
    },
    {
      "cell_type": "code",
      "execution_count": 3,
      "metadata": {
        "id": "xSdU6FWDinu3"
      },
      "outputs": [],
      "source": [
        "# 3rd cell - Initialize Spark session\n",
        "spark, stagemetrics = None, None\n",
        "\n",
        "def create_spark():\n",
        " # Initialize Spark session with optimized memory configurations\n",
        "  spark = SparkSession.builder \\\n",
        "        .appName(\"PhoneCallsCommunityDetection\") \\\n",
        "        .master(\"local[*]\") \\\n",
        "        .config(\"spark.jars.packages\", \"ch.cern.sparkmeasure:spark-measure_2.12:0.24,graphframes:graphframes:0.8.2-spark3.1-s_2.12\") \\\n",
        "        .config(\"spark.executor.memory\", \"50G\") \\\n",
        "        .config(\"spark.driver.memory\", \"100G\") \\\n",
        "        .config(\"spark.executor.memoryOverhead\", \"2G\") \\\n",
        "        .getOrCreate()\n",
        "\n",
        "  # Initialize StageMetrics\n",
        "  stagemetrics = StageMetrics(spark)\n",
        "\n",
        "  # Optional: Set logging level to reduce verbosity\n",
        "  # spark.sparkContext.setLogLevel(\"WARN\")\n",
        "\n",
        "  # Set a checkpoint directory for Spark\n",
        "  spark.sparkContext.setCheckpointDir(\"/tmp/spark-checkpoints\")\n",
        "  return spark, stagemetrics\n",
        "\n",
        "def kill_spark(spark):\n",
        "  spark.stop()\n",
        "\n",
        "spark, stagemetrics = create_spark()"
      ]
    },
    {
      "cell_type": "code",
      "execution_count": 4,
      "metadata": {
        "id": "WJPkATltavF1"
      },
      "outputs": [],
      "source": [
        "# 4th cell - Generate datasets - PLEASE only run this if datasets folder is empty / does not exists\n",
        "def generate_communities(spark, num_communities, community_size_range, density=0.3, extra_factor=1.5):\n",
        "    \"\"\"\n",
        "    Generate isolated communities with controlled sizes and connections.\n",
        "    Ensures enough connections for the sample count by using an extra factor.\n",
        "    \"\"\"\n",
        "    communities = []\n",
        "    for community_id in range(num_communities):\n",
        "        size = random.randint(community_size_range[0], community_size_range[1])\n",
        "        base_id = community_id * 1000\n",
        "        community_clients = [(community_id, base_id + i, base_id + j)\n",
        "                             for i in range(size) for j in range(i + 1, size) if random.random() < density * extra_factor]\n",
        "        communities.extend(community_clients)\n",
        "\n",
        "    return spark.createDataFrame(communities, [\"community_id\", \"client1\", \"client2\"])\n",
        "\n",
        "def generate_call_times(communities_df, calls_per_connection_range, duration_range, base_time, num_samples):\n",
        "    \"\"\"\n",
        "    Generate call start and end times for each client connection, ensuring total number of samples matches `num_samples`.\n",
        "    \"\"\"\n",
        "    calls_df = communities_df.withColumn(\n",
        "        \"num_calls\",\n",
        "        F.expr(f\"floor(rand() * ({calls_per_connection_range[1]} - {calls_per_connection_range[0]} + 1)) + {calls_per_connection_range[0]}\")\n",
        "    ).withColumn(\n",
        "        \"call_id\", F.monotonically_increasing_id()\n",
        "    ).withColumn(\n",
        "        \"calls\", F.expr(\"sequence(1, num_calls)\")\n",
        "    ).select(\"client1\", \"client2\", \"call_id\", F.explode(\"calls\").alias(\"call_num\"))\n",
        "\n",
        "    def generate_times():\n",
        "        start_time = base_time + timedelta(minutes=random.randint(0, 1440))\n",
        "        duration = random.randint(duration_range[0], duration_range[1])\n",
        "        end_time = start_time + timedelta(minutes=duration)\n",
        "        return start_time.strftime('%y%m%d%H%M'), end_time.strftime('%y%m%d%H%M')\n",
        "\n",
        "    time_udf = F.udf(lambda: generate_times(), \"struct<Start_Time:string, End_Time:string>\")\n",
        "    calls_df = calls_df.withColumn(\"call_times\", time_udf())\n",
        "\n",
        "    # Ensure consistent schema for the final DataFrame\n",
        "    calls_df = calls_df.select(\n",
        "        \"client1\", \"client2\", calls_df[\"call_times.Start_Time\"].alias(\"Start_Time\"), calls_df[\"call_times.End_Time\"].alias(\"End_Time\")\n",
        "    )\n",
        "\n",
        "    # Limit to the specified number of samples\n",
        "    final_calls_df = calls_df.limit(num_samples)\n",
        "\n",
        "    # Retry generation if the sample count isn't met\n",
        "    while final_calls_df.count() < num_samples:\n",
        "        additional_df = calls_df.limit(num_samples - final_calls_df.count()).select(\"client1\", \"client2\", \"Start_Time\", \"End_Time\")\n",
        "        final_calls_df = final_calls_df.union(additional_df).limit(num_samples)\n",
        "\n",
        "    return final_calls_df\n",
        "\n",
        "# Function to delete all generated datasets\n",
        "def delete_generated_datasets():\n",
        "    folder_path = \"/content/datasets/\"\n",
        "    deleted_files = []\n",
        "\n",
        "    if os.path.exists(folder_path):\n",
        "        # Loop through each item in the folder\n",
        "        for item in os.listdir(folder_path):\n",
        "            item_path = os.path.join(folder_path, item)\n",
        "            # Check if it's a directory and remove it with shutil.rmtree\n",
        "            if os.path.isdir(item_path):\n",
        "                shutil.rmtree(item_path)\n",
        "            else:\n",
        "                os.remove(item_path)\n",
        "            deleted_files.append(item)\n",
        "\n",
        "        # Print the results\n",
        "        if deleted_files:\n",
        "            print(\"Deleted the following items:\")\n",
        "            for item in deleted_files:\n",
        "                print(item)\n",
        "        else:\n",
        "            print(\"No files found in the folder to delete.\")\n",
        "    else:\n",
        "        print(\"The folder does not exist.\")\n",
        "\n",
        "def save_dataset(dataset, filename):\n",
        "    \"\"\"\n",
        "    Save the generated dataset to a temporary directory and then move to the final directory.\n",
        "\n",
        "    Parameters:\n",
        "        dataset (DataFrame): The DataFrame to save, containing generated call data.\n",
        "        filename (str): Base name for the dataset file.\n",
        "    \"\"\"\n",
        "    # Define the directories\n",
        "    final_dir = \"/content/datasets\"\n",
        "    temp_dir = f\"{final_dir}/{filename}_temp\"\n",
        "    final_path = os.path.join(final_dir, filename)\n",
        "\n",
        "    # Create directories if they don't exist\n",
        "    os.makedirs(final_dir, exist_ok=True)\n",
        "\n",
        "    # Write to the temporary directory\n",
        "    dataset.write.mode(\"overwrite\").option(\"header\", \"true\").csv(temp_dir)\n",
        "\n",
        "    # Move the content to the final directory\n",
        "    if os.path.exists(final_path):\n",
        "        shutil.rmtree(final_path)\n",
        "    shutil.move(temp_dir, final_path)\n",
        "\n",
        "    # Clean up by removing the temporary directory\n",
        "    if os.path.exists(temp_dir):\n",
        "        shutil.rmtree(temp_dir)\n",
        "\n",
        "    print(f\"Dataset saved as {final_path}\")\n",
        "    # files.download(final_path)\n",
        "    return final_path\n",
        "\n",
        "\n",
        "def export_datasets_to_computer(folder_path=\"/content/datasets\"):\n",
        "    \"\"\"\n",
        "    Compresses and exports each dataset in the specified folder to download to the local computer.\n",
        "\n",
        "    Parameters:\n",
        "        folder_path (str): The path to the folder containing datasets.\n",
        "    \"\"\"\n",
        "    # Check if the folder exists\n",
        "    if not os.path.exists(folder_path):\n",
        "        print(f\"The folder '{folder_path}' does not exist.\")\n",
        "        return\n",
        "\n",
        "    # Iterate over each file/directory in the folder\n",
        "    for item in os.listdir(folder_path):\n",
        "        item_path = os.path.join(folder_path, item)\n",
        "\n",
        "        # If it's a directory (dataset in CSV format is usually saved as a directory)\n",
        "        if os.path.isdir(item_path):\n",
        "            # Create a zip file of the dataset directory\n",
        "            zip_filename = f\"{item}.zip\"\n",
        "            shutil.make_archive(item_path, 'zip', item_path)\n",
        "            print(f\"Compressed '{item}' as '{zip_filename}'.\")\n",
        "\n",
        "            # Download the zip file\n",
        "            files.download(f\"{item_path}.zip\")\n",
        "        else:\n",
        "            # Download individual files if they are directly in the folder\n",
        "            files.download(item_path)\n",
        "\n",
        "    print(\"All datasets have been exported to your computer.\")\n",
        "\n",
        "\n",
        "# if __name__ == \"__main__\":\n",
        "#     delete_generated_datasets()\n",
        "#     # spark = create_spark_session()\n",
        "\n",
        "#     # Define parameter configurations with num_samples\n",
        "#     parameter_sets = [\n",
        "#         {\"num_communities\": 5, \"community_size_range\": (3, 5), \"calls_per_connection_range\": (1, 2), \"duration_range\": (30, 120), \"density\": 0.5, \"num_samples\": 50},\n",
        "#         {\"num_communities\": 10, \"community_size_range\": (5, 7), \"calls_per_connection_range\": (1, 3), \"duration_range\": (30, 180), \"density\": 0.4, \"num_samples\": 100},\n",
        "#         {\"num_communities\": 100, \"community_size_range\": (5, 100), \"calls_per_connection_range\": (1, 5), \"duration_range\": (30, 380), \"density\": 0.4, \"num_samples\": 5000},\n",
        "#         {\"num_communities\": 5000, \"community_size_range\": (5, 100), \"calls_per_connection_range\": (1, 5), \"duration_range\": (30, 380), \"density\": 0.4, \"num_samples\": 50000}\n",
        "#     ]\n",
        "\n",
        "#     base_time = datetime(2024, 1, 1)\n",
        "\n",
        "#     for i, params in enumerate(parameter_sets):\n",
        "#         print(f\"\\nGenerating dataset for configuration {i + 1}: {params}\")\n",
        "\n",
        "#         # Generate communities and call times\n",
        "#         communities_df = generate_communities(\n",
        "#             spark,\n",
        "#             num_communities=params[\"num_communities\"],\n",
        "#             community_size_range=params[\"community_size_range\"],\n",
        "#             density=params[\"density\"],\n",
        "#             extra_factor=2  # Generate more potential connections initially\n",
        "#         )\n",
        "#         calls_df = generate_call_times(\n",
        "#             communities_df,\n",
        "#             calls_per_connection_range=params[\"calls_per_connection_range\"],\n",
        "#             duration_range=params[\"duration_range\"],\n",
        "#             base_time=base_time,\n",
        "#             num_samples=params[\"num_samples\"]\n",
        "#         )\n",
        "\n",
        "#         # Save dataset and print information\n",
        "#         filename = f\"dataset_config_{i + 1}\"\n",
        "#         final_path = save_dataset(calls_df, filename)\n",
        "#         parameter_sets[i]['dataset_name'] = filename\n",
        "#         parameter_sets[i]['csv_filename'] = final_path\n",
        "\n",
        "#     df_datasets = pd.DataFrame(parameter_sets)\n",
        "#     dataset_metadata_file_path = \"dataset_metadata.csv\"\n",
        "#     df_datasets.to_csv(dataset_metadata_file_path, index=False)\n",
        "#     files.download(dataset_metadata_file_path)\n",
        "#     # Run the function to export all datasets\n",
        "#     export_datasets_to_computer(\"/content/datasets\")"
      ]
    },
    {
      "cell_type": "code",
      "execution_count": null,
      "metadata": {
        "id": "ngGMcOzACF35"
      },
      "outputs": [],
      "source": [
        "# 5th cell - Uplode datasets into collab\n",
        "\n",
        "def import_datasets_from_computer(folder_path=\"/content/datasets\"):\n",
        "    \"\"\"\n",
        "    Uploads zip files from the local computer and unzips each into the specified folder on Colab.\n",
        "\n",
        "    Parameters:\n",
        "        folder_path (str): The path to the folder where datasets will be saved after unzipping.\n",
        "    \"\"\"\n",
        "    # Ensure the target folder exists\n",
        "    os.makedirs(folder_path, exist_ok=True)\n",
        "\n",
        "    # Upload zip files from the local computer\n",
        "    uploaded_files = files.upload()\n",
        "\n",
        "    # Process each uploaded zip file\n",
        "    for filename in uploaded_files.keys():\n",
        "        if filename.endswith(\".zip\"):\n",
        "            zip_path = os.path.join(folder_path, filename)\n",
        "\n",
        "            # Move uploaded zip file to the target folder\n",
        "            os.rename(filename, zip_path)\n",
        "\n",
        "            # Unzip the file into a subdirectory named after the zip file (without .zip extension)\n",
        "            with zipfile.ZipFile(zip_path, 'r') as zip_ref:\n",
        "                extract_dir = os.path.join(folder_path, filename.replace(\".zip\", \"\"))\n",
        "                os.makedirs(extract_dir, exist_ok=True)\n",
        "                zip_ref.extractall(extract_dir)\n",
        "\n",
        "            print(f\"Imported and unzipped '{filename}' into '{extract_dir}'.\")\n",
        "        else:\n",
        "            print(f\"Skipped non-zip file '{filename}'.\")\n",
        "\n",
        "    print(\"All datasets have been imported and unzipped.\")\n",
        "\n",
        "import_datasets_from_computer()"
      ]
    },
    {
      "cell_type": "code",
      "execution_count": 5,
      "metadata": {
        "id": "R9jMJMWzY2LP"
      },
      "outputs": [],
      "source": [
        "# 6th cell - Initialize resource monitoring\n",
        "\n",
        "# Monitor CPU, Memory and running time\n",
        "def track_stage(stage_name):\n",
        "    def decorator(func):\n",
        "        @wraps(func)\n",
        "        def wrapper(*args, **kwargs):\n",
        "            print(f\"Starting {stage_name}\")\n",
        "            stagemetrics.begin()  # Begin collecting metrics for this stage\n",
        "\n",
        "            result = func(*args, **kwargs)  # Run the actual function\n",
        "\n",
        "            stagemetrics.end()  # Stop collecting metrics for this stage\n",
        "\n",
        "            time.sleep(15)\n",
        "\n",
        "            # Generate metrics DataFrame\n",
        "            print(f\"Completed {stage_name}\\n\")\n",
        "            df_metrics_all = stagemetrics.create_stagemetrics_DF()\n",
        "            df_metrics_agg = stagemetrics.aggregate_stagemetrics_DF()\n",
        "            # Add stage_name column and join metrics and memory DataFrames\n",
        "            df_metrics_agg = df_metrics_agg.withColumn(\"stage_name\", pyspark.sql.functions.lit(stage_name))\n",
        "            df_metrics_agg = df_metrics_agg.withColumn(\"dataset\", pyspark.sql.functions.lit(dataset_file_path))\n",
        "            df_metrics_agg.show(truncate=False)\n",
        "\n",
        "            # Set write mode based on the stage\n",
        "            if \"Stage 1\" in stage_name and clear_csv:\n",
        "                write_mode = \"overwrite\"\n",
        "                header = \"true\"\n",
        "            else:\n",
        "                write_mode = \"append\"\n",
        "                header = \"true\"\n",
        "\n",
        "            # Write metrics to CSV with appropriate mode and header settings\n",
        "            df_metrics_agg.coalesce(1).write \\\n",
        "                .mode(write_mode) \\\n",
        "                .option(\"header\", header) \\\n",
        "                .csv(f\"{dataset_name}_stage_metrics\")\n",
        "\n",
        "            return result\n",
        "        return wrapper\n",
        "    return decorator"
      ]
    },
    {
      "cell_type": "code",
      "execution_count": 6,
      "metadata": {
        "id": "mhgOioE4ZU5t"
      },
      "outputs": [],
      "source": [
        "# 7th cell - All the utilities functions for the project\n",
        "\n",
        "# Convert YYMMDDHHMM to a proper datetime object\n",
        "def calculate_duration_minutes(start_time, end_time):\n",
        "  \"\"\"\n",
        "  Calculate the duration between two times in minutes.\n",
        "\n",
        "  Parameters:\n",
        "  -----------\n",
        "  start_time : str\n",
        "      The start time in HH:MM:SS format.\n",
        "  end_time : str\n",
        "      The end time in HH:MM:SS format.\n",
        "\n",
        "  Returns:\n",
        "  --------\n",
        "  duration_minutes : float\n",
        "      The duration between start_time and end_time in minutes.\n",
        "  \"\"\"\n",
        "  start_datetime = convert_to_datetime(start_time)\n",
        "  end_datetime = convert_to_datetime(end_time)\n",
        "  duration = end_datetime - start_datetime\n",
        "  duration_minutes = duration.total_seconds() / 60\n",
        "  return duration_minutes\n",
        "\n",
        "def convert_to_datetime(time_str):\n",
        "  \"\"\"\n",
        "  Convert a time string in '%y%m%d%H%M' format to a datetime object.\n",
        "\n",
        "  Parameters:\n",
        "  -----------\n",
        "  time_str : str\n",
        "      The time string in '%y%m%d%H%M' format.\n",
        "\n",
        "  Returns:\n",
        "  --------\n",
        "  datetime_obj : datetime.datetime\n",
        "      The datetime object representing the given time string.\n",
        "  \"\"\"\n",
        "  # Use datetime.datetime.strptime to parse the time string\n",
        "  # This is the correct way to use strptime, avoiding the AttributeError\n",
        "  return datetime.strptime(str(time_str), '%y%m%d%H%M')\n",
        "\n",
        "# Define UDF for calculating duration in DDHHMM format\n",
        "def calculate_duration_string(start_time, end_time):\n",
        "    start_dt = convert_to_datetime(start_time)\n",
        "    end_dt = convert_to_datetime(end_time)\n",
        "    duration = end_dt - start_dt\n",
        "\n",
        "    days = duration.days\n",
        "    hours, remainder = divmod(duration.seconds, 3600)\n",
        "    minutes = remainder // 60\n",
        "    return f'{days:02d}{hours:02d}{minutes:02d}'\n",
        "\n",
        "\n",
        "'''Decorator and Function Definition:\n",
        "The @pandas_udf decorator marks this function as a Pandas UDF (User Defined Function) that will be applied on grouped data.\n",
        "GROUPED_MAP tells Spark that the function will receive a DataFrame for each group (grouped by community_id).\n",
        "The schema defines the expected output structure of the function, which is a DataFrame with community_id\n",
        "and a binary field containing the serialized matrix.\n",
        "The function converts the connections (edges) between clients into a CSR matrix and serializes it for storage.'''\n",
        "\n",
        "\n",
        "# Define the schema for the Pandas UDF output\n",
        "schema = StructType([\n",
        "    StructField(\"community_id\", IntegerType(), True),\n",
        "    StructField(\"csr_matrix\", BinaryType(), True)\n",
        "])\n",
        "\n",
        "@pandas_udf(schema, PandasUDFType.GROUPED_MAP)\n",
        "def create_csr_matrix_from_edges(members_df):\n",
        "    \"\"\"\n",
        "    Creates a serialized CSR matrix from a Spark DataFrame for each community.\n",
        "\n",
        "    Args:\n",
        "        members_df (DataFrame): Spark DataFrame with 'community_id' and 'members' columns.\n",
        "\n",
        "    Returns:\n",
        "        DataFrame: A DataFrame with 'community_id' and a serialized CSR matrix as binary data.\n",
        "    \"\"\"\n",
        "    # try:\n",
        "    # Extract the community ID (assuming it's consistent within the group)\n",
        "    # members_df.show(truncate=False)\n",
        "    community_id = members_df['community_id'].iloc[0]\n",
        "\n",
        "    '''Since each members_df contains data for a single community (due to groupBy operation),\n",
        "    the function retrieves the community_id from the first row.\n",
        "    This ID will be included in the output so that each serialized CSR matrix can be linked back\n",
        "    to its respective community.'''\n",
        "    # Explode the members array to get each connection in separate rows\n",
        "    exploded_df = members_df.explode(\"members\").dropna().reset_index(drop=True)\n",
        "    exploded_df = pd.DataFrame({\n",
        "        'Client1': exploded_df['members'].apply(lambda x: x['Client1']),\n",
        "        'Client2': exploded_df['members'].apply(lambda x: x['Client2']),\n",
        "        'total_duration_minutes': exploded_df['members'].apply(lambda x: x['total_duration_minutes'])\n",
        "    })\n",
        "    '''Flattening and Extracting Connection Data:\n",
        "    The members_df contains a column with a list of connections (pairs of clients and call durations).\n",
        "    The function uses explode to convert this list into individual rows, making it easier to work with each connection.\n",
        "    It then creates a new DataFrame, exploded_df, with separate columns for Client1, Client2, and duration_minutes\n",
        "    extracted from the connection data.\n",
        "    This simplifies further processing by ensuring each row represents a single call between two clients.'''\n",
        "    # Get unique clients and create a mapping to indices\n",
        "    unique_clients = sorted(pd.concat([exploded_df['Client1'], exploded_df['Client2']]).unique())\n",
        "    client_to_index = {client: i for i, client in enumerate(unique_clients)}\n",
        "    num_clients = len(unique_clients)\n",
        "\n",
        "    # Extract data for CSR matrix\n",
        "    rows = exploded_df['Client1'].map(client_to_index).values\n",
        "    cols = exploded_df['Client2'].map(client_to_index).values\n",
        "    print(f\"use_weights = {use_weights}\")\n",
        "    if use_weights:\n",
        "      print(\"we are inside use_weights true\")\n",
        "      data = exploded_df['total_duration_minutes'].values #if weight else [1] * len(rows)\n",
        "    else:\n",
        "      print(\"we are inside use_weights false\")\n",
        "      data = [1] * len(rows)\n",
        "\n",
        "    # Create CSR matrix\n",
        "    csr = csr_matrix((data, (rows, cols)), shape=(num_clients, num_clients))\n",
        "\n",
        "    '''Serializing the CSR Matrix: The function uses Python’s pickle module to serialize the CSR matrix.\n",
        "    This converts the matrix into a binary format, allowing it to be stored or transferred efficiently.\n",
        "    Serialization is necessary because Spark DataFrames cannot directly store complex Python objects like CSR matrices.'''\n",
        "    # Serialize CSR matrix to binary format\n",
        "    serialized_csr = pickle.dumps(csr)\n",
        "\n",
        "    # Return as DataFrame\n",
        "    return pd.DataFrame({\"community_id\": [community_id], \"csr_matrix\": [serialized_csr]})\n",
        "\n",
        "\n",
        "# prompt: print csr_matrix_result pretty\n",
        "def pretty_print_csr_matrix(csr_matrix_result):\n",
        "    \"\"\"Prints a CSR matrix in a readable format.\"\"\"\n",
        "\n",
        "    # Extract the serialized CSR matrix from the DataFrame\n",
        "    serialized_csr = csr_matrix_result.select(\"csr_matrix\").first()[0]\n",
        "\n",
        "    # Deserialize the CSR matrix\n",
        "    csr = pickle.loads(serialized_csr)\n",
        "\n",
        "    # Check if the result is indeed a CSR matrix\n",
        "    if isinstance(csr, csr_matrix):\n",
        "        # Get non-zero entries for pretty printing\n",
        "        rows, cols = csr.nonzero()\n",
        "        data = csr.data\n",
        "\n",
        "        for row, col, value in zip(rows, cols, data):\n",
        "            print(f\"({row}, {col}): {value}\")\n",
        "    else:\n",
        "        print(\"The provided data is not a CSR matrix.\")\n",
        "\n",
        "# Padding and calculating DeltaCon similarity\n",
        "def pad_csr_matrix(csr, max_shape):\n",
        "    current_rows, current_cols = csr.shape\n",
        "    max_rows, max_cols = max_shape\n",
        "    if current_rows < max_rows:\n",
        "        additional_rows = csr_matrix((max_rows - current_rows, current_cols))\n",
        "        csr = vstack([csr, additional_rows])\n",
        "    if current_cols < max_cols:\n",
        "        additional_cols = csr_matrix((csr.shape[0], max_cols - current_cols))\n",
        "        csr = hstack([csr, additional_cols])\n",
        "    return csr\n",
        "\n",
        "# Pad CSR matrices and calculate DeltaCon similarity using Spark DataFrame operations\n",
        "def process_csr_matrices(df, max_size, attribtue='true_csr_matrix'):\n",
        "    def pad_and_calculate(row):\n",
        "        csr_matrix_padded = pad_csr_matrix(pickle.loads(row[attribtue]), max_size)\n",
        "        serialized_csr = pickle.dumps(csr_matrix_padded)\n",
        "        return (row['community_id'], serialized_csr)\n",
        "\n",
        "    return df.rdd.map(pad_and_calculate).toDF([\"community_id\", \"csr_matrix\"])\n",
        "\n",
        "def frobenius_norm(csr_1, csr_2):\n",
        "    \"\"\"\n",
        "    Compute Frobenius norm between two sparse matrices.\n",
        "\n",
        "    Parameters:\n",
        "    csr_1, csr_2 : csr_matrix\n",
        "        Sparse adjacency matrices of the graphs.\n",
        "\n",
        "    Returns:\n",
        "    float\n",
        "        Frobenius norm distance between the graphs.\n",
        "    \"\"\"\n",
        "    assert csr_1.shape == csr_2.shape, \"Adjacency matrices must have the same dimensions.\"\n",
        "    diff = csr_1 - csr_2\n",
        "    frobenius_norm_value = np.sqrt((diff.power(2)).sum())\n",
        "\n",
        "    # Find the maximum value within both matrices\n",
        "    max_value = max(csr_1.max(), csr_2.max())\n",
        "\n",
        "    # Normalize the Frobenius norm by the maximum value\n",
        "    normalized_frobenius = frobenius_norm_value / max_value if max_value != 0 else frobenius_norm_value\n",
        "\n",
        "    return normalized_frobenius\n",
        "\n",
        "def frobenius_sim(csr_1, csr_2):\n",
        "    \"\"\"\n",
        "    Adds a similarity column to the DataFrame based on Frobenius distance.\n",
        "\n",
        "    Parameters:\n",
        "    df (DataFrame): Input DataFrame containing 'frobenius_distance' column.\n",
        "\n",
        "    Returns:\n",
        "    DataFrame: A DataFrame with an additional 'similarity' column.\n",
        "    \"\"\"\n",
        "    dist=frobenius_norm(csr_1, csr_2)\n",
        "    return 1 / (1 + dist)\n",
        "\n",
        "\n",
        "def deltacon_similarity(csr_1, csr_2, epsilon=0.5):\n",
        "    # Ensure both matrices are of the same size\n",
        "    assert csr_1.shape == csr_2.shape, \"Adjacency matrices must be of the same size for comparison.\"\n",
        "    I = identity(csr_1.shape[0])\n",
        "    D1 = csr_1.sum(axis=1).A.flatten()\n",
        "    D1 = csr_matrix((D1, (range(csr_1.shape[0]), range(csr_1.shape[0]))))\n",
        "    D2 = csr_2.sum(axis=1).A.flatten()\n",
        "    D2 = csr_matrix((D2, (range(csr_2.shape[0]), range(csr_2.shape[0]))))\n",
        "\n",
        "    S1 = inv(I + epsilon**2 * D1 - epsilon * csr_1)\n",
        "    S2 = inv(I + epsilon**2 * D2 - epsilon * csr_2)\n",
        "    frobenius_norm = np.sqrt(((S1 - S2).power(2)).sum())\n",
        "    return 1 / (1 + frobenius_norm)\n",
        "\n",
        "# Define function to calculate Frobenius similarity\n",
        "def calculate_frobenius_similarity(grouped_df):\n",
        "    community_id_1 = grouped_df.iloc[0]['community_id']\n",
        "    community_id_2 = grouped_df.iloc[0]['community_id_2']\n",
        "    csr_1 = pickle.loads(grouped_df.iloc[0]['csr_matrix'])\n",
        "    csr_2 = pickle.loads(grouped_df.iloc[0]['csr_matrix_2'])\n",
        "    similarity_score_f = frobenius_sim(csr_1, csr_2)\n",
        "    return pd.DataFrame([{\n",
        "        \"community_id_1\": community_id_1,\n",
        "        \"community_id_2\": community_id_2,\n",
        "        \"frobenius_similarity\": similarity_score_f\n",
        "    }])\n",
        "\n",
        "# Define function to calculate DeltaCon similarity\n",
        "def calculate_deltacon_similarity(grouped_df):\n",
        "    community_id_1 = grouped_df.iloc[0]['community_id']\n",
        "    community_id_2 = grouped_df.iloc[0]['community_id_2']\n",
        "    csr_1 = pickle.loads(grouped_df.iloc[0]['csr_matrix'])\n",
        "    csr_2 = pickle.loads(grouped_df.iloc[0]['csr_matrix_2'])\n",
        "    similarity_score_d = deltacon_similarity(csr_1, csr_2)\n",
        "    return pd.DataFrame([{\n",
        "        \"community_id_1\": community_id_1,\n",
        "        \"community_id_2\": community_id_2,\n",
        "        \"deltacon\": similarity_score_d\n",
        "    }])\n",
        "\n",
        "# Comparison function for structural and weight-based similarities\n",
        "def cosine_sim(csr_1, csr_2):\n",
        "    # Compute cosine similarity\n",
        "    cosine_sim = cosine_similarity(csr_1, csr_2)\n",
        "    return cosine_sim\n",
        "\n",
        "\n",
        "def calculate_similarities(subgroup_community_members):\n",
        "  \"\"\"\n",
        "  Comparing CSR matrices to detect similarity\n",
        "  \"\"\"\n",
        "\n",
        "  max_size = subgroup_community_members.rdd.map(lambda row: pickle.loads(row['true_csr_matrix']).shape).reduce(lambda x, y: (max(x[0], y[0]), max(x[1], y[1])))\n",
        "  padded_result_true = process_csr_matrices(subgroup_community_members, max_size, \"true_csr_matrix\")\n",
        "  padded_result_false = process_csr_matrices(subgroup_community_members, max_size, \"false_csr_matrix\")\n",
        "\n",
        "  # Step 1: Compute Frobenius Similarity (using padded_result_true)\n",
        "  # Rename columns from df2 to remove ambiguity for Frobenius similarity calculation\n",
        "  padded_result_true_renamed = padded_result_true.select(\n",
        "      col(\"community_id\").alias(\"community_id_2\"),\n",
        "      col(\"csr_matrix\").alias(\"csr_matrix_2\")\n",
        "  )\n",
        "\n",
        "  # Cross join to compare every community for Frobenius similarity\n",
        "  cross_joined_df_frobenius = padded_result_true.alias(\"df1\").crossJoin(padded_result_true_renamed.alias(\"df2\")) \\\n",
        "      .filter(col(\"df1.community_id\") < col(\"df2.community_id_2\"))\n",
        "\n",
        "  # Define schema for Frobenius similarity output\n",
        "  frobenius_similarity_schema = StructType([\n",
        "      StructField(\"community_id_1\", IntegerType(), True),\n",
        "      StructField(\"community_id_2\", IntegerType(), True),\n",
        "      StructField(\"frobenius_similarity\", DoubleType(), True)\n",
        "  ])\n",
        "\n",
        "  # Apply Frobenius similarity calculation\n",
        "  frobenius_similarity_df = cross_joined_df_frobenius.select(\n",
        "      \"df1.community_id\", \"df2.community_id_2\", \"df1.csr_matrix\", \"df2.csr_matrix_2\"\n",
        "  ).groupBy(\"community_id\", \"community_id_2\") \\\n",
        "      .applyInPandas(calculate_frobenius_similarity, schema=frobenius_similarity_schema)\n",
        "\n",
        "  #Step 2: Compute DeltaCon Similarity (using padded_result_false)\n",
        "\n",
        "  # Rename columns from df2 to remove ambiguity for DeltaCon similarity calculation\n",
        "  padded_result_false_renamed = padded_result_false.select(\n",
        "      col(\"community_id\").alias(\"community_id_2\"),\n",
        "      col(\"csr_matrix\").alias(\"csr_matrix_2\")\n",
        "  )\n",
        "\n",
        "  # Cross join to compare every community for DeltaCon similarity\n",
        "  cross_joined_df_deltacon = padded_result_false.alias(\"df1\").crossJoin(padded_result_false_renamed.alias(\"df2\")) \\\n",
        "      .filter(col(\"df1.community_id\") < col(\"df2.community_id_2\"))\n",
        "\n",
        "  # Define schema for DeltaCon similarity output\n",
        "  deltacon_similarity_schema = StructType([\n",
        "      StructField(\"community_id_1\", IntegerType(), True),\n",
        "      StructField(\"community_id_2\", IntegerType(), True),\n",
        "      StructField(\"deltacon\", DoubleType(), True)\n",
        "  ])\n",
        "\n",
        "  # Apply DeltaCon similarity calculation\n",
        "  deltacon_similarity_df = cross_joined_df_deltacon.select(\n",
        "      \"df1.community_id\", \"df2.community_id_2\", \"df1.csr_matrix\", \"df2.csr_matrix_2\"\n",
        "  ).groupBy(\"community_id\", \"community_id_2\") \\\n",
        "      .applyInPandas(calculate_deltacon_similarity, schema=deltacon_similarity_schema)\n",
        "\n",
        "  # Step 3: Join Results and Calculate Final Similarity Score\n",
        "  # Join the Frobenius and DeltaCon similarity DataFrames\n",
        "  combined_similarity_df = frobenius_similarity_df.join(\n",
        "      deltacon_similarity_df,\n",
        "      on=[\"community_id_1\", \"community_id_2\"],\n",
        "      how=\"inner\"\n",
        "  )\n",
        "\n",
        "  # Calculate the final similarity score as an average of Frobenius and DeltaCon similarities\n",
        "  final_similarity_df = combined_similarity_df.withColumn(\n",
        "      \"final_similarity\",\n",
        "      expr(\"0.5 * frobenius_similarity + 0.5 * deltacon\")\n",
        "  )\n",
        "\n",
        "  # Show the final results\n",
        "  final_similarity_df.show(truncate=False)\n",
        "  return final_similarity_df\n",
        "\n",
        "  @pandas_udf(schema_similarity, PandasUDFType.GROUPED_MAP)\n",
        "  def calculate_similarity(df):\n",
        "      csr_1 = pickle.loads(df['csr_matrix_1'].iloc[0])\n",
        "      csr_2 = pickle.loads(df['csr_matrix_2'].iloc[0])\n",
        "      similarity = deltacon_similarity(csr_1, csr_2)\n",
        "      return pd.DataFrame({\"community_id_1\": [df['community_id_1'].iloc[0]], \"community_id_2\": [df['community_id_2'].iloc[0]], \"similarity\": [similarity]})\n",
        "\n",
        "  cross_joined = cross_joined.select(\n",
        "      col(\"df1.community_id\").alias(\"community_id_1\"),\n",
        "      col(\"df2.community_id\").alias(\"community_id_2\"),\n",
        "      col(\"df1.csr_matrix\").alias(\"csr_matrix_1\"),\n",
        "      col(\"df2.csr_matrix\").alias(\"csr_matrix_2\")\n",
        "  )\n",
        "\n",
        "  similarities = cross_joined.groupBy(\"community_id_1\", \"community_id_2\").apply(calculate_similarity)\n",
        "\n",
        "  similarities.show(truncate=False)\n",
        "\n",
        "@track_stage(\"Stage 3: Calculate similarities between communities\")\n",
        "def create_adaptive_buckets(df, columns, min_size=2):\n",
        "    \"\"\"\n",
        "    Create adaptive buckets for specified columns based on natural grouping of close values.\n",
        "\n",
        "    Parameters:\n",
        "        df (DataFrame): The input DataFrame with community statistics.\n",
        "        columns (list): List of column names to bucketize.\n",
        "        min_size (int): Minimum number of communities required in each bucket.\n",
        "\n",
        "    Returns:\n",
        "        DataFrame: The DataFrame with additional columns for each adaptive bucket.\n",
        "    \"\"\"\n",
        "    for column in columns:\n",
        "        bucket_col = f\"{column}_bucket\"\n",
        "\n",
        "        # Calculate approximate quantiles for balanced bucketing\n",
        "        quantiles = [i / min_size for i in range(min_size + 1)]\n",
        "        boundaries = df.approxQuantile(column, quantiles, 0.05)\n",
        "\n",
        "        # Materialize boundaries into discrete bucket assignments\n",
        "        bucket_expr = F.when(F.col(column) <= boundaries[1], 0)\n",
        "        for i in range(1, len(boundaries) - 1):\n",
        "            bucket_expr = bucket_expr.when((F.col(column) > boundaries[i]) & (F.col(column) <= boundaries[i + 1]), i)\n",
        "\n",
        "        # Assign buckets to each row based on column values\n",
        "        df = df.withColumn(bucket_col, bucket_expr)\n",
        "\n",
        "        # Debug: Verify if the bucket column was created successfully\n",
        "        # print(f\"Verifying creation of {bucket_col} column\")\n",
        "        # df.select(column, bucket_col).show(truncate=False)\n",
        "    df_groups = calculate_similarity_within_buckets(df, columns)\n",
        "    return df_groups\n",
        "\n",
        "# Step 2: Apply cross join within each bucket and calculate similarities\n",
        "def calculate_similarity_within_buckets(df, columns):\n",
        "    \"\"\"\n",
        "    Calculate similarities between communities within the same buckets for specified columns.\n",
        "\n",
        "    Parameters:\n",
        "        df (DataFrame): The input DataFrame with bucket columns for each specified attribute.\n",
        "        columns (list): List of column names for which buckets have been created.\n",
        "\n",
        "    Returns:\n",
        "        DataFrame: The DataFrame with similarity calculations for each pair within the same bucket.\n",
        "    \"\"\"\n",
        "    df_groups = None\n",
        "\n",
        "    # # Register UDFs for similarity calculations\n",
        "    # compare_structural_similarity_udf = F.udf(lambda csr_1, csr_2: compare_weighted_structural_similarity(csr_1, csr_2), DoubleType())\n",
        "    # compare_weighted_similarity_udf = F.udf(lambda csr_1, csr_2: compare_weighted_structural_similarity(csr_1, csr_2), DoubleType())\n",
        "\n",
        "    # Create cross join within each bucket combination\n",
        "    bucket_columns = [f\"{col}_bucket\" for col in columns]\n",
        "\n",
        "    # Debug: Check bucket columns in DataFrame\n",
        "    # print(\"Columns in DataFrame before cross join:\")\n",
        "    # print(df.columns)\n",
        "\n",
        "    for bucket_combination in df.select(bucket_columns).distinct().collect():\n",
        "        # Filter the DataFrame based on the current bucket combination\n",
        "        filter_condition = F.lit(True)\n",
        "        for i, bucket_col in enumerate(bucket_columns):\n",
        "            filter_condition &= (F.col(bucket_col) == getattr(bucket_combination, bucket_col))\n",
        "        bucket_df = df.filter(filter_condition)\n",
        "\n",
        "        # Only proceed if there are at least two communities in the bucket\n",
        "        if bucket_df.count() >= 2:\n",
        "            print(\"This is the bucket df:\")\n",
        "            bucket_df.show(truncate=False)\n",
        "            cross_joined = calculate_similarities(bucket_df)\n",
        "\n",
        "            # Append to df_groups\n",
        "            if df_groups is None:\n",
        "                df_groups = cross_joined\n",
        "            else:\n",
        "                df_groups = df_groups.union(cross_joined)\n",
        "\n",
        "    return df_groups"
      ]
    },
    {
      "cell_type": "code",
      "execution_count": 7,
      "metadata": {
        "id": "Ike2lfPxo19c"
      },
      "outputs": [],
      "source": [
        "# 8th cell - driver of the application run all the functions for a given dataset\n",
        "\n",
        "@track_stage(\"Stage 1: Reading the calls dataset\")\n",
        "def read_csv_to_dataframe(file_path= 'toy_dataset.csv'):\n",
        "  \"\"\"\n",
        "  Read dataset from given path into a Spark DataFrame.\n",
        "  Parameters:\n",
        "    -----------\n",
        "    file_path : str\n",
        "        The name of the given dataset (unigrams or bigrams or both).\n",
        "\n",
        "    Returns:\n",
        "    --------\n",
        "    df_dataset : DataFrame\n",
        "        A DataFrame of calls with the given dataset info.\n",
        "  \"\"\"\n",
        "  df_dataset = spark.read.csv(file_path, header=True, inferSchema=True)\n",
        "\n",
        "  # convert start - end times to duration\n",
        "  # 1st - Register the UDFs in Spark\n",
        "  calculate_duration_minutes_udf = udf(calculate_duration_minutes, DoubleType())\n",
        "\n",
        "  # 2nd - use udfs to add columns for duration in minutes\n",
        "  df_dataset = df_dataset.withColumn('duration_minutes', calculate_duration_minutes_udf(col('Start_Time'), col('End_Time')))\n",
        "\n",
        "  #3rd - Adjust Client1 and Client2 to ensure Client1 is the smaller value and Client2 the larger\n",
        "  df_dataset = df_dataset.withColumn(\"Client1_min\", least(col(\"Client1\"), col(\"Client2\"))) \\\n",
        "       .withColumn(\"Client2_max\", greatest(col(\"Client1\"), col(\"Client2\"))) \\\n",
        "       .drop(\"Client1\", \"Client2\") \\\n",
        "       .withColumnRenamed(\"Client1_min\", \"Client1\") \\\n",
        "       .withColumnRenamed(\"Client2_max\", \"Client2\")\n",
        "\n",
        "\n",
        "  # 4th - Aggregate total duration for each unique pair (Client1, Client2)\n",
        "  df_aggregated = df_dataset.groupBy(\"Client1\", \"Client2\") \\\n",
        "    .agg(F.sum('duration_minutes').alias(\"total_duration_minutes\"))\n",
        "\n",
        "  # Join the aggregated total duration back to the original DataFrame\n",
        "  df_dataset = df_dataset.drop('duration_minutes') \\\n",
        "        .join(df_aggregated, on=[\"Client1\", \"Client2\"], how=\"left\")\n",
        "\n",
        "\n",
        "  # print(\"The following dataframe has been read from the CSV file:\")\n",
        "  # df_dataset.show()\n",
        "  return df_dataset\n",
        "\n",
        "@track_stage(\"Stage 2: Preprocessing and creating the graph\")\n",
        "def create_graph_from_dataframe(df_dataset):\n",
        "  \"\"\"\n",
        "  Create graph in GraphFrame from the calls in the current dataset.\n",
        "  Parameters:\n",
        "    -----------\n",
        "    df_dataset : DataFrame\n",
        "        A DataFrame of calls with the given dataset info.\n",
        "\n",
        "    Returns:\n",
        "    --------\n",
        "    df_dataset : DataFrame\n",
        "        A DataFrame of calls with the given dataset info.\n",
        "  \"\"\"\n",
        "\n",
        "  # Create Graph using GraphFrames for community detection\n",
        "  vertices = df_dataset.selectExpr(\"Client1 as id\").union(df_dataset.selectExpr(\"Client2 as id\")).distinct()\n",
        "  edges = df_dataset.selectExpr(\"Client1 as src\", \"Client2 as dst\", \"total_duration_minutes as weight\")\n",
        "  # Cache vertices and edges\n",
        "  vertices.cache()\n",
        "  edges.cache()\n",
        "\n",
        "  # Create a GraphFrame\n",
        "  g = GraphFrame(vertices, edges)\n",
        "\n",
        "  # Find connected components (communities) using GraphFrames\n",
        "  connected_components_result = g.connectedComponents()\n",
        "\n",
        "  # Create a mapping from original community IDs to sequential ones\n",
        "  community_mapping = connected_components_result.select(\"component\").distinct() \\\n",
        "      .orderBy(\"component\") \\\n",
        "      .withColumn(\"new_id\", row_number().over(Window.orderBy(\"component\"))) \\\n",
        "      .cache()\n",
        "\n",
        "  # Join the result (community IDs) with the original dataframe and map to new sequential IDs\n",
        "  df_with_communities = df_dataset.join(connected_components_result, df_dataset['Client1'] == connected_components_result['id'], 'inner') \\\n",
        "      .join(community_mapping, connected_components_result['component'] == community_mapping['component'], 'inner') \\\n",
        "      .drop(connected_components_result['id']) \\\n",
        "      .drop(community_mapping['component']) \\\n",
        "      .withColumnRenamed('new_id', 'community_id')\n",
        "\n",
        "  # Calculate the number of unique clients (community size) per community\n",
        "  community_sizes = df_with_communities.select('community_id', 'Client1').union(df_with_communities.select('community_id', 'Client2')) \\\n",
        "      .distinct() \\\n",
        "      .groupBy('community_id').agg(countDistinct('Client1').alias('community_size'))\n",
        "\n",
        "  # Merge the community sizes into the main DataFrame\n",
        "  df_final = df_with_communities.join(community_sizes, 'community_id')\n",
        "\n",
        "  # Get list of tuples for each community member by considering both Client1 and Client2\n",
        "  community_members = df_final.select(\"community_id\", \"Client1\", \"Client2\", \"total_duration_minutes\") \\\n",
        "    .distinct() \\\n",
        "    .orderBy(\"Client1\") \\\n",
        "    .groupBy(\"community_id\") \\\n",
        "    .agg(F.collect_list(F.struct(\n",
        "        F.col(\"Client1\"),\n",
        "        F.col(\"Client2\"),\n",
        "        F.col(\"total_duration_minutes\")\n",
        "    )).alias(\"members\")) \\\n",
        "    .orderBy(\"community_id\")\n",
        "\n",
        "  # Show the final DataFrame with community IDs, duration, and community sizes\n",
        "  # print(\"\\nFinal DataFrame with Sequential Community IDs:\")\n",
        "  # df_final.select('Client1',\n",
        "  #                 'Client2',\n",
        "  #                 'total_duration_minutes',\n",
        "  #                 'community_id',\n",
        "  #                 'community_size') \\\n",
        "  #     .orderBy(\"community_id\") \\\n",
        "  #     .show()\n",
        "\n",
        "  # Show the list of community members as tuples\n",
        "  # print(\"\\nCommunity Members with Sequential IDs:\")\n",
        "  # community_members.show(truncate=False)\n",
        "\n",
        "  # Save results to CSV files\n",
        "  # Save the main analysis results\n",
        "  # df_final.select('Client1',\n",
        "  #                 'Client2',\n",
        "  #                 'total_duration_minutes',\n",
        "  #                 'community_id',\n",
        "  #                 'community_size') \\\n",
        "  #     .orderBy(\"community_id\") \\\n",
        "  #     .write.mode(\"overwrite\").option(\"header\", \"true\") \\\n",
        "  #     .csv(f\"{dataset_name}_community_analysis_results\")\n",
        "\n",
        "  # Save community members in a flattened format\n",
        "  # df_final.select('community_id',\n",
        "  #                 'Client1',\n",
        "  #                 'Client2',\n",
        "  #                 'total_duration_minutes') \\\n",
        "  #     .distinct() \\\n",
        "  #     .orderBy(\"community_id\") \\\n",
        "  #     .write.mode(\"overwrite\").option(\"header\", \"true\") \\\n",
        "  #     .csv(f\"{dataset_name}_community_members_results\")\n",
        "  # # add to .cache to avoid memory overflow\n",
        "  # df_final.cache()\n",
        "\n",
        "  # Optionally, if you want to save additional community statistics\n",
        "  community_stats = df_final.groupBy('community_id') \\\n",
        "      .agg(\n",
        "          countDistinct('Client1', 'Client2').alias('unique_members'),\n",
        "          count('*').alias('total_calls'),\n",
        "          sum('total_duration_minutes').alias('sum_duration_minutes'),\n",
        "          avg('total_duration_minutes').alias('avg_call_duration'),\n",
        "          percentile_approx('total_duration_minutes', 0.25).alias('duration_25th_percentile'),\n",
        "          percentile_approx('total_duration_minutes', 0.5).alias('median_call_duration'),\n",
        "          percentile_approx('total_duration_minutes', 0.75).alias('duration_75th_percentile')\n",
        "      ) \\\n",
        "      .withColumn(\"sum_unique_members_total_calls\", expr(\"unique_members + total_calls\")) \\\n",
        "      .orderBy('community_id')\n",
        "\n",
        "  # community_stats.write.mode(\"overwrite\") \\\n",
        "  #     .option(\"header\", \"true\") \\\n",
        "  #     .csv(f\"{dataset_name}_community_statistics_results\")\n",
        "\n",
        "  print(\"This is the community stats:\")\n",
        "  community_stats.show(truncate=False)\n",
        "  # # add to .cache to avoid memory overflow\n",
        "  # community_stats.cache()\n",
        "  return df_final, community_members, community_stats\n",
        "\n",
        "# Create CSR adjacency matrices for each community and serialize them\n",
        "# @track_stage(\"Stage 3: Creating CSR matrices\")\n",
        "def format_members_to_csr_matrix(community_members, community_stats):\n",
        "  \"\"\"\n",
        "  Create CSR adjacency matrices for each community and serialize them.\n",
        "\n",
        "  Parameters:\n",
        "    community_members: Dataframe\n",
        "    A dataframe of a specific community's members\n",
        "    community_stats: Dataframe\n",
        "    A dataframe of all the communities statistics\n",
        "  \"\"\"\n",
        "  global use_weights\n",
        "  use_weights=True\n",
        "  # Use the function to generate a serialized CSR matrix for each community and show the results\n",
        "  result_true = community_members.groupBy(\"community_id\").apply(create_csr_matrix_from_edges)\n",
        "  # result_true.cache()\n",
        "  # print(f\"This is the csr formating results, weight = {use_weights}:\")\n",
        "  # result_true.show(truncate=False)\n",
        "  use_weights=False\n",
        "  result_false = community_members.groupBy(\"community_id\").apply(create_csr_matrix_from_edges)\n",
        "  # result_false.cache()\n",
        "  # print(f\"This is the csr formating results, weight = {use_weights}:\")\n",
        "  # result_false.show(truncate=False)\n",
        "\n",
        "  # Rename the csr_matrix column in result_true and result_false with prefixes\n",
        "  result_true_renamed = result_true.withColumnRenamed(\"csr_matrix\", \"true_csr_matrix\")\n",
        "  result_false_renamed = result_false.withColumnRenamed(\"csr_matrix\", \"false_csr_matrix\")\n",
        "\n",
        "  # Perform the joins with renamed columns\n",
        "  df_community_stats_csr = community_stats \\\n",
        "      .join(result_true_renamed, on='community_id', how='inner') \\\n",
        "      .join(result_false_renamed, on='community_id', how='inner')\n",
        "  # print(\"This is the statsitcs and csr dataframe joined:\")\n",
        "  # df_community_stats_csr.show(truncate=False)\n",
        "  # add to .cache to avoid memory overflow\n",
        "  # df_community_stats_csr.cache()\n",
        "\n",
        "  return df_community_stats_csr\n",
        "\n",
        "\n",
        "# Function to create similarity-based subgroups by comparing multiple columns\n",
        "def create_similarity_subgroups(df, columns, tolerances):\n",
        "    \"\"\"\n",
        "    Create similarity-based subgroups based on specified columns and tolerances, then apply a custom function.\n",
        "\n",
        "    Parameters:\n",
        "        df (DataFrame): The Spark DataFrame with community data.\n",
        "        columns (list): List of column names to consider for similarity.\n",
        "        tolerances (dict): Dictionary specifying the tolerance (± range) for each column.\n",
        "    \"\"\"\n",
        "    # Collect the DataFrame into a list of rows\n",
        "    communities = df.collect()\n",
        "\n",
        "    # Initialize a list to store similarity groups\n",
        "    similarity_groups = []\n",
        "    df_groups = None\n",
        "\n",
        "    # Compare each pair of communities\n",
        "    for i, j in combinations(range(len(communities)), 2):\n",
        "        community_i = communities[i]\n",
        "        community_j = communities[j]\n",
        "\n",
        "        # Check if the communities are similar based on all specified columns and tolerances\n",
        "        is_similar = all(\n",
        "            abs(community_i[column] - community_j[column]) <= tolerances[column]\n",
        "            for column in columns\n",
        "        )\n",
        "\n",
        "        # If they are similar, add them to the same group\n",
        "        if is_similar:\n",
        "            found_group = False\n",
        "            for group in similarity_groups:\n",
        "                if community_i.community_id in group or community_j.community_id in group:\n",
        "                    group.add(community_i.community_id)\n",
        "                    group.add(community_j.community_id)\n",
        "                    found_group = True\n",
        "                    break\n",
        "            if not found_group:\n",
        "                similarity_groups.append({community_i.community_id, community_j.community_id})\n",
        "\n",
        "    # Create a DataFrame for each subgroup and apply the custom function\n",
        "    for group in similarity_groups:\n",
        "        subgroup_df = df.filter(F.col(\"community_id\").isin(group))\n",
        "        subgroup_cross_joined = calculate_similarities(subgroup_df)\n",
        "        # Initialize or append to df_groups\n",
        "        if df_groups is None:\n",
        "            df_groups = subgroup_cross_joined\n",
        "        else:\n",
        "            df_groups = df_groups.union(subgroup_cross_joined)\n",
        "\n",
        "\n",
        "    # export all found groups\n",
        "    if df_groups:\n",
        "      df_groups.write \\\n",
        "                  .mode(\"overwrite\") \\\n",
        "                  .option(\"header\", header) \\\n",
        "                  .csv(f\"{dataset_name}_df_groups.csv\")\n",
        "    else:\n",
        "      print(\"No groups found!\")\n",
        "    return df_groups\n",
        "\n",
        "\n",
        "@track_stage(\"Stage 4: Export groups results\")\n",
        "def export_similarity_groups(final_similarity_df, df_clients_info, dataset_name=\"dataset\"):\n",
        "    # Set similarity threshold\n",
        "    similarity_threshold = 0.55\n",
        "\n",
        "    # Filter pairs above the threshold and define vertices and edges\n",
        "    similar_pairs = final_similarity_df.filter(F.col(\"final_similarity\") >= similarity_threshold)\n",
        "    vertices = similar_pairs.select(\"community_id_1\").union(similar_pairs.select(\"community_id_2\")).distinct() \\\n",
        "        .withColumnRenamed(\"community_id_1\", \"id\").cache()\n",
        "    edges = similar_pairs.select(\n",
        "        F.col(\"community_id_1\").alias(\"src\"),\n",
        "        F.col(\"community_id_2\").alias(\"dst\")\n",
        "    ).cache()\n",
        "\n",
        "    # Create graph and find connected components (groups of communities)\n",
        "    g = GraphFrame(vertices, edges)\n",
        "    connected_components = g.connectedComponents()\n",
        "\n",
        "    # Assign group numbers to communities found in groups\n",
        "    grouped_communities = connected_components.groupBy(\"component\") \\\n",
        "        .agg(F.collect_list(\"id\").alias(\"community_group\")) \\\n",
        "        .withColumn(\"group_number\", F.row_number().over(Window.orderBy(\"component\")))\n",
        "\n",
        "    # Communities not found in any group will be assigned their own group, ordered by community_id\n",
        "    all_communities = df_clients_info.select(\"community_id\").distinct()\n",
        "    unmatched_communities = all_communities.join(\n",
        "        grouped_communities.select(F.explode(\"community_group\").alias(\"community_id\")),\n",
        "        on=\"community_id\",\n",
        "        how=\"left_anti\"\n",
        "    ).withColumn(\"group_number\", F.monotonically_increasing_id() + grouped_communities.count() + 1)\\\n",
        "     .orderBy(\"community_id\")  # Sort unmatched communities by community_id\n",
        "\n",
        "    # Combine matched and sorted unmatched communities into a single DataFrame\n",
        "    all_grouped_communities = grouped_communities.select(\"group_number\", F.explode(\"community_group\").alias(\"community_id\")) \\\n",
        "                            .union(unmatched_communities.select(\"group_number\", \"community_id\")) \\\n",
        "                            .orderBy(\"group_number\", \"community_id\")  # Sort final output by group_number and community_id\n",
        "\n",
        "    # Prepare the final output structure by joining call details\n",
        "    exploded_communities = all_grouped_communities \\\n",
        "        .join(df_clients_info, on=\"community_id\", how=\"left\") \\\n",
        "        .select(\n",
        "            \"group_number\",\n",
        "            \"community_id\",\n",
        "            \"Client1\",\n",
        "            \"Client2\",\n",
        "            \"Start_Time\",\n",
        "            \"End_Time\"\n",
        "        )\n",
        "\n",
        "    # Step 1: Create community-level formatted output\n",
        "    community_output_df = exploded_communities \\\n",
        "        .withColumn(\"line\", F.concat_ws(\", \", \"Client1\", \"Client2\", \"Start_Time\", \"End_Time\")) \\\n",
        "        .groupBy(\"group_number\", \"community_id\") \\\n",
        "        .agg(F.collect_list(\"line\").alias(\"community_lines\"))\n",
        "\n",
        "    # Step 2: Collect data to construct the final output using Python\n",
        "    community_data = community_output_df.collect()\n",
        "\n",
        "    # Step 3: Construct the output manually in Python, ensuring communities are sorted by community_id\n",
        "    output_dict = {}\n",
        "    for row in community_data:\n",
        "        group_number = row[\"group_number\"]\n",
        "        community_id = row[\"community_id\"]\n",
        "        community_lines = row[\"community_lines\"]\n",
        "\n",
        "        if group_number not in output_dict:\n",
        "            output_dict[group_number] = []\n",
        "        output_dict[group_number].append(f\"Community {community_id}:\\n\" + \"\\n\".join(community_lines))\n",
        "\n",
        "    # Create final output string, sorted by group_number\n",
        "    output_lines = []\n",
        "    for group_number in sorted(output_dict.keys()):\n",
        "        group_header = f\"Group {group_number}:\"\n",
        "        communities_output = \"\\n\".join(output_dict[group_number])\n",
        "        output_lines.append(f\"{group_header}\\n{communities_output}\")\n",
        "\n",
        "    final_output = \"\\n\\n\".join(output_lines)\n",
        "\n",
        "    # Print each line as it would appear in the text file\n",
        "    print(\"Preview of the similarity groups output:\\n\")\n",
        "    print(final_output)\n",
        "\n",
        "    # Save the output as a text file\n",
        "    output_path = f\"{dataset_name}_similarity_groups.txt\"\n",
        "    with open(output_path, \"w\") as file:\n",
        "        file.write(final_output)\n",
        "\n",
        "    print(f\"\\nExported similarity groups to: {output_path}\")\n",
        "\n",
        "\n",
        "def process_dataset(dataset_file_path):\n",
        "   # Get the base name from the path (e.g., 'file.txt' from '/path/to/file.txt')\n",
        "  basename =  os.path.basename(dataset_file_path)\n",
        "  # Split the filename and extension\n",
        "  dataset_name = os.path.splitext(basename)[0]\n",
        "  clear_csv = i == 0 # only clear the if this is the 1st dataset\n",
        "\n",
        "  # step 1 - read the dataset\n",
        "  df_dataset = read_csv_to_dataframe(dataset_file_path)\n",
        "\n",
        "  # step 2 - preprocess (convert to duartion in min, create grpah, and find commutnies)\n",
        "  df_final, community_members, community_stats = create_graph_from_dataframe(df_dataset)\n",
        "  # gc.collect()\n",
        "\n",
        "  # step 3 - create CSR matrix for each communite\n",
        "  df_community_stats_csr = format_members_to_csr_matrix(community_members, community_stats)\n",
        "  # gc.collect()\n",
        "\n",
        "  # step 4 - calculate similarities between communties for find groups\n",
        "  # Define columns to use for bucketization\n",
        "  columns = ['sum_unique_members_total_calls']\n",
        "  # Create adaptive buckets and calculate similarities\n",
        "  df_groups = create_adaptive_buckets(df_community_stats_csr, columns, min_size=2)\n",
        "\n",
        "\n",
        "  # step 5 - export the found groups\n",
        "  export_similarity_groups(final_similarity_df=df_groups, df_clients_info=df_final, dataset_name=dataset_name)"
      ]
    },
    {
      "cell_type": "code",
      "execution_count": 9,
      "metadata": {
        "collapsed": true,
        "id": "RAMTvsL2v2YH",
        "colab": {
          "base_uri": "https://localhost:8080/",
          "height": 389
        },
        "outputId": "72cdbda1-30f2-4902-e4ab-1d2cacb7e774"
      },
      "outputs": [
        {
          "output_type": "error",
          "ename": "FileNotFoundError",
          "evalue": "[Errno 2] No such file or directory: 'dataset_metadata.csv'",
          "traceback": [
            "\u001b[0;31m---------------------------------------------------------------------------\u001b[0m",
            "\u001b[0;31mFileNotFoundError\u001b[0m                         Traceback (most recent call last)",
            "\u001b[0;32m<ipython-input-9-fb86e2ec1bac>\u001b[0m in \u001b[0;36m<cell line: 3>\u001b[0;34m()\u001b[0m\n\u001b[1;32m      1\u001b[0m \u001b[0;31m# 9th cell - Read datasets dataframe, and iterate over each one to create communities and form similarity groups\u001b[0m\u001b[0;34m\u001b[0m\u001b[0;34m\u001b[0m\u001b[0m\n\u001b[1;32m      2\u001b[0m \u001b[0;31m# Read the datasets csv\u001b[0m\u001b[0;34m\u001b[0m\u001b[0;34m\u001b[0m\u001b[0m\n\u001b[0;32m----> 3\u001b[0;31m \u001b[0mdf_datasets\u001b[0m \u001b[0;34m=\u001b[0m \u001b[0mpd\u001b[0m\u001b[0;34m.\u001b[0m\u001b[0mread_csv\u001b[0m\u001b[0;34m(\u001b[0m\u001b[0;34m\"dataset_metadata.csv\"\u001b[0m\u001b[0;34m)\u001b[0m\u001b[0;34m\u001b[0m\u001b[0;34m\u001b[0m\u001b[0m\n\u001b[0m\u001b[1;32m      4\u001b[0m \u001b[0;31m# Print a peak of the dataset\u001b[0m\u001b[0;34m\u001b[0m\u001b[0;34m\u001b[0m\u001b[0m\n\u001b[1;32m      5\u001b[0m \u001b[0mprint\u001b[0m\u001b[0;34m(\u001b[0m\u001b[0;34m\"These are the found datasets\"\u001b[0m\u001b[0;34m)\u001b[0m\u001b[0;34m\u001b[0m\u001b[0;34m\u001b[0m\u001b[0m\n",
            "\u001b[0;32m/usr/local/lib/python3.10/dist-packages/pandas/io/parsers/readers.py\u001b[0m in \u001b[0;36mread_csv\u001b[0;34m(filepath_or_buffer, sep, delimiter, header, names, index_col, usecols, dtype, engine, converters, true_values, false_values, skipinitialspace, skiprows, skipfooter, nrows, na_values, keep_default_na, na_filter, verbose, skip_blank_lines, parse_dates, infer_datetime_format, keep_date_col, date_parser, date_format, dayfirst, cache_dates, iterator, chunksize, compression, thousands, decimal, lineterminator, quotechar, quoting, doublequote, escapechar, comment, encoding, encoding_errors, dialect, on_bad_lines, delim_whitespace, low_memory, memory_map, float_precision, storage_options, dtype_backend)\u001b[0m\n\u001b[1;32m   1024\u001b[0m     \u001b[0mkwds\u001b[0m\u001b[0;34m.\u001b[0m\u001b[0mupdate\u001b[0m\u001b[0;34m(\u001b[0m\u001b[0mkwds_defaults\u001b[0m\u001b[0;34m)\u001b[0m\u001b[0;34m\u001b[0m\u001b[0;34m\u001b[0m\u001b[0m\n\u001b[1;32m   1025\u001b[0m \u001b[0;34m\u001b[0m\u001b[0m\n\u001b[0;32m-> 1026\u001b[0;31m     \u001b[0;32mreturn\u001b[0m \u001b[0m_read\u001b[0m\u001b[0;34m(\u001b[0m\u001b[0mfilepath_or_buffer\u001b[0m\u001b[0;34m,\u001b[0m \u001b[0mkwds\u001b[0m\u001b[0;34m)\u001b[0m\u001b[0;34m\u001b[0m\u001b[0;34m\u001b[0m\u001b[0m\n\u001b[0m\u001b[1;32m   1027\u001b[0m \u001b[0;34m\u001b[0m\u001b[0m\n\u001b[1;32m   1028\u001b[0m \u001b[0;34m\u001b[0m\u001b[0m\n",
            "\u001b[0;32m/usr/local/lib/python3.10/dist-packages/pandas/io/parsers/readers.py\u001b[0m in \u001b[0;36m_read\u001b[0;34m(filepath_or_buffer, kwds)\u001b[0m\n\u001b[1;32m    618\u001b[0m \u001b[0;34m\u001b[0m\u001b[0m\n\u001b[1;32m    619\u001b[0m     \u001b[0;31m# Create the parser.\u001b[0m\u001b[0;34m\u001b[0m\u001b[0;34m\u001b[0m\u001b[0m\n\u001b[0;32m--> 620\u001b[0;31m     \u001b[0mparser\u001b[0m \u001b[0;34m=\u001b[0m \u001b[0mTextFileReader\u001b[0m\u001b[0;34m(\u001b[0m\u001b[0mfilepath_or_buffer\u001b[0m\u001b[0;34m,\u001b[0m \u001b[0;34m**\u001b[0m\u001b[0mkwds\u001b[0m\u001b[0;34m)\u001b[0m\u001b[0;34m\u001b[0m\u001b[0;34m\u001b[0m\u001b[0m\n\u001b[0m\u001b[1;32m    621\u001b[0m \u001b[0;34m\u001b[0m\u001b[0m\n\u001b[1;32m    622\u001b[0m     \u001b[0;32mif\u001b[0m \u001b[0mchunksize\u001b[0m \u001b[0;32mor\u001b[0m \u001b[0miterator\u001b[0m\u001b[0;34m:\u001b[0m\u001b[0;34m\u001b[0m\u001b[0;34m\u001b[0m\u001b[0m\n",
            "\u001b[0;32m/usr/local/lib/python3.10/dist-packages/pandas/io/parsers/readers.py\u001b[0m in \u001b[0;36m__init__\u001b[0;34m(self, f, engine, **kwds)\u001b[0m\n\u001b[1;32m   1618\u001b[0m \u001b[0;34m\u001b[0m\u001b[0m\n\u001b[1;32m   1619\u001b[0m         \u001b[0mself\u001b[0m\u001b[0;34m.\u001b[0m\u001b[0mhandles\u001b[0m\u001b[0;34m:\u001b[0m \u001b[0mIOHandles\u001b[0m \u001b[0;34m|\u001b[0m \u001b[0;32mNone\u001b[0m \u001b[0;34m=\u001b[0m \u001b[0;32mNone\u001b[0m\u001b[0;34m\u001b[0m\u001b[0;34m\u001b[0m\u001b[0m\n\u001b[0;32m-> 1620\u001b[0;31m         \u001b[0mself\u001b[0m\u001b[0;34m.\u001b[0m\u001b[0m_engine\u001b[0m \u001b[0;34m=\u001b[0m \u001b[0mself\u001b[0m\u001b[0;34m.\u001b[0m\u001b[0m_make_engine\u001b[0m\u001b[0;34m(\u001b[0m\u001b[0mf\u001b[0m\u001b[0;34m,\u001b[0m \u001b[0mself\u001b[0m\u001b[0;34m.\u001b[0m\u001b[0mengine\u001b[0m\u001b[0;34m)\u001b[0m\u001b[0;34m\u001b[0m\u001b[0;34m\u001b[0m\u001b[0m\n\u001b[0m\u001b[1;32m   1621\u001b[0m \u001b[0;34m\u001b[0m\u001b[0m\n\u001b[1;32m   1622\u001b[0m     \u001b[0;32mdef\u001b[0m \u001b[0mclose\u001b[0m\u001b[0;34m(\u001b[0m\u001b[0mself\u001b[0m\u001b[0;34m)\u001b[0m \u001b[0;34m->\u001b[0m \u001b[0;32mNone\u001b[0m\u001b[0;34m:\u001b[0m\u001b[0;34m\u001b[0m\u001b[0;34m\u001b[0m\u001b[0m\n",
            "\u001b[0;32m/usr/local/lib/python3.10/dist-packages/pandas/io/parsers/readers.py\u001b[0m in \u001b[0;36m_make_engine\u001b[0;34m(self, f, engine)\u001b[0m\n\u001b[1;32m   1878\u001b[0m                 \u001b[0;32mif\u001b[0m \u001b[0;34m\"b\"\u001b[0m \u001b[0;32mnot\u001b[0m \u001b[0;32min\u001b[0m \u001b[0mmode\u001b[0m\u001b[0;34m:\u001b[0m\u001b[0;34m\u001b[0m\u001b[0;34m\u001b[0m\u001b[0m\n\u001b[1;32m   1879\u001b[0m                     \u001b[0mmode\u001b[0m \u001b[0;34m+=\u001b[0m \u001b[0;34m\"b\"\u001b[0m\u001b[0;34m\u001b[0m\u001b[0;34m\u001b[0m\u001b[0m\n\u001b[0;32m-> 1880\u001b[0;31m             self.handles = get_handle(\n\u001b[0m\u001b[1;32m   1881\u001b[0m                 \u001b[0mf\u001b[0m\u001b[0;34m,\u001b[0m\u001b[0;34m\u001b[0m\u001b[0;34m\u001b[0m\u001b[0m\n\u001b[1;32m   1882\u001b[0m                 \u001b[0mmode\u001b[0m\u001b[0;34m,\u001b[0m\u001b[0;34m\u001b[0m\u001b[0;34m\u001b[0m\u001b[0m\n",
            "\u001b[0;32m/usr/local/lib/python3.10/dist-packages/pandas/io/common.py\u001b[0m in \u001b[0;36mget_handle\u001b[0;34m(path_or_buf, mode, encoding, compression, memory_map, is_text, errors, storage_options)\u001b[0m\n\u001b[1;32m    871\u001b[0m         \u001b[0;32mif\u001b[0m \u001b[0mioargs\u001b[0m\u001b[0;34m.\u001b[0m\u001b[0mencoding\u001b[0m \u001b[0;32mand\u001b[0m \u001b[0;34m\"b\"\u001b[0m \u001b[0;32mnot\u001b[0m \u001b[0;32min\u001b[0m \u001b[0mioargs\u001b[0m\u001b[0;34m.\u001b[0m\u001b[0mmode\u001b[0m\u001b[0;34m:\u001b[0m\u001b[0;34m\u001b[0m\u001b[0;34m\u001b[0m\u001b[0m\n\u001b[1;32m    872\u001b[0m             \u001b[0;31m# Encoding\u001b[0m\u001b[0;34m\u001b[0m\u001b[0;34m\u001b[0m\u001b[0m\n\u001b[0;32m--> 873\u001b[0;31m             handle = open(\n\u001b[0m\u001b[1;32m    874\u001b[0m                 \u001b[0mhandle\u001b[0m\u001b[0;34m,\u001b[0m\u001b[0;34m\u001b[0m\u001b[0;34m\u001b[0m\u001b[0m\n\u001b[1;32m    875\u001b[0m                 \u001b[0mioargs\u001b[0m\u001b[0;34m.\u001b[0m\u001b[0mmode\u001b[0m\u001b[0;34m,\u001b[0m\u001b[0;34m\u001b[0m\u001b[0;34m\u001b[0m\u001b[0m\n",
            "\u001b[0;31mFileNotFoundError\u001b[0m: [Errno 2] No such file or directory: 'dataset_metadata.csv'"
          ]
        }
      ],
      "source": [
        "# 9th cell - Read datasets dataframe, and iterate over each one to create communities and form similarity groups\n",
        "# Read the datasets csv\n",
        "df_datasets = pd.read_csv(\"dataset_metadata.csv\")\n",
        "# Print a peak of the dataset\n",
        "print(\"These are the found datasets\")\n",
        "df_datasets.head(10)\n",
        "# set global params\n",
        "clear_csv = False\n",
        "dataset_file_path = \"toy_dataset.csv\"\n",
        "dataset_name = \"toy_dataset\"\n",
        "use_weights = False\n",
        "\n",
        "for i, dataset in df_datasets.iterrows():\n",
        "  spark, stagemetrics = create_spark()\n",
        "  print(f\"Starting to process {i+1} dataset with the following params: \\n{dataset}\")\n",
        "\n",
        "  dataset_file_path = dataset[\"csv_filename\"]\n",
        "  process_dataset(dataset_file_path)\n",
        "  # gc.collect()\n",
        "  kill_spark(spark)"
      ]
    },
    {
      "cell_type": "code",
      "execution_count": 10,
      "metadata": {
        "id": "u5EAxx_4S069",
        "colab": {
          "base_uri": "https://localhost:8080/",
          "height": 1000
        },
        "outputId": "9c218d6a-1cf7-496d-9336-ac7a67af3c84"
      },
      "outputs": [
        {
          "metadata": {
            "tags": null
          },
          "name": "stdout",
          "output_type": "stream",
          "text": [
            "Starting to process /content/dataset_30KB.csv dataset with the following params: \n",
            "\n",
            "Starting Stage 1: Reading the calls dataset\n",
            "Completed Stage 1: Reading the calls dataset\n",
            "\n",
            "+---------+--------+-----------+-------------+---------------+---------------+-----------------------+--------------------------+-----------------------+---------+--------------------+----------------+----------+----------------+------------------+-------------------+-----------+---------+--------------+------------+------------------+-------------------------+-------------------------+--------------------------+---------------------+---------------------+----------------------+----------------------------+-------------------+---------------------+----------------------------------+-------------------------+\n",
            "|numStages|numTasks|elapsedTime|stageDuration|executorRunTime|executorCpuTime|executorDeserializeTime|executorDeserializeCpuTime|resultSerializationTime|jvmGCTime|shuffleFetchWaitTime|shuffleWriteTime|resultSize|diskBytesSpilled|memoryBytesSpilled|peakExecutionMemory|recordsRead|bytesRead|recordsWritten|bytesWritten|shuffleRecordsRead|shuffleTotalBlocksFetched|shuffleLocalBlocksFetched|shuffleRemoteBlocksFetched|shuffleTotalBytesRead|shuffleLocalBytesRead|shuffleRemoteBytesRead|shuffleRemoteBytesReadToDisk|shuffleBytesWritten|shuffleRecordsWritten|stage_name                        |dataset                  |\n",
            "+---------+--------+-----------+-------------+---------------+---------------+-----------------------+--------------------------+-----------------------+---------+--------------------+----------------+----------+----------------+------------------+-------------------+-----------+---------+--------------+------------+------------------+-------------------------+-------------------------+--------------------------+---------------------+---------------------+----------------------+----------------------------+-------------------+---------------------+----------------------------------+-------------------------+\n",
            "|2        |2       |72         |46           |26             |25             |7                      |5                         |0                      |0        |0                   |0               |1605      |0               |0                 |0                  |302        |19272    |0             |0           |0                 |0                        |0                        |0                         |0                    |0                    |0                     |0                           |0                  |0                    |Stage 1: Reading the calls dataset|/content/dataset_30KB.csv|\n",
            "+---------+--------+-----------+-------------+---------------+---------------+-----------------------+--------------------------+-----------------------+---------+--------------------+----------------+----------+----------------+------------------+-------------------+-----------+---------+--------------+------------+------------------+-------------------------+-------------------------+--------------------------+---------------------+---------------------+----------------------+----------------------------+-------------------+---------------------+----------------------------------+-------------------------+\n",
            "\n",
            "Starting Stage 2: Preprocessing and creating the graph\n",
            "This is the community stats:\n",
            "+------------+--------------+-----------+--------------------+-----------------+------------------------+--------------------+------------------------+------------------------------+\n",
            "|community_id|unique_members|total_calls|sum_duration_minutes|avg_call_duration|duration_25th_percentile|median_call_duration|duration_75th_percentile|sum_unique_members_total_calls|\n",
            "+------------+--------------+-----------+--------------------+-----------------+------------------------+--------------------+------------------------+------------------------------+\n",
            "|1           |1             |1          |1117.0              |1117.0           |1117.0                  |1117.0              |1117.0                  |2                             |\n",
            "|2           |1             |1          |1793.0              |1793.0           |1793.0                  |1793.0              |1793.0                  |2                             |\n",
            "|3           |1             |1          |1955.0              |1955.0           |1955.0                  |1955.0              |1955.0                  |2                             |\n",
            "|4           |1             |1          |1728.0              |1728.0           |1728.0                  |1728.0              |1728.0                  |2                             |\n",
            "|5           |1             |1          |945.0               |945.0            |945.0                   |945.0               |945.0                   |2                             |\n",
            "|6           |1             |1          |458.0               |458.0            |458.0                   |458.0               |458.0                   |2                             |\n",
            "|7           |1             |1          |1237.0              |1237.0           |1237.0                  |1237.0              |1237.0                  |2                             |\n",
            "|8           |2             |2          |2496.0              |1248.0           |951.0                   |951.0               |1545.0                  |4                             |\n",
            "|9           |1             |1          |1911.0              |1911.0           |1911.0                  |1911.0              |1911.0                  |2                             |\n",
            "|10          |1             |1          |2085.0              |2085.0           |2085.0                  |2085.0              |2085.0                  |2                             |\n",
            "|11          |1             |1          |1158.0              |1158.0           |1158.0                  |1158.0              |1158.0                  |2                             |\n",
            "|12          |1             |1          |1580.0              |1580.0           |1580.0                  |1580.0              |1580.0                  |2                             |\n",
            "|13          |1             |1          |1986.0              |1986.0           |1986.0                  |1986.0              |1986.0                  |2                             |\n",
            "|14          |1             |1          |1193.0              |1193.0           |1193.0                  |1193.0              |1193.0                  |2                             |\n",
            "|15          |1             |1          |1428.0              |1428.0           |1428.0                  |1428.0              |1428.0                  |2                             |\n",
            "|16          |2             |2          |1990.0              |995.0            |701.0                   |701.0               |1289.0                  |4                             |\n",
            "|17          |1             |1          |1664.0              |1664.0           |1664.0                  |1664.0              |1664.0                  |2                             |\n",
            "|18          |1             |1          |1068.0              |1068.0           |1068.0                  |1068.0              |1068.0                  |2                             |\n",
            "|19          |1             |1          |1278.0              |1278.0           |1278.0                  |1278.0              |1278.0                  |2                             |\n",
            "|20          |1             |1          |752.0               |752.0            |752.0                   |752.0               |752.0                   |2                             |\n",
            "+------------+--------------+-----------+--------------------+-----------------+------------------------+--------------------+------------------------+------------------------------+\n",
            "only showing top 20 rows\n",
            "\n",
            "Completed Stage 2: Preprocessing and creating the graph\n",
            "\n",
            "+---------+--------+-----------+-------------+---------------+---------------+-----------------------+--------------------------+-----------------------+---------+--------------------+----------------+----------+----------------+------------------+-------------------+-----------+---------+--------------+------------+------------------+-------------------------+-------------------------+--------------------------+---------------------+---------------------+----------------------+----------------------------+-------------------+---------------------+---------------------------------------------+-------------------------+\n",
            "|numStages|numTasks|elapsedTime|stageDuration|executorRunTime|executorCpuTime|executorDeserializeTime|executorDeserializeCpuTime|resultSerializationTime|jvmGCTime|shuffleFetchWaitTime|shuffleWriteTime|resultSize|diskBytesSpilled|memoryBytesSpilled|peakExecutionMemory|recordsRead|bytesRead|recordsWritten|bytesWritten|shuffleRecordsRead|shuffleTotalBlocksFetched|shuffleLocalBlocksFetched|shuffleRemoteBlocksFetched|shuffleTotalBytesRead|shuffleLocalBytesRead|shuffleRemoteBytesRead|shuffleRemoteBytesReadToDisk|shuffleBytesWritten|shuffleRecordsWritten|stage_name                                   |dataset                  |\n",
            "+---------+--------+-----------+-------------+---------------+---------------+-----------------------+--------------------------+-----------------------+---------+--------------------+----------------+----------+----------------+------------------+-------------------+-----------+---------+--------------+------------+------------------+-------------------------+-------------------------+--------------------------+---------------------+---------------------+----------------------+----------------------------+-------------------+---------------------+---------------------------------------------+-------------------------+\n",
            "|76       |10031   |37012      |18987        |35131          |29975          |48668                  |43856                     |32                     |352      |0                   |10962           |10070562  |0               |0                 |12668895232        |8231       |3334684  |300           |3200        |9210              |5683                     |5683                     |0                         |513266               |513266               |0                     |0                           |478914             |8626                 |Stage 2: Preprocessing and creating the graph|/content/dataset_30KB.csv|\n",
            "+---------+--------+-----------+-------------+---------------+---------------+-----------------------+--------------------------+-----------------------+---------+--------------------+----------------+----------+----------------+------------------+-------------------+-----------+---------+--------------+------------+------------------+-------------------------+-------------------------+--------------------------+---------------------+---------------------+----------------------+----------------------------+-------------------+---------------------+---------------------------------------------+-------------------------+\n",
            "\n",
            "Starting Stage 3: Calculate similarities between communities\n",
            "This is the bucket df:\n",
            "+------------+--------------+-----------+--------------------+-----------------+------------------------+--------------------+------------------------+------------------------------+-------------------------------------------------------------------------------------------------------------------------------------------------------------------------------------------------------------------------------------------------------------------------------------------------------------------------------------------------------------------------------------------------------------------------------------------------------------------------------------------------------------------------------------------------------------------------------------------------------------------------------------------------------------------------------------------------------------------------------------------------------------------------------------------------------------------------------------------------------------------------------------------------------------------------------------------------------------------------------------------------------------------------------------------------------------------------------------------------------------------------------------------------------------------------------------------------------------------------------------------------------------------------------------------------------------------------------------------------------------------------------+-------------------------------------------------------------------------------------------------------------------------------------------------------------------------------------------------------------------------------------------------------------------------------------------------------------------------------------------------------------------------------------------------------------------------------------------------------------------------------------------------------------------------------------------------------------------------------------------------------------------------------------------------------------------------------------------------------------------------------------------------------------------------------------------------------------------------------------------------------------------------------------------------------------------------------------------------------------------------------------------------------------------------------------------------------------------------------------------------------------------------------------------------------------------------------------------------------------------------------------------------------------------------------------------------------------------------------------------------------------------------------+-------------------------------------+\n",
            "|community_id|unique_members|total_calls|sum_duration_minutes|avg_call_duration|duration_25th_percentile|median_call_duration|duration_75th_percentile|sum_unique_members_total_calls|true_csr_matrix                                                                                                                                                                                                                                                                                                                                                                                                                                                                                                                                                                                                                                                                                                                                                                                                                                                                                                                                                                                                                                                                                                                                                                                                                                                                                                                                                                |false_csr_matrix                                                                                                                                                                                                                                                                                                                                                                                                                                                                                                                                                                                                                                                                                                                                                                                                                                                                                                                                                                                                                                                                                                                                                                                                                                                                                                                                                               |sum_unique_members_total_calls_bucket|\n",
            "+------------+--------------+-----------+--------------------+-----------------+------------------------+--------------------+------------------------+------------------------------+-------------------------------------------------------------------------------------------------------------------------------------------------------------------------------------------------------------------------------------------------------------------------------------------------------------------------------------------------------------------------------------------------------------------------------------------------------------------------------------------------------------------------------------------------------------------------------------------------------------------------------------------------------------------------------------------------------------------------------------------------------------------------------------------------------------------------------------------------------------------------------------------------------------------------------------------------------------------------------------------------------------------------------------------------------------------------------------------------------------------------------------------------------------------------------------------------------------------------------------------------------------------------------------------------------------------------------------------------------------------------------+-------------------------------------------------------------------------------------------------------------------------------------------------------------------------------------------------------------------------------------------------------------------------------------------------------------------------------------------------------------------------------------------------------------------------------------------------------------------------------------------------------------------------------------------------------------------------------------------------------------------------------------------------------------------------------------------------------------------------------------------------------------------------------------------------------------------------------------------------------------------------------------------------------------------------------------------------------------------------------------------------------------------------------------------------------------------------------------------------------------------------------------------------------------------------------------------------------------------------------------------------------------------------------------------------------------------------------------------------------------------------------+-------------------------------------+\n",
            "|8           |2             |2          |2496.0              |1248.0           |951.0                   |951.0               |1545.0                  |4                             |[80 04 95 9F 01 00 00 00 00 00 00 8C 11 73 63 69 70 79 2E 73 70 61 72 73 65 2E 5F 63 73 72 94 8C 0A 63 73 72 5F 6D 61 74 72 69 78 94 93 94 29 81 94 7D 94 28 8C 06 5F 73 68 61 70 65 94 4B 03 4B 03 86 94 8C 08 6D 61 78 70 72 69 6E 74 94 4B 32 8C 06 69 6E 64 70 74 72 94 8C 15 6E 75 6D 70 79 2E 63 6F 72 65 2E 6D 75 6C 74 69 61 72 72 61 79 94 8C 0C 5F 72 65 63 6F 6E 73 74 72 75 63 74 94 93 94 8C 05 6E 75 6D 70 79 94 8C 07 6E 64 61 72 72 61 79 94 93 94 4B 00 85 94 43 01 62 94 87 94 52 94 28 4B 01 4B 04 85 94 68 0C 8C 05 64 74 79 70 65 94 93 94 8C 02 69 34 94 89 88 87 94 52 94 28 4B 03 8C 01 3C 94 4E 4E 4E 4A FF FF FF FF 4A FF FF FF FF 4B 00 74 94 62 89 43 10 00 00 00 00 01 00 00 00 02 00 00 00 02 00 00 00 94 74 94 62 8C 07 69 6E 64 69 63 65 73 94 68 0B 68 0E 4B 00 85 94 68 10 87 94 52 94 28 4B 01 4B 02 85 94 68 18 89 43 08 01 00 00 00 02 00 00 00 94 74 94 62 8C 04 64 61 74 61 94 68 0B 68 0E 4B 00 85 94 68 10 87 94 52 94 28 4B 01 4B 02 85 94 68 15 8C 02 66 38 94 89 88 87 94 52 94 28 4B 03 68 19 4E 4E 4E 4A FF FF FF FF 4A FF FF FF FF 4B 00 74 94 62 89 43 10 00 00 00 00 00 24 98 40 00 00 00 00 00 B8 8D 40 94 74 94 62 8C 15 5F 68 61 73 5F 63 61 6E 6F 6E 69 63 61 6C 5F 66 6F 72 6D 61 74 94 88 8C 13 5F 68 61 73 5F 73 6F 72 74 65 64 5F 69 6E 64 69 63 65 73 94 88 75 62 2E]                                                |[80 04 95 9F 01 00 00 00 00 00 00 8C 11 73 63 69 70 79 2E 73 70 61 72 73 65 2E 5F 63 73 72 94 8C 0A 63 73 72 5F 6D 61 74 72 69 78 94 93 94 29 81 94 7D 94 28 8C 06 5F 73 68 61 70 65 94 4B 03 4B 03 86 94 8C 08 6D 61 78 70 72 69 6E 74 94 4B 32 8C 06 69 6E 64 70 74 72 94 8C 15 6E 75 6D 70 79 2E 63 6F 72 65 2E 6D 75 6C 74 69 61 72 72 61 79 94 8C 0C 5F 72 65 63 6F 6E 73 74 72 75 63 74 94 93 94 8C 05 6E 75 6D 70 79 94 8C 07 6E 64 61 72 72 61 79 94 93 94 4B 00 85 94 43 01 62 94 87 94 52 94 28 4B 01 4B 04 85 94 68 0C 8C 05 64 74 79 70 65 94 93 94 8C 02 69 34 94 89 88 87 94 52 94 28 4B 03 8C 01 3C 94 4E 4E 4E 4A FF FF FF FF 4A FF FF FF FF 4B 00 74 94 62 89 43 10 00 00 00 00 01 00 00 00 02 00 00 00 02 00 00 00 94 74 94 62 8C 07 69 6E 64 69 63 65 73 94 68 0B 68 0E 4B 00 85 94 68 10 87 94 52 94 28 4B 01 4B 02 85 94 68 18 89 43 08 01 00 00 00 02 00 00 00 94 74 94 62 8C 04 64 61 74 61 94 68 0B 68 0E 4B 00 85 94 68 10 87 94 52 94 28 4B 01 4B 02 85 94 68 15 8C 02 69 38 94 89 88 87 94 52 94 28 4B 03 68 19 4E 4E 4E 4A FF FF FF FF 4A FF FF FF FF 4B 00 74 94 62 89 43 10 01 00 00 00 00 00 00 00 01 00 00 00 00 00 00 00 94 74 94 62 8C 15 5F 68 61 73 5F 63 61 6E 6F 6E 69 63 61 6C 5F 66 6F 72 6D 61 74 94 88 8C 13 5F 68 61 73 5F 73 6F 72 74 65 64 5F 69 6E 64 69 63 65 73 94 88 75 62 2E]                                                |1                                    |\n",
            "|16          |2             |2          |1990.0              |995.0            |701.0                   |701.0               |1289.0                  |4                             |[80 04 95 9F 01 00 00 00 00 00 00 8C 11 73 63 69 70 79 2E 73 70 61 72 73 65 2E 5F 63 73 72 94 8C 0A 63 73 72 5F 6D 61 74 72 69 78 94 93 94 29 81 94 7D 94 28 8C 06 5F 73 68 61 70 65 94 4B 03 4B 03 86 94 8C 08 6D 61 78 70 72 69 6E 74 94 4B 32 8C 06 69 6E 64 70 74 72 94 8C 15 6E 75 6D 70 79 2E 63 6F 72 65 2E 6D 75 6C 74 69 61 72 72 61 79 94 8C 0C 5F 72 65 63 6F 6E 73 74 72 75 63 74 94 93 94 8C 05 6E 75 6D 70 79 94 8C 07 6E 64 61 72 72 61 79 94 93 94 4B 00 85 94 43 01 62 94 87 94 52 94 28 4B 01 4B 04 85 94 68 0C 8C 05 64 74 79 70 65 94 93 94 8C 02 69 34 94 89 88 87 94 52 94 28 4B 03 8C 01 3C 94 4E 4E 4E 4A FF FF FF FF 4A FF FF FF FF 4B 00 74 94 62 89 43 10 00 00 00 00 02 00 00 00 02 00 00 00 02 00 00 00 94 74 94 62 8C 07 69 6E 64 69 63 65 73 94 68 0B 68 0E 4B 00 85 94 68 10 87 94 52 94 28 4B 01 4B 02 85 94 68 18 89 43 08 01 00 00 00 02 00 00 00 94 74 94 62 8C 04 64 61 74 61 94 68 0B 68 0E 4B 00 85 94 68 10 87 94 52 94 28 4B 01 4B 02 85 94 68 15 8C 02 66 38 94 89 88 87 94 52 94 28 4B 03 68 19 4E 4E 4E 4A FF FF FF FF 4A FF FF FF FF 4B 00 74 94 62 89 43 10 00 00 00 00 00 E8 85 40 00 00 00 00 00 24 94 40 94 74 94 62 8C 15 5F 68 61 73 5F 63 61 6E 6F 6E 69 63 61 6C 5F 66 6F 72 6D 61 74 94 88 8C 13 5F 68 61 73 5F 73 6F 72 74 65 64 5F 69 6E 64 69 63 65 73 94 88 75 62 2E]                                                |[80 04 95 9F 01 00 00 00 00 00 00 8C 11 73 63 69 70 79 2E 73 70 61 72 73 65 2E 5F 63 73 72 94 8C 0A 63 73 72 5F 6D 61 74 72 69 78 94 93 94 29 81 94 7D 94 28 8C 06 5F 73 68 61 70 65 94 4B 03 4B 03 86 94 8C 08 6D 61 78 70 72 69 6E 74 94 4B 32 8C 06 69 6E 64 70 74 72 94 8C 15 6E 75 6D 70 79 2E 63 6F 72 65 2E 6D 75 6C 74 69 61 72 72 61 79 94 8C 0C 5F 72 65 63 6F 6E 73 74 72 75 63 74 94 93 94 8C 05 6E 75 6D 70 79 94 8C 07 6E 64 61 72 72 61 79 94 93 94 4B 00 85 94 43 01 62 94 87 94 52 94 28 4B 01 4B 04 85 94 68 0C 8C 05 64 74 79 70 65 94 93 94 8C 02 69 34 94 89 88 87 94 52 94 28 4B 03 8C 01 3C 94 4E 4E 4E 4A FF FF FF FF 4A FF FF FF FF 4B 00 74 94 62 89 43 10 00 00 00 00 02 00 00 00 02 00 00 00 02 00 00 00 94 74 94 62 8C 07 69 6E 64 69 63 65 73 94 68 0B 68 0E 4B 00 85 94 68 10 87 94 52 94 28 4B 01 4B 02 85 94 68 18 89 43 08 01 00 00 00 02 00 00 00 94 74 94 62 8C 04 64 61 74 61 94 68 0B 68 0E 4B 00 85 94 68 10 87 94 52 94 28 4B 01 4B 02 85 94 68 15 8C 02 69 38 94 89 88 87 94 52 94 28 4B 03 68 19 4E 4E 4E 4A FF FF FF FF 4A FF FF FF FF 4B 00 74 94 62 89 43 10 01 00 00 00 00 00 00 00 01 00 00 00 00 00 00 00 94 74 94 62 8C 15 5F 68 61 73 5F 63 61 6E 6F 6E 69 63 61 6C 5F 66 6F 72 6D 61 74 94 88 8C 13 5F 68 61 73 5F 73 6F 72 74 65 64 5F 69 6E 64 69 63 65 73 94 88 75 62 2E]                                                |1                                    |\n",
            "|27          |2             |2          |2053.0              |1026.5           |366.0                   |366.0               |1687.0                  |4                             |[80 04 95 9F 01 00 00 00 00 00 00 8C 11 73 63 69 70 79 2E 73 70 61 72 73 65 2E 5F 63 73 72 94 8C 0A 63 73 72 5F 6D 61 74 72 69 78 94 93 94 29 81 94 7D 94 28 8C 06 5F 73 68 61 70 65 94 4B 03 4B 03 86 94 8C 08 6D 61 78 70 72 69 6E 74 94 4B 32 8C 06 69 6E 64 70 74 72 94 8C 15 6E 75 6D 70 79 2E 63 6F 72 65 2E 6D 75 6C 74 69 61 72 72 61 79 94 8C 0C 5F 72 65 63 6F 6E 73 74 72 75 63 74 94 93 94 8C 05 6E 75 6D 70 79 94 8C 07 6E 64 61 72 72 61 79 94 93 94 4B 00 85 94 43 01 62 94 87 94 52 94 28 4B 01 4B 04 85 94 68 0C 8C 05 64 74 79 70 65 94 93 94 8C 02 69 34 94 89 88 87 94 52 94 28 4B 03 8C 01 3C 94 4E 4E 4E 4A FF FF FF FF 4A FF FF FF FF 4B 00 74 94 62 89 43 10 00 00 00 00 01 00 00 00 02 00 00 00 02 00 00 00 94 74 94 62 8C 07 69 6E 64 69 63 65 73 94 68 0B 68 0E 4B 00 85 94 68 10 87 94 52 94 28 4B 01 4B 02 85 94 68 18 89 43 08 01 00 00 00 02 00 00 00 94 74 94 62 8C 04 64 61 74 61 94 68 0B 68 0E 4B 00 85 94 68 10 87 94 52 94 28 4B 01 4B 02 85 94 68 15 8C 02 66 38 94 89 88 87 94 52 94 28 4B 03 68 19 4E 4E 4E 4A FF FF FF FF 4A FF FF FF FF 4B 00 74 94 62 89 43 10 00 00 00 00 00 5C 9A 40 00 00 00 00 00 E0 76 40 94 74 94 62 8C 15 5F 68 61 73 5F 63 61 6E 6F 6E 69 63 61 6C 5F 66 6F 72 6D 61 74 94 88 8C 13 5F 68 61 73 5F 73 6F 72 74 65 64 5F 69 6E 64 69 63 65 73 94 88 75 62 2E]                                                |[80 04 95 9F 01 00 00 00 00 00 00 8C 11 73 63 69 70 79 2E 73 70 61 72 73 65 2E 5F 63 73 72 94 8C 0A 63 73 72 5F 6D 61 74 72 69 78 94 93 94 29 81 94 7D 94 28 8C 06 5F 73 68 61 70 65 94 4B 03 4B 03 86 94 8C 08 6D 61 78 70 72 69 6E 74 94 4B 32 8C 06 69 6E 64 70 74 72 94 8C 15 6E 75 6D 70 79 2E 63 6F 72 65 2E 6D 75 6C 74 69 61 72 72 61 79 94 8C 0C 5F 72 65 63 6F 6E 73 74 72 75 63 74 94 93 94 8C 05 6E 75 6D 70 79 94 8C 07 6E 64 61 72 72 61 79 94 93 94 4B 00 85 94 43 01 62 94 87 94 52 94 28 4B 01 4B 04 85 94 68 0C 8C 05 64 74 79 70 65 94 93 94 8C 02 69 34 94 89 88 87 94 52 94 28 4B 03 8C 01 3C 94 4E 4E 4E 4A FF FF FF FF 4A FF FF FF FF 4B 00 74 94 62 89 43 10 00 00 00 00 01 00 00 00 02 00 00 00 02 00 00 00 94 74 94 62 8C 07 69 6E 64 69 63 65 73 94 68 0B 68 0E 4B 00 85 94 68 10 87 94 52 94 28 4B 01 4B 02 85 94 68 18 89 43 08 01 00 00 00 02 00 00 00 94 74 94 62 8C 04 64 61 74 61 94 68 0B 68 0E 4B 00 85 94 68 10 87 94 52 94 28 4B 01 4B 02 85 94 68 15 8C 02 69 38 94 89 88 87 94 52 94 28 4B 03 68 19 4E 4E 4E 4A FF FF FF FF 4A FF FF FF FF 4B 00 74 94 62 89 43 10 01 00 00 00 00 00 00 00 01 00 00 00 00 00 00 00 94 74 94 62 8C 15 5F 68 61 73 5F 63 61 6E 6F 6E 69 63 61 6C 5F 66 6F 72 6D 61 74 94 88 8C 13 5F 68 61 73 5F 73 6F 72 74 65 64 5F 69 6E 64 69 63 65 73 94 88 75 62 2E]                                                |1                                    |\n",
            "|58          |2             |2          |3178.0              |1589.0           |1504.0                  |1504.0              |1674.0                  |4                             |[80 04 95 9F 01 00 00 00 00 00 00 8C 11 73 63 69 70 79 2E 73 70 61 72 73 65 2E 5F 63 73 72 94 8C 0A 63 73 72 5F 6D 61 74 72 69 78 94 93 94 29 81 94 7D 94 28 8C 06 5F 73 68 61 70 65 94 4B 03 4B 03 86 94 8C 08 6D 61 78 70 72 69 6E 74 94 4B 32 8C 06 69 6E 64 70 74 72 94 8C 15 6E 75 6D 70 79 2E 63 6F 72 65 2E 6D 75 6C 74 69 61 72 72 61 79 94 8C 0C 5F 72 65 63 6F 6E 73 74 72 75 63 74 94 93 94 8C 05 6E 75 6D 70 79 94 8C 07 6E 64 61 72 72 61 79 94 93 94 4B 00 85 94 43 01 62 94 87 94 52 94 28 4B 01 4B 04 85 94 68 0C 8C 05 64 74 79 70 65 94 93 94 8C 02 69 34 94 89 88 87 94 52 94 28 4B 03 8C 01 3C 94 4E 4E 4E 4A FF FF FF FF 4A FF FF FF FF 4B 00 74 94 62 89 43 10 00 00 00 00 01 00 00 00 02 00 00 00 02 00 00 00 94 74 94 62 8C 07 69 6E 64 69 63 65 73 94 68 0B 68 0E 4B 00 85 94 68 10 87 94 52 94 28 4B 01 4B 02 85 94 68 18 89 43 08 02 00 00 00 02 00 00 00 94 74 94 62 8C 04 64 61 74 61 94 68 0B 68 0E 4B 00 85 94 68 10 87 94 52 94 28 4B 01 4B 02 85 94 68 15 8C 02 66 38 94 89 88 87 94 52 94 28 4B 03 68 19 4E 4E 4E 4A FF FF FF FF 4A FF FF FF FF 4B 00 74 94 62 89 43 10 00 00 00 00 00 80 97 40 00 00 00 00 00 28 9A 40 94 74 94 62 8C 15 5F 68 61 73 5F 63 61 6E 6F 6E 69 63 61 6C 5F 66 6F 72 6D 61 74 94 88 8C 13 5F 68 61 73 5F 73 6F 72 74 65 64 5F 69 6E 64 69 63 65 73 94 88 75 62 2E]                                                |[80 04 95 9F 01 00 00 00 00 00 00 8C 11 73 63 69 70 79 2E 73 70 61 72 73 65 2E 5F 63 73 72 94 8C 0A 63 73 72 5F 6D 61 74 72 69 78 94 93 94 29 81 94 7D 94 28 8C 06 5F 73 68 61 70 65 94 4B 03 4B 03 86 94 8C 08 6D 61 78 70 72 69 6E 74 94 4B 32 8C 06 69 6E 64 70 74 72 94 8C 15 6E 75 6D 70 79 2E 63 6F 72 65 2E 6D 75 6C 74 69 61 72 72 61 79 94 8C 0C 5F 72 65 63 6F 6E 73 74 72 75 63 74 94 93 94 8C 05 6E 75 6D 70 79 94 8C 07 6E 64 61 72 72 61 79 94 93 94 4B 00 85 94 43 01 62 94 87 94 52 94 28 4B 01 4B 04 85 94 68 0C 8C 05 64 74 79 70 65 94 93 94 8C 02 69 34 94 89 88 87 94 52 94 28 4B 03 8C 01 3C 94 4E 4E 4E 4A FF FF FF FF 4A FF FF FF FF 4B 00 74 94 62 89 43 10 00 00 00 00 01 00 00 00 02 00 00 00 02 00 00 00 94 74 94 62 8C 07 69 6E 64 69 63 65 73 94 68 0B 68 0E 4B 00 85 94 68 10 87 94 52 94 28 4B 01 4B 02 85 94 68 18 89 43 08 02 00 00 00 02 00 00 00 94 74 94 62 8C 04 64 61 74 61 94 68 0B 68 0E 4B 00 85 94 68 10 87 94 52 94 28 4B 01 4B 02 85 94 68 15 8C 02 69 38 94 89 88 87 94 52 94 28 4B 03 68 19 4E 4E 4E 4A FF FF FF FF 4A FF FF FF FF 4B 00 74 94 62 89 43 10 01 00 00 00 00 00 00 00 01 00 00 00 00 00 00 00 94 74 94 62 8C 15 5F 68 61 73 5F 63 61 6E 6F 6E 69 63 61 6C 5F 66 6F 72 6D 61 74 94 88 8C 13 5F 68 61 73 5F 73 6F 72 74 65 64 5F 69 6E 64 69 63 65 73 94 88 75 62 2E]                                                |1                                    |\n",
            "|67          |3             |3          |5358.0              |1786.0           |1263.0                  |1750.0              |2345.0                  |6                             |[80 04 95 AF 01 00 00 00 00 00 00 8C 11 73 63 69 70 79 2E 73 70 61 72 73 65 2E 5F 63 73 72 94 8C 0A 63 73 72 5F 6D 61 74 72 69 78 94 93 94 29 81 94 7D 94 28 8C 06 5F 73 68 61 70 65 94 4B 04 4B 04 86 94 8C 08 6D 61 78 70 72 69 6E 74 94 4B 32 8C 06 69 6E 64 70 74 72 94 8C 15 6E 75 6D 70 79 2E 63 6F 72 65 2E 6D 75 6C 74 69 61 72 72 61 79 94 8C 0C 5F 72 65 63 6F 6E 73 74 72 75 63 74 94 93 94 8C 05 6E 75 6D 70 79 94 8C 07 6E 64 61 72 72 61 79 94 93 94 4B 00 85 94 43 01 62 94 87 94 52 94 28 4B 01 4B 05 85 94 68 0C 8C 05 64 74 79 70 65 94 93 94 8C 02 69 34 94 89 88 87 94 52 94 28 4B 03 8C 01 3C 94 4E 4E 4E 4A FF FF FF FF 4A FF FF FF FF 4B 00 74 94 62 89 43 14 00 00 00 00 01 00 00 00 03 00 00 00 03 00 00 00 03 00 00 00 94 74 94 62 8C 07 69 6E 64 69 63 65 73 94 68 0B 68 0E 4B 00 85 94 68 10 87 94 52 94 28 4B 01 4B 03 85 94 68 18 89 43 0C 02 00 00 00 02 00 00 00 03 00 00 00 94 74 94 62 8C 04 64 61 74 61 94 68 0B 68 0E 4B 00 85 94 68 10 87 94 52 94 28 4B 01 4B 03 85 94 68 15 8C 02 66 38 94 89 88 87 94 52 94 28 4B 03 68 19 4E 4E 4E 4A FF FF FF FF 4A FF FF FF FF 4B 00 74 94 62 89 43 18 00 00 00 00 00 52 A2 40 00 00 00 00 00 BC 93 40 00 00 00 00 00 58 9B 40 94 74 94 62 8C 15 5F 68 61 73 5F 63 61 6E 6F 6E 69 63 61 6C 5F 66 6F 72 6D 61 74 94 88 8C 13 5F 68 61 73 5F 73 6F 72 74 65 64 5F 69 6E 64 69 63 65 73 94 88 75 62 2E]|[80 04 95 AF 01 00 00 00 00 00 00 8C 11 73 63 69 70 79 2E 73 70 61 72 73 65 2E 5F 63 73 72 94 8C 0A 63 73 72 5F 6D 61 74 72 69 78 94 93 94 29 81 94 7D 94 28 8C 06 5F 73 68 61 70 65 94 4B 04 4B 04 86 94 8C 08 6D 61 78 70 72 69 6E 74 94 4B 32 8C 06 69 6E 64 70 74 72 94 8C 15 6E 75 6D 70 79 2E 63 6F 72 65 2E 6D 75 6C 74 69 61 72 72 61 79 94 8C 0C 5F 72 65 63 6F 6E 73 74 72 75 63 74 94 93 94 8C 05 6E 75 6D 70 79 94 8C 07 6E 64 61 72 72 61 79 94 93 94 4B 00 85 94 43 01 62 94 87 94 52 94 28 4B 01 4B 05 85 94 68 0C 8C 05 64 74 79 70 65 94 93 94 8C 02 69 34 94 89 88 87 94 52 94 28 4B 03 8C 01 3C 94 4E 4E 4E 4A FF FF FF FF 4A FF FF FF FF 4B 00 74 94 62 89 43 14 00 00 00 00 01 00 00 00 03 00 00 00 03 00 00 00 03 00 00 00 94 74 94 62 8C 07 69 6E 64 69 63 65 73 94 68 0B 68 0E 4B 00 85 94 68 10 87 94 52 94 28 4B 01 4B 03 85 94 68 18 89 43 0C 02 00 00 00 02 00 00 00 03 00 00 00 94 74 94 62 8C 04 64 61 74 61 94 68 0B 68 0E 4B 00 85 94 68 10 87 94 52 94 28 4B 01 4B 03 85 94 68 15 8C 02 69 38 94 89 88 87 94 52 94 28 4B 03 68 19 4E 4E 4E 4A FF FF FF FF 4A FF FF FF FF 4B 00 74 94 62 89 43 18 01 00 00 00 00 00 00 00 01 00 00 00 00 00 00 00 01 00 00 00 00 00 00 00 94 74 94 62 8C 15 5F 68 61 73 5F 63 61 6E 6F 6E 69 63 61 6C 5F 66 6F 72 6D 61 74 94 88 8C 13 5F 68 61 73 5F 73 6F 72 74 65 64 5F 69 6E 64 69 63 65 73 94 88 75 62 2E]|1                                    |\n",
            "|96          |2             |2          |2952.0              |1476.0           |847.0                   |847.0               |2105.0                  |4                             |[80 04 95 9F 01 00 00 00 00 00 00 8C 11 73 63 69 70 79 2E 73 70 61 72 73 65 2E 5F 63 73 72 94 8C 0A 63 73 72 5F 6D 61 74 72 69 78 94 93 94 29 81 94 7D 94 28 8C 06 5F 73 68 61 70 65 94 4B 03 4B 03 86 94 8C 08 6D 61 78 70 72 69 6E 74 94 4B 32 8C 06 69 6E 64 70 74 72 94 8C 15 6E 75 6D 70 79 2E 63 6F 72 65 2E 6D 75 6C 74 69 61 72 72 61 79 94 8C 0C 5F 72 65 63 6F 6E 73 74 72 75 63 74 94 93 94 8C 05 6E 75 6D 70 79 94 8C 07 6E 64 61 72 72 61 79 94 93 94 4B 00 85 94 43 01 62 94 87 94 52 94 28 4B 01 4B 04 85 94 68 0C 8C 05 64 74 79 70 65 94 93 94 8C 02 69 34 94 89 88 87 94 52 94 28 4B 03 8C 01 3C 94 4E 4E 4E 4A FF FF FF FF 4A FF FF FF FF 4B 00 74 94 62 89 43 10 00 00 00 00 01 00 00 00 02 00 00 00 02 00 00 00 94 74 94 62 8C 07 69 6E 64 69 63 65 73 94 68 0B 68 0E 4B 00 85 94 68 10 87 94 52 94 28 4B 01 4B 02 85 94 68 18 89 43 08 01 00 00 00 02 00 00 00 94 74 94 62 8C 04 64 61 74 61 94 68 0B 68 0E 4B 00 85 94 68 10 87 94 52 94 28 4B 01 4B 02 85 94 68 15 8C 02 66 38 94 89 88 87 94 52 94 28 4B 03 68 19 4E 4E 4E 4A FF FF FF FF 4A FF FF FF FF 4B 00 74 94 62 89 43 10 00 00 00 00 00 72 A0 40 00 00 00 00 00 78 8A 40 94 74 94 62 8C 15 5F 68 61 73 5F 63 61 6E 6F 6E 69 63 61 6C 5F 66 6F 72 6D 61 74 94 88 8C 13 5F 68 61 73 5F 73 6F 72 74 65 64 5F 69 6E 64 69 63 65 73 94 88 75 62 2E]                                                |[80 04 95 9F 01 00 00 00 00 00 00 8C 11 73 63 69 70 79 2E 73 70 61 72 73 65 2E 5F 63 73 72 94 8C 0A 63 73 72 5F 6D 61 74 72 69 78 94 93 94 29 81 94 7D 94 28 8C 06 5F 73 68 61 70 65 94 4B 03 4B 03 86 94 8C 08 6D 61 78 70 72 69 6E 74 94 4B 32 8C 06 69 6E 64 70 74 72 94 8C 15 6E 75 6D 70 79 2E 63 6F 72 65 2E 6D 75 6C 74 69 61 72 72 61 79 94 8C 0C 5F 72 65 63 6F 6E 73 74 72 75 63 74 94 93 94 8C 05 6E 75 6D 70 79 94 8C 07 6E 64 61 72 72 61 79 94 93 94 4B 00 85 94 43 01 62 94 87 94 52 94 28 4B 01 4B 04 85 94 68 0C 8C 05 64 74 79 70 65 94 93 94 8C 02 69 34 94 89 88 87 94 52 94 28 4B 03 8C 01 3C 94 4E 4E 4E 4A FF FF FF FF 4A FF FF FF FF 4B 00 74 94 62 89 43 10 00 00 00 00 01 00 00 00 02 00 00 00 02 00 00 00 94 74 94 62 8C 07 69 6E 64 69 63 65 73 94 68 0B 68 0E 4B 00 85 94 68 10 87 94 52 94 28 4B 01 4B 02 85 94 68 18 89 43 08 01 00 00 00 02 00 00 00 94 74 94 62 8C 04 64 61 74 61 94 68 0B 68 0E 4B 00 85 94 68 10 87 94 52 94 28 4B 01 4B 02 85 94 68 15 8C 02 69 38 94 89 88 87 94 52 94 28 4B 03 68 19 4E 4E 4E 4A FF FF FF FF 4A FF FF FF FF 4B 00 74 94 62 89 43 10 01 00 00 00 00 00 00 00 01 00 00 00 00 00 00 00 94 74 94 62 8C 15 5F 68 61 73 5F 63 61 6E 6F 6E 69 63 61 6C 5F 66 6F 72 6D 61 74 94 88 8C 13 5F 68 61 73 5F 73 6F 72 74 65 64 5F 69 6E 64 69 63 65 73 94 88 75 62 2E]                                                |1                                    |\n",
            "|118         |2             |2          |1791.0              |895.5            |231.0                   |231.0               |1560.0                  |4                             |[80 04 95 9F 01 00 00 00 00 00 00 8C 11 73 63 69 70 79 2E 73 70 61 72 73 65 2E 5F 63 73 72 94 8C 0A 63 73 72 5F 6D 61 74 72 69 78 94 93 94 29 81 94 7D 94 28 8C 06 5F 73 68 61 70 65 94 4B 03 4B 03 86 94 8C 08 6D 61 78 70 72 69 6E 74 94 4B 32 8C 06 69 6E 64 70 74 72 94 8C 15 6E 75 6D 70 79 2E 63 6F 72 65 2E 6D 75 6C 74 69 61 72 72 61 79 94 8C 0C 5F 72 65 63 6F 6E 73 74 72 75 63 74 94 93 94 8C 05 6E 75 6D 70 79 94 8C 07 6E 64 61 72 72 61 79 94 93 94 4B 00 85 94 43 01 62 94 87 94 52 94 28 4B 01 4B 04 85 94 68 0C 8C 05 64 74 79 70 65 94 93 94 8C 02 69 34 94 89 88 87 94 52 94 28 4B 03 8C 01 3C 94 4E 4E 4E 4A FF FF FF FF 4A FF FF FF FF 4B 00 74 94 62 89 43 10 00 00 00 00 01 00 00 00 02 00 00 00 02 00 00 00 94 74 94 62 8C 07 69 6E 64 69 63 65 73 94 68 0B 68 0E 4B 00 85 94 68 10 87 94 52 94 28 4B 01 4B 02 85 94 68 18 89 43 08 02 00 00 00 02 00 00 00 94 74 94 62 8C 04 64 61 74 61 94 68 0B 68 0E 4B 00 85 94 68 10 87 94 52 94 28 4B 01 4B 02 85 94 68 15 8C 02 66 38 94 89 88 87 94 52 94 28 4B 03 68 19 4E 4E 4E 4A FF FF FF FF 4A FF FF FF FF 4B 00 74 94 62 89 43 10 00 00 00 00 00 E0 6C 40 00 00 00 00 00 60 98 40 94 74 94 62 8C 15 5F 68 61 73 5F 63 61 6E 6F 6E 69 63 61 6C 5F 66 6F 72 6D 61 74 94 88 8C 13 5F 68 61 73 5F 73 6F 72 74 65 64 5F 69 6E 64 69 63 65 73 94 88 75 62 2E]                                                |[80 04 95 9F 01 00 00 00 00 00 00 8C 11 73 63 69 70 79 2E 73 70 61 72 73 65 2E 5F 63 73 72 94 8C 0A 63 73 72 5F 6D 61 74 72 69 78 94 93 94 29 81 94 7D 94 28 8C 06 5F 73 68 61 70 65 94 4B 03 4B 03 86 94 8C 08 6D 61 78 70 72 69 6E 74 94 4B 32 8C 06 69 6E 64 70 74 72 94 8C 15 6E 75 6D 70 79 2E 63 6F 72 65 2E 6D 75 6C 74 69 61 72 72 61 79 94 8C 0C 5F 72 65 63 6F 6E 73 74 72 75 63 74 94 93 94 8C 05 6E 75 6D 70 79 94 8C 07 6E 64 61 72 72 61 79 94 93 94 4B 00 85 94 43 01 62 94 87 94 52 94 28 4B 01 4B 04 85 94 68 0C 8C 05 64 74 79 70 65 94 93 94 8C 02 69 34 94 89 88 87 94 52 94 28 4B 03 8C 01 3C 94 4E 4E 4E 4A FF FF FF FF 4A FF FF FF FF 4B 00 74 94 62 89 43 10 00 00 00 00 01 00 00 00 02 00 00 00 02 00 00 00 94 74 94 62 8C 07 69 6E 64 69 63 65 73 94 68 0B 68 0E 4B 00 85 94 68 10 87 94 52 94 28 4B 01 4B 02 85 94 68 18 89 43 08 02 00 00 00 02 00 00 00 94 74 94 62 8C 04 64 61 74 61 94 68 0B 68 0E 4B 00 85 94 68 10 87 94 52 94 28 4B 01 4B 02 85 94 68 15 8C 02 69 38 94 89 88 87 94 52 94 28 4B 03 68 19 4E 4E 4E 4A FF FF FF FF 4A FF FF FF FF 4B 00 74 94 62 89 43 10 01 00 00 00 00 00 00 00 01 00 00 00 00 00 00 00 94 74 94 62 8C 15 5F 68 61 73 5F 63 61 6E 6F 6E 69 63 61 6C 5F 66 6F 72 6D 61 74 94 88 8C 13 5F 68 61 73 5F 73 6F 72 74 65 64 5F 69 6E 64 69 63 65 73 94 88 75 62 2E]                                                |1                                    |\n",
            "|135         |2             |2          |2243.0              |1121.5           |256.0                   |256.0               |1987.0                  |4                             |[80 04 95 9F 01 00 00 00 00 00 00 8C 11 73 63 69 70 79 2E 73 70 61 72 73 65 2E 5F 63 73 72 94 8C 0A 63 73 72 5F 6D 61 74 72 69 78 94 93 94 29 81 94 7D 94 28 8C 06 5F 73 68 61 70 65 94 4B 03 4B 03 86 94 8C 08 6D 61 78 70 72 69 6E 74 94 4B 32 8C 06 69 6E 64 70 74 72 94 8C 15 6E 75 6D 70 79 2E 63 6F 72 65 2E 6D 75 6C 74 69 61 72 72 61 79 94 8C 0C 5F 72 65 63 6F 6E 73 74 72 75 63 74 94 93 94 8C 05 6E 75 6D 70 79 94 8C 07 6E 64 61 72 72 61 79 94 93 94 4B 00 85 94 43 01 62 94 87 94 52 94 28 4B 01 4B 04 85 94 68 0C 8C 05 64 74 79 70 65 94 93 94 8C 02 69 34 94 89 88 87 94 52 94 28 4B 03 8C 01 3C 94 4E 4E 4E 4A FF FF FF FF 4A FF FF FF FF 4B 00 74 94 62 89 43 10 00 00 00 00 01 00 00 00 02 00 00 00 02 00 00 00 94 74 94 62 8C 07 69 6E 64 69 63 65 73 94 68 0B 68 0E 4B 00 85 94 68 10 87 94 52 94 28 4B 01 4B 02 85 94 68 18 89 43 08 02 00 00 00 02 00 00 00 94 74 94 62 8C 04 64 61 74 61 94 68 0B 68 0E 4B 00 85 94 68 10 87 94 52 94 28 4B 01 4B 02 85 94 68 15 8C 02 66 38 94 89 88 87 94 52 94 28 4B 03 68 19 4E 4E 4E 4A FF FF FF FF 4A FF FF FF FF 4B 00 74 94 62 89 43 10 00 00 00 00 00 0C 9F 40 00 00 00 00 00 00 70 40 94 74 94 62 8C 15 5F 68 61 73 5F 63 61 6E 6F 6E 69 63 61 6C 5F 66 6F 72 6D 61 74 94 88 8C 13 5F 68 61 73 5F 73 6F 72 74 65 64 5F 69 6E 64 69 63 65 73 94 88 75 62 2E]                                                |[80 04 95 9F 01 00 00 00 00 00 00 8C 11 73 63 69 70 79 2E 73 70 61 72 73 65 2E 5F 63 73 72 94 8C 0A 63 73 72 5F 6D 61 74 72 69 78 94 93 94 29 81 94 7D 94 28 8C 06 5F 73 68 61 70 65 94 4B 03 4B 03 86 94 8C 08 6D 61 78 70 72 69 6E 74 94 4B 32 8C 06 69 6E 64 70 74 72 94 8C 15 6E 75 6D 70 79 2E 63 6F 72 65 2E 6D 75 6C 74 69 61 72 72 61 79 94 8C 0C 5F 72 65 63 6F 6E 73 74 72 75 63 74 94 93 94 8C 05 6E 75 6D 70 79 94 8C 07 6E 64 61 72 72 61 79 94 93 94 4B 00 85 94 43 01 62 94 87 94 52 94 28 4B 01 4B 04 85 94 68 0C 8C 05 64 74 79 70 65 94 93 94 8C 02 69 34 94 89 88 87 94 52 94 28 4B 03 8C 01 3C 94 4E 4E 4E 4A FF FF FF FF 4A FF FF FF FF 4B 00 74 94 62 89 43 10 00 00 00 00 01 00 00 00 02 00 00 00 02 00 00 00 94 74 94 62 8C 07 69 6E 64 69 63 65 73 94 68 0B 68 0E 4B 00 85 94 68 10 87 94 52 94 28 4B 01 4B 02 85 94 68 18 89 43 08 02 00 00 00 02 00 00 00 94 74 94 62 8C 04 64 61 74 61 94 68 0B 68 0E 4B 00 85 94 68 10 87 94 52 94 28 4B 01 4B 02 85 94 68 15 8C 02 69 38 94 89 88 87 94 52 94 28 4B 03 68 19 4E 4E 4E 4A FF FF FF FF 4A FF FF FF FF 4B 00 74 94 62 89 43 10 01 00 00 00 00 00 00 00 01 00 00 00 00 00 00 00 94 74 94 62 8C 15 5F 68 61 73 5F 63 61 6E 6F 6E 69 63 61 6C 5F 66 6F 72 6D 61 74 94 88 8C 13 5F 68 61 73 5F 73 6F 72 74 65 64 5F 69 6E 64 69 63 65 73 94 88 75 62 2E]                                                |1                                    |\n",
            "|161         |2             |2          |3999.0              |1999.5           |1518.0                  |1518.0              |2481.0                  |4                             |[80 04 95 9F 01 00 00 00 00 00 00 8C 11 73 63 69 70 79 2E 73 70 61 72 73 65 2E 5F 63 73 72 94 8C 0A 63 73 72 5F 6D 61 74 72 69 78 94 93 94 29 81 94 7D 94 28 8C 06 5F 73 68 61 70 65 94 4B 03 4B 03 86 94 8C 08 6D 61 78 70 72 69 6E 74 94 4B 32 8C 06 69 6E 64 70 74 72 94 8C 15 6E 75 6D 70 79 2E 63 6F 72 65 2E 6D 75 6C 74 69 61 72 72 61 79 94 8C 0C 5F 72 65 63 6F 6E 73 74 72 75 63 74 94 93 94 8C 05 6E 75 6D 70 79 94 8C 07 6E 64 61 72 72 61 79 94 93 94 4B 00 85 94 43 01 62 94 87 94 52 94 28 4B 01 4B 04 85 94 68 0C 8C 05 64 74 79 70 65 94 93 94 8C 02 69 34 94 89 88 87 94 52 94 28 4B 03 8C 01 3C 94 4E 4E 4E 4A FF FF FF FF 4A FF FF FF FF 4B 00 74 94 62 89 43 10 00 00 00 00 02 00 00 00 02 00 00 00 02 00 00 00 94 74 94 62 8C 07 69 6E 64 69 63 65 73 94 68 0B 68 0E 4B 00 85 94 68 10 87 94 52 94 28 4B 01 4B 02 85 94 68 18 89 43 08 01 00 00 00 02 00 00 00 94 74 94 62 8C 04 64 61 74 61 94 68 0B 68 0E 4B 00 85 94 68 10 87 94 52 94 28 4B 01 4B 02 85 94 68 15 8C 02 66 38 94 89 88 87 94 52 94 28 4B 03 68 19 4E 4E 4E 4A FF FF FF FF 4A FF FF FF FF 4B 00 74 94 62 89 43 10 00 00 00 00 00 62 A3 40 00 00 00 00 00 B8 97 40 94 74 94 62 8C 15 5F 68 61 73 5F 63 61 6E 6F 6E 69 63 61 6C 5F 66 6F 72 6D 61 74 94 88 8C 13 5F 68 61 73 5F 73 6F 72 74 65 64 5F 69 6E 64 69 63 65 73 94 88 75 62 2E]                                                |[80 04 95 9F 01 00 00 00 00 00 00 8C 11 73 63 69 70 79 2E 73 70 61 72 73 65 2E 5F 63 73 72 94 8C 0A 63 73 72 5F 6D 61 74 72 69 78 94 93 94 29 81 94 7D 94 28 8C 06 5F 73 68 61 70 65 94 4B 03 4B 03 86 94 8C 08 6D 61 78 70 72 69 6E 74 94 4B 32 8C 06 69 6E 64 70 74 72 94 8C 15 6E 75 6D 70 79 2E 63 6F 72 65 2E 6D 75 6C 74 69 61 72 72 61 79 94 8C 0C 5F 72 65 63 6F 6E 73 74 72 75 63 74 94 93 94 8C 05 6E 75 6D 70 79 94 8C 07 6E 64 61 72 72 61 79 94 93 94 4B 00 85 94 43 01 62 94 87 94 52 94 28 4B 01 4B 04 85 94 68 0C 8C 05 64 74 79 70 65 94 93 94 8C 02 69 34 94 89 88 87 94 52 94 28 4B 03 8C 01 3C 94 4E 4E 4E 4A FF FF FF FF 4A FF FF FF FF 4B 00 74 94 62 89 43 10 00 00 00 00 02 00 00 00 02 00 00 00 02 00 00 00 94 74 94 62 8C 07 69 6E 64 69 63 65 73 94 68 0B 68 0E 4B 00 85 94 68 10 87 94 52 94 28 4B 01 4B 02 85 94 68 18 89 43 08 01 00 00 00 02 00 00 00 94 74 94 62 8C 04 64 61 74 61 94 68 0B 68 0E 4B 00 85 94 68 10 87 94 52 94 28 4B 01 4B 02 85 94 68 15 8C 02 69 38 94 89 88 87 94 52 94 28 4B 03 68 19 4E 4E 4E 4A FF FF FF FF 4A FF FF FF FF 4B 00 74 94 62 89 43 10 01 00 00 00 00 00 00 00 01 00 00 00 00 00 00 00 94 74 94 62 8C 15 5F 68 61 73 5F 63 61 6E 6F 6E 69 63 61 6C 5F 66 6F 72 6D 61 74 94 88 8C 13 5F 68 61 73 5F 73 6F 72 74 65 64 5F 69 6E 64 69 63 65 73 94 88 75 62 2E]                                                |1                                    |\n",
            "|174         |2             |2          |3974.0              |1987.0           |1964.0                  |1964.0              |2010.0                  |4                             |[80 04 95 9F 01 00 00 00 00 00 00 8C 11 73 63 69 70 79 2E 73 70 61 72 73 65 2E 5F 63 73 72 94 8C 0A 63 73 72 5F 6D 61 74 72 69 78 94 93 94 29 81 94 7D 94 28 8C 06 5F 73 68 61 70 65 94 4B 03 4B 03 86 94 8C 08 6D 61 78 70 72 69 6E 74 94 4B 32 8C 06 69 6E 64 70 74 72 94 8C 15 6E 75 6D 70 79 2E 63 6F 72 65 2E 6D 75 6C 74 69 61 72 72 61 79 94 8C 0C 5F 72 65 63 6F 6E 73 74 72 75 63 74 94 93 94 8C 05 6E 75 6D 70 79 94 8C 07 6E 64 61 72 72 61 79 94 93 94 4B 00 85 94 43 01 62 94 87 94 52 94 28 4B 01 4B 04 85 94 68 0C 8C 05 64 74 79 70 65 94 93 94 8C 02 69 34 94 89 88 87 94 52 94 28 4B 03 8C 01 3C 94 4E 4E 4E 4A FF FF FF FF 4A FF FF FF FF 4B 00 74 94 62 89 43 10 00 00 00 00 02 00 00 00 02 00 00 00 02 00 00 00 94 74 94 62 8C 07 69 6E 64 69 63 65 73 94 68 0B 68 0E 4B 00 85 94 68 10 87 94 52 94 28 4B 01 4B 02 85 94 68 18 89 43 08 01 00 00 00 02 00 00 00 94 74 94 62 8C 04 64 61 74 61 94 68 0B 68 0E 4B 00 85 94 68 10 87 94 52 94 28 4B 01 4B 02 85 94 68 15 8C 02 66 38 94 89 88 87 94 52 94 28 4B 03 68 19 4E 4E 4E 4A FF FF FF FF 4A FF FF FF FF 4B 00 74 94 62 89 43 10 00 00 00 00 00 B0 9E 40 00 00 00 00 00 68 9F 40 94 74 94 62 8C 15 5F 68 61 73 5F 63 61 6E 6F 6E 69 63 61 6C 5F 66 6F 72 6D 61 74 94 88 8C 13 5F 68 61 73 5F 73 6F 72 74 65 64 5F 69 6E 64 69 63 65 73 94 88 75 62 2E]                                                |[80 04 95 9F 01 00 00 00 00 00 00 8C 11 73 63 69 70 79 2E 73 70 61 72 73 65 2E 5F 63 73 72 94 8C 0A 63 73 72 5F 6D 61 74 72 69 78 94 93 94 29 81 94 7D 94 28 8C 06 5F 73 68 61 70 65 94 4B 03 4B 03 86 94 8C 08 6D 61 78 70 72 69 6E 74 94 4B 32 8C 06 69 6E 64 70 74 72 94 8C 15 6E 75 6D 70 79 2E 63 6F 72 65 2E 6D 75 6C 74 69 61 72 72 61 79 94 8C 0C 5F 72 65 63 6F 6E 73 74 72 75 63 74 94 93 94 8C 05 6E 75 6D 70 79 94 8C 07 6E 64 61 72 72 61 79 94 93 94 4B 00 85 94 43 01 62 94 87 94 52 94 28 4B 01 4B 04 85 94 68 0C 8C 05 64 74 79 70 65 94 93 94 8C 02 69 34 94 89 88 87 94 52 94 28 4B 03 8C 01 3C 94 4E 4E 4E 4A FF FF FF FF 4A FF FF FF FF 4B 00 74 94 62 89 43 10 00 00 00 00 02 00 00 00 02 00 00 00 02 00 00 00 94 74 94 62 8C 07 69 6E 64 69 63 65 73 94 68 0B 68 0E 4B 00 85 94 68 10 87 94 52 94 28 4B 01 4B 02 85 94 68 18 89 43 08 01 00 00 00 02 00 00 00 94 74 94 62 8C 04 64 61 74 61 94 68 0B 68 0E 4B 00 85 94 68 10 87 94 52 94 28 4B 01 4B 02 85 94 68 15 8C 02 69 38 94 89 88 87 94 52 94 28 4B 03 68 19 4E 4E 4E 4A FF FF FF FF 4A FF FF FF FF 4B 00 74 94 62 89 43 10 01 00 00 00 00 00 00 00 01 00 00 00 00 00 00 00 94 74 94 62 8C 15 5F 68 61 73 5F 63 61 6E 6F 6E 69 63 61 6C 5F 66 6F 72 6D 61 74 94 88 8C 13 5F 68 61 73 5F 73 6F 72 74 65 64 5F 69 6E 64 69 63 65 73 94 88 75 62 2E]                                                |1                                    |\n",
            "|185         |2             |2          |2881.0              |1440.5           |1124.0                  |1124.0              |1757.0                  |4                             |[80 04 95 9F 01 00 00 00 00 00 00 8C 11 73 63 69 70 79 2E 73 70 61 72 73 65 2E 5F 63 73 72 94 8C 0A 63 73 72 5F 6D 61 74 72 69 78 94 93 94 29 81 94 7D 94 28 8C 06 5F 73 68 61 70 65 94 4B 03 4B 03 86 94 8C 08 6D 61 78 70 72 69 6E 74 94 4B 32 8C 06 69 6E 64 70 74 72 94 8C 15 6E 75 6D 70 79 2E 63 6F 72 65 2E 6D 75 6C 74 69 61 72 72 61 79 94 8C 0C 5F 72 65 63 6F 6E 73 74 72 75 63 74 94 93 94 8C 05 6E 75 6D 70 79 94 8C 07 6E 64 61 72 72 61 79 94 93 94 4B 00 85 94 43 01 62 94 87 94 52 94 28 4B 01 4B 04 85 94 68 0C 8C 05 64 74 79 70 65 94 93 94 8C 02 69 34 94 89 88 87 94 52 94 28 4B 03 8C 01 3C 94 4E 4E 4E 4A FF FF FF FF 4A FF FF FF FF 4B 00 74 94 62 89 43 10 00 00 00 00 01 00 00 00 02 00 00 00 02 00 00 00 94 74 94 62 8C 07 69 6E 64 69 63 65 73 94 68 0B 68 0E 4B 00 85 94 68 10 87 94 52 94 28 4B 01 4B 02 85 94 68 18 89 43 08 02 00 00 00 02 00 00 00 94 74 94 62 8C 04 64 61 74 61 94 68 0B 68 0E 4B 00 85 94 68 10 87 94 52 94 28 4B 01 4B 02 85 94 68 15 8C 02 66 38 94 89 88 87 94 52 94 28 4B 03 68 19 4E 4E 4E 4A FF FF FF FF 4A FF FF FF FF 4B 00 74 94 62 89 43 10 00 00 00 00 00 90 91 40 00 00 00 00 00 74 9B 40 94 74 94 62 8C 15 5F 68 61 73 5F 63 61 6E 6F 6E 69 63 61 6C 5F 66 6F 72 6D 61 74 94 88 8C 13 5F 68 61 73 5F 73 6F 72 74 65 64 5F 69 6E 64 69 63 65 73 94 88 75 62 2E]                                                |[80 04 95 9F 01 00 00 00 00 00 00 8C 11 73 63 69 70 79 2E 73 70 61 72 73 65 2E 5F 63 73 72 94 8C 0A 63 73 72 5F 6D 61 74 72 69 78 94 93 94 29 81 94 7D 94 28 8C 06 5F 73 68 61 70 65 94 4B 03 4B 03 86 94 8C 08 6D 61 78 70 72 69 6E 74 94 4B 32 8C 06 69 6E 64 70 74 72 94 8C 15 6E 75 6D 70 79 2E 63 6F 72 65 2E 6D 75 6C 74 69 61 72 72 61 79 94 8C 0C 5F 72 65 63 6F 6E 73 74 72 75 63 74 94 93 94 8C 05 6E 75 6D 70 79 94 8C 07 6E 64 61 72 72 61 79 94 93 94 4B 00 85 94 43 01 62 94 87 94 52 94 28 4B 01 4B 04 85 94 68 0C 8C 05 64 74 79 70 65 94 93 94 8C 02 69 34 94 89 88 87 94 52 94 28 4B 03 8C 01 3C 94 4E 4E 4E 4A FF FF FF FF 4A FF FF FF FF 4B 00 74 94 62 89 43 10 00 00 00 00 01 00 00 00 02 00 00 00 02 00 00 00 94 74 94 62 8C 07 69 6E 64 69 63 65 73 94 68 0B 68 0E 4B 00 85 94 68 10 87 94 52 94 28 4B 01 4B 02 85 94 68 18 89 43 08 02 00 00 00 02 00 00 00 94 74 94 62 8C 04 64 61 74 61 94 68 0B 68 0E 4B 00 85 94 68 10 87 94 52 94 28 4B 01 4B 02 85 94 68 15 8C 02 69 38 94 89 88 87 94 52 94 28 4B 03 68 19 4E 4E 4E 4A FF FF FF FF 4A FF FF FF FF 4B 00 74 94 62 89 43 10 01 00 00 00 00 00 00 00 01 00 00 00 00 00 00 00 94 74 94 62 8C 15 5F 68 61 73 5F 63 61 6E 6F 6E 69 63 61 6C 5F 66 6F 72 6D 61 74 94 88 8C 13 5F 68 61 73 5F 73 6F 72 74 65 64 5F 69 6E 64 69 63 65 73 94 88 75 62 2E]                                                |1                                    |\n",
            "|240         |2             |2          |3269.0              |1634.5           |1488.0                  |1488.0              |1781.0                  |4                             |[80 04 95 9F 01 00 00 00 00 00 00 8C 11 73 63 69 70 79 2E 73 70 61 72 73 65 2E 5F 63 73 72 94 8C 0A 63 73 72 5F 6D 61 74 72 69 78 94 93 94 29 81 94 7D 94 28 8C 06 5F 73 68 61 70 65 94 4B 03 4B 03 86 94 8C 08 6D 61 78 70 72 69 6E 74 94 4B 32 8C 06 69 6E 64 70 74 72 94 8C 15 6E 75 6D 70 79 2E 63 6F 72 65 2E 6D 75 6C 74 69 61 72 72 61 79 94 8C 0C 5F 72 65 63 6F 6E 73 74 72 75 63 74 94 93 94 8C 05 6E 75 6D 70 79 94 8C 07 6E 64 61 72 72 61 79 94 93 94 4B 00 85 94 43 01 62 94 87 94 52 94 28 4B 01 4B 04 85 94 68 0C 8C 05 64 74 79 70 65 94 93 94 8C 02 69 34 94 89 88 87 94 52 94 28 4B 03 8C 01 3C 94 4E 4E 4E 4A FF FF FF FF 4A FF FF FF FF 4B 00 74 94 62 89 43 10 00 00 00 00 02 00 00 00 02 00 00 00 02 00 00 00 94 74 94 62 8C 07 69 6E 64 69 63 65 73 94 68 0B 68 0E 4B 00 85 94 68 10 87 94 52 94 28 4B 01 4B 02 85 94 68 18 89 43 08 01 00 00 00 02 00 00 00 94 74 94 62 8C 04 64 61 74 61 94 68 0B 68 0E 4B 00 85 94 68 10 87 94 52 94 28 4B 01 4B 02 85 94 68 15 8C 02 66 38 94 89 88 87 94 52 94 28 4B 03 68 19 4E 4E 4E 4A FF FF FF FF 4A FF FF FF FF 4B 00 74 94 62 89 43 10 00 00 00 00 00 D4 9B 40 00 00 00 00 00 40 97 40 94 74 94 62 8C 15 5F 68 61 73 5F 63 61 6E 6F 6E 69 63 61 6C 5F 66 6F 72 6D 61 74 94 88 8C 13 5F 68 61 73 5F 73 6F 72 74 65 64 5F 69 6E 64 69 63 65 73 94 88 75 62 2E]                                                |[80 04 95 9F 01 00 00 00 00 00 00 8C 11 73 63 69 70 79 2E 73 70 61 72 73 65 2E 5F 63 73 72 94 8C 0A 63 73 72 5F 6D 61 74 72 69 78 94 93 94 29 81 94 7D 94 28 8C 06 5F 73 68 61 70 65 94 4B 03 4B 03 86 94 8C 08 6D 61 78 70 72 69 6E 74 94 4B 32 8C 06 69 6E 64 70 74 72 94 8C 15 6E 75 6D 70 79 2E 63 6F 72 65 2E 6D 75 6C 74 69 61 72 72 61 79 94 8C 0C 5F 72 65 63 6F 6E 73 74 72 75 63 74 94 93 94 8C 05 6E 75 6D 70 79 94 8C 07 6E 64 61 72 72 61 79 94 93 94 4B 00 85 94 43 01 62 94 87 94 52 94 28 4B 01 4B 04 85 94 68 0C 8C 05 64 74 79 70 65 94 93 94 8C 02 69 34 94 89 88 87 94 52 94 28 4B 03 8C 01 3C 94 4E 4E 4E 4A FF FF FF FF 4A FF FF FF FF 4B 00 74 94 62 89 43 10 00 00 00 00 02 00 00 00 02 00 00 00 02 00 00 00 94 74 94 62 8C 07 69 6E 64 69 63 65 73 94 68 0B 68 0E 4B 00 85 94 68 10 87 94 52 94 28 4B 01 4B 02 85 94 68 18 89 43 08 01 00 00 00 02 00 00 00 94 74 94 62 8C 04 64 61 74 61 94 68 0B 68 0E 4B 00 85 94 68 10 87 94 52 94 28 4B 01 4B 02 85 94 68 15 8C 02 69 38 94 89 88 87 94 52 94 28 4B 03 68 19 4E 4E 4E 4A FF FF FF FF 4A FF FF FF FF 4B 00 74 94 62 89 43 10 01 00 00 00 00 00 00 00 01 00 00 00 00 00 00 00 94 74 94 62 8C 15 5F 68 61 73 5F 63 61 6E 6F 6E 69 63 61 6C 5F 66 6F 72 6D 61 74 94 88 8C 13 5F 68 61 73 5F 73 6F 72 74 65 64 5F 69 6E 64 69 63 65 73 94 88 75 62 2E]                                                |1                                    |\n",
            "+------------+--------------+-----------+--------------------+-----------------+------------------------+--------------------+------------------------+------------------------------+-------------------------------------------------------------------------------------------------------------------------------------------------------------------------------------------------------------------------------------------------------------------------------------------------------------------------------------------------------------------------------------------------------------------------------------------------------------------------------------------------------------------------------------------------------------------------------------------------------------------------------------------------------------------------------------------------------------------------------------------------------------------------------------------------------------------------------------------------------------------------------------------------------------------------------------------------------------------------------------------------------------------------------------------------------------------------------------------------------------------------------------------------------------------------------------------------------------------------------------------------------------------------------------------------------------------------------------------------------------------------------+-------------------------------------------------------------------------------------------------------------------------------------------------------------------------------------------------------------------------------------------------------------------------------------------------------------------------------------------------------------------------------------------------------------------------------------------------------------------------------------------------------------------------------------------------------------------------------------------------------------------------------------------------------------------------------------------------------------------------------------------------------------------------------------------------------------------------------------------------------------------------------------------------------------------------------------------------------------------------------------------------------------------------------------------------------------------------------------------------------------------------------------------------------------------------------------------------------------------------------------------------------------------------------------------------------------------------------------------------------------------------------+-------------------------------------+\n",
            "\n",
            "+--------------+--------------+--------------------+------------------+------------------+\n",
            "|community_id_1|community_id_2|frobenius_similarity|deltacon          |final_similarity  |\n",
            "+--------------+--------------+--------------------+------------------+------------------+\n",
            "|8             |16            |0.4604249093556099  |0.6675585320218759|0.5639917206887429|\n",
            "|8             |27            |0.7370070694961887  |1.0               |0.8685035347480943|\n",
            "|8             |58            |0.4239957707011317  |0.7142857142857143|0.569140742493423 |\n",
            "|8             |67            |0.41368703437794685 |0.6486756222041546|0.5311813282910507|\n",
            "|8             |96            |0.7870408492352147  |1.0               |0.8935204246176074|\n",
            "|8             |118           |0.4819748611098577  |0.7142857142857143|0.598130287697786 |\n",
            "|8             |135           |0.43212824958988677 |0.7142857142857143|0.5732069819378005|\n",
            "|8             |161           |0.5510768975759711  |0.6675585320218759|0.6093177147989235|\n",
            "|8             |174           |0.4704224351395872  |0.6675585320218759|0.5689904835807316|\n",
            "|8             |185           |0.45866852830182525 |0.7142857142857143|0.5864771212937698|\n",
            "|8             |240           |0.4999101824968078  |0.6675585320218759|0.5837343572593419|\n",
            "|16            |27            |0.5034870324883625  |0.6675585320218759|0.5855227822551192|\n",
            "|16            |58            |0.47807537799601296 |0.6339745962155614|0.5560249871057872|\n",
            "|16            |67            |0.4837206260123945  |0.5941311542550501|0.5389258901337224|\n",
            "|16            |96            |0.5023026745345844  |0.6675585320218759|0.5849306032782302|\n",
            "|16            |118           |0.4368450010121781  |0.6339745962155614|0.5354097986138697|\n",
            "|16            |135           |0.6603891086140796  |0.6339745962155614|0.6471818524148205|\n",
            "|16            |161           |0.5802599135203584  |1.0               |0.7901299567601792|\n",
            "|16            |174           |0.580202554407208   |1.0               |0.790101277203604 |\n",
            "|16            |185           |0.4805980750410998  |0.6339745962155614|0.5572863356283306|\n",
            "+--------------+--------------+--------------------+------------------+------------------+\n",
            "only showing top 20 rows\n",
            "\n",
            "This is the bucket df:\n",
            "+------------+--------------+-----------+--------------------+-----------------+------------------------+--------------------+------------------------+------------------------------+-------------------------------------------------------------------------------------------------------------------------------------------------------------------------------------------------------------------------------------------------------------------------------------------------------------------------------------------------------------------------------------------------------------------------------------------------------------------------------------------------------------------------------------------------------------------------------------------------------------------------------------------------------------------------------------------------------------------------------------------------------------------------------------------------------------------------------------------------------------------------------------------------------------------------------------------------------------------------------------------------------------------------------------------------------------------------------------------------------------------------------------------------------------------------------------------------------------------------------------------------------------------------------+-------------------------------------------------------------------------------------------------------------------------------------------------------------------------------------------------------------------------------------------------------------------------------------------------------------------------------------------------------------------------------------------------------------------------------------------------------------------------------------------------------------------------------------------------------------------------------------------------------------------------------------------------------------------------------------------------------------------------------------------------------------------------------------------------------------------------------------------------------------------------------------------------------------------------------------------------------------------------------------------------------------------------------------------------------------------------------------------------------------------------------------------------------------------------------------------------------------------------------------------------------------------------------+-------------------------------------+\n",
            "|community_id|unique_members|total_calls|sum_duration_minutes|avg_call_duration|duration_25th_percentile|median_call_duration|duration_75th_percentile|sum_unique_members_total_calls|true_csr_matrix                                                                                                                                                                                                                                                                                                                                                                                                                                                                                                                                                                                                                                                                                                                                                                                                                                                                                                                                                                                                                                                                                                                                                                                                                                                                |false_csr_matrix                                                                                                                                                                                                                                                                                                                                                                                                                                                                                                                                                                                                                                                                                                                                                                                                                                                                                                                                                                                                                                                                                                                                                                                                                                                               |sum_unique_members_total_calls_bucket|\n",
            "+------------+--------------+-----------+--------------------+-----------------+------------------------+--------------------+------------------------+------------------------------+-------------------------------------------------------------------------------------------------------------------------------------------------------------------------------------------------------------------------------------------------------------------------------------------------------------------------------------------------------------------------------------------------------------------------------------------------------------------------------------------------------------------------------------------------------------------------------------------------------------------------------------------------------------------------------------------------------------------------------------------------------------------------------------------------------------------------------------------------------------------------------------------------------------------------------------------------------------------------------------------------------------------------------------------------------------------------------------------------------------------------------------------------------------------------------------------------------------------------------------------------------------------------------+-------------------------------------------------------------------------------------------------------------------------------------------------------------------------------------------------------------------------------------------------------------------------------------------------------------------------------------------------------------------------------------------------------------------------------------------------------------------------------------------------------------------------------------------------------------------------------------------------------------------------------------------------------------------------------------------------------------------------------------------------------------------------------------------------------------------------------------------------------------------------------------------------------------------------------------------------------------------------------------------------------------------------------------------------------------------------------------------------------------------------------------------------------------------------------------------------------------------------------------------------------------------------------+-------------------------------------+\n",
            "|1           |1             |1          |1117.0              |1117.0           |1117.0                  |1117.0              |1117.0                  |2                             |[80 04 95 8F 01 00 00 00 00 00 00 8C 11 73 63 69 70 79 2E 73 70 61 72 73 65 2E 5F 63 73 72 94 8C 0A 63 73 72 5F 6D 61 74 72 69 78 94 93 94 29 81 94 7D 94 28 8C 06 5F 73 68 61 70 65 94 4B 02 4B 02 86 94 8C 08 6D 61 78 70 72 69 6E 74 94 4B 32 8C 06 69 6E 64 70 74 72 94 8C 15 6E 75 6D 70 79 2E 63 6F 72 65 2E 6D 75 6C 74 69 61 72 72 61 79 94 8C 0C 5F 72 65 63 6F 6E 73 74 72 75 63 74 94 93 94 8C 05 6E 75 6D 70 79 94 8C 07 6E 64 61 72 72 61 79 94 93 94 4B 00 85 94 43 01 62 94 87 94 52 94 28 4B 01 4B 03 85 94 68 0C 8C 05 64 74 79 70 65 94 93 94 8C 02 69 34 94 89 88 87 94 52 94 28 4B 03 8C 01 3C 94 4E 4E 4E 4A FF FF FF FF 4A FF FF FF FF 4B 00 74 94 62 89 43 0C 00 00 00 00 01 00 00 00 01 00 00 00 94 74 94 62 8C 07 69 6E 64 69 63 65 73 94 68 0B 68 0E 4B 00 85 94 68 10 87 94 52 94 28 4B 01 4B 01 85 94 68 18 89 43 04 01 00 00 00 94 74 94 62 8C 04 64 61 74 61 94 68 0B 68 0E 4B 00 85 94 68 10 87 94 52 94 28 4B 01 4B 01 85 94 68 15 8C 02 66 38 94 89 88 87 94 52 94 28 4B 03 68 19 4E 4E 4E 4A FF FF FF FF 4A FF FF FF FF 4B 00 74 94 62 89 43 08 00 00 00 00 00 74 91 40 94 74 94 62 8C 15 5F 68 61 73 5F 63 61 6E 6F 6E 69 63 61 6C 5F 66 6F 72 6D 61 74 94 88 8C 13 5F 68 61 73 5F 73 6F 72 74 65 64 5F 69 6E 64 69 63 65 73 94 88 75 62 2E]|[80 04 95 8F 01 00 00 00 00 00 00 8C 11 73 63 69 70 79 2E 73 70 61 72 73 65 2E 5F 63 73 72 94 8C 0A 63 73 72 5F 6D 61 74 72 69 78 94 93 94 29 81 94 7D 94 28 8C 06 5F 73 68 61 70 65 94 4B 02 4B 02 86 94 8C 08 6D 61 78 70 72 69 6E 74 94 4B 32 8C 06 69 6E 64 70 74 72 94 8C 15 6E 75 6D 70 79 2E 63 6F 72 65 2E 6D 75 6C 74 69 61 72 72 61 79 94 8C 0C 5F 72 65 63 6F 6E 73 74 72 75 63 74 94 93 94 8C 05 6E 75 6D 70 79 94 8C 07 6E 64 61 72 72 61 79 94 93 94 4B 00 85 94 43 01 62 94 87 94 52 94 28 4B 01 4B 03 85 94 68 0C 8C 05 64 74 79 70 65 94 93 94 8C 02 69 34 94 89 88 87 94 52 94 28 4B 03 8C 01 3C 94 4E 4E 4E 4A FF FF FF FF 4A FF FF FF FF 4B 00 74 94 62 89 43 0C 00 00 00 00 01 00 00 00 01 00 00 00 94 74 94 62 8C 07 69 6E 64 69 63 65 73 94 68 0B 68 0E 4B 00 85 94 68 10 87 94 52 94 28 4B 01 4B 01 85 94 68 18 89 43 04 01 00 00 00 94 74 94 62 8C 04 64 61 74 61 94 68 0B 68 0E 4B 00 85 94 68 10 87 94 52 94 28 4B 01 4B 01 85 94 68 15 8C 02 69 38 94 89 88 87 94 52 94 28 4B 03 68 19 4E 4E 4E 4A FF FF FF FF 4A FF FF FF FF 4B 00 74 94 62 89 43 08 01 00 00 00 00 00 00 00 94 74 94 62 8C 15 5F 68 61 73 5F 63 61 6E 6F 6E 69 63 61 6C 5F 66 6F 72 6D 61 74 94 88 8C 13 5F 68 61 73 5F 73 6F 72 74 65 64 5F 69 6E 64 69 63 65 73 94 88 75 62 2E]|0                                    |\n",
            "|2           |1             |1          |1793.0              |1793.0           |1793.0                  |1793.0              |1793.0                  |2                             |[80 04 95 8F 01 00 00 00 00 00 00 8C 11 73 63 69 70 79 2E 73 70 61 72 73 65 2E 5F 63 73 72 94 8C 0A 63 73 72 5F 6D 61 74 72 69 78 94 93 94 29 81 94 7D 94 28 8C 06 5F 73 68 61 70 65 94 4B 02 4B 02 86 94 8C 08 6D 61 78 70 72 69 6E 74 94 4B 32 8C 06 69 6E 64 70 74 72 94 8C 15 6E 75 6D 70 79 2E 63 6F 72 65 2E 6D 75 6C 74 69 61 72 72 61 79 94 8C 0C 5F 72 65 63 6F 6E 73 74 72 75 63 74 94 93 94 8C 05 6E 75 6D 70 79 94 8C 07 6E 64 61 72 72 61 79 94 93 94 4B 00 85 94 43 01 62 94 87 94 52 94 28 4B 01 4B 03 85 94 68 0C 8C 05 64 74 79 70 65 94 93 94 8C 02 69 34 94 89 88 87 94 52 94 28 4B 03 8C 01 3C 94 4E 4E 4E 4A FF FF FF FF 4A FF FF FF FF 4B 00 74 94 62 89 43 0C 00 00 00 00 01 00 00 00 01 00 00 00 94 74 94 62 8C 07 69 6E 64 69 63 65 73 94 68 0B 68 0E 4B 00 85 94 68 10 87 94 52 94 28 4B 01 4B 01 85 94 68 18 89 43 04 01 00 00 00 94 74 94 62 8C 04 64 61 74 61 94 68 0B 68 0E 4B 00 85 94 68 10 87 94 52 94 28 4B 01 4B 01 85 94 68 15 8C 02 66 38 94 89 88 87 94 52 94 28 4B 03 68 19 4E 4E 4E 4A FF FF FF FF 4A FF FF FF FF 4B 00 74 94 62 89 43 08 00 00 00 00 00 04 9C 40 94 74 94 62 8C 15 5F 68 61 73 5F 63 61 6E 6F 6E 69 63 61 6C 5F 66 6F 72 6D 61 74 94 88 8C 13 5F 68 61 73 5F 73 6F 72 74 65 64 5F 69 6E 64 69 63 65 73 94 88 75 62 2E]|[80 04 95 8F 01 00 00 00 00 00 00 8C 11 73 63 69 70 79 2E 73 70 61 72 73 65 2E 5F 63 73 72 94 8C 0A 63 73 72 5F 6D 61 74 72 69 78 94 93 94 29 81 94 7D 94 28 8C 06 5F 73 68 61 70 65 94 4B 02 4B 02 86 94 8C 08 6D 61 78 70 72 69 6E 74 94 4B 32 8C 06 69 6E 64 70 74 72 94 8C 15 6E 75 6D 70 79 2E 63 6F 72 65 2E 6D 75 6C 74 69 61 72 72 61 79 94 8C 0C 5F 72 65 63 6F 6E 73 74 72 75 63 74 94 93 94 8C 05 6E 75 6D 70 79 94 8C 07 6E 64 61 72 72 61 79 94 93 94 4B 00 85 94 43 01 62 94 87 94 52 94 28 4B 01 4B 03 85 94 68 0C 8C 05 64 74 79 70 65 94 93 94 8C 02 69 34 94 89 88 87 94 52 94 28 4B 03 8C 01 3C 94 4E 4E 4E 4A FF FF FF FF 4A FF FF FF FF 4B 00 74 94 62 89 43 0C 00 00 00 00 01 00 00 00 01 00 00 00 94 74 94 62 8C 07 69 6E 64 69 63 65 73 94 68 0B 68 0E 4B 00 85 94 68 10 87 94 52 94 28 4B 01 4B 01 85 94 68 18 89 43 04 01 00 00 00 94 74 94 62 8C 04 64 61 74 61 94 68 0B 68 0E 4B 00 85 94 68 10 87 94 52 94 28 4B 01 4B 01 85 94 68 15 8C 02 69 38 94 89 88 87 94 52 94 28 4B 03 68 19 4E 4E 4E 4A FF FF FF FF 4A FF FF FF FF 4B 00 74 94 62 89 43 08 01 00 00 00 00 00 00 00 94 74 94 62 8C 15 5F 68 61 73 5F 63 61 6E 6F 6E 69 63 61 6C 5F 66 6F 72 6D 61 74 94 88 8C 13 5F 68 61 73 5F 73 6F 72 74 65 64 5F 69 6E 64 69 63 65 73 94 88 75 62 2E]|0                                    |\n",
            "|3           |1             |1          |1955.0              |1955.0           |1955.0                  |1955.0              |1955.0                  |2                             |[80 04 95 8F 01 00 00 00 00 00 00 8C 11 73 63 69 70 79 2E 73 70 61 72 73 65 2E 5F 63 73 72 94 8C 0A 63 73 72 5F 6D 61 74 72 69 78 94 93 94 29 81 94 7D 94 28 8C 06 5F 73 68 61 70 65 94 4B 02 4B 02 86 94 8C 08 6D 61 78 70 72 69 6E 74 94 4B 32 8C 06 69 6E 64 70 74 72 94 8C 15 6E 75 6D 70 79 2E 63 6F 72 65 2E 6D 75 6C 74 69 61 72 72 61 79 94 8C 0C 5F 72 65 63 6F 6E 73 74 72 75 63 74 94 93 94 8C 05 6E 75 6D 70 79 94 8C 07 6E 64 61 72 72 61 79 94 93 94 4B 00 85 94 43 01 62 94 87 94 52 94 28 4B 01 4B 03 85 94 68 0C 8C 05 64 74 79 70 65 94 93 94 8C 02 69 34 94 89 88 87 94 52 94 28 4B 03 8C 01 3C 94 4E 4E 4E 4A FF FF FF FF 4A FF FF FF FF 4B 00 74 94 62 89 43 0C 00 00 00 00 01 00 00 00 01 00 00 00 94 74 94 62 8C 07 69 6E 64 69 63 65 73 94 68 0B 68 0E 4B 00 85 94 68 10 87 94 52 94 28 4B 01 4B 01 85 94 68 18 89 43 04 01 00 00 00 94 74 94 62 8C 04 64 61 74 61 94 68 0B 68 0E 4B 00 85 94 68 10 87 94 52 94 28 4B 01 4B 01 85 94 68 15 8C 02 66 38 94 89 88 87 94 52 94 28 4B 03 68 19 4E 4E 4E 4A FF FF FF FF 4A FF FF FF FF 4B 00 74 94 62 89 43 08 00 00 00 00 00 8C 9E 40 94 74 94 62 8C 15 5F 68 61 73 5F 63 61 6E 6F 6E 69 63 61 6C 5F 66 6F 72 6D 61 74 94 88 8C 13 5F 68 61 73 5F 73 6F 72 74 65 64 5F 69 6E 64 69 63 65 73 94 88 75 62 2E]|[80 04 95 8F 01 00 00 00 00 00 00 8C 11 73 63 69 70 79 2E 73 70 61 72 73 65 2E 5F 63 73 72 94 8C 0A 63 73 72 5F 6D 61 74 72 69 78 94 93 94 29 81 94 7D 94 28 8C 06 5F 73 68 61 70 65 94 4B 02 4B 02 86 94 8C 08 6D 61 78 70 72 69 6E 74 94 4B 32 8C 06 69 6E 64 70 74 72 94 8C 15 6E 75 6D 70 79 2E 63 6F 72 65 2E 6D 75 6C 74 69 61 72 72 61 79 94 8C 0C 5F 72 65 63 6F 6E 73 74 72 75 63 74 94 93 94 8C 05 6E 75 6D 70 79 94 8C 07 6E 64 61 72 72 61 79 94 93 94 4B 00 85 94 43 01 62 94 87 94 52 94 28 4B 01 4B 03 85 94 68 0C 8C 05 64 74 79 70 65 94 93 94 8C 02 69 34 94 89 88 87 94 52 94 28 4B 03 8C 01 3C 94 4E 4E 4E 4A FF FF FF FF 4A FF FF FF FF 4B 00 74 94 62 89 43 0C 00 00 00 00 01 00 00 00 01 00 00 00 94 74 94 62 8C 07 69 6E 64 69 63 65 73 94 68 0B 68 0E 4B 00 85 94 68 10 87 94 52 94 28 4B 01 4B 01 85 94 68 18 89 43 04 01 00 00 00 94 74 94 62 8C 04 64 61 74 61 94 68 0B 68 0E 4B 00 85 94 68 10 87 94 52 94 28 4B 01 4B 01 85 94 68 15 8C 02 69 38 94 89 88 87 94 52 94 28 4B 03 68 19 4E 4E 4E 4A FF FF FF FF 4A FF FF FF FF 4B 00 74 94 62 89 43 08 01 00 00 00 00 00 00 00 94 74 94 62 8C 15 5F 68 61 73 5F 63 61 6E 6F 6E 69 63 61 6C 5F 66 6F 72 6D 61 74 94 88 8C 13 5F 68 61 73 5F 73 6F 72 74 65 64 5F 69 6E 64 69 63 65 73 94 88 75 62 2E]|0                                    |\n",
            "|4           |1             |1          |1728.0              |1728.0           |1728.0                  |1728.0              |1728.0                  |2                             |[80 04 95 8F 01 00 00 00 00 00 00 8C 11 73 63 69 70 79 2E 73 70 61 72 73 65 2E 5F 63 73 72 94 8C 0A 63 73 72 5F 6D 61 74 72 69 78 94 93 94 29 81 94 7D 94 28 8C 06 5F 73 68 61 70 65 94 4B 02 4B 02 86 94 8C 08 6D 61 78 70 72 69 6E 74 94 4B 32 8C 06 69 6E 64 70 74 72 94 8C 15 6E 75 6D 70 79 2E 63 6F 72 65 2E 6D 75 6C 74 69 61 72 72 61 79 94 8C 0C 5F 72 65 63 6F 6E 73 74 72 75 63 74 94 93 94 8C 05 6E 75 6D 70 79 94 8C 07 6E 64 61 72 72 61 79 94 93 94 4B 00 85 94 43 01 62 94 87 94 52 94 28 4B 01 4B 03 85 94 68 0C 8C 05 64 74 79 70 65 94 93 94 8C 02 69 34 94 89 88 87 94 52 94 28 4B 03 8C 01 3C 94 4E 4E 4E 4A FF FF FF FF 4A FF FF FF FF 4B 00 74 94 62 89 43 0C 00 00 00 00 01 00 00 00 01 00 00 00 94 74 94 62 8C 07 69 6E 64 69 63 65 73 94 68 0B 68 0E 4B 00 85 94 68 10 87 94 52 94 28 4B 01 4B 01 85 94 68 18 89 43 04 01 00 00 00 94 74 94 62 8C 04 64 61 74 61 94 68 0B 68 0E 4B 00 85 94 68 10 87 94 52 94 28 4B 01 4B 01 85 94 68 15 8C 02 66 38 94 89 88 87 94 52 94 28 4B 03 68 19 4E 4E 4E 4A FF FF FF FF 4A FF FF FF FF 4B 00 74 94 62 89 43 08 00 00 00 00 00 00 9B 40 94 74 94 62 8C 15 5F 68 61 73 5F 63 61 6E 6F 6E 69 63 61 6C 5F 66 6F 72 6D 61 74 94 88 8C 13 5F 68 61 73 5F 73 6F 72 74 65 64 5F 69 6E 64 69 63 65 73 94 88 75 62 2E]|[80 04 95 8F 01 00 00 00 00 00 00 8C 11 73 63 69 70 79 2E 73 70 61 72 73 65 2E 5F 63 73 72 94 8C 0A 63 73 72 5F 6D 61 74 72 69 78 94 93 94 29 81 94 7D 94 28 8C 06 5F 73 68 61 70 65 94 4B 02 4B 02 86 94 8C 08 6D 61 78 70 72 69 6E 74 94 4B 32 8C 06 69 6E 64 70 74 72 94 8C 15 6E 75 6D 70 79 2E 63 6F 72 65 2E 6D 75 6C 74 69 61 72 72 61 79 94 8C 0C 5F 72 65 63 6F 6E 73 74 72 75 63 74 94 93 94 8C 05 6E 75 6D 70 79 94 8C 07 6E 64 61 72 72 61 79 94 93 94 4B 00 85 94 43 01 62 94 87 94 52 94 28 4B 01 4B 03 85 94 68 0C 8C 05 64 74 79 70 65 94 93 94 8C 02 69 34 94 89 88 87 94 52 94 28 4B 03 8C 01 3C 94 4E 4E 4E 4A FF FF FF FF 4A FF FF FF FF 4B 00 74 94 62 89 43 0C 00 00 00 00 01 00 00 00 01 00 00 00 94 74 94 62 8C 07 69 6E 64 69 63 65 73 94 68 0B 68 0E 4B 00 85 94 68 10 87 94 52 94 28 4B 01 4B 01 85 94 68 18 89 43 04 01 00 00 00 94 74 94 62 8C 04 64 61 74 61 94 68 0B 68 0E 4B 00 85 94 68 10 87 94 52 94 28 4B 01 4B 01 85 94 68 15 8C 02 69 38 94 89 88 87 94 52 94 28 4B 03 68 19 4E 4E 4E 4A FF FF FF FF 4A FF FF FF FF 4B 00 74 94 62 89 43 08 01 00 00 00 00 00 00 00 94 74 94 62 8C 15 5F 68 61 73 5F 63 61 6E 6F 6E 69 63 61 6C 5F 66 6F 72 6D 61 74 94 88 8C 13 5F 68 61 73 5F 73 6F 72 74 65 64 5F 69 6E 64 69 63 65 73 94 88 75 62 2E]|0                                    |\n",
            "|5           |1             |1          |945.0               |945.0            |945.0                   |945.0               |945.0                   |2                             |[80 04 95 8F 01 00 00 00 00 00 00 8C 11 73 63 69 70 79 2E 73 70 61 72 73 65 2E 5F 63 73 72 94 8C 0A 63 73 72 5F 6D 61 74 72 69 78 94 93 94 29 81 94 7D 94 28 8C 06 5F 73 68 61 70 65 94 4B 02 4B 02 86 94 8C 08 6D 61 78 70 72 69 6E 74 94 4B 32 8C 06 69 6E 64 70 74 72 94 8C 15 6E 75 6D 70 79 2E 63 6F 72 65 2E 6D 75 6C 74 69 61 72 72 61 79 94 8C 0C 5F 72 65 63 6F 6E 73 74 72 75 63 74 94 93 94 8C 05 6E 75 6D 70 79 94 8C 07 6E 64 61 72 72 61 79 94 93 94 4B 00 85 94 43 01 62 94 87 94 52 94 28 4B 01 4B 03 85 94 68 0C 8C 05 64 74 79 70 65 94 93 94 8C 02 69 34 94 89 88 87 94 52 94 28 4B 03 8C 01 3C 94 4E 4E 4E 4A FF FF FF FF 4A FF FF FF FF 4B 00 74 94 62 89 43 0C 00 00 00 00 01 00 00 00 01 00 00 00 94 74 94 62 8C 07 69 6E 64 69 63 65 73 94 68 0B 68 0E 4B 00 85 94 68 10 87 94 52 94 28 4B 01 4B 01 85 94 68 18 89 43 04 01 00 00 00 94 74 94 62 8C 04 64 61 74 61 94 68 0B 68 0E 4B 00 85 94 68 10 87 94 52 94 28 4B 01 4B 01 85 94 68 15 8C 02 66 38 94 89 88 87 94 52 94 28 4B 03 68 19 4E 4E 4E 4A FF FF FF FF 4A FF FF FF FF 4B 00 74 94 62 89 43 08 00 00 00 00 00 88 8D 40 94 74 94 62 8C 15 5F 68 61 73 5F 63 61 6E 6F 6E 69 63 61 6C 5F 66 6F 72 6D 61 74 94 88 8C 13 5F 68 61 73 5F 73 6F 72 74 65 64 5F 69 6E 64 69 63 65 73 94 88 75 62 2E]|[80 04 95 8F 01 00 00 00 00 00 00 8C 11 73 63 69 70 79 2E 73 70 61 72 73 65 2E 5F 63 73 72 94 8C 0A 63 73 72 5F 6D 61 74 72 69 78 94 93 94 29 81 94 7D 94 28 8C 06 5F 73 68 61 70 65 94 4B 02 4B 02 86 94 8C 08 6D 61 78 70 72 69 6E 74 94 4B 32 8C 06 69 6E 64 70 74 72 94 8C 15 6E 75 6D 70 79 2E 63 6F 72 65 2E 6D 75 6C 74 69 61 72 72 61 79 94 8C 0C 5F 72 65 63 6F 6E 73 74 72 75 63 74 94 93 94 8C 05 6E 75 6D 70 79 94 8C 07 6E 64 61 72 72 61 79 94 93 94 4B 00 85 94 43 01 62 94 87 94 52 94 28 4B 01 4B 03 85 94 68 0C 8C 05 64 74 79 70 65 94 93 94 8C 02 69 34 94 89 88 87 94 52 94 28 4B 03 8C 01 3C 94 4E 4E 4E 4A FF FF FF FF 4A FF FF FF FF 4B 00 74 94 62 89 43 0C 00 00 00 00 01 00 00 00 01 00 00 00 94 74 94 62 8C 07 69 6E 64 69 63 65 73 94 68 0B 68 0E 4B 00 85 94 68 10 87 94 52 94 28 4B 01 4B 01 85 94 68 18 89 43 04 01 00 00 00 94 74 94 62 8C 04 64 61 74 61 94 68 0B 68 0E 4B 00 85 94 68 10 87 94 52 94 28 4B 01 4B 01 85 94 68 15 8C 02 69 38 94 89 88 87 94 52 94 28 4B 03 68 19 4E 4E 4E 4A FF FF FF FF 4A FF FF FF FF 4B 00 74 94 62 89 43 08 01 00 00 00 00 00 00 00 94 74 94 62 8C 15 5F 68 61 73 5F 63 61 6E 6F 6E 69 63 61 6C 5F 66 6F 72 6D 61 74 94 88 8C 13 5F 68 61 73 5F 73 6F 72 74 65 64 5F 69 6E 64 69 63 65 73 94 88 75 62 2E]|0                                    |\n",
            "|6           |1             |1          |458.0               |458.0            |458.0                   |458.0               |458.0                   |2                             |[80 04 95 8F 01 00 00 00 00 00 00 8C 11 73 63 69 70 79 2E 73 70 61 72 73 65 2E 5F 63 73 72 94 8C 0A 63 73 72 5F 6D 61 74 72 69 78 94 93 94 29 81 94 7D 94 28 8C 06 5F 73 68 61 70 65 94 4B 02 4B 02 86 94 8C 08 6D 61 78 70 72 69 6E 74 94 4B 32 8C 06 69 6E 64 70 74 72 94 8C 15 6E 75 6D 70 79 2E 63 6F 72 65 2E 6D 75 6C 74 69 61 72 72 61 79 94 8C 0C 5F 72 65 63 6F 6E 73 74 72 75 63 74 94 93 94 8C 05 6E 75 6D 70 79 94 8C 07 6E 64 61 72 72 61 79 94 93 94 4B 00 85 94 43 01 62 94 87 94 52 94 28 4B 01 4B 03 85 94 68 0C 8C 05 64 74 79 70 65 94 93 94 8C 02 69 34 94 89 88 87 94 52 94 28 4B 03 8C 01 3C 94 4E 4E 4E 4A FF FF FF FF 4A FF FF FF FF 4B 00 74 94 62 89 43 0C 00 00 00 00 01 00 00 00 01 00 00 00 94 74 94 62 8C 07 69 6E 64 69 63 65 73 94 68 0B 68 0E 4B 00 85 94 68 10 87 94 52 94 28 4B 01 4B 01 85 94 68 18 89 43 04 01 00 00 00 94 74 94 62 8C 04 64 61 74 61 94 68 0B 68 0E 4B 00 85 94 68 10 87 94 52 94 28 4B 01 4B 01 85 94 68 15 8C 02 66 38 94 89 88 87 94 52 94 28 4B 03 68 19 4E 4E 4E 4A FF FF FF FF 4A FF FF FF FF 4B 00 74 94 62 89 43 08 00 00 00 00 00 A0 7C 40 94 74 94 62 8C 15 5F 68 61 73 5F 63 61 6E 6F 6E 69 63 61 6C 5F 66 6F 72 6D 61 74 94 88 8C 13 5F 68 61 73 5F 73 6F 72 74 65 64 5F 69 6E 64 69 63 65 73 94 88 75 62 2E]|[80 04 95 8F 01 00 00 00 00 00 00 8C 11 73 63 69 70 79 2E 73 70 61 72 73 65 2E 5F 63 73 72 94 8C 0A 63 73 72 5F 6D 61 74 72 69 78 94 93 94 29 81 94 7D 94 28 8C 06 5F 73 68 61 70 65 94 4B 02 4B 02 86 94 8C 08 6D 61 78 70 72 69 6E 74 94 4B 32 8C 06 69 6E 64 70 74 72 94 8C 15 6E 75 6D 70 79 2E 63 6F 72 65 2E 6D 75 6C 74 69 61 72 72 61 79 94 8C 0C 5F 72 65 63 6F 6E 73 74 72 75 63 74 94 93 94 8C 05 6E 75 6D 70 79 94 8C 07 6E 64 61 72 72 61 79 94 93 94 4B 00 85 94 43 01 62 94 87 94 52 94 28 4B 01 4B 03 85 94 68 0C 8C 05 64 74 79 70 65 94 93 94 8C 02 69 34 94 89 88 87 94 52 94 28 4B 03 8C 01 3C 94 4E 4E 4E 4A FF FF FF FF 4A FF FF FF FF 4B 00 74 94 62 89 43 0C 00 00 00 00 01 00 00 00 01 00 00 00 94 74 94 62 8C 07 69 6E 64 69 63 65 73 94 68 0B 68 0E 4B 00 85 94 68 10 87 94 52 94 28 4B 01 4B 01 85 94 68 18 89 43 04 01 00 00 00 94 74 94 62 8C 04 64 61 74 61 94 68 0B 68 0E 4B 00 85 94 68 10 87 94 52 94 28 4B 01 4B 01 85 94 68 15 8C 02 69 38 94 89 88 87 94 52 94 28 4B 03 68 19 4E 4E 4E 4A FF FF FF FF 4A FF FF FF FF 4B 00 74 94 62 89 43 08 01 00 00 00 00 00 00 00 94 74 94 62 8C 15 5F 68 61 73 5F 63 61 6E 6F 6E 69 63 61 6C 5F 66 6F 72 6D 61 74 94 88 8C 13 5F 68 61 73 5F 73 6F 72 74 65 64 5F 69 6E 64 69 63 65 73 94 88 75 62 2E]|0                                    |\n",
            "|7           |1             |1          |1237.0              |1237.0           |1237.0                  |1237.0              |1237.0                  |2                             |[80 04 95 8F 01 00 00 00 00 00 00 8C 11 73 63 69 70 79 2E 73 70 61 72 73 65 2E 5F 63 73 72 94 8C 0A 63 73 72 5F 6D 61 74 72 69 78 94 93 94 29 81 94 7D 94 28 8C 06 5F 73 68 61 70 65 94 4B 02 4B 02 86 94 8C 08 6D 61 78 70 72 69 6E 74 94 4B 32 8C 06 69 6E 64 70 74 72 94 8C 15 6E 75 6D 70 79 2E 63 6F 72 65 2E 6D 75 6C 74 69 61 72 72 61 79 94 8C 0C 5F 72 65 63 6F 6E 73 74 72 75 63 74 94 93 94 8C 05 6E 75 6D 70 79 94 8C 07 6E 64 61 72 72 61 79 94 93 94 4B 00 85 94 43 01 62 94 87 94 52 94 28 4B 01 4B 03 85 94 68 0C 8C 05 64 74 79 70 65 94 93 94 8C 02 69 34 94 89 88 87 94 52 94 28 4B 03 8C 01 3C 94 4E 4E 4E 4A FF FF FF FF 4A FF FF FF FF 4B 00 74 94 62 89 43 0C 00 00 00 00 01 00 00 00 01 00 00 00 94 74 94 62 8C 07 69 6E 64 69 63 65 73 94 68 0B 68 0E 4B 00 85 94 68 10 87 94 52 94 28 4B 01 4B 01 85 94 68 18 89 43 04 01 00 00 00 94 74 94 62 8C 04 64 61 74 61 94 68 0B 68 0E 4B 00 85 94 68 10 87 94 52 94 28 4B 01 4B 01 85 94 68 15 8C 02 66 38 94 89 88 87 94 52 94 28 4B 03 68 19 4E 4E 4E 4A FF FF FF FF 4A FF FF FF FF 4B 00 74 94 62 89 43 08 00 00 00 00 00 54 93 40 94 74 94 62 8C 15 5F 68 61 73 5F 63 61 6E 6F 6E 69 63 61 6C 5F 66 6F 72 6D 61 74 94 88 8C 13 5F 68 61 73 5F 73 6F 72 74 65 64 5F 69 6E 64 69 63 65 73 94 88 75 62 2E]|[80 04 95 8F 01 00 00 00 00 00 00 8C 11 73 63 69 70 79 2E 73 70 61 72 73 65 2E 5F 63 73 72 94 8C 0A 63 73 72 5F 6D 61 74 72 69 78 94 93 94 29 81 94 7D 94 28 8C 06 5F 73 68 61 70 65 94 4B 02 4B 02 86 94 8C 08 6D 61 78 70 72 69 6E 74 94 4B 32 8C 06 69 6E 64 70 74 72 94 8C 15 6E 75 6D 70 79 2E 63 6F 72 65 2E 6D 75 6C 74 69 61 72 72 61 79 94 8C 0C 5F 72 65 63 6F 6E 73 74 72 75 63 74 94 93 94 8C 05 6E 75 6D 70 79 94 8C 07 6E 64 61 72 72 61 79 94 93 94 4B 00 85 94 43 01 62 94 87 94 52 94 28 4B 01 4B 03 85 94 68 0C 8C 05 64 74 79 70 65 94 93 94 8C 02 69 34 94 89 88 87 94 52 94 28 4B 03 8C 01 3C 94 4E 4E 4E 4A FF FF FF FF 4A FF FF FF FF 4B 00 74 94 62 89 43 0C 00 00 00 00 01 00 00 00 01 00 00 00 94 74 94 62 8C 07 69 6E 64 69 63 65 73 94 68 0B 68 0E 4B 00 85 94 68 10 87 94 52 94 28 4B 01 4B 01 85 94 68 18 89 43 04 01 00 00 00 94 74 94 62 8C 04 64 61 74 61 94 68 0B 68 0E 4B 00 85 94 68 10 87 94 52 94 28 4B 01 4B 01 85 94 68 15 8C 02 69 38 94 89 88 87 94 52 94 28 4B 03 68 19 4E 4E 4E 4A FF FF FF FF 4A FF FF FF FF 4B 00 74 94 62 89 43 08 01 00 00 00 00 00 00 00 94 74 94 62 8C 15 5F 68 61 73 5F 63 61 6E 6F 6E 69 63 61 6C 5F 66 6F 72 6D 61 74 94 88 8C 13 5F 68 61 73 5F 73 6F 72 74 65 64 5F 69 6E 64 69 63 65 73 94 88 75 62 2E]|0                                    |\n",
            "|9           |1             |1          |1911.0              |1911.0           |1911.0                  |1911.0              |1911.0                  |2                             |[80 04 95 8F 01 00 00 00 00 00 00 8C 11 73 63 69 70 79 2E 73 70 61 72 73 65 2E 5F 63 73 72 94 8C 0A 63 73 72 5F 6D 61 74 72 69 78 94 93 94 29 81 94 7D 94 28 8C 06 5F 73 68 61 70 65 94 4B 02 4B 02 86 94 8C 08 6D 61 78 70 72 69 6E 74 94 4B 32 8C 06 69 6E 64 70 74 72 94 8C 15 6E 75 6D 70 79 2E 63 6F 72 65 2E 6D 75 6C 74 69 61 72 72 61 79 94 8C 0C 5F 72 65 63 6F 6E 73 74 72 75 63 74 94 93 94 8C 05 6E 75 6D 70 79 94 8C 07 6E 64 61 72 72 61 79 94 93 94 4B 00 85 94 43 01 62 94 87 94 52 94 28 4B 01 4B 03 85 94 68 0C 8C 05 64 74 79 70 65 94 93 94 8C 02 69 34 94 89 88 87 94 52 94 28 4B 03 8C 01 3C 94 4E 4E 4E 4A FF FF FF FF 4A FF FF FF FF 4B 00 74 94 62 89 43 0C 00 00 00 00 01 00 00 00 01 00 00 00 94 74 94 62 8C 07 69 6E 64 69 63 65 73 94 68 0B 68 0E 4B 00 85 94 68 10 87 94 52 94 28 4B 01 4B 01 85 94 68 18 89 43 04 01 00 00 00 94 74 94 62 8C 04 64 61 74 61 94 68 0B 68 0E 4B 00 85 94 68 10 87 94 52 94 28 4B 01 4B 01 85 94 68 15 8C 02 66 38 94 89 88 87 94 52 94 28 4B 03 68 19 4E 4E 4E 4A FF FF FF FF 4A FF FF FF FF 4B 00 74 94 62 89 43 08 00 00 00 00 00 DC 9D 40 94 74 94 62 8C 15 5F 68 61 73 5F 63 61 6E 6F 6E 69 63 61 6C 5F 66 6F 72 6D 61 74 94 88 8C 13 5F 68 61 73 5F 73 6F 72 74 65 64 5F 69 6E 64 69 63 65 73 94 88 75 62 2E]|[80 04 95 8F 01 00 00 00 00 00 00 8C 11 73 63 69 70 79 2E 73 70 61 72 73 65 2E 5F 63 73 72 94 8C 0A 63 73 72 5F 6D 61 74 72 69 78 94 93 94 29 81 94 7D 94 28 8C 06 5F 73 68 61 70 65 94 4B 02 4B 02 86 94 8C 08 6D 61 78 70 72 69 6E 74 94 4B 32 8C 06 69 6E 64 70 74 72 94 8C 15 6E 75 6D 70 79 2E 63 6F 72 65 2E 6D 75 6C 74 69 61 72 72 61 79 94 8C 0C 5F 72 65 63 6F 6E 73 74 72 75 63 74 94 93 94 8C 05 6E 75 6D 70 79 94 8C 07 6E 64 61 72 72 61 79 94 93 94 4B 00 85 94 43 01 62 94 87 94 52 94 28 4B 01 4B 03 85 94 68 0C 8C 05 64 74 79 70 65 94 93 94 8C 02 69 34 94 89 88 87 94 52 94 28 4B 03 8C 01 3C 94 4E 4E 4E 4A FF FF FF FF 4A FF FF FF FF 4B 00 74 94 62 89 43 0C 00 00 00 00 01 00 00 00 01 00 00 00 94 74 94 62 8C 07 69 6E 64 69 63 65 73 94 68 0B 68 0E 4B 00 85 94 68 10 87 94 52 94 28 4B 01 4B 01 85 94 68 18 89 43 04 01 00 00 00 94 74 94 62 8C 04 64 61 74 61 94 68 0B 68 0E 4B 00 85 94 68 10 87 94 52 94 28 4B 01 4B 01 85 94 68 15 8C 02 69 38 94 89 88 87 94 52 94 28 4B 03 68 19 4E 4E 4E 4A FF FF FF FF 4A FF FF FF FF 4B 00 74 94 62 89 43 08 01 00 00 00 00 00 00 00 94 74 94 62 8C 15 5F 68 61 73 5F 63 61 6E 6F 6E 69 63 61 6C 5F 66 6F 72 6D 61 74 94 88 8C 13 5F 68 61 73 5F 73 6F 72 74 65 64 5F 69 6E 64 69 63 65 73 94 88 75 62 2E]|0                                    |\n",
            "|10          |1             |1          |2085.0              |2085.0           |2085.0                  |2085.0              |2085.0                  |2                             |[80 04 95 8F 01 00 00 00 00 00 00 8C 11 73 63 69 70 79 2E 73 70 61 72 73 65 2E 5F 63 73 72 94 8C 0A 63 73 72 5F 6D 61 74 72 69 78 94 93 94 29 81 94 7D 94 28 8C 06 5F 73 68 61 70 65 94 4B 02 4B 02 86 94 8C 08 6D 61 78 70 72 69 6E 74 94 4B 32 8C 06 69 6E 64 70 74 72 94 8C 15 6E 75 6D 70 79 2E 63 6F 72 65 2E 6D 75 6C 74 69 61 72 72 61 79 94 8C 0C 5F 72 65 63 6F 6E 73 74 72 75 63 74 94 93 94 8C 05 6E 75 6D 70 79 94 8C 07 6E 64 61 72 72 61 79 94 93 94 4B 00 85 94 43 01 62 94 87 94 52 94 28 4B 01 4B 03 85 94 68 0C 8C 05 64 74 79 70 65 94 93 94 8C 02 69 34 94 89 88 87 94 52 94 28 4B 03 8C 01 3C 94 4E 4E 4E 4A FF FF FF FF 4A FF FF FF FF 4B 00 74 94 62 89 43 0C 00 00 00 00 01 00 00 00 01 00 00 00 94 74 94 62 8C 07 69 6E 64 69 63 65 73 94 68 0B 68 0E 4B 00 85 94 68 10 87 94 52 94 28 4B 01 4B 01 85 94 68 18 89 43 04 01 00 00 00 94 74 94 62 8C 04 64 61 74 61 94 68 0B 68 0E 4B 00 85 94 68 10 87 94 52 94 28 4B 01 4B 01 85 94 68 15 8C 02 66 38 94 89 88 87 94 52 94 28 4B 03 68 19 4E 4E 4E 4A FF FF FF FF 4A FF FF FF FF 4B 00 74 94 62 89 43 08 00 00 00 00 00 4A A0 40 94 74 94 62 8C 15 5F 68 61 73 5F 63 61 6E 6F 6E 69 63 61 6C 5F 66 6F 72 6D 61 74 94 88 8C 13 5F 68 61 73 5F 73 6F 72 74 65 64 5F 69 6E 64 69 63 65 73 94 88 75 62 2E]|[80 04 95 8F 01 00 00 00 00 00 00 8C 11 73 63 69 70 79 2E 73 70 61 72 73 65 2E 5F 63 73 72 94 8C 0A 63 73 72 5F 6D 61 74 72 69 78 94 93 94 29 81 94 7D 94 28 8C 06 5F 73 68 61 70 65 94 4B 02 4B 02 86 94 8C 08 6D 61 78 70 72 69 6E 74 94 4B 32 8C 06 69 6E 64 70 74 72 94 8C 15 6E 75 6D 70 79 2E 63 6F 72 65 2E 6D 75 6C 74 69 61 72 72 61 79 94 8C 0C 5F 72 65 63 6F 6E 73 74 72 75 63 74 94 93 94 8C 05 6E 75 6D 70 79 94 8C 07 6E 64 61 72 72 61 79 94 93 94 4B 00 85 94 43 01 62 94 87 94 52 94 28 4B 01 4B 03 85 94 68 0C 8C 05 64 74 79 70 65 94 93 94 8C 02 69 34 94 89 88 87 94 52 94 28 4B 03 8C 01 3C 94 4E 4E 4E 4A FF FF FF FF 4A FF FF FF FF 4B 00 74 94 62 89 43 0C 00 00 00 00 01 00 00 00 01 00 00 00 94 74 94 62 8C 07 69 6E 64 69 63 65 73 94 68 0B 68 0E 4B 00 85 94 68 10 87 94 52 94 28 4B 01 4B 01 85 94 68 18 89 43 04 01 00 00 00 94 74 94 62 8C 04 64 61 74 61 94 68 0B 68 0E 4B 00 85 94 68 10 87 94 52 94 28 4B 01 4B 01 85 94 68 15 8C 02 69 38 94 89 88 87 94 52 94 28 4B 03 68 19 4E 4E 4E 4A FF FF FF FF 4A FF FF FF FF 4B 00 74 94 62 89 43 08 01 00 00 00 00 00 00 00 94 74 94 62 8C 15 5F 68 61 73 5F 63 61 6E 6F 6E 69 63 61 6C 5F 66 6F 72 6D 61 74 94 88 8C 13 5F 68 61 73 5F 73 6F 72 74 65 64 5F 69 6E 64 69 63 65 73 94 88 75 62 2E]|0                                    |\n",
            "|11          |1             |1          |1158.0              |1158.0           |1158.0                  |1158.0              |1158.0                  |2                             |[80 04 95 8F 01 00 00 00 00 00 00 8C 11 73 63 69 70 79 2E 73 70 61 72 73 65 2E 5F 63 73 72 94 8C 0A 63 73 72 5F 6D 61 74 72 69 78 94 93 94 29 81 94 7D 94 28 8C 06 5F 73 68 61 70 65 94 4B 02 4B 02 86 94 8C 08 6D 61 78 70 72 69 6E 74 94 4B 32 8C 06 69 6E 64 70 74 72 94 8C 15 6E 75 6D 70 79 2E 63 6F 72 65 2E 6D 75 6C 74 69 61 72 72 61 79 94 8C 0C 5F 72 65 63 6F 6E 73 74 72 75 63 74 94 93 94 8C 05 6E 75 6D 70 79 94 8C 07 6E 64 61 72 72 61 79 94 93 94 4B 00 85 94 43 01 62 94 87 94 52 94 28 4B 01 4B 03 85 94 68 0C 8C 05 64 74 79 70 65 94 93 94 8C 02 69 34 94 89 88 87 94 52 94 28 4B 03 8C 01 3C 94 4E 4E 4E 4A FF FF FF FF 4A FF FF FF FF 4B 00 74 94 62 89 43 0C 00 00 00 00 01 00 00 00 01 00 00 00 94 74 94 62 8C 07 69 6E 64 69 63 65 73 94 68 0B 68 0E 4B 00 85 94 68 10 87 94 52 94 28 4B 01 4B 01 85 94 68 18 89 43 04 01 00 00 00 94 74 94 62 8C 04 64 61 74 61 94 68 0B 68 0E 4B 00 85 94 68 10 87 94 52 94 28 4B 01 4B 01 85 94 68 15 8C 02 66 38 94 89 88 87 94 52 94 28 4B 03 68 19 4E 4E 4E 4A FF FF FF FF 4A FF FF FF FF 4B 00 74 94 62 89 43 08 00 00 00 00 00 18 92 40 94 74 94 62 8C 15 5F 68 61 73 5F 63 61 6E 6F 6E 69 63 61 6C 5F 66 6F 72 6D 61 74 94 88 8C 13 5F 68 61 73 5F 73 6F 72 74 65 64 5F 69 6E 64 69 63 65 73 94 88 75 62 2E]|[80 04 95 8F 01 00 00 00 00 00 00 8C 11 73 63 69 70 79 2E 73 70 61 72 73 65 2E 5F 63 73 72 94 8C 0A 63 73 72 5F 6D 61 74 72 69 78 94 93 94 29 81 94 7D 94 28 8C 06 5F 73 68 61 70 65 94 4B 02 4B 02 86 94 8C 08 6D 61 78 70 72 69 6E 74 94 4B 32 8C 06 69 6E 64 70 74 72 94 8C 15 6E 75 6D 70 79 2E 63 6F 72 65 2E 6D 75 6C 74 69 61 72 72 61 79 94 8C 0C 5F 72 65 63 6F 6E 73 74 72 75 63 74 94 93 94 8C 05 6E 75 6D 70 79 94 8C 07 6E 64 61 72 72 61 79 94 93 94 4B 00 85 94 43 01 62 94 87 94 52 94 28 4B 01 4B 03 85 94 68 0C 8C 05 64 74 79 70 65 94 93 94 8C 02 69 34 94 89 88 87 94 52 94 28 4B 03 8C 01 3C 94 4E 4E 4E 4A FF FF FF FF 4A FF FF FF FF 4B 00 74 94 62 89 43 0C 00 00 00 00 01 00 00 00 01 00 00 00 94 74 94 62 8C 07 69 6E 64 69 63 65 73 94 68 0B 68 0E 4B 00 85 94 68 10 87 94 52 94 28 4B 01 4B 01 85 94 68 18 89 43 04 01 00 00 00 94 74 94 62 8C 04 64 61 74 61 94 68 0B 68 0E 4B 00 85 94 68 10 87 94 52 94 28 4B 01 4B 01 85 94 68 15 8C 02 69 38 94 89 88 87 94 52 94 28 4B 03 68 19 4E 4E 4E 4A FF FF FF FF 4A FF FF FF FF 4B 00 74 94 62 89 43 08 01 00 00 00 00 00 00 00 94 74 94 62 8C 15 5F 68 61 73 5F 63 61 6E 6F 6E 69 63 61 6C 5F 66 6F 72 6D 61 74 94 88 8C 13 5F 68 61 73 5F 73 6F 72 74 65 64 5F 69 6E 64 69 63 65 73 94 88 75 62 2E]|0                                    |\n",
            "|12          |1             |1          |1580.0              |1580.0           |1580.0                  |1580.0              |1580.0                  |2                             |[80 04 95 8F 01 00 00 00 00 00 00 8C 11 73 63 69 70 79 2E 73 70 61 72 73 65 2E 5F 63 73 72 94 8C 0A 63 73 72 5F 6D 61 74 72 69 78 94 93 94 29 81 94 7D 94 28 8C 06 5F 73 68 61 70 65 94 4B 02 4B 02 86 94 8C 08 6D 61 78 70 72 69 6E 74 94 4B 32 8C 06 69 6E 64 70 74 72 94 8C 15 6E 75 6D 70 79 2E 63 6F 72 65 2E 6D 75 6C 74 69 61 72 72 61 79 94 8C 0C 5F 72 65 63 6F 6E 73 74 72 75 63 74 94 93 94 8C 05 6E 75 6D 70 79 94 8C 07 6E 64 61 72 72 61 79 94 93 94 4B 00 85 94 43 01 62 94 87 94 52 94 28 4B 01 4B 03 85 94 68 0C 8C 05 64 74 79 70 65 94 93 94 8C 02 69 34 94 89 88 87 94 52 94 28 4B 03 8C 01 3C 94 4E 4E 4E 4A FF FF FF FF 4A FF FF FF FF 4B 00 74 94 62 89 43 0C 00 00 00 00 01 00 00 00 01 00 00 00 94 74 94 62 8C 07 69 6E 64 69 63 65 73 94 68 0B 68 0E 4B 00 85 94 68 10 87 94 52 94 28 4B 01 4B 01 85 94 68 18 89 43 04 01 00 00 00 94 74 94 62 8C 04 64 61 74 61 94 68 0B 68 0E 4B 00 85 94 68 10 87 94 52 94 28 4B 01 4B 01 85 94 68 15 8C 02 66 38 94 89 88 87 94 52 94 28 4B 03 68 19 4E 4E 4E 4A FF FF FF FF 4A FF FF FF FF 4B 00 74 94 62 89 43 08 00 00 00 00 00 B0 98 40 94 74 94 62 8C 15 5F 68 61 73 5F 63 61 6E 6F 6E 69 63 61 6C 5F 66 6F 72 6D 61 74 94 88 8C 13 5F 68 61 73 5F 73 6F 72 74 65 64 5F 69 6E 64 69 63 65 73 94 88 75 62 2E]|[80 04 95 8F 01 00 00 00 00 00 00 8C 11 73 63 69 70 79 2E 73 70 61 72 73 65 2E 5F 63 73 72 94 8C 0A 63 73 72 5F 6D 61 74 72 69 78 94 93 94 29 81 94 7D 94 28 8C 06 5F 73 68 61 70 65 94 4B 02 4B 02 86 94 8C 08 6D 61 78 70 72 69 6E 74 94 4B 32 8C 06 69 6E 64 70 74 72 94 8C 15 6E 75 6D 70 79 2E 63 6F 72 65 2E 6D 75 6C 74 69 61 72 72 61 79 94 8C 0C 5F 72 65 63 6F 6E 73 74 72 75 63 74 94 93 94 8C 05 6E 75 6D 70 79 94 8C 07 6E 64 61 72 72 61 79 94 93 94 4B 00 85 94 43 01 62 94 87 94 52 94 28 4B 01 4B 03 85 94 68 0C 8C 05 64 74 79 70 65 94 93 94 8C 02 69 34 94 89 88 87 94 52 94 28 4B 03 8C 01 3C 94 4E 4E 4E 4A FF FF FF FF 4A FF FF FF FF 4B 00 74 94 62 89 43 0C 00 00 00 00 01 00 00 00 01 00 00 00 94 74 94 62 8C 07 69 6E 64 69 63 65 73 94 68 0B 68 0E 4B 00 85 94 68 10 87 94 52 94 28 4B 01 4B 01 85 94 68 18 89 43 04 01 00 00 00 94 74 94 62 8C 04 64 61 74 61 94 68 0B 68 0E 4B 00 85 94 68 10 87 94 52 94 28 4B 01 4B 01 85 94 68 15 8C 02 69 38 94 89 88 87 94 52 94 28 4B 03 68 19 4E 4E 4E 4A FF FF FF FF 4A FF FF FF FF 4B 00 74 94 62 89 43 08 01 00 00 00 00 00 00 00 94 74 94 62 8C 15 5F 68 61 73 5F 63 61 6E 6F 6E 69 63 61 6C 5F 66 6F 72 6D 61 74 94 88 8C 13 5F 68 61 73 5F 73 6F 72 74 65 64 5F 69 6E 64 69 63 65 73 94 88 75 62 2E]|0                                    |\n",
            "|13          |1             |1          |1986.0              |1986.0           |1986.0                  |1986.0              |1986.0                  |2                             |[80 04 95 8F 01 00 00 00 00 00 00 8C 11 73 63 69 70 79 2E 73 70 61 72 73 65 2E 5F 63 73 72 94 8C 0A 63 73 72 5F 6D 61 74 72 69 78 94 93 94 29 81 94 7D 94 28 8C 06 5F 73 68 61 70 65 94 4B 02 4B 02 86 94 8C 08 6D 61 78 70 72 69 6E 74 94 4B 32 8C 06 69 6E 64 70 74 72 94 8C 15 6E 75 6D 70 79 2E 63 6F 72 65 2E 6D 75 6C 74 69 61 72 72 61 79 94 8C 0C 5F 72 65 63 6F 6E 73 74 72 75 63 74 94 93 94 8C 05 6E 75 6D 70 79 94 8C 07 6E 64 61 72 72 61 79 94 93 94 4B 00 85 94 43 01 62 94 87 94 52 94 28 4B 01 4B 03 85 94 68 0C 8C 05 64 74 79 70 65 94 93 94 8C 02 69 34 94 89 88 87 94 52 94 28 4B 03 8C 01 3C 94 4E 4E 4E 4A FF FF FF FF 4A FF FF FF FF 4B 00 74 94 62 89 43 0C 00 00 00 00 01 00 00 00 01 00 00 00 94 74 94 62 8C 07 69 6E 64 69 63 65 73 94 68 0B 68 0E 4B 00 85 94 68 10 87 94 52 94 28 4B 01 4B 01 85 94 68 18 89 43 04 01 00 00 00 94 74 94 62 8C 04 64 61 74 61 94 68 0B 68 0E 4B 00 85 94 68 10 87 94 52 94 28 4B 01 4B 01 85 94 68 15 8C 02 66 38 94 89 88 87 94 52 94 28 4B 03 68 19 4E 4E 4E 4A FF FF FF FF 4A FF FF FF FF 4B 00 74 94 62 89 43 08 00 00 00 00 00 08 9F 40 94 74 94 62 8C 15 5F 68 61 73 5F 63 61 6E 6F 6E 69 63 61 6C 5F 66 6F 72 6D 61 74 94 88 8C 13 5F 68 61 73 5F 73 6F 72 74 65 64 5F 69 6E 64 69 63 65 73 94 88 75 62 2E]|[80 04 95 8F 01 00 00 00 00 00 00 8C 11 73 63 69 70 79 2E 73 70 61 72 73 65 2E 5F 63 73 72 94 8C 0A 63 73 72 5F 6D 61 74 72 69 78 94 93 94 29 81 94 7D 94 28 8C 06 5F 73 68 61 70 65 94 4B 02 4B 02 86 94 8C 08 6D 61 78 70 72 69 6E 74 94 4B 32 8C 06 69 6E 64 70 74 72 94 8C 15 6E 75 6D 70 79 2E 63 6F 72 65 2E 6D 75 6C 74 69 61 72 72 61 79 94 8C 0C 5F 72 65 63 6F 6E 73 74 72 75 63 74 94 93 94 8C 05 6E 75 6D 70 79 94 8C 07 6E 64 61 72 72 61 79 94 93 94 4B 00 85 94 43 01 62 94 87 94 52 94 28 4B 01 4B 03 85 94 68 0C 8C 05 64 74 79 70 65 94 93 94 8C 02 69 34 94 89 88 87 94 52 94 28 4B 03 8C 01 3C 94 4E 4E 4E 4A FF FF FF FF 4A FF FF FF FF 4B 00 74 94 62 89 43 0C 00 00 00 00 01 00 00 00 01 00 00 00 94 74 94 62 8C 07 69 6E 64 69 63 65 73 94 68 0B 68 0E 4B 00 85 94 68 10 87 94 52 94 28 4B 01 4B 01 85 94 68 18 89 43 04 01 00 00 00 94 74 94 62 8C 04 64 61 74 61 94 68 0B 68 0E 4B 00 85 94 68 10 87 94 52 94 28 4B 01 4B 01 85 94 68 15 8C 02 69 38 94 89 88 87 94 52 94 28 4B 03 68 19 4E 4E 4E 4A FF FF FF FF 4A FF FF FF FF 4B 00 74 94 62 89 43 08 01 00 00 00 00 00 00 00 94 74 94 62 8C 15 5F 68 61 73 5F 63 61 6E 6F 6E 69 63 61 6C 5F 66 6F 72 6D 61 74 94 88 8C 13 5F 68 61 73 5F 73 6F 72 74 65 64 5F 69 6E 64 69 63 65 73 94 88 75 62 2E]|0                                    |\n",
            "|14          |1             |1          |1193.0              |1193.0           |1193.0                  |1193.0              |1193.0                  |2                             |[80 04 95 8F 01 00 00 00 00 00 00 8C 11 73 63 69 70 79 2E 73 70 61 72 73 65 2E 5F 63 73 72 94 8C 0A 63 73 72 5F 6D 61 74 72 69 78 94 93 94 29 81 94 7D 94 28 8C 06 5F 73 68 61 70 65 94 4B 02 4B 02 86 94 8C 08 6D 61 78 70 72 69 6E 74 94 4B 32 8C 06 69 6E 64 70 74 72 94 8C 15 6E 75 6D 70 79 2E 63 6F 72 65 2E 6D 75 6C 74 69 61 72 72 61 79 94 8C 0C 5F 72 65 63 6F 6E 73 74 72 75 63 74 94 93 94 8C 05 6E 75 6D 70 79 94 8C 07 6E 64 61 72 72 61 79 94 93 94 4B 00 85 94 43 01 62 94 87 94 52 94 28 4B 01 4B 03 85 94 68 0C 8C 05 64 74 79 70 65 94 93 94 8C 02 69 34 94 89 88 87 94 52 94 28 4B 03 8C 01 3C 94 4E 4E 4E 4A FF FF FF FF 4A FF FF FF FF 4B 00 74 94 62 89 43 0C 00 00 00 00 01 00 00 00 01 00 00 00 94 74 94 62 8C 07 69 6E 64 69 63 65 73 94 68 0B 68 0E 4B 00 85 94 68 10 87 94 52 94 28 4B 01 4B 01 85 94 68 18 89 43 04 01 00 00 00 94 74 94 62 8C 04 64 61 74 61 94 68 0B 68 0E 4B 00 85 94 68 10 87 94 52 94 28 4B 01 4B 01 85 94 68 15 8C 02 66 38 94 89 88 87 94 52 94 28 4B 03 68 19 4E 4E 4E 4A FF FF FF FF 4A FF FF FF FF 4B 00 74 94 62 89 43 08 00 00 00 00 00 A4 92 40 94 74 94 62 8C 15 5F 68 61 73 5F 63 61 6E 6F 6E 69 63 61 6C 5F 66 6F 72 6D 61 74 94 88 8C 13 5F 68 61 73 5F 73 6F 72 74 65 64 5F 69 6E 64 69 63 65 73 94 88 75 62 2E]|[80 04 95 8F 01 00 00 00 00 00 00 8C 11 73 63 69 70 79 2E 73 70 61 72 73 65 2E 5F 63 73 72 94 8C 0A 63 73 72 5F 6D 61 74 72 69 78 94 93 94 29 81 94 7D 94 28 8C 06 5F 73 68 61 70 65 94 4B 02 4B 02 86 94 8C 08 6D 61 78 70 72 69 6E 74 94 4B 32 8C 06 69 6E 64 70 74 72 94 8C 15 6E 75 6D 70 79 2E 63 6F 72 65 2E 6D 75 6C 74 69 61 72 72 61 79 94 8C 0C 5F 72 65 63 6F 6E 73 74 72 75 63 74 94 93 94 8C 05 6E 75 6D 70 79 94 8C 07 6E 64 61 72 72 61 79 94 93 94 4B 00 85 94 43 01 62 94 87 94 52 94 28 4B 01 4B 03 85 94 68 0C 8C 05 64 74 79 70 65 94 93 94 8C 02 69 34 94 89 88 87 94 52 94 28 4B 03 8C 01 3C 94 4E 4E 4E 4A FF FF FF FF 4A FF FF FF FF 4B 00 74 94 62 89 43 0C 00 00 00 00 01 00 00 00 01 00 00 00 94 74 94 62 8C 07 69 6E 64 69 63 65 73 94 68 0B 68 0E 4B 00 85 94 68 10 87 94 52 94 28 4B 01 4B 01 85 94 68 18 89 43 04 01 00 00 00 94 74 94 62 8C 04 64 61 74 61 94 68 0B 68 0E 4B 00 85 94 68 10 87 94 52 94 28 4B 01 4B 01 85 94 68 15 8C 02 69 38 94 89 88 87 94 52 94 28 4B 03 68 19 4E 4E 4E 4A FF FF FF FF 4A FF FF FF FF 4B 00 74 94 62 89 43 08 01 00 00 00 00 00 00 00 94 74 94 62 8C 15 5F 68 61 73 5F 63 61 6E 6F 6E 69 63 61 6C 5F 66 6F 72 6D 61 74 94 88 8C 13 5F 68 61 73 5F 73 6F 72 74 65 64 5F 69 6E 64 69 63 65 73 94 88 75 62 2E]|0                                    |\n",
            "|15          |1             |1          |1428.0              |1428.0           |1428.0                  |1428.0              |1428.0                  |2                             |[80 04 95 8F 01 00 00 00 00 00 00 8C 11 73 63 69 70 79 2E 73 70 61 72 73 65 2E 5F 63 73 72 94 8C 0A 63 73 72 5F 6D 61 74 72 69 78 94 93 94 29 81 94 7D 94 28 8C 06 5F 73 68 61 70 65 94 4B 02 4B 02 86 94 8C 08 6D 61 78 70 72 69 6E 74 94 4B 32 8C 06 69 6E 64 70 74 72 94 8C 15 6E 75 6D 70 79 2E 63 6F 72 65 2E 6D 75 6C 74 69 61 72 72 61 79 94 8C 0C 5F 72 65 63 6F 6E 73 74 72 75 63 74 94 93 94 8C 05 6E 75 6D 70 79 94 8C 07 6E 64 61 72 72 61 79 94 93 94 4B 00 85 94 43 01 62 94 87 94 52 94 28 4B 01 4B 03 85 94 68 0C 8C 05 64 74 79 70 65 94 93 94 8C 02 69 34 94 89 88 87 94 52 94 28 4B 03 8C 01 3C 94 4E 4E 4E 4A FF FF FF FF 4A FF FF FF FF 4B 00 74 94 62 89 43 0C 00 00 00 00 01 00 00 00 01 00 00 00 94 74 94 62 8C 07 69 6E 64 69 63 65 73 94 68 0B 68 0E 4B 00 85 94 68 10 87 94 52 94 28 4B 01 4B 01 85 94 68 18 89 43 04 01 00 00 00 94 74 94 62 8C 04 64 61 74 61 94 68 0B 68 0E 4B 00 85 94 68 10 87 94 52 94 28 4B 01 4B 01 85 94 68 15 8C 02 66 38 94 89 88 87 94 52 94 28 4B 03 68 19 4E 4E 4E 4A FF FF FF FF 4A FF FF FF FF 4B 00 74 94 62 89 43 08 00 00 00 00 00 50 96 40 94 74 94 62 8C 15 5F 68 61 73 5F 63 61 6E 6F 6E 69 63 61 6C 5F 66 6F 72 6D 61 74 94 88 8C 13 5F 68 61 73 5F 73 6F 72 74 65 64 5F 69 6E 64 69 63 65 73 94 88 75 62 2E]|[80 04 95 8F 01 00 00 00 00 00 00 8C 11 73 63 69 70 79 2E 73 70 61 72 73 65 2E 5F 63 73 72 94 8C 0A 63 73 72 5F 6D 61 74 72 69 78 94 93 94 29 81 94 7D 94 28 8C 06 5F 73 68 61 70 65 94 4B 02 4B 02 86 94 8C 08 6D 61 78 70 72 69 6E 74 94 4B 32 8C 06 69 6E 64 70 74 72 94 8C 15 6E 75 6D 70 79 2E 63 6F 72 65 2E 6D 75 6C 74 69 61 72 72 61 79 94 8C 0C 5F 72 65 63 6F 6E 73 74 72 75 63 74 94 93 94 8C 05 6E 75 6D 70 79 94 8C 07 6E 64 61 72 72 61 79 94 93 94 4B 00 85 94 43 01 62 94 87 94 52 94 28 4B 01 4B 03 85 94 68 0C 8C 05 64 74 79 70 65 94 93 94 8C 02 69 34 94 89 88 87 94 52 94 28 4B 03 8C 01 3C 94 4E 4E 4E 4A FF FF FF FF 4A FF FF FF FF 4B 00 74 94 62 89 43 0C 00 00 00 00 01 00 00 00 01 00 00 00 94 74 94 62 8C 07 69 6E 64 69 63 65 73 94 68 0B 68 0E 4B 00 85 94 68 10 87 94 52 94 28 4B 01 4B 01 85 94 68 18 89 43 04 01 00 00 00 94 74 94 62 8C 04 64 61 74 61 94 68 0B 68 0E 4B 00 85 94 68 10 87 94 52 94 28 4B 01 4B 01 85 94 68 15 8C 02 69 38 94 89 88 87 94 52 94 28 4B 03 68 19 4E 4E 4E 4A FF FF FF FF 4A FF FF FF FF 4B 00 74 94 62 89 43 08 01 00 00 00 00 00 00 00 94 74 94 62 8C 15 5F 68 61 73 5F 63 61 6E 6F 6E 69 63 61 6C 5F 66 6F 72 6D 61 74 94 88 8C 13 5F 68 61 73 5F 73 6F 72 74 65 64 5F 69 6E 64 69 63 65 73 94 88 75 62 2E]|0                                    |\n",
            "|17          |1             |1          |1664.0              |1664.0           |1664.0                  |1664.0              |1664.0                  |2                             |[80 04 95 8F 01 00 00 00 00 00 00 8C 11 73 63 69 70 79 2E 73 70 61 72 73 65 2E 5F 63 73 72 94 8C 0A 63 73 72 5F 6D 61 74 72 69 78 94 93 94 29 81 94 7D 94 28 8C 06 5F 73 68 61 70 65 94 4B 02 4B 02 86 94 8C 08 6D 61 78 70 72 69 6E 74 94 4B 32 8C 06 69 6E 64 70 74 72 94 8C 15 6E 75 6D 70 79 2E 63 6F 72 65 2E 6D 75 6C 74 69 61 72 72 61 79 94 8C 0C 5F 72 65 63 6F 6E 73 74 72 75 63 74 94 93 94 8C 05 6E 75 6D 70 79 94 8C 07 6E 64 61 72 72 61 79 94 93 94 4B 00 85 94 43 01 62 94 87 94 52 94 28 4B 01 4B 03 85 94 68 0C 8C 05 64 74 79 70 65 94 93 94 8C 02 69 34 94 89 88 87 94 52 94 28 4B 03 8C 01 3C 94 4E 4E 4E 4A FF FF FF FF 4A FF FF FF FF 4B 00 74 94 62 89 43 0C 00 00 00 00 01 00 00 00 01 00 00 00 94 74 94 62 8C 07 69 6E 64 69 63 65 73 94 68 0B 68 0E 4B 00 85 94 68 10 87 94 52 94 28 4B 01 4B 01 85 94 68 18 89 43 04 01 00 00 00 94 74 94 62 8C 04 64 61 74 61 94 68 0B 68 0E 4B 00 85 94 68 10 87 94 52 94 28 4B 01 4B 01 85 94 68 15 8C 02 66 38 94 89 88 87 94 52 94 28 4B 03 68 19 4E 4E 4E 4A FF FF FF FF 4A FF FF FF FF 4B 00 74 94 62 89 43 08 00 00 00 00 00 00 9A 40 94 74 94 62 8C 15 5F 68 61 73 5F 63 61 6E 6F 6E 69 63 61 6C 5F 66 6F 72 6D 61 74 94 88 8C 13 5F 68 61 73 5F 73 6F 72 74 65 64 5F 69 6E 64 69 63 65 73 94 88 75 62 2E]|[80 04 95 8F 01 00 00 00 00 00 00 8C 11 73 63 69 70 79 2E 73 70 61 72 73 65 2E 5F 63 73 72 94 8C 0A 63 73 72 5F 6D 61 74 72 69 78 94 93 94 29 81 94 7D 94 28 8C 06 5F 73 68 61 70 65 94 4B 02 4B 02 86 94 8C 08 6D 61 78 70 72 69 6E 74 94 4B 32 8C 06 69 6E 64 70 74 72 94 8C 15 6E 75 6D 70 79 2E 63 6F 72 65 2E 6D 75 6C 74 69 61 72 72 61 79 94 8C 0C 5F 72 65 63 6F 6E 73 74 72 75 63 74 94 93 94 8C 05 6E 75 6D 70 79 94 8C 07 6E 64 61 72 72 61 79 94 93 94 4B 00 85 94 43 01 62 94 87 94 52 94 28 4B 01 4B 03 85 94 68 0C 8C 05 64 74 79 70 65 94 93 94 8C 02 69 34 94 89 88 87 94 52 94 28 4B 03 8C 01 3C 94 4E 4E 4E 4A FF FF FF FF 4A FF FF FF FF 4B 00 74 94 62 89 43 0C 00 00 00 00 01 00 00 00 01 00 00 00 94 74 94 62 8C 07 69 6E 64 69 63 65 73 94 68 0B 68 0E 4B 00 85 94 68 10 87 94 52 94 28 4B 01 4B 01 85 94 68 18 89 43 04 01 00 00 00 94 74 94 62 8C 04 64 61 74 61 94 68 0B 68 0E 4B 00 85 94 68 10 87 94 52 94 28 4B 01 4B 01 85 94 68 15 8C 02 69 38 94 89 88 87 94 52 94 28 4B 03 68 19 4E 4E 4E 4A FF FF FF FF 4A FF FF FF FF 4B 00 74 94 62 89 43 08 01 00 00 00 00 00 00 00 94 74 94 62 8C 15 5F 68 61 73 5F 63 61 6E 6F 6E 69 63 61 6C 5F 66 6F 72 6D 61 74 94 88 8C 13 5F 68 61 73 5F 73 6F 72 74 65 64 5F 69 6E 64 69 63 65 73 94 88 75 62 2E]|0                                    |\n",
            "|18          |1             |1          |1068.0              |1068.0           |1068.0                  |1068.0              |1068.0                  |2                             |[80 04 95 8F 01 00 00 00 00 00 00 8C 11 73 63 69 70 79 2E 73 70 61 72 73 65 2E 5F 63 73 72 94 8C 0A 63 73 72 5F 6D 61 74 72 69 78 94 93 94 29 81 94 7D 94 28 8C 06 5F 73 68 61 70 65 94 4B 02 4B 02 86 94 8C 08 6D 61 78 70 72 69 6E 74 94 4B 32 8C 06 69 6E 64 70 74 72 94 8C 15 6E 75 6D 70 79 2E 63 6F 72 65 2E 6D 75 6C 74 69 61 72 72 61 79 94 8C 0C 5F 72 65 63 6F 6E 73 74 72 75 63 74 94 93 94 8C 05 6E 75 6D 70 79 94 8C 07 6E 64 61 72 72 61 79 94 93 94 4B 00 85 94 43 01 62 94 87 94 52 94 28 4B 01 4B 03 85 94 68 0C 8C 05 64 74 79 70 65 94 93 94 8C 02 69 34 94 89 88 87 94 52 94 28 4B 03 8C 01 3C 94 4E 4E 4E 4A FF FF FF FF 4A FF FF FF FF 4B 00 74 94 62 89 43 0C 00 00 00 00 01 00 00 00 01 00 00 00 94 74 94 62 8C 07 69 6E 64 69 63 65 73 94 68 0B 68 0E 4B 00 85 94 68 10 87 94 52 94 28 4B 01 4B 01 85 94 68 18 89 43 04 01 00 00 00 94 74 94 62 8C 04 64 61 74 61 94 68 0B 68 0E 4B 00 85 94 68 10 87 94 52 94 28 4B 01 4B 01 85 94 68 15 8C 02 66 38 94 89 88 87 94 52 94 28 4B 03 68 19 4E 4E 4E 4A FF FF FF FF 4A FF FF FF FF 4B 00 74 94 62 89 43 08 00 00 00 00 00 B0 90 40 94 74 94 62 8C 15 5F 68 61 73 5F 63 61 6E 6F 6E 69 63 61 6C 5F 66 6F 72 6D 61 74 94 88 8C 13 5F 68 61 73 5F 73 6F 72 74 65 64 5F 69 6E 64 69 63 65 73 94 88 75 62 2E]|[80 04 95 8F 01 00 00 00 00 00 00 8C 11 73 63 69 70 79 2E 73 70 61 72 73 65 2E 5F 63 73 72 94 8C 0A 63 73 72 5F 6D 61 74 72 69 78 94 93 94 29 81 94 7D 94 28 8C 06 5F 73 68 61 70 65 94 4B 02 4B 02 86 94 8C 08 6D 61 78 70 72 69 6E 74 94 4B 32 8C 06 69 6E 64 70 74 72 94 8C 15 6E 75 6D 70 79 2E 63 6F 72 65 2E 6D 75 6C 74 69 61 72 72 61 79 94 8C 0C 5F 72 65 63 6F 6E 73 74 72 75 63 74 94 93 94 8C 05 6E 75 6D 70 79 94 8C 07 6E 64 61 72 72 61 79 94 93 94 4B 00 85 94 43 01 62 94 87 94 52 94 28 4B 01 4B 03 85 94 68 0C 8C 05 64 74 79 70 65 94 93 94 8C 02 69 34 94 89 88 87 94 52 94 28 4B 03 8C 01 3C 94 4E 4E 4E 4A FF FF FF FF 4A FF FF FF FF 4B 00 74 94 62 89 43 0C 00 00 00 00 01 00 00 00 01 00 00 00 94 74 94 62 8C 07 69 6E 64 69 63 65 73 94 68 0B 68 0E 4B 00 85 94 68 10 87 94 52 94 28 4B 01 4B 01 85 94 68 18 89 43 04 01 00 00 00 94 74 94 62 8C 04 64 61 74 61 94 68 0B 68 0E 4B 00 85 94 68 10 87 94 52 94 28 4B 01 4B 01 85 94 68 15 8C 02 69 38 94 89 88 87 94 52 94 28 4B 03 68 19 4E 4E 4E 4A FF FF FF FF 4A FF FF FF FF 4B 00 74 94 62 89 43 08 01 00 00 00 00 00 00 00 94 74 94 62 8C 15 5F 68 61 73 5F 63 61 6E 6F 6E 69 63 61 6C 5F 66 6F 72 6D 61 74 94 88 8C 13 5F 68 61 73 5F 73 6F 72 74 65 64 5F 69 6E 64 69 63 65 73 94 88 75 62 2E]|0                                    |\n",
            "|19          |1             |1          |1278.0              |1278.0           |1278.0                  |1278.0              |1278.0                  |2                             |[80 04 95 8F 01 00 00 00 00 00 00 8C 11 73 63 69 70 79 2E 73 70 61 72 73 65 2E 5F 63 73 72 94 8C 0A 63 73 72 5F 6D 61 74 72 69 78 94 93 94 29 81 94 7D 94 28 8C 06 5F 73 68 61 70 65 94 4B 02 4B 02 86 94 8C 08 6D 61 78 70 72 69 6E 74 94 4B 32 8C 06 69 6E 64 70 74 72 94 8C 15 6E 75 6D 70 79 2E 63 6F 72 65 2E 6D 75 6C 74 69 61 72 72 61 79 94 8C 0C 5F 72 65 63 6F 6E 73 74 72 75 63 74 94 93 94 8C 05 6E 75 6D 70 79 94 8C 07 6E 64 61 72 72 61 79 94 93 94 4B 00 85 94 43 01 62 94 87 94 52 94 28 4B 01 4B 03 85 94 68 0C 8C 05 64 74 79 70 65 94 93 94 8C 02 69 34 94 89 88 87 94 52 94 28 4B 03 8C 01 3C 94 4E 4E 4E 4A FF FF FF FF 4A FF FF FF FF 4B 00 74 94 62 89 43 0C 00 00 00 00 01 00 00 00 01 00 00 00 94 74 94 62 8C 07 69 6E 64 69 63 65 73 94 68 0B 68 0E 4B 00 85 94 68 10 87 94 52 94 28 4B 01 4B 01 85 94 68 18 89 43 04 01 00 00 00 94 74 94 62 8C 04 64 61 74 61 94 68 0B 68 0E 4B 00 85 94 68 10 87 94 52 94 28 4B 01 4B 01 85 94 68 15 8C 02 66 38 94 89 88 87 94 52 94 28 4B 03 68 19 4E 4E 4E 4A FF FF FF FF 4A FF FF FF FF 4B 00 74 94 62 89 43 08 00 00 00 00 00 F8 93 40 94 74 94 62 8C 15 5F 68 61 73 5F 63 61 6E 6F 6E 69 63 61 6C 5F 66 6F 72 6D 61 74 94 88 8C 13 5F 68 61 73 5F 73 6F 72 74 65 64 5F 69 6E 64 69 63 65 73 94 88 75 62 2E]|[80 04 95 8F 01 00 00 00 00 00 00 8C 11 73 63 69 70 79 2E 73 70 61 72 73 65 2E 5F 63 73 72 94 8C 0A 63 73 72 5F 6D 61 74 72 69 78 94 93 94 29 81 94 7D 94 28 8C 06 5F 73 68 61 70 65 94 4B 02 4B 02 86 94 8C 08 6D 61 78 70 72 69 6E 74 94 4B 32 8C 06 69 6E 64 70 74 72 94 8C 15 6E 75 6D 70 79 2E 63 6F 72 65 2E 6D 75 6C 74 69 61 72 72 61 79 94 8C 0C 5F 72 65 63 6F 6E 73 74 72 75 63 74 94 93 94 8C 05 6E 75 6D 70 79 94 8C 07 6E 64 61 72 72 61 79 94 93 94 4B 00 85 94 43 01 62 94 87 94 52 94 28 4B 01 4B 03 85 94 68 0C 8C 05 64 74 79 70 65 94 93 94 8C 02 69 34 94 89 88 87 94 52 94 28 4B 03 8C 01 3C 94 4E 4E 4E 4A FF FF FF FF 4A FF FF FF FF 4B 00 74 94 62 89 43 0C 00 00 00 00 01 00 00 00 01 00 00 00 94 74 94 62 8C 07 69 6E 64 69 63 65 73 94 68 0B 68 0E 4B 00 85 94 68 10 87 94 52 94 28 4B 01 4B 01 85 94 68 18 89 43 04 01 00 00 00 94 74 94 62 8C 04 64 61 74 61 94 68 0B 68 0E 4B 00 85 94 68 10 87 94 52 94 28 4B 01 4B 01 85 94 68 15 8C 02 69 38 94 89 88 87 94 52 94 28 4B 03 68 19 4E 4E 4E 4A FF FF FF FF 4A FF FF FF FF 4B 00 74 94 62 89 43 08 01 00 00 00 00 00 00 00 94 74 94 62 8C 15 5F 68 61 73 5F 63 61 6E 6F 6E 69 63 61 6C 5F 66 6F 72 6D 61 74 94 88 8C 13 5F 68 61 73 5F 73 6F 72 74 65 64 5F 69 6E 64 69 63 65 73 94 88 75 62 2E]|0                                    |\n",
            "|20          |1             |1          |752.0               |752.0            |752.0                   |752.0               |752.0                   |2                             |[80 04 95 8F 01 00 00 00 00 00 00 8C 11 73 63 69 70 79 2E 73 70 61 72 73 65 2E 5F 63 73 72 94 8C 0A 63 73 72 5F 6D 61 74 72 69 78 94 93 94 29 81 94 7D 94 28 8C 06 5F 73 68 61 70 65 94 4B 02 4B 02 86 94 8C 08 6D 61 78 70 72 69 6E 74 94 4B 32 8C 06 69 6E 64 70 74 72 94 8C 15 6E 75 6D 70 79 2E 63 6F 72 65 2E 6D 75 6C 74 69 61 72 72 61 79 94 8C 0C 5F 72 65 63 6F 6E 73 74 72 75 63 74 94 93 94 8C 05 6E 75 6D 70 79 94 8C 07 6E 64 61 72 72 61 79 94 93 94 4B 00 85 94 43 01 62 94 87 94 52 94 28 4B 01 4B 03 85 94 68 0C 8C 05 64 74 79 70 65 94 93 94 8C 02 69 34 94 89 88 87 94 52 94 28 4B 03 8C 01 3C 94 4E 4E 4E 4A FF FF FF FF 4A FF FF FF FF 4B 00 74 94 62 89 43 0C 00 00 00 00 01 00 00 00 01 00 00 00 94 74 94 62 8C 07 69 6E 64 69 63 65 73 94 68 0B 68 0E 4B 00 85 94 68 10 87 94 52 94 28 4B 01 4B 01 85 94 68 18 89 43 04 01 00 00 00 94 74 94 62 8C 04 64 61 74 61 94 68 0B 68 0E 4B 00 85 94 68 10 87 94 52 94 28 4B 01 4B 01 85 94 68 15 8C 02 66 38 94 89 88 87 94 52 94 28 4B 03 68 19 4E 4E 4E 4A FF FF FF FF 4A FF FF FF FF 4B 00 74 94 62 89 43 08 00 00 00 00 00 80 87 40 94 74 94 62 8C 15 5F 68 61 73 5F 63 61 6E 6F 6E 69 63 61 6C 5F 66 6F 72 6D 61 74 94 88 8C 13 5F 68 61 73 5F 73 6F 72 74 65 64 5F 69 6E 64 69 63 65 73 94 88 75 62 2E]|[80 04 95 8F 01 00 00 00 00 00 00 8C 11 73 63 69 70 79 2E 73 70 61 72 73 65 2E 5F 63 73 72 94 8C 0A 63 73 72 5F 6D 61 74 72 69 78 94 93 94 29 81 94 7D 94 28 8C 06 5F 73 68 61 70 65 94 4B 02 4B 02 86 94 8C 08 6D 61 78 70 72 69 6E 74 94 4B 32 8C 06 69 6E 64 70 74 72 94 8C 15 6E 75 6D 70 79 2E 63 6F 72 65 2E 6D 75 6C 74 69 61 72 72 61 79 94 8C 0C 5F 72 65 63 6F 6E 73 74 72 75 63 74 94 93 94 8C 05 6E 75 6D 70 79 94 8C 07 6E 64 61 72 72 61 79 94 93 94 4B 00 85 94 43 01 62 94 87 94 52 94 28 4B 01 4B 03 85 94 68 0C 8C 05 64 74 79 70 65 94 93 94 8C 02 69 34 94 89 88 87 94 52 94 28 4B 03 8C 01 3C 94 4E 4E 4E 4A FF FF FF FF 4A FF FF FF FF 4B 00 74 94 62 89 43 0C 00 00 00 00 01 00 00 00 01 00 00 00 94 74 94 62 8C 07 69 6E 64 69 63 65 73 94 68 0B 68 0E 4B 00 85 94 68 10 87 94 52 94 28 4B 01 4B 01 85 94 68 18 89 43 04 01 00 00 00 94 74 94 62 8C 04 64 61 74 61 94 68 0B 68 0E 4B 00 85 94 68 10 87 94 52 94 28 4B 01 4B 01 85 94 68 15 8C 02 69 38 94 89 88 87 94 52 94 28 4B 03 68 19 4E 4E 4E 4A FF FF FF FF 4A FF FF FF FF 4B 00 74 94 62 89 43 08 01 00 00 00 00 00 00 00 94 74 94 62 8C 15 5F 68 61 73 5F 63 61 6E 6F 6E 69 63 61 6C 5F 66 6F 72 6D 61 74 94 88 8C 13 5F 68 61 73 5F 73 6F 72 74 65 64 5F 69 6E 64 69 63 65 73 94 88 75 62 2E]|0                                    |\n",
            "|21          |1             |1          |1436.0              |1436.0           |1436.0                  |1436.0              |1436.0                  |2                             |[80 04 95 8F 01 00 00 00 00 00 00 8C 11 73 63 69 70 79 2E 73 70 61 72 73 65 2E 5F 63 73 72 94 8C 0A 63 73 72 5F 6D 61 74 72 69 78 94 93 94 29 81 94 7D 94 28 8C 06 5F 73 68 61 70 65 94 4B 02 4B 02 86 94 8C 08 6D 61 78 70 72 69 6E 74 94 4B 32 8C 06 69 6E 64 70 74 72 94 8C 15 6E 75 6D 70 79 2E 63 6F 72 65 2E 6D 75 6C 74 69 61 72 72 61 79 94 8C 0C 5F 72 65 63 6F 6E 73 74 72 75 63 74 94 93 94 8C 05 6E 75 6D 70 79 94 8C 07 6E 64 61 72 72 61 79 94 93 94 4B 00 85 94 43 01 62 94 87 94 52 94 28 4B 01 4B 03 85 94 68 0C 8C 05 64 74 79 70 65 94 93 94 8C 02 69 34 94 89 88 87 94 52 94 28 4B 03 8C 01 3C 94 4E 4E 4E 4A FF FF FF FF 4A FF FF FF FF 4B 00 74 94 62 89 43 0C 00 00 00 00 01 00 00 00 01 00 00 00 94 74 94 62 8C 07 69 6E 64 69 63 65 73 94 68 0B 68 0E 4B 00 85 94 68 10 87 94 52 94 28 4B 01 4B 01 85 94 68 18 89 43 04 01 00 00 00 94 74 94 62 8C 04 64 61 74 61 94 68 0B 68 0E 4B 00 85 94 68 10 87 94 52 94 28 4B 01 4B 01 85 94 68 15 8C 02 66 38 94 89 88 87 94 52 94 28 4B 03 68 19 4E 4E 4E 4A FF FF FF FF 4A FF FF FF FF 4B 00 74 94 62 89 43 08 00 00 00 00 00 70 96 40 94 74 94 62 8C 15 5F 68 61 73 5F 63 61 6E 6F 6E 69 63 61 6C 5F 66 6F 72 6D 61 74 94 88 8C 13 5F 68 61 73 5F 73 6F 72 74 65 64 5F 69 6E 64 69 63 65 73 94 88 75 62 2E]|[80 04 95 8F 01 00 00 00 00 00 00 8C 11 73 63 69 70 79 2E 73 70 61 72 73 65 2E 5F 63 73 72 94 8C 0A 63 73 72 5F 6D 61 74 72 69 78 94 93 94 29 81 94 7D 94 28 8C 06 5F 73 68 61 70 65 94 4B 02 4B 02 86 94 8C 08 6D 61 78 70 72 69 6E 74 94 4B 32 8C 06 69 6E 64 70 74 72 94 8C 15 6E 75 6D 70 79 2E 63 6F 72 65 2E 6D 75 6C 74 69 61 72 72 61 79 94 8C 0C 5F 72 65 63 6F 6E 73 74 72 75 63 74 94 93 94 8C 05 6E 75 6D 70 79 94 8C 07 6E 64 61 72 72 61 79 94 93 94 4B 00 85 94 43 01 62 94 87 94 52 94 28 4B 01 4B 03 85 94 68 0C 8C 05 64 74 79 70 65 94 93 94 8C 02 69 34 94 89 88 87 94 52 94 28 4B 03 8C 01 3C 94 4E 4E 4E 4A FF FF FF FF 4A FF FF FF FF 4B 00 74 94 62 89 43 0C 00 00 00 00 01 00 00 00 01 00 00 00 94 74 94 62 8C 07 69 6E 64 69 63 65 73 94 68 0B 68 0E 4B 00 85 94 68 10 87 94 52 94 28 4B 01 4B 01 85 94 68 18 89 43 04 01 00 00 00 94 74 94 62 8C 04 64 61 74 61 94 68 0B 68 0E 4B 00 85 94 68 10 87 94 52 94 28 4B 01 4B 01 85 94 68 15 8C 02 69 38 94 89 88 87 94 52 94 28 4B 03 68 19 4E 4E 4E 4A FF FF FF FF 4A FF FF FF FF 4B 00 74 94 62 89 43 08 01 00 00 00 00 00 00 00 94 74 94 62 8C 15 5F 68 61 73 5F 63 61 6E 6F 6E 69 63 61 6C 5F 66 6F 72 6D 61 74 94 88 8C 13 5F 68 61 73 5F 73 6F 72 74 65 64 5F 69 6E 64 69 63 65 73 94 88 75 62 2E]|0                                    |\n",
            "|22          |1             |1          |1509.0              |1509.0           |1509.0                  |1509.0              |1509.0                  |2                             |[80 04 95 8F 01 00 00 00 00 00 00 8C 11 73 63 69 70 79 2E 73 70 61 72 73 65 2E 5F 63 73 72 94 8C 0A 63 73 72 5F 6D 61 74 72 69 78 94 93 94 29 81 94 7D 94 28 8C 06 5F 73 68 61 70 65 94 4B 02 4B 02 86 94 8C 08 6D 61 78 70 72 69 6E 74 94 4B 32 8C 06 69 6E 64 70 74 72 94 8C 15 6E 75 6D 70 79 2E 63 6F 72 65 2E 6D 75 6C 74 69 61 72 72 61 79 94 8C 0C 5F 72 65 63 6F 6E 73 74 72 75 63 74 94 93 94 8C 05 6E 75 6D 70 79 94 8C 07 6E 64 61 72 72 61 79 94 93 94 4B 00 85 94 43 01 62 94 87 94 52 94 28 4B 01 4B 03 85 94 68 0C 8C 05 64 74 79 70 65 94 93 94 8C 02 69 34 94 89 88 87 94 52 94 28 4B 03 8C 01 3C 94 4E 4E 4E 4A FF FF FF FF 4A FF FF FF FF 4B 00 74 94 62 89 43 0C 00 00 00 00 01 00 00 00 01 00 00 00 94 74 94 62 8C 07 69 6E 64 69 63 65 73 94 68 0B 68 0E 4B 00 85 94 68 10 87 94 52 94 28 4B 01 4B 01 85 94 68 18 89 43 04 01 00 00 00 94 74 94 62 8C 04 64 61 74 61 94 68 0B 68 0E 4B 00 85 94 68 10 87 94 52 94 28 4B 01 4B 01 85 94 68 15 8C 02 66 38 94 89 88 87 94 52 94 28 4B 03 68 19 4E 4E 4E 4A FF FF FF FF 4A FF FF FF FF 4B 00 74 94 62 89 43 08 00 00 00 00 00 94 97 40 94 74 94 62 8C 15 5F 68 61 73 5F 63 61 6E 6F 6E 69 63 61 6C 5F 66 6F 72 6D 61 74 94 88 8C 13 5F 68 61 73 5F 73 6F 72 74 65 64 5F 69 6E 64 69 63 65 73 94 88 75 62 2E]|[80 04 95 8F 01 00 00 00 00 00 00 8C 11 73 63 69 70 79 2E 73 70 61 72 73 65 2E 5F 63 73 72 94 8C 0A 63 73 72 5F 6D 61 74 72 69 78 94 93 94 29 81 94 7D 94 28 8C 06 5F 73 68 61 70 65 94 4B 02 4B 02 86 94 8C 08 6D 61 78 70 72 69 6E 74 94 4B 32 8C 06 69 6E 64 70 74 72 94 8C 15 6E 75 6D 70 79 2E 63 6F 72 65 2E 6D 75 6C 74 69 61 72 72 61 79 94 8C 0C 5F 72 65 63 6F 6E 73 74 72 75 63 74 94 93 94 8C 05 6E 75 6D 70 79 94 8C 07 6E 64 61 72 72 61 79 94 93 94 4B 00 85 94 43 01 62 94 87 94 52 94 28 4B 01 4B 03 85 94 68 0C 8C 05 64 74 79 70 65 94 93 94 8C 02 69 34 94 89 88 87 94 52 94 28 4B 03 8C 01 3C 94 4E 4E 4E 4A FF FF FF FF 4A FF FF FF FF 4B 00 74 94 62 89 43 0C 00 00 00 00 01 00 00 00 01 00 00 00 94 74 94 62 8C 07 69 6E 64 69 63 65 73 94 68 0B 68 0E 4B 00 85 94 68 10 87 94 52 94 28 4B 01 4B 01 85 94 68 18 89 43 04 01 00 00 00 94 74 94 62 8C 04 64 61 74 61 94 68 0B 68 0E 4B 00 85 94 68 10 87 94 52 94 28 4B 01 4B 01 85 94 68 15 8C 02 69 38 94 89 88 87 94 52 94 28 4B 03 68 19 4E 4E 4E 4A FF FF FF FF 4A FF FF FF FF 4B 00 74 94 62 89 43 08 01 00 00 00 00 00 00 00 94 74 94 62 8C 15 5F 68 61 73 5F 63 61 6E 6F 6E 69 63 61 6C 5F 66 6F 72 6D 61 74 94 88 8C 13 5F 68 61 73 5F 73 6F 72 74 65 64 5F 69 6E 64 69 63 65 73 94 88 75 62 2E]|0                                    |\n",
            "+------------+--------------+-----------+--------------------+-----------------+------------------------+--------------------+------------------------+------------------------------+-------------------------------------------------------------------------------------------------------------------------------------------------------------------------------------------------------------------------------------------------------------------------------------------------------------------------------------------------------------------------------------------------------------------------------------------------------------------------------------------------------------------------------------------------------------------------------------------------------------------------------------------------------------------------------------------------------------------------------------------------------------------------------------------------------------------------------------------------------------------------------------------------------------------------------------------------------------------------------------------------------------------------------------------------------------------------------------------------------------------------------------------------------------------------------------------------------------------------------------------------------------------------------+-------------------------------------------------------------------------------------------------------------------------------------------------------------------------------------------------------------------------------------------------------------------------------------------------------------------------------------------------------------------------------------------------------------------------------------------------------------------------------------------------------------------------------------------------------------------------------------------------------------------------------------------------------------------------------------------------------------------------------------------------------------------------------------------------------------------------------------------------------------------------------------------------------------------------------------------------------------------------------------------------------------------------------------------------------------------------------------------------------------------------------------------------------------------------------------------------------------------------------------------------------------------------------+-------------------------------------+\n",
            "only showing top 20 rows\n",
            "\n",
            "+--------------+--------------+--------------------+--------+------------------+\n",
            "|community_id_1|community_id_2|frobenius_similarity|deltacon|final_similarity  |\n",
            "+--------------+--------------+--------------------+--------+------------------+\n",
            "|2             |80            |0.93580375782881    |1.0     |0.9679018789144049|\n",
            "|3             |22            |0.814244064972928   |1.0     |0.907122032486464 |\n",
            "|3             |57            |0.9789684526790184  |1.0     |0.9894842263395092|\n",
            "|3             |89            |0.5951293759512938  |1.0     |0.7975646879756468|\n",
            "|5             |225           |0.8387096774193549  |1.0     |0.9193548387096775|\n",
            "|6             |117           |0.6387726638772664  |1.0     |0.8193863319386332|\n",
            "|6             |274           |0.9103942652329748  |1.0     |0.9551971326164874|\n",
            "|7             |55            |0.6539706248444113  |1.0     |0.8269853124222056|\n",
            "|7             |132           |0.7278084714548803  |1.0     |0.8639042357274401|\n",
            "|10            |85            |0.6754130223517979  |1.0     |0.837706511175899 |\n",
            "|10            |264           |0.9670686456400741  |1.0     |0.983534322820037 |\n",
            "|10            |267           |0.9249898083978801  |1.0     |0.9624949041989401|\n",
            "|11            |155           |0.9898477157360407  |1.0     |0.9949238578680204|\n",
            "|12            |115           |0.8235053235053236  |1.0     |0.9117526617526618|\n",
            "|12            |169           |0.6813281586890901  |1.0     |0.840664079344545 |\n",
            "|14            |175           |0.8573996405032954  |1.0     |0.9286998202516477|\n",
            "|15            |26            |0.8830472103004292  |1.0     |0.9415236051502146|\n",
            "|15            |182           |0.826027397260274   |1.0     |0.9130136986301369|\n",
            "|15            |270           |0.870201096892139   |1.0     |0.9351005484460695|\n",
            "|17            |138           |0.8341365461847389  |1.0     |0.9170682730923694|\n",
            "+--------------+--------------+--------------------+--------+------------------+\n",
            "only showing top 20 rows\n",
            "\n",
            "Completed Stage 3: Calculate similarities between communities\n",
            "\n",
            "+---------+--------+-----------+-------------+---------------+---------------+-----------------------+--------------------------+-----------------------+---------+--------------------+----------------+----------+----------------+------------------+-------------------+-----------+---------+--------------+------------+------------------+-------------------------+-------------------------+--------------------------+---------------------+---------------------+----------------------+----------------------------+-------------------+---------------------+---------------------------------------------------+-------------------------+\n",
            "|numStages|numTasks|elapsedTime|stageDuration|executorRunTime|executorCpuTime|executorDeserializeTime|executorDeserializeCpuTime|resultSerializationTime|jvmGCTime|shuffleFetchWaitTime|shuffleWriteTime|resultSize|diskBytesSpilled|memoryBytesSpilled|peakExecutionMemory|recordsRead|bytesRead|recordsWritten|bytesWritten|shuffleRecordsRead|shuffleTotalBlocksFetched|shuffleLocalBlocksFetched|shuffleRemoteBlocksFetched|shuffleTotalBytesRead|shuffleLocalBytesRead|shuffleRemoteBytesRead|shuffleRemoteBytesReadToDisk|shuffleBytesWritten|shuffleRecordsWritten|stage_name                                         |dataset                  |\n",
            "+---------+--------+-----------+-------------+---------------+---------------+-----------------------+--------------------------+-----------------------+---------+--------------------+----------------+----------+----------------+------------------+-------------------+-----------+---------+--------------+------------+------------------+-------------------------+-------------------------+--------------------------+---------------------+---------------------+----------------------+----------------------------+-------------------+---------------------+---------------------------------------------------+-------------------------+\n",
            "|385      |29065   |334132     |686265       |471932         |92061          |177588                 |147647                    |275                    |2815     |0                   |46780           |10070949  |0               |0                 |1382809600         |36768      |10990176 |0             |0           |164187            |8659                     |8659                     |0                         |6478659              |6478659              |0                     |0                           |6138618            |188580               |Stage 3: Calculate similarities between communities|/content/dataset_30KB.csv|\n",
            "+---------+--------+-----------+-------------+---------------+---------------+-----------------------+--------------------------+-----------------------+---------+--------------------+----------------+----------+----------------+------------------+-------------------+-----------+---------+--------------+------------+------------------+-------------------------+-------------------------+--------------------------+---------------------+---------------------+----------------------+----------------------------+-------------------+---------------------+---------------------------------------------------+-------------------------+\n",
            "\n",
            "Starting Stage 4: Export groups results\n"
          ]
        },
        {
          "output_type": "stream",
          "name": "stderr",
          "text": [
            "ERROR:root:Exception while sending command.\n",
            "Traceback (most recent call last):\n",
            "  File \"/usr/local/lib/python3.10/dist-packages/py4j/clientserver.py\", line 511, in send_command\n",
            "    answer = smart_decode(self.stream.readline()[:-1])\n",
            "RuntimeError: reentrant call inside <_io.BufferedReader name=41>\n",
            "\n",
            "During handling of the above exception, another exception occurred:\n",
            "\n",
            "Traceback (most recent call last):\n",
            "  File \"/usr/local/lib/python3.10/dist-packages/py4j/java_gateway.py\", line 1038, in send_command\n",
            "    response = connection.send_command(command)\n",
            "  File \"/usr/local/lib/python3.10/dist-packages/py4j/clientserver.py\", line 539, in send_command\n",
            "    raise Py4JNetworkError(\n",
            "py4j.protocol.Py4JNetworkError: Error while sending or receiving\n",
            "ERROR:root:Exception while sending command.\n",
            "Traceback (most recent call last):\n",
            "  File \"/usr/local/lib/python3.10/dist-packages/py4j/clientserver.py\", line 511, in send_command\n",
            "    answer = smart_decode(self.stream.readline()[:-1])\n",
            "  File \"/usr/lib/python3.10/socket.py\", line 705, in readinto\n",
            "    return self._sock.recv_into(b)\n",
            "  File \"/usr/local/lib/python3.10/dist-packages/pyspark/context.py\", line 381, in signal_handler\n",
            "    self.cancelAllJobs()\n",
            "  File \"/usr/local/lib/python3.10/dist-packages/pyspark/context.py\", line 2446, in cancelAllJobs\n",
            "    self._jsc.sc().cancelAllJobs()\n",
            "  File \"/usr/local/lib/python3.10/dist-packages/py4j/java_gateway.py\", line 1322, in __call__\n",
            "    return_value = get_return_value(\n",
            "  File \"/usr/local/lib/python3.10/dist-packages/pyspark/errors/exceptions/captured.py\", line 179, in deco\n",
            "    return f(*a, **kw)\n",
            "  File \"/usr/local/lib/python3.10/dist-packages/py4j/protocol.py\", line 334, in get_return_value\n",
            "    raise Py4JError(\n",
            "py4j.protocol.Py4JError: An error occurred while calling o1556.sc\n",
            "\n",
            "During handling of the above exception, another exception occurred:\n",
            "\n",
            "Traceback (most recent call last):\n",
            "  File \"/usr/local/lib/python3.10/dist-packages/py4j/java_gateway.py\", line 1038, in send_command\n",
            "    response = connection.send_command(command)\n",
            "  File \"/usr/local/lib/python3.10/dist-packages/py4j/clientserver.py\", line 539, in send_command\n",
            "    raise Py4JNetworkError(\n",
            "py4j.protocol.Py4JNetworkError: Error while sending or receiving\n"
          ]
        },
        {
          "output_type": "error",
          "ename": "Py4JError",
          "evalue": "An error occurred while calling o2294.count",
          "traceback": [
            "\u001b[0;31m---------------------------------------------------------------------------\u001b[0m",
            "\u001b[0;31mPy4JError\u001b[0m                                 Traceback (most recent call last)",
            "\u001b[0;32m<ipython-input-10-56396f3b1570>\u001b[0m in \u001b[0;36m<cell line: 11>\u001b[0;34m()\u001b[0m\n\u001b[1;32m      9\u001b[0m \u001b[0mspark\u001b[0m\u001b[0;34m,\u001b[0m \u001b[0mstagemetrics\u001b[0m \u001b[0;34m=\u001b[0m \u001b[0mcreate_spark\u001b[0m\u001b[0;34m(\u001b[0m\u001b[0;34m)\u001b[0m\u001b[0;34m\u001b[0m\u001b[0;34m\u001b[0m\u001b[0m\n\u001b[1;32m     10\u001b[0m \u001b[0mprint\u001b[0m\u001b[0;34m(\u001b[0m\u001b[0;34mf\"Starting to process {dataset_name} dataset with the following params: \\n\"\u001b[0m\u001b[0;34m)\u001b[0m\u001b[0;34m\u001b[0m\u001b[0;34m\u001b[0m\u001b[0m\n\u001b[0;32m---> 11\u001b[0;31m \u001b[0mprocess_dataset\u001b[0m\u001b[0;34m(\u001b[0m\u001b[0mdataset_file_path\u001b[0m\u001b[0;34m)\u001b[0m\u001b[0;34m\u001b[0m\u001b[0;34m\u001b[0m\u001b[0m\n\u001b[0m\u001b[1;32m     12\u001b[0m \u001b[0mkill_spark\u001b[0m\u001b[0;34m(\u001b[0m\u001b[0mspark\u001b[0m\u001b[0;34m)\u001b[0m\u001b[0;34m\u001b[0m\u001b[0;34m\u001b[0m\u001b[0m\n",
            "\u001b[0;32m<ipython-input-7-2750d1ffcf78>\u001b[0m in \u001b[0;36mprocess_dataset\u001b[0;34m(dataset_file_path)\u001b[0m\n\u001b[1;32m    386\u001b[0m \u001b[0;34m\u001b[0m\u001b[0m\n\u001b[1;32m    387\u001b[0m   \u001b[0;31m# step 5 - export the found groups\u001b[0m\u001b[0;34m\u001b[0m\u001b[0;34m\u001b[0m\u001b[0m\n\u001b[0;32m--> 388\u001b[0;31m   \u001b[0mexport_similarity_groups\u001b[0m\u001b[0;34m(\u001b[0m\u001b[0mfinal_similarity_df\u001b[0m\u001b[0;34m=\u001b[0m\u001b[0mdf_groups\u001b[0m\u001b[0;34m,\u001b[0m \u001b[0mdf_clients_info\u001b[0m\u001b[0;34m=\u001b[0m\u001b[0mdf_final\u001b[0m\u001b[0;34m,\u001b[0m \u001b[0mdataset_name\u001b[0m\u001b[0;34m=\u001b[0m\u001b[0mdataset_name\u001b[0m\u001b[0;34m)\u001b[0m\u001b[0;34m\u001b[0m\u001b[0;34m\u001b[0m\u001b[0m\n\u001b[0m",
            "\u001b[0;32m<ipython-input-5-82b13c8906e6>\u001b[0m in \u001b[0;36mwrapper\u001b[0;34m(*args, **kwargs)\u001b[0m\n\u001b[1;32m      9\u001b[0m             \u001b[0mstagemetrics\u001b[0m\u001b[0;34m.\u001b[0m\u001b[0mbegin\u001b[0m\u001b[0;34m(\u001b[0m\u001b[0;34m)\u001b[0m  \u001b[0;31m# Begin collecting metrics for this stage\u001b[0m\u001b[0;34m\u001b[0m\u001b[0;34m\u001b[0m\u001b[0m\n\u001b[1;32m     10\u001b[0m \u001b[0;34m\u001b[0m\u001b[0m\n\u001b[0;32m---> 11\u001b[0;31m             \u001b[0mresult\u001b[0m \u001b[0;34m=\u001b[0m \u001b[0mfunc\u001b[0m\u001b[0;34m(\u001b[0m\u001b[0;34m*\u001b[0m\u001b[0margs\u001b[0m\u001b[0;34m,\u001b[0m \u001b[0;34m**\u001b[0m\u001b[0mkwargs\u001b[0m\u001b[0;34m)\u001b[0m  \u001b[0;31m# Run the actual function\u001b[0m\u001b[0;34m\u001b[0m\u001b[0;34m\u001b[0m\u001b[0m\n\u001b[0m\u001b[1;32m     12\u001b[0m \u001b[0;34m\u001b[0m\u001b[0m\n\u001b[1;32m     13\u001b[0m             \u001b[0mstagemetrics\u001b[0m\u001b[0;34m.\u001b[0m\u001b[0mend\u001b[0m\u001b[0;34m(\u001b[0m\u001b[0;34m)\u001b[0m  \u001b[0;31m# Stop collecting metrics for this stage\u001b[0m\u001b[0;34m\u001b[0m\u001b[0;34m\u001b[0m\u001b[0m\n",
            "\u001b[0;32m<ipython-input-7-2750d1ffcf78>\u001b[0m in \u001b[0;36mexport_similarity_groups\u001b[0;34m(final_similarity_df, df_clients_info, dataset_name)\u001b[0m\n\u001b[1;32m    299\u001b[0m         \u001b[0mon\u001b[0m\u001b[0;34m=\u001b[0m\u001b[0;34m\"community_id\"\u001b[0m\u001b[0;34m,\u001b[0m\u001b[0;34m\u001b[0m\u001b[0;34m\u001b[0m\u001b[0m\n\u001b[1;32m    300\u001b[0m         \u001b[0mhow\u001b[0m\u001b[0;34m=\u001b[0m\u001b[0;34m\"left_anti\"\u001b[0m\u001b[0;34m\u001b[0m\u001b[0;34m\u001b[0m\u001b[0m\n\u001b[0;32m--> 301\u001b[0;31m     ).withColumn(\"group_number\", F.monotonically_increasing_id() + grouped_communities.count() + 1)\\\n\u001b[0m\u001b[1;32m    302\u001b[0m      \u001b[0;34m.\u001b[0m\u001b[0morderBy\u001b[0m\u001b[0;34m(\u001b[0m\u001b[0;34m\"community_id\"\u001b[0m\u001b[0;34m)\u001b[0m  \u001b[0;31m# Sort unmatched communities by community_id\u001b[0m\u001b[0;34m\u001b[0m\u001b[0;34m\u001b[0m\u001b[0m\n\u001b[1;32m    303\u001b[0m \u001b[0;34m\u001b[0m\u001b[0m\n",
            "\u001b[0;32m/usr/local/lib/python3.10/dist-packages/pyspark/sql/dataframe.py\u001b[0m in \u001b[0;36mcount\u001b[0;34m(self)\u001b[0m\n\u001b[1;32m   1238\u001b[0m         \u001b[0;36m3\u001b[0m\u001b[0;34m\u001b[0m\u001b[0;34m\u001b[0m\u001b[0m\n\u001b[1;32m   1239\u001b[0m         \"\"\"\n\u001b[0;32m-> 1240\u001b[0;31m         \u001b[0;32mreturn\u001b[0m \u001b[0mint\u001b[0m\u001b[0;34m(\u001b[0m\u001b[0mself\u001b[0m\u001b[0;34m.\u001b[0m\u001b[0m_jdf\u001b[0m\u001b[0;34m.\u001b[0m\u001b[0mcount\u001b[0m\u001b[0;34m(\u001b[0m\u001b[0;34m)\u001b[0m\u001b[0;34m)\u001b[0m\u001b[0;34m\u001b[0m\u001b[0;34m\u001b[0m\u001b[0m\n\u001b[0m\u001b[1;32m   1241\u001b[0m \u001b[0;34m\u001b[0m\u001b[0m\n\u001b[1;32m   1242\u001b[0m     \u001b[0;32mdef\u001b[0m \u001b[0mcollect\u001b[0m\u001b[0;34m(\u001b[0m\u001b[0mself\u001b[0m\u001b[0;34m)\u001b[0m \u001b[0;34m->\u001b[0m \u001b[0mList\u001b[0m\u001b[0;34m[\u001b[0m\u001b[0mRow\u001b[0m\u001b[0;34m]\u001b[0m\u001b[0;34m:\u001b[0m\u001b[0;34m\u001b[0m\u001b[0;34m\u001b[0m\u001b[0m\n",
            "\u001b[0;32m/usr/local/lib/python3.10/dist-packages/py4j/java_gateway.py\u001b[0m in \u001b[0;36m__call__\u001b[0;34m(self, *args)\u001b[0m\n\u001b[1;32m   1320\u001b[0m \u001b[0;34m\u001b[0m\u001b[0m\n\u001b[1;32m   1321\u001b[0m         \u001b[0manswer\u001b[0m \u001b[0;34m=\u001b[0m \u001b[0mself\u001b[0m\u001b[0;34m.\u001b[0m\u001b[0mgateway_client\u001b[0m\u001b[0;34m.\u001b[0m\u001b[0msend_command\u001b[0m\u001b[0;34m(\u001b[0m\u001b[0mcommand\u001b[0m\u001b[0;34m)\u001b[0m\u001b[0;34m\u001b[0m\u001b[0;34m\u001b[0m\u001b[0m\n\u001b[0;32m-> 1322\u001b[0;31m         return_value = get_return_value(\n\u001b[0m\u001b[1;32m   1323\u001b[0m             answer, self.gateway_client, self.target_id, self.name)\n\u001b[1;32m   1324\u001b[0m \u001b[0;34m\u001b[0m\u001b[0m\n",
            "\u001b[0;32m/usr/local/lib/python3.10/dist-packages/pyspark/errors/exceptions/captured.py\u001b[0m in \u001b[0;36mdeco\u001b[0;34m(*a, **kw)\u001b[0m\n\u001b[1;32m    177\u001b[0m     \u001b[0;32mdef\u001b[0m \u001b[0mdeco\u001b[0m\u001b[0;34m(\u001b[0m\u001b[0;34m*\u001b[0m\u001b[0ma\u001b[0m\u001b[0;34m:\u001b[0m \u001b[0mAny\u001b[0m\u001b[0;34m,\u001b[0m \u001b[0;34m**\u001b[0m\u001b[0mkw\u001b[0m\u001b[0;34m:\u001b[0m \u001b[0mAny\u001b[0m\u001b[0;34m)\u001b[0m \u001b[0;34m->\u001b[0m \u001b[0mAny\u001b[0m\u001b[0;34m:\u001b[0m\u001b[0;34m\u001b[0m\u001b[0;34m\u001b[0m\u001b[0m\n\u001b[1;32m    178\u001b[0m         \u001b[0;32mtry\u001b[0m\u001b[0;34m:\u001b[0m\u001b[0;34m\u001b[0m\u001b[0;34m\u001b[0m\u001b[0m\n\u001b[0;32m--> 179\u001b[0;31m             \u001b[0;32mreturn\u001b[0m \u001b[0mf\u001b[0m\u001b[0;34m(\u001b[0m\u001b[0;34m*\u001b[0m\u001b[0ma\u001b[0m\u001b[0;34m,\u001b[0m \u001b[0;34m**\u001b[0m\u001b[0mkw\u001b[0m\u001b[0;34m)\u001b[0m\u001b[0;34m\u001b[0m\u001b[0;34m\u001b[0m\u001b[0m\n\u001b[0m\u001b[1;32m    180\u001b[0m         \u001b[0;32mexcept\u001b[0m \u001b[0mPy4JJavaError\u001b[0m \u001b[0;32mas\u001b[0m \u001b[0me\u001b[0m\u001b[0;34m:\u001b[0m\u001b[0;34m\u001b[0m\u001b[0;34m\u001b[0m\u001b[0m\n\u001b[1;32m    181\u001b[0m             \u001b[0mconverted\u001b[0m \u001b[0;34m=\u001b[0m \u001b[0mconvert_exception\u001b[0m\u001b[0;34m(\u001b[0m\u001b[0me\u001b[0m\u001b[0;34m.\u001b[0m\u001b[0mjava_exception\u001b[0m\u001b[0;34m)\u001b[0m\u001b[0;34m\u001b[0m\u001b[0;34m\u001b[0m\u001b[0m\n",
            "\u001b[0;32m/usr/local/lib/python3.10/dist-packages/py4j/protocol.py\u001b[0m in \u001b[0;36mget_return_value\u001b[0;34m(answer, gateway_client, target_id, name)\u001b[0m\n\u001b[1;32m    332\u001b[0m                     format(target_id, \".\", name, value))\n\u001b[1;32m    333\u001b[0m         \u001b[0;32melse\u001b[0m\u001b[0;34m:\u001b[0m\u001b[0;34m\u001b[0m\u001b[0;34m\u001b[0m\u001b[0m\n\u001b[0;32m--> 334\u001b[0;31m             raise Py4JError(\n\u001b[0m\u001b[1;32m    335\u001b[0m                 \u001b[0;34m\"An error occurred while calling {0}{1}{2}\"\u001b[0m\u001b[0;34m.\u001b[0m\u001b[0;34m\u001b[0m\u001b[0;34m\u001b[0m\u001b[0m\n\u001b[1;32m    336\u001b[0m                 format(target_id, \".\", name))\n",
            "\u001b[0;31mPy4JError\u001b[0m: An error occurred while calling o2294.count"
          ]
        }
      ],
      "source": [
        "# 10th cell - read any given dataset, cahnge path accordingly\n",
        "\n",
        "# set global params\n",
        "clear_csv = False\n",
        "dataset_file_path = \"/content/dataset_30KB.csv\" # change this to the path to your dataset\n",
        "dataset_name = \"/content/dataset_30KB.csv\" # also set this to a meaningful name\n",
        "i=0\n",
        "\n",
        "spark, stagemetrics = create_spark()\n",
        "print(f\"Starting to process {dataset_name} dataset with the following params: \\n\")\n",
        "process_dataset(dataset_file_path)\n",
        "kill_spark(spark)"
      ]
    },
    {
      "cell_type": "code",
      "execution_count": null,
      "metadata": {
        "id": "GaMuiXpN_sVO"
      },
      "outputs": [],
      "source": [
        "import matplotlib.pyplot as plt\n",
        "import seaborn as sns\n",
        "import pandas as pd\n",
        "import re\n",
        "\n",
        "# Read data and prepare the DataFrame (as per your original steps)\n",
        "\n",
        "# Path to the directory containing the CSV files, with a wildcard pattern\n",
        "# This will match any file that ends with \"_stage_metrics.csv\" in the specified directory\n",
        "csv_files_path = \"/content/*_stage_metrics*\"\n",
        "\n",
        "# Read all CSV files that match the pattern into a single Spark DataFrame\n",
        "df_monitor = spark.read.csv(csv_files_path, header=True)\n",
        "\n",
        "# Convert to Pandas DataFrame if needed for plotting\n",
        "pdf_monitor = df_monitor.toPandas().dropna()\n",
        "\n",
        "# Display the combined DataFrame to verify\n",
        "pdf_monitor.head()\n",
        "# df_monitor = spark.read.csv(f\"{dataset_name}_stage_metrics\", header=True)\n",
        "# pdf_monitor = df_monitor.toPandas().dropna()\n",
        "\n",
        "# Example DataFrame\n",
        "# data = {\n",
        "#     'stage_name': ['Stage 1', 'Stage 1', 'Stage 2', 'Stage 2', 'Stage 3', 'Stage 3', 'Stage 4', 'Stage 4'],\n",
        "#     'file_size': [10, 20, 10, 20, 10, 20, 10, 20],  # File sizes in MB\n",
        "#     'numTasks': [100, 150, 120, 180, 110, 160, 130, 170],\n",
        "#     'stageDuration': [300000, 450000, 280000, 470000, 310000, 460000, 290000, 480000],  # in ms\n",
        "#     'peakExecutionMemory': [2*1024**3, 2.5*1024**3, 2.1*1024**3, 2.6*1024**3, 2.2*1024**3, 2.7*1024**3, 2.3*1024**3, 2.8*1024**3],  # in bytes\n",
        "#     'executorCpuTime': [500000, 750000, 520000, 780000, 510000, 760000, 530000, 790000],  # in ms\n",
        "# }\n",
        "\n",
        "# Set up the plot with a reduced size\n",
        "fig, axes = plt.subplots(2, 2, figsize=(12, 10), sharex=True)\n",
        "axes = axes.flatten()\n",
        "\n",
        "# Define custom titles for each metric\n",
        "custom_titles = {\n",
        "    'numTasks': 'Number of Tasks per File Size',\n",
        "    'stageDuration': 'Stage Duration (Minutes) per File Size',\n",
        "    'peakExecutionMemory': 'Peak Execution Memory (GB) per File Size',\n",
        "    'executorCpuTime': 'Executor CPU Time (Minutes) per File Size'\n",
        "}\n",
        "\n",
        "# Plot each metric\n",
        "metrics = pdf_plot_melted['Metric'].unique()\n",
        "for i, metric in enumerate(metrics):\n",
        "    ax = axes[i]\n",
        "    data_metric = pdf_plot_melted[pdf_plot_melted['Metric'] == metric]\n",
        "    sns.lineplot(data=data_metric, x='file_size', y='Value', hue='stage_name', marker='o', ax=ax, legend=True)\n",
        "    ax.set_title(custom_titles.get(metric, metric), fontsize=14)\n",
        "    ax.set_xlabel(\"File Size (MB)\", fontsize=12)\n",
        "    if metric == 'peakExecutionMemory':\n",
        "        ax.set_ylabel(\"Peak Execution Memory (GB)\", fontsize=12)\n",
        "    elif metric in ('stageDuration', 'executorCpuTime'):\n",
        "        ax.set_ylabel(\"Time (minutes)\", fontsize=12)\n",
        "    else:\n",
        "        ax.set_ylabel(\"Number of Tasks\", fontsize=12)\n",
        "\n",
        "# Retrieve and add the legend with improved spacing and marker styles\n",
        "# handles, labels = axes[0].get_legend_handles_labels()\n",
        "# fig.legend(handles, labels, title='Stage Names', bbox_to_anchor=(1.1, 0.5), loc='center right', borderaxespad=1,\n",
        "#            frameon=False, handlelength=3, handletextpad=1)\n",
        "\n",
        "# Adjust layout\n",
        "plt.tight_layout(rect=[0, 0, 0.8, 1])  # Leave space for the legend on the right\n",
        "plt.show()"
      ]
    },
    {
      "cell_type": "code",
      "execution_count": null,
      "metadata": {
        "id": "8_ZLxdC5nDWG"
      },
      "outputs": [],
      "source": [
        "# 11th cell - Plot the resources usgae of current datasets\n",
        "df_monitor = spark.read.csv(f\"{dataset_name}_stage_metrics\",  header=True)\n",
        "df_monitor = df_monitor.orderBy('stage_name')\n",
        "print(f\"count: {df_monitor.count()}\")\n",
        "df_monitor.show(truncate=False)\n",
        "\n",
        "# Convert the Spark DataFrame to a Pandas DataFrame for plotting\n",
        "pdf_monitor = df_monitor.toPandas()\n",
        "\n",
        "# Select the columns of interest for plotting\n",
        "columns_of_interest = ['stage_name', 'numTasks', 'stageDuration', 'peakExecutionMemory', 'executorCpuTime']\n",
        "pdf_plot = pdf_monitor[columns_of_interest].copy().dropna()  # Create a copy to avoid the warning\n",
        "\n",
        "# Format memory and time measurements using .loc\n",
        "pdf_plot.loc[:, 'peakExecutionMemory'] = pdf_plot['peakExecutionMemory'].astype(float) / (1024**3)  # Bytes to GB\n",
        "pdf_plot.loc[:, 'stageDuration'] = pdf_plot['stageDuration'].astype(float) / (1000 * 60)  # ms to minutes\n",
        "pdf_plot.loc[:, 'executorCpuTime'] = pdf_plot['executorCpuTime'].astype(float) / (1000 * 60)  # ms to minutes\n",
        "pdf_plot.loc[:, 'numTasks'] = pdf_plot['numTasks'].astype(int)\n",
        "\n",
        "# Extract stage numbers from stage_name\n",
        "pdf_plot['stage_number'] = pdf_plot['stage_name'].apply(lambda x: int(re.search(r'\\d+', x).group()))\n",
        "\n",
        "# Melt the DataFrame for easier plotting with Seaborn\n",
        "pdf_plot_melted = pd.melt(pdf_plot, id_vars=['stage_name', 'stage_number'], var_name='Metric', value_name='Value')\n",
        "\n",
        "fig = plt.figure(figsize=(10, 8))\n",
        "# Create the plot with facets, stage numbers as x-axis, and legend with full stage names\n",
        "g = sns.FacetGrid(pdf_plot_melted, col='Metric',\n",
        "                   height=6, aspect=1.5,\n",
        "                  col_wrap=2, sharey=False, sharex=False)\n",
        "g.map(sns.barplot, 'stage_number', 'Value', palette='hls', hue='stage_name',\n",
        "      data=pdf_plot_melted, dodge=False)  # Pass data argument\n",
        "g.set_xticklabels(pdf_plot['stage_number'].unique(), size=16)\n",
        "g.set_titles(\"{col_name}\", size=18)\n",
        "g.fig.suptitle('Spark Stage Metrics', y=1.02, size=18)\n",
        "g.add_legend(loc='upper right', bbox_to_anchor=(1.2, 0.92))\n",
        "g.legend.set_title('Stage Names', prop={'weight': 'bold', 'size': 22})  # Add title and format it\n",
        "for text in g.legend.get_texts():\n",
        "    text.set_fontsize(18)  # Legend label font size# Set y-axis labels with units and add x-axis label\n",
        "for ax in g.axes.flat:\n",
        "    metric = ax.get_title()\n",
        "    if metric == 'peakExecutionMemory':\n",
        "        ax.set_ylabel('Peak Execution Memory (GB)', size=18)\n",
        "    elif metric in ('stageDuration', 'executorCpuTime'):\n",
        "        ax.set_ylabel('Time (minutes)', size=18)\n",
        "    else:\n",
        "        ax.set_ylabel(metric, size=18)\n",
        "\n",
        "    ax.set_xlabel('Stage Number', size=18)  # Change x-axis label to \"Stage Number\"\n",
        "\n",
        "g.set_yticklabels(fontsize=18)\n",
        "plt.tight_layout()\n",
        "plt.show()"
      ]
    },
    {
      "cell_type": "code",
      "source": [
        "export_datasets_to_computer(folder_path=\"/content/dataset_5KB.csv_stage_metrics\")"
      ],
      "metadata": {
        "id": "NnwHBEM8PUMU",
        "colab": {
          "base_uri": "https://localhost:8080/",
          "height": 35
        },
        "outputId": "e71ff27c-6306-4845-f6cf-9f237af1cc73"
      },
      "execution_count": 13,
      "outputs": [
        {
          "output_type": "display_data",
          "data": {
            "text/plain": [
              "<IPython.core.display.Javascript object>"
            ],
            "application/javascript": [
              "\n",
              "    async function download(id, filename, size) {\n",
              "      if (!google.colab.kernel.accessAllowed) {\n",
              "        return;\n",
              "      }\n",
              "      const div = document.createElement('div');\n",
              "      const label = document.createElement('label');\n",
              "      label.textContent = `Downloading \"${filename}\": `;\n",
              "      div.appendChild(label);\n",
              "      const progress = document.createElement('progress');\n",
              "      progress.max = size;\n",
              "      div.appendChild(progress);\n",
              "      document.body.appendChild(div);\n",
              "\n",
              "      const buffers = [];\n",
              "      let downloaded = 0;\n",
              "\n",
              "      const channel = await google.colab.kernel.comms.open(id);\n",
              "      // Send a message to notify the kernel that we're ready.\n",
              "      channel.send({})\n",
              "\n",
              "      for await (const message of channel.messages) {\n",
              "        // Send a message to notify the kernel that we're ready.\n",
              "        channel.send({})\n",
              "        if (message.buffers) {\n",
              "          for (const buffer of message.buffers) {\n",
              "            buffers.push(buffer);\n",
              "            downloaded += buffer.byteLength;\n",
              "            progress.value = downloaded;\n",
              "          }\n",
              "        }\n",
              "      }\n",
              "      const blob = new Blob(buffers, {type: 'application/binary'});\n",
              "      const a = document.createElement('a');\n",
              "      a.href = window.URL.createObjectURL(blob);\n",
              "      a.download = filename;\n",
              "      div.appendChild(a);\n",
              "      a.click();\n",
              "      div.remove();\n",
              "    }\n",
              "  "
            ]
          },
          "metadata": {}
        },
        {
          "output_type": "display_data",
          "data": {
            "text/plain": [
              "<IPython.core.display.Javascript object>"
            ],
            "application/javascript": [
              "download(\"download_3fdd33ba-1c8e-4b59-9ebc-2cb1d79fa9f5\", \".part-00000-b1e1348b-f090-4c76-a594-0aca4643664b-c000.csv.crc\", 16)"
            ]
          },
          "metadata": {}
        },
        {
          "output_type": "display_data",
          "data": {
            "text/plain": [
              "<IPython.core.display.Javascript object>"
            ],
            "application/javascript": [
              "\n",
              "    async function download(id, filename, size) {\n",
              "      if (!google.colab.kernel.accessAllowed) {\n",
              "        return;\n",
              "      }\n",
              "      const div = document.createElement('div');\n",
              "      const label = document.createElement('label');\n",
              "      label.textContent = `Downloading \"${filename}\": `;\n",
              "      div.appendChild(label);\n",
              "      const progress = document.createElement('progress');\n",
              "      progress.max = size;\n",
              "      div.appendChild(progress);\n",
              "      document.body.appendChild(div);\n",
              "\n",
              "      const buffers = [];\n",
              "      let downloaded = 0;\n",
              "\n",
              "      const channel = await google.colab.kernel.comms.open(id);\n",
              "      // Send a message to notify the kernel that we're ready.\n",
              "      channel.send({})\n",
              "\n",
              "      for await (const message of channel.messages) {\n",
              "        // Send a message to notify the kernel that we're ready.\n",
              "        channel.send({})\n",
              "        if (message.buffers) {\n",
              "          for (const buffer of message.buffers) {\n",
              "            buffers.push(buffer);\n",
              "            downloaded += buffer.byteLength;\n",
              "            progress.value = downloaded;\n",
              "          }\n",
              "        }\n",
              "      }\n",
              "      const blob = new Blob(buffers, {type: 'application/binary'});\n",
              "      const a = document.createElement('a');\n",
              "      a.href = window.URL.createObjectURL(blob);\n",
              "      a.download = filename;\n",
              "      div.appendChild(a);\n",
              "      a.click();\n",
              "      div.remove();\n",
              "    }\n",
              "  "
            ]
          },
          "metadata": {}
        },
        {
          "output_type": "display_data",
          "data": {
            "text/plain": [
              "<IPython.core.display.Javascript object>"
            ],
            "application/javascript": [
              "download(\"download_9dd2145d-f877-4989-9a03-e9effde540e6\", \".part-00000-8507da5d-f4df-4891-a977-efdc22aaa240-c000.csv.crc\", 16)"
            ]
          },
          "metadata": {}
        },
        {
          "output_type": "display_data",
          "data": {
            "text/plain": [
              "<IPython.core.display.Javascript object>"
            ],
            "application/javascript": [
              "\n",
              "    async function download(id, filename, size) {\n",
              "      if (!google.colab.kernel.accessAllowed) {\n",
              "        return;\n",
              "      }\n",
              "      const div = document.createElement('div');\n",
              "      const label = document.createElement('label');\n",
              "      label.textContent = `Downloading \"${filename}\": `;\n",
              "      div.appendChild(label);\n",
              "      const progress = document.createElement('progress');\n",
              "      progress.max = size;\n",
              "      div.appendChild(progress);\n",
              "      document.body.appendChild(div);\n",
              "\n",
              "      const buffers = [];\n",
              "      let downloaded = 0;\n",
              "\n",
              "      const channel = await google.colab.kernel.comms.open(id);\n",
              "      // Send a message to notify the kernel that we're ready.\n",
              "      channel.send({})\n",
              "\n",
              "      for await (const message of channel.messages) {\n",
              "        // Send a message to notify the kernel that we're ready.\n",
              "        channel.send({})\n",
              "        if (message.buffers) {\n",
              "          for (const buffer of message.buffers) {\n",
              "            buffers.push(buffer);\n",
              "            downloaded += buffer.byteLength;\n",
              "            progress.value = downloaded;\n",
              "          }\n",
              "        }\n",
              "      }\n",
              "      const blob = new Blob(buffers, {type: 'application/binary'});\n",
              "      const a = document.createElement('a');\n",
              "      a.href = window.URL.createObjectURL(blob);\n",
              "      a.download = filename;\n",
              "      div.appendChild(a);\n",
              "      a.click();\n",
              "      div.remove();\n",
              "    }\n",
              "  "
            ]
          },
          "metadata": {}
        },
        {
          "output_type": "display_data",
          "data": {
            "text/plain": [
              "<IPython.core.display.Javascript object>"
            ],
            "application/javascript": [
              "download(\"download_cc216505-ca0b-4265-b178-aaa8ec8ea864\", \".part-00000-ae5d8a9b-8768-472b-8f17-6d99a5ca5f86-c000.csv.crc\", 16)"
            ]
          },
          "metadata": {}
        },
        {
          "output_type": "display_data",
          "data": {
            "text/plain": [
              "<IPython.core.display.Javascript object>"
            ],
            "application/javascript": [
              "\n",
              "    async function download(id, filename, size) {\n",
              "      if (!google.colab.kernel.accessAllowed) {\n",
              "        return;\n",
              "      }\n",
              "      const div = document.createElement('div');\n",
              "      const label = document.createElement('label');\n",
              "      label.textContent = `Downloading \"${filename}\": `;\n",
              "      div.appendChild(label);\n",
              "      const progress = document.createElement('progress');\n",
              "      progress.max = size;\n",
              "      div.appendChild(progress);\n",
              "      document.body.appendChild(div);\n",
              "\n",
              "      const buffers = [];\n",
              "      let downloaded = 0;\n",
              "\n",
              "      const channel = await google.colab.kernel.comms.open(id);\n",
              "      // Send a message to notify the kernel that we're ready.\n",
              "      channel.send({})\n",
              "\n",
              "      for await (const message of channel.messages) {\n",
              "        // Send a message to notify the kernel that we're ready.\n",
              "        channel.send({})\n",
              "        if (message.buffers) {\n",
              "          for (const buffer of message.buffers) {\n",
              "            buffers.push(buffer);\n",
              "            downloaded += buffer.byteLength;\n",
              "            progress.value = downloaded;\n",
              "          }\n",
              "        }\n",
              "      }\n",
              "      const blob = new Blob(buffers, {type: 'application/binary'});\n",
              "      const a = document.createElement('a');\n",
              "      a.href = window.URL.createObjectURL(blob);\n",
              "      a.download = filename;\n",
              "      div.appendChild(a);\n",
              "      a.click();\n",
              "      div.remove();\n",
              "    }\n",
              "  "
            ]
          },
          "metadata": {}
        },
        {
          "output_type": "display_data",
          "data": {
            "text/plain": [
              "<IPython.core.display.Javascript object>"
            ],
            "application/javascript": [
              "download(\"download_88771a09-d409-48d9-9d29-dee4dcaddf8c\", \"_SUCCESS\", 0)"
            ]
          },
          "metadata": {}
        },
        {
          "output_type": "display_data",
          "data": {
            "text/plain": [
              "<IPython.core.display.Javascript object>"
            ],
            "application/javascript": [
              "\n",
              "    async function download(id, filename, size) {\n",
              "      if (!google.colab.kernel.accessAllowed) {\n",
              "        return;\n",
              "      }\n",
              "      const div = document.createElement('div');\n",
              "      const label = document.createElement('label');\n",
              "      label.textContent = `Downloading \"${filename}\": `;\n",
              "      div.appendChild(label);\n",
              "      const progress = document.createElement('progress');\n",
              "      progress.max = size;\n",
              "      div.appendChild(progress);\n",
              "      document.body.appendChild(div);\n",
              "\n",
              "      const buffers = [];\n",
              "      let downloaded = 0;\n",
              "\n",
              "      const channel = await google.colab.kernel.comms.open(id);\n",
              "      // Send a message to notify the kernel that we're ready.\n",
              "      channel.send({})\n",
              "\n",
              "      for await (const message of channel.messages) {\n",
              "        // Send a message to notify the kernel that we're ready.\n",
              "        channel.send({})\n",
              "        if (message.buffers) {\n",
              "          for (const buffer of message.buffers) {\n",
              "            buffers.push(buffer);\n",
              "            downloaded += buffer.byteLength;\n",
              "            progress.value = downloaded;\n",
              "          }\n",
              "        }\n",
              "      }\n",
              "      const blob = new Blob(buffers, {type: 'application/binary'});\n",
              "      const a = document.createElement('a');\n",
              "      a.href = window.URL.createObjectURL(blob);\n",
              "      a.download = filename;\n",
              "      div.appendChild(a);\n",
              "      a.click();\n",
              "      div.remove();\n",
              "    }\n",
              "  "
            ]
          },
          "metadata": {}
        },
        {
          "output_type": "display_data",
          "data": {
            "text/plain": [
              "<IPython.core.display.Javascript object>"
            ],
            "application/javascript": [
              "download(\"download_f085841e-ff0f-4b65-8d37-3d8197d1f821\", \".part-00000-27c1b903-9dcf-48a1-8756-5d46b5f5f637-c000.csv.crc\", 16)"
            ]
          },
          "metadata": {}
        },
        {
          "output_type": "display_data",
          "data": {
            "text/plain": [
              "<IPython.core.display.Javascript object>"
            ],
            "application/javascript": [
              "\n",
              "    async function download(id, filename, size) {\n",
              "      if (!google.colab.kernel.accessAllowed) {\n",
              "        return;\n",
              "      }\n",
              "      const div = document.createElement('div');\n",
              "      const label = document.createElement('label');\n",
              "      label.textContent = `Downloading \"${filename}\": `;\n",
              "      div.appendChild(label);\n",
              "      const progress = document.createElement('progress');\n",
              "      progress.max = size;\n",
              "      div.appendChild(progress);\n",
              "      document.body.appendChild(div);\n",
              "\n",
              "      const buffers = [];\n",
              "      let downloaded = 0;\n",
              "\n",
              "      const channel = await google.colab.kernel.comms.open(id);\n",
              "      // Send a message to notify the kernel that we're ready.\n",
              "      channel.send({})\n",
              "\n",
              "      for await (const message of channel.messages) {\n",
              "        // Send a message to notify the kernel that we're ready.\n",
              "        channel.send({})\n",
              "        if (message.buffers) {\n",
              "          for (const buffer of message.buffers) {\n",
              "            buffers.push(buffer);\n",
              "            downloaded += buffer.byteLength;\n",
              "            progress.value = downloaded;\n",
              "          }\n",
              "        }\n",
              "      }\n",
              "      const blob = new Blob(buffers, {type: 'application/binary'});\n",
              "      const a = document.createElement('a');\n",
              "      a.href = window.URL.createObjectURL(blob);\n",
              "      a.download = filename;\n",
              "      div.appendChild(a);\n",
              "      a.click();\n",
              "      div.remove();\n",
              "    }\n",
              "  "
            ]
          },
          "metadata": {}
        },
        {
          "output_type": "display_data",
          "data": {
            "text/plain": [
              "<IPython.core.display.Javascript object>"
            ],
            "application/javascript": [
              "download(\"download_0bfff3b9-6b2a-4a47-a08f-80e0049ee23e\", \"._SUCCESS.crc\", 8)"
            ]
          },
          "metadata": {}
        },
        {
          "output_type": "display_data",
          "data": {
            "text/plain": [
              "<IPython.core.display.Javascript object>"
            ],
            "application/javascript": [
              "\n",
              "    async function download(id, filename, size) {\n",
              "      if (!google.colab.kernel.accessAllowed) {\n",
              "        return;\n",
              "      }\n",
              "      const div = document.createElement('div');\n",
              "      const label = document.createElement('label');\n",
              "      label.textContent = `Downloading \"${filename}\": `;\n",
              "      div.appendChild(label);\n",
              "      const progress = document.createElement('progress');\n",
              "      progress.max = size;\n",
              "      div.appendChild(progress);\n",
              "      document.body.appendChild(div);\n",
              "\n",
              "      const buffers = [];\n",
              "      let downloaded = 0;\n",
              "\n",
              "      const channel = await google.colab.kernel.comms.open(id);\n",
              "      // Send a message to notify the kernel that we're ready.\n",
              "      channel.send({})\n",
              "\n",
              "      for await (const message of channel.messages) {\n",
              "        // Send a message to notify the kernel that we're ready.\n",
              "        channel.send({})\n",
              "        if (message.buffers) {\n",
              "          for (const buffer of message.buffers) {\n",
              "            buffers.push(buffer);\n",
              "            downloaded += buffer.byteLength;\n",
              "            progress.value = downloaded;\n",
              "          }\n",
              "        }\n",
              "      }\n",
              "      const blob = new Blob(buffers, {type: 'application/binary'});\n",
              "      const a = document.createElement('a');\n",
              "      a.href = window.URL.createObjectURL(blob);\n",
              "      a.download = filename;\n",
              "      div.appendChild(a);\n",
              "      a.click();\n",
              "      div.remove();\n",
              "    }\n",
              "  "
            ]
          },
          "metadata": {}
        },
        {
          "output_type": "display_data",
          "data": {
            "text/plain": [
              "<IPython.core.display.Javascript object>"
            ],
            "application/javascript": [
              "download(\"download_11adbcb9-c651-4368-9928-890d15b66633\", \"part-00000-ae5d8a9b-8768-472b-8f17-6d99a5ca5f86-c000.csv\", 797)"
            ]
          },
          "metadata": {}
        },
        {
          "output_type": "display_data",
          "data": {
            "text/plain": [
              "<IPython.core.display.Javascript object>"
            ],
            "application/javascript": [
              "\n",
              "    async function download(id, filename, size) {\n",
              "      if (!google.colab.kernel.accessAllowed) {\n",
              "        return;\n",
              "      }\n",
              "      const div = document.createElement('div');\n",
              "      const label = document.createElement('label');\n",
              "      label.textContent = `Downloading \"${filename}\": `;\n",
              "      div.appendChild(label);\n",
              "      const progress = document.createElement('progress');\n",
              "      progress.max = size;\n",
              "      div.appendChild(progress);\n",
              "      document.body.appendChild(div);\n",
              "\n",
              "      const buffers = [];\n",
              "      let downloaded = 0;\n",
              "\n",
              "      const channel = await google.colab.kernel.comms.open(id);\n",
              "      // Send a message to notify the kernel that we're ready.\n",
              "      channel.send({})\n",
              "\n",
              "      for await (const message of channel.messages) {\n",
              "        // Send a message to notify the kernel that we're ready.\n",
              "        channel.send({})\n",
              "        if (message.buffers) {\n",
              "          for (const buffer of message.buffers) {\n",
              "            buffers.push(buffer);\n",
              "            downloaded += buffer.byteLength;\n",
              "            progress.value = downloaded;\n",
              "          }\n",
              "        }\n",
              "      }\n",
              "      const blob = new Blob(buffers, {type: 'application/binary'});\n",
              "      const a = document.createElement('a');\n",
              "      a.href = window.URL.createObjectURL(blob);\n",
              "      a.download = filename;\n",
              "      div.appendChild(a);\n",
              "      a.click();\n",
              "      div.remove();\n",
              "    }\n",
              "  "
            ]
          },
          "metadata": {}
        },
        {
          "output_type": "display_data",
          "data": {
            "text/plain": [
              "<IPython.core.display.Javascript object>"
            ],
            "application/javascript": [
              "download(\"download_15385bfe-eb9c-4f94-ae67-4790efd1962f\", \"part-00000-b1e1348b-f090-4c76-a594-0aca4643664b-c000.csv\", 781)"
            ]
          },
          "metadata": {}
        },
        {
          "output_type": "display_data",
          "data": {
            "text/plain": [
              "<IPython.core.display.Javascript object>"
            ],
            "application/javascript": [
              "\n",
              "    async function download(id, filename, size) {\n",
              "      if (!google.colab.kernel.accessAllowed) {\n",
              "        return;\n",
              "      }\n",
              "      const div = document.createElement('div');\n",
              "      const label = document.createElement('label');\n",
              "      label.textContent = `Downloading \"${filename}\": `;\n",
              "      div.appendChild(label);\n",
              "      const progress = document.createElement('progress');\n",
              "      progress.max = size;\n",
              "      div.appendChild(progress);\n",
              "      document.body.appendChild(div);\n",
              "\n",
              "      const buffers = [];\n",
              "      let downloaded = 0;\n",
              "\n",
              "      const channel = await google.colab.kernel.comms.open(id);\n",
              "      // Send a message to notify the kernel that we're ready.\n",
              "      channel.send({})\n",
              "\n",
              "      for await (const message of channel.messages) {\n",
              "        // Send a message to notify the kernel that we're ready.\n",
              "        channel.send({})\n",
              "        if (message.buffers) {\n",
              "          for (const buffer of message.buffers) {\n",
              "            buffers.push(buffer);\n",
              "            downloaded += buffer.byteLength;\n",
              "            progress.value = downloaded;\n",
              "          }\n",
              "        }\n",
              "      }\n",
              "      const blob = new Blob(buffers, {type: 'application/binary'});\n",
              "      const a = document.createElement('a');\n",
              "      a.href = window.URL.createObjectURL(blob);\n",
              "      a.download = filename;\n",
              "      div.appendChild(a);\n",
              "      a.click();\n",
              "      div.remove();\n",
              "    }\n",
              "  "
            ]
          },
          "metadata": {}
        },
        {
          "output_type": "display_data",
          "data": {
            "text/plain": [
              "<IPython.core.display.Javascript object>"
            ],
            "application/javascript": [
              "download(\"download_e83256b4-438b-46fd-a1bc-bbc45a588824\", \"part-00000-27c1b903-9dcf-48a1-8756-5d46b5f5f637-c000.csv\", 703)"
            ]
          },
          "metadata": {}
        },
        {
          "output_type": "display_data",
          "data": {
            "text/plain": [
              "<IPython.core.display.Javascript object>"
            ],
            "application/javascript": [
              "\n",
              "    async function download(id, filename, size) {\n",
              "      if (!google.colab.kernel.accessAllowed) {\n",
              "        return;\n",
              "      }\n",
              "      const div = document.createElement('div');\n",
              "      const label = document.createElement('label');\n",
              "      label.textContent = `Downloading \"${filename}\": `;\n",
              "      div.appendChild(label);\n",
              "      const progress = document.createElement('progress');\n",
              "      progress.max = size;\n",
              "      div.appendChild(progress);\n",
              "      document.body.appendChild(div);\n",
              "\n",
              "      const buffers = [];\n",
              "      let downloaded = 0;\n",
              "\n",
              "      const channel = await google.colab.kernel.comms.open(id);\n",
              "      // Send a message to notify the kernel that we're ready.\n",
              "      channel.send({})\n",
              "\n",
              "      for await (const message of channel.messages) {\n",
              "        // Send a message to notify the kernel that we're ready.\n",
              "        channel.send({})\n",
              "        if (message.buffers) {\n",
              "          for (const buffer of message.buffers) {\n",
              "            buffers.push(buffer);\n",
              "            downloaded += buffer.byteLength;\n",
              "            progress.value = downloaded;\n",
              "          }\n",
              "        }\n",
              "      }\n",
              "      const blob = new Blob(buffers, {type: 'application/binary'});\n",
              "      const a = document.createElement('a');\n",
              "      a.href = window.URL.createObjectURL(blob);\n",
              "      a.download = filename;\n",
              "      div.appendChild(a);\n",
              "      a.click();\n",
              "      div.remove();\n",
              "    }\n",
              "  "
            ]
          },
          "metadata": {}
        },
        {
          "output_type": "display_data",
          "data": {
            "text/plain": [
              "<IPython.core.display.Javascript object>"
            ],
            "application/javascript": [
              "download(\"download_a3cf327c-009e-4750-bf62-df0dc13e182c\", \"part-00000-8507da5d-f4df-4891-a977-efdc22aaa240-c000.csv\", 789)"
            ]
          },
          "metadata": {}
        },
        {
          "output_type": "stream",
          "name": "stdout",
          "text": [
            "All datasets have been exported to your computer.\n"
          ]
        }
      ]
    },
    {
      "cell_type": "code",
      "source": [
        "export_datasets_to_computer(folder_path=\"/content/dataset_10KB.csv_stage_metrics\")\n"
      ],
      "metadata": {
        "colab": {
          "base_uri": "https://localhost:8080/",
          "height": 35
        },
        "id": "ydQh4eFk8r-6",
        "outputId": "e1d9447d-14ef-417d-a72d-f41957e72d9c"
      },
      "execution_count": 14,
      "outputs": [
        {
          "output_type": "display_data",
          "data": {
            "text/plain": [
              "<IPython.core.display.Javascript object>"
            ],
            "application/javascript": [
              "\n",
              "    async function download(id, filename, size) {\n",
              "      if (!google.colab.kernel.accessAllowed) {\n",
              "        return;\n",
              "      }\n",
              "      const div = document.createElement('div');\n",
              "      const label = document.createElement('label');\n",
              "      label.textContent = `Downloading \"${filename}\": `;\n",
              "      div.appendChild(label);\n",
              "      const progress = document.createElement('progress');\n",
              "      progress.max = size;\n",
              "      div.appendChild(progress);\n",
              "      document.body.appendChild(div);\n",
              "\n",
              "      const buffers = [];\n",
              "      let downloaded = 0;\n",
              "\n",
              "      const channel = await google.colab.kernel.comms.open(id);\n",
              "      // Send a message to notify the kernel that we're ready.\n",
              "      channel.send({})\n",
              "\n",
              "      for await (const message of channel.messages) {\n",
              "        // Send a message to notify the kernel that we're ready.\n",
              "        channel.send({})\n",
              "        if (message.buffers) {\n",
              "          for (const buffer of message.buffers) {\n",
              "            buffers.push(buffer);\n",
              "            downloaded += buffer.byteLength;\n",
              "            progress.value = downloaded;\n",
              "          }\n",
              "        }\n",
              "      }\n",
              "      const blob = new Blob(buffers, {type: 'application/binary'});\n",
              "      const a = document.createElement('a');\n",
              "      a.href = window.URL.createObjectURL(blob);\n",
              "      a.download = filename;\n",
              "      div.appendChild(a);\n",
              "      a.click();\n",
              "      div.remove();\n",
              "    }\n",
              "  "
            ]
          },
          "metadata": {}
        },
        {
          "output_type": "display_data",
          "data": {
            "text/plain": [
              "<IPython.core.display.Javascript object>"
            ],
            "application/javascript": [
              "download(\"download_ccf271bc-30dd-4c03-9b2c-d8e41f874455\", \".part-00000-cfa68b51-5ec8-4ba4-a3e4-ca3b3cd895a4-c000.csv.crc\", 16)"
            ]
          },
          "metadata": {}
        },
        {
          "output_type": "display_data",
          "data": {
            "text/plain": [
              "<IPython.core.display.Javascript object>"
            ],
            "application/javascript": [
              "\n",
              "    async function download(id, filename, size) {\n",
              "      if (!google.colab.kernel.accessAllowed) {\n",
              "        return;\n",
              "      }\n",
              "      const div = document.createElement('div');\n",
              "      const label = document.createElement('label');\n",
              "      label.textContent = `Downloading \"${filename}\": `;\n",
              "      div.appendChild(label);\n",
              "      const progress = document.createElement('progress');\n",
              "      progress.max = size;\n",
              "      div.appendChild(progress);\n",
              "      document.body.appendChild(div);\n",
              "\n",
              "      const buffers = [];\n",
              "      let downloaded = 0;\n",
              "\n",
              "      const channel = await google.colab.kernel.comms.open(id);\n",
              "      // Send a message to notify the kernel that we're ready.\n",
              "      channel.send({})\n",
              "\n",
              "      for await (const message of channel.messages) {\n",
              "        // Send a message to notify the kernel that we're ready.\n",
              "        channel.send({})\n",
              "        if (message.buffers) {\n",
              "          for (const buffer of message.buffers) {\n",
              "            buffers.push(buffer);\n",
              "            downloaded += buffer.byteLength;\n",
              "            progress.value = downloaded;\n",
              "          }\n",
              "        }\n",
              "      }\n",
              "      const blob = new Blob(buffers, {type: 'application/binary'});\n",
              "      const a = document.createElement('a');\n",
              "      a.href = window.URL.createObjectURL(blob);\n",
              "      a.download = filename;\n",
              "      div.appendChild(a);\n",
              "      a.click();\n",
              "      div.remove();\n",
              "    }\n",
              "  "
            ]
          },
          "metadata": {}
        },
        {
          "output_type": "display_data",
          "data": {
            "text/plain": [
              "<IPython.core.display.Javascript object>"
            ],
            "application/javascript": [
              "download(\"download_897cdfd6-c411-4fc0-94b6-ac67ace3a99f\", \".part-00000-53fdc4e9-6e97-48e7-8fa7-8bc9af6342f7-c000.csv.crc\", 16)"
            ]
          },
          "metadata": {}
        },
        {
          "output_type": "display_data",
          "data": {
            "text/plain": [
              "<IPython.core.display.Javascript object>"
            ],
            "application/javascript": [
              "\n",
              "    async function download(id, filename, size) {\n",
              "      if (!google.colab.kernel.accessAllowed) {\n",
              "        return;\n",
              "      }\n",
              "      const div = document.createElement('div');\n",
              "      const label = document.createElement('label');\n",
              "      label.textContent = `Downloading \"${filename}\": `;\n",
              "      div.appendChild(label);\n",
              "      const progress = document.createElement('progress');\n",
              "      progress.max = size;\n",
              "      div.appendChild(progress);\n",
              "      document.body.appendChild(div);\n",
              "\n",
              "      const buffers = [];\n",
              "      let downloaded = 0;\n",
              "\n",
              "      const channel = await google.colab.kernel.comms.open(id);\n",
              "      // Send a message to notify the kernel that we're ready.\n",
              "      channel.send({})\n",
              "\n",
              "      for await (const message of channel.messages) {\n",
              "        // Send a message to notify the kernel that we're ready.\n",
              "        channel.send({})\n",
              "        if (message.buffers) {\n",
              "          for (const buffer of message.buffers) {\n",
              "            buffers.push(buffer);\n",
              "            downloaded += buffer.byteLength;\n",
              "            progress.value = downloaded;\n",
              "          }\n",
              "        }\n",
              "      }\n",
              "      const blob = new Blob(buffers, {type: 'application/binary'});\n",
              "      const a = document.createElement('a');\n",
              "      a.href = window.URL.createObjectURL(blob);\n",
              "      a.download = filename;\n",
              "      div.appendChild(a);\n",
              "      a.click();\n",
              "      div.remove();\n",
              "    }\n",
              "  "
            ]
          },
          "metadata": {}
        },
        {
          "output_type": "display_data",
          "data": {
            "text/plain": [
              "<IPython.core.display.Javascript object>"
            ],
            "application/javascript": [
              "download(\"download_448ffa51-2182-40e2-94a4-6e1bb141ded7\", \".part-00000-97cb9fe0-6001-46dc-ab96-3263838e78bc-c000.csv.crc\", 16)"
            ]
          },
          "metadata": {}
        },
        {
          "output_type": "display_data",
          "data": {
            "text/plain": [
              "<IPython.core.display.Javascript object>"
            ],
            "application/javascript": [
              "\n",
              "    async function download(id, filename, size) {\n",
              "      if (!google.colab.kernel.accessAllowed) {\n",
              "        return;\n",
              "      }\n",
              "      const div = document.createElement('div');\n",
              "      const label = document.createElement('label');\n",
              "      label.textContent = `Downloading \"${filename}\": `;\n",
              "      div.appendChild(label);\n",
              "      const progress = document.createElement('progress');\n",
              "      progress.max = size;\n",
              "      div.appendChild(progress);\n",
              "      document.body.appendChild(div);\n",
              "\n",
              "      const buffers = [];\n",
              "      let downloaded = 0;\n",
              "\n",
              "      const channel = await google.colab.kernel.comms.open(id);\n",
              "      // Send a message to notify the kernel that we're ready.\n",
              "      channel.send({})\n",
              "\n",
              "      for await (const message of channel.messages) {\n",
              "        // Send a message to notify the kernel that we're ready.\n",
              "        channel.send({})\n",
              "        if (message.buffers) {\n",
              "          for (const buffer of message.buffers) {\n",
              "            buffers.push(buffer);\n",
              "            downloaded += buffer.byteLength;\n",
              "            progress.value = downloaded;\n",
              "          }\n",
              "        }\n",
              "      }\n",
              "      const blob = new Blob(buffers, {type: 'application/binary'});\n",
              "      const a = document.createElement('a');\n",
              "      a.href = window.URL.createObjectURL(blob);\n",
              "      a.download = filename;\n",
              "      div.appendChild(a);\n",
              "      a.click();\n",
              "      div.remove();\n",
              "    }\n",
              "  "
            ]
          },
          "metadata": {}
        },
        {
          "output_type": "display_data",
          "data": {
            "text/plain": [
              "<IPython.core.display.Javascript object>"
            ],
            "application/javascript": [
              "download(\"download_dcb83054-e0f3-42db-80c0-69b7fb9844ec\", \"part-00000-c3faf3c4-2c72-44b3-9554-186f46b2142c-c000.csv\", 793)"
            ]
          },
          "metadata": {}
        },
        {
          "output_type": "display_data",
          "data": {
            "text/plain": [
              "<IPython.core.display.Javascript object>"
            ],
            "application/javascript": [
              "\n",
              "    async function download(id, filename, size) {\n",
              "      if (!google.colab.kernel.accessAllowed) {\n",
              "        return;\n",
              "      }\n",
              "      const div = document.createElement('div');\n",
              "      const label = document.createElement('label');\n",
              "      label.textContent = `Downloading \"${filename}\": `;\n",
              "      div.appendChild(label);\n",
              "      const progress = document.createElement('progress');\n",
              "      progress.max = size;\n",
              "      div.appendChild(progress);\n",
              "      document.body.appendChild(div);\n",
              "\n",
              "      const buffers = [];\n",
              "      let downloaded = 0;\n",
              "\n",
              "      const channel = await google.colab.kernel.comms.open(id);\n",
              "      // Send a message to notify the kernel that we're ready.\n",
              "      channel.send({})\n",
              "\n",
              "      for await (const message of channel.messages) {\n",
              "        // Send a message to notify the kernel that we're ready.\n",
              "        channel.send({})\n",
              "        if (message.buffers) {\n",
              "          for (const buffer of message.buffers) {\n",
              "            buffers.push(buffer);\n",
              "            downloaded += buffer.byteLength;\n",
              "            progress.value = downloaded;\n",
              "          }\n",
              "        }\n",
              "      }\n",
              "      const blob = new Blob(buffers, {type: 'application/binary'});\n",
              "      const a = document.createElement('a');\n",
              "      a.href = window.URL.createObjectURL(blob);\n",
              "      a.download = filename;\n",
              "      div.appendChild(a);\n",
              "      a.click();\n",
              "      div.remove();\n",
              "    }\n",
              "  "
            ]
          },
          "metadata": {}
        },
        {
          "output_type": "display_data",
          "data": {
            "text/plain": [
              "<IPython.core.display.Javascript object>"
            ],
            "application/javascript": [
              "download(\"download_207997f1-46d1-4cd7-9cf2-8a58ab222a4f\", \".part-00000-c3faf3c4-2c72-44b3-9554-186f46b2142c-c000.csv.crc\", 16)"
            ]
          },
          "metadata": {}
        },
        {
          "output_type": "display_data",
          "data": {
            "text/plain": [
              "<IPython.core.display.Javascript object>"
            ],
            "application/javascript": [
              "\n",
              "    async function download(id, filename, size) {\n",
              "      if (!google.colab.kernel.accessAllowed) {\n",
              "        return;\n",
              "      }\n",
              "      const div = document.createElement('div');\n",
              "      const label = document.createElement('label');\n",
              "      label.textContent = `Downloading \"${filename}\": `;\n",
              "      div.appendChild(label);\n",
              "      const progress = document.createElement('progress');\n",
              "      progress.max = size;\n",
              "      div.appendChild(progress);\n",
              "      document.body.appendChild(div);\n",
              "\n",
              "      const buffers = [];\n",
              "      let downloaded = 0;\n",
              "\n",
              "      const channel = await google.colab.kernel.comms.open(id);\n",
              "      // Send a message to notify the kernel that we're ready.\n",
              "      channel.send({})\n",
              "\n",
              "      for await (const message of channel.messages) {\n",
              "        // Send a message to notify the kernel that we're ready.\n",
              "        channel.send({})\n",
              "        if (message.buffers) {\n",
              "          for (const buffer of message.buffers) {\n",
              "            buffers.push(buffer);\n",
              "            downloaded += buffer.byteLength;\n",
              "            progress.value = downloaded;\n",
              "          }\n",
              "        }\n",
              "      }\n",
              "      const blob = new Blob(buffers, {type: 'application/binary'});\n",
              "      const a = document.createElement('a');\n",
              "      a.href = window.URL.createObjectURL(blob);\n",
              "      a.download = filename;\n",
              "      div.appendChild(a);\n",
              "      a.click();\n",
              "      div.remove();\n",
              "    }\n",
              "  "
            ]
          },
          "metadata": {}
        },
        {
          "output_type": "display_data",
          "data": {
            "text/plain": [
              "<IPython.core.display.Javascript object>"
            ],
            "application/javascript": [
              "download(\"download_f98e525f-38ea-4ad9-8e6a-5b64c973d681\", \"_SUCCESS\", 0)"
            ]
          },
          "metadata": {}
        },
        {
          "output_type": "display_data",
          "data": {
            "text/plain": [
              "<IPython.core.display.Javascript object>"
            ],
            "application/javascript": [
              "\n",
              "    async function download(id, filename, size) {\n",
              "      if (!google.colab.kernel.accessAllowed) {\n",
              "        return;\n",
              "      }\n",
              "      const div = document.createElement('div');\n",
              "      const label = document.createElement('label');\n",
              "      label.textContent = `Downloading \"${filename}\": `;\n",
              "      div.appendChild(label);\n",
              "      const progress = document.createElement('progress');\n",
              "      progress.max = size;\n",
              "      div.appendChild(progress);\n",
              "      document.body.appendChild(div);\n",
              "\n",
              "      const buffers = [];\n",
              "      let downloaded = 0;\n",
              "\n",
              "      const channel = await google.colab.kernel.comms.open(id);\n",
              "      // Send a message to notify the kernel that we're ready.\n",
              "      channel.send({})\n",
              "\n",
              "      for await (const message of channel.messages) {\n",
              "        // Send a message to notify the kernel that we're ready.\n",
              "        channel.send({})\n",
              "        if (message.buffers) {\n",
              "          for (const buffer of message.buffers) {\n",
              "            buffers.push(buffer);\n",
              "            downloaded += buffer.byteLength;\n",
              "            progress.value = downloaded;\n",
              "          }\n",
              "        }\n",
              "      }\n",
              "      const blob = new Blob(buffers, {type: 'application/binary'});\n",
              "      const a = document.createElement('a');\n",
              "      a.href = window.URL.createObjectURL(blob);\n",
              "      a.download = filename;\n",
              "      div.appendChild(a);\n",
              "      a.click();\n",
              "      div.remove();\n",
              "    }\n",
              "  "
            ]
          },
          "metadata": {}
        },
        {
          "output_type": "display_data",
          "data": {
            "text/plain": [
              "<IPython.core.display.Javascript object>"
            ],
            "application/javascript": [
              "download(\"download_042a547b-3605-4976-8168-d1c3604f8347\", \".part-00000-29707348-ea07-4677-a3aa-6ec382423a7d-c000.csv.crc\", 16)"
            ]
          },
          "metadata": {}
        },
        {
          "output_type": "display_data",
          "data": {
            "text/plain": [
              "<IPython.core.display.Javascript object>"
            ],
            "application/javascript": [
              "\n",
              "    async function download(id, filename, size) {\n",
              "      if (!google.colab.kernel.accessAllowed) {\n",
              "        return;\n",
              "      }\n",
              "      const div = document.createElement('div');\n",
              "      const label = document.createElement('label');\n",
              "      label.textContent = `Downloading \"${filename}\": `;\n",
              "      div.appendChild(label);\n",
              "      const progress = document.createElement('progress');\n",
              "      progress.max = size;\n",
              "      div.appendChild(progress);\n",
              "      document.body.appendChild(div);\n",
              "\n",
              "      const buffers = [];\n",
              "      let downloaded = 0;\n",
              "\n",
              "      const channel = await google.colab.kernel.comms.open(id);\n",
              "      // Send a message to notify the kernel that we're ready.\n",
              "      channel.send({})\n",
              "\n",
              "      for await (const message of channel.messages) {\n",
              "        // Send a message to notify the kernel that we're ready.\n",
              "        channel.send({})\n",
              "        if (message.buffers) {\n",
              "          for (const buffer of message.buffers) {\n",
              "            buffers.push(buffer);\n",
              "            downloaded += buffer.byteLength;\n",
              "            progress.value = downloaded;\n",
              "          }\n",
              "        }\n",
              "      }\n",
              "      const blob = new Blob(buffers, {type: 'application/binary'});\n",
              "      const a = document.createElement('a');\n",
              "      a.href = window.URL.createObjectURL(blob);\n",
              "      a.download = filename;\n",
              "      div.appendChild(a);\n",
              "      a.click();\n",
              "      div.remove();\n",
              "    }\n",
              "  "
            ]
          },
          "metadata": {}
        },
        {
          "output_type": "display_data",
          "data": {
            "text/plain": [
              "<IPython.core.display.Javascript object>"
            ],
            "application/javascript": [
              "download(\"download_0756fc2a-ef46-4490-9cd5-22b731203191\", \"part-00000-a78eb1d5-c84f-4f24-9ce7-433645c9719b-c000.csv\", 782)"
            ]
          },
          "metadata": {}
        },
        {
          "output_type": "display_data",
          "data": {
            "text/plain": [
              "<IPython.core.display.Javascript object>"
            ],
            "application/javascript": [
              "\n",
              "    async function download(id, filename, size) {\n",
              "      if (!google.colab.kernel.accessAllowed) {\n",
              "        return;\n",
              "      }\n",
              "      const div = document.createElement('div');\n",
              "      const label = document.createElement('label');\n",
              "      label.textContent = `Downloading \"${filename}\": `;\n",
              "      div.appendChild(label);\n",
              "      const progress = document.createElement('progress');\n",
              "      progress.max = size;\n",
              "      div.appendChild(progress);\n",
              "      document.body.appendChild(div);\n",
              "\n",
              "      const buffers = [];\n",
              "      let downloaded = 0;\n",
              "\n",
              "      const channel = await google.colab.kernel.comms.open(id);\n",
              "      // Send a message to notify the kernel that we're ready.\n",
              "      channel.send({})\n",
              "\n",
              "      for await (const message of channel.messages) {\n",
              "        // Send a message to notify the kernel that we're ready.\n",
              "        channel.send({})\n",
              "        if (message.buffers) {\n",
              "          for (const buffer of message.buffers) {\n",
              "            buffers.push(buffer);\n",
              "            downloaded += buffer.byteLength;\n",
              "            progress.value = downloaded;\n",
              "          }\n",
              "        }\n",
              "      }\n",
              "      const blob = new Blob(buffers, {type: 'application/binary'});\n",
              "      const a = document.createElement('a');\n",
              "      a.href = window.URL.createObjectURL(blob);\n",
              "      a.download = filename;\n",
              "      div.appendChild(a);\n",
              "      a.click();\n",
              "      div.remove();\n",
              "    }\n",
              "  "
            ]
          },
          "metadata": {}
        },
        {
          "output_type": "display_data",
          "data": {
            "text/plain": [
              "<IPython.core.display.Javascript object>"
            ],
            "application/javascript": [
              "download(\"download_41ca3d3e-a865-44b6-b1d4-b4fe355c014f\", \".part-00000-a78eb1d5-c84f-4f24-9ce7-433645c9719b-c000.csv.crc\", 16)"
            ]
          },
          "metadata": {}
        },
        {
          "output_type": "display_data",
          "data": {
            "text/plain": [
              "<IPython.core.display.Javascript object>"
            ],
            "application/javascript": [
              "\n",
              "    async function download(id, filename, size) {\n",
              "      if (!google.colab.kernel.accessAllowed) {\n",
              "        return;\n",
              "      }\n",
              "      const div = document.createElement('div');\n",
              "      const label = document.createElement('label');\n",
              "      label.textContent = `Downloading \"${filename}\": `;\n",
              "      div.appendChild(label);\n",
              "      const progress = document.createElement('progress');\n",
              "      progress.max = size;\n",
              "      div.appendChild(progress);\n",
              "      document.body.appendChild(div);\n",
              "\n",
              "      const buffers = [];\n",
              "      let downloaded = 0;\n",
              "\n",
              "      const channel = await google.colab.kernel.comms.open(id);\n",
              "      // Send a message to notify the kernel that we're ready.\n",
              "      channel.send({})\n",
              "\n",
              "      for await (const message of channel.messages) {\n",
              "        // Send a message to notify the kernel that we're ready.\n",
              "        channel.send({})\n",
              "        if (message.buffers) {\n",
              "          for (const buffer of message.buffers) {\n",
              "            buffers.push(buffer);\n",
              "            downloaded += buffer.byteLength;\n",
              "            progress.value = downloaded;\n",
              "          }\n",
              "        }\n",
              "      }\n",
              "      const blob = new Blob(buffers, {type: 'application/binary'});\n",
              "      const a = document.createElement('a');\n",
              "      a.href = window.URL.createObjectURL(blob);\n",
              "      a.download = filename;\n",
              "      div.appendChild(a);\n",
              "      a.click();\n",
              "      div.remove();\n",
              "    }\n",
              "  "
            ]
          },
          "metadata": {}
        },
        {
          "output_type": "display_data",
          "data": {
            "text/plain": [
              "<IPython.core.display.Javascript object>"
            ],
            "application/javascript": [
              "download(\"download_868d559a-8499-4b62-ad1f-a8a4e84b2272\", \".part-00000-3a21e4f8-9625-4d68-a449-8eef89e6d385-c000.csv.crc\", 16)"
            ]
          },
          "metadata": {}
        },
        {
          "output_type": "display_data",
          "data": {
            "text/plain": [
              "<IPython.core.display.Javascript object>"
            ],
            "application/javascript": [
              "\n",
              "    async function download(id, filename, size) {\n",
              "      if (!google.colab.kernel.accessAllowed) {\n",
              "        return;\n",
              "      }\n",
              "      const div = document.createElement('div');\n",
              "      const label = document.createElement('label');\n",
              "      label.textContent = `Downloading \"${filename}\": `;\n",
              "      div.appendChild(label);\n",
              "      const progress = document.createElement('progress');\n",
              "      progress.max = size;\n",
              "      div.appendChild(progress);\n",
              "      document.body.appendChild(div);\n",
              "\n",
              "      const buffers = [];\n",
              "      let downloaded = 0;\n",
              "\n",
              "      const channel = await google.colab.kernel.comms.open(id);\n",
              "      // Send a message to notify the kernel that we're ready.\n",
              "      channel.send({})\n",
              "\n",
              "      for await (const message of channel.messages) {\n",
              "        // Send a message to notify the kernel that we're ready.\n",
              "        channel.send({})\n",
              "        if (message.buffers) {\n",
              "          for (const buffer of message.buffers) {\n",
              "            buffers.push(buffer);\n",
              "            downloaded += buffer.byteLength;\n",
              "            progress.value = downloaded;\n",
              "          }\n",
              "        }\n",
              "      }\n",
              "      const blob = new Blob(buffers, {type: 'application/binary'});\n",
              "      const a = document.createElement('a');\n",
              "      a.href = window.URL.createObjectURL(blob);\n",
              "      a.download = filename;\n",
              "      div.appendChild(a);\n",
              "      a.click();\n",
              "      div.remove();\n",
              "    }\n",
              "  "
            ]
          },
          "metadata": {}
        },
        {
          "output_type": "display_data",
          "data": {
            "text/plain": [
              "<IPython.core.display.Javascript object>"
            ],
            "application/javascript": [
              "download(\"download_5dc79825-5418-4cf8-99ed-d91fee1c9358\", \"part-00000-97cb9fe0-6001-46dc-ab96-3263838e78bc-c000.csv\", 808)"
            ]
          },
          "metadata": {}
        },
        {
          "output_type": "display_data",
          "data": {
            "text/plain": [
              "<IPython.core.display.Javascript object>"
            ],
            "application/javascript": [
              "\n",
              "    async function download(id, filename, size) {\n",
              "      if (!google.colab.kernel.accessAllowed) {\n",
              "        return;\n",
              "      }\n",
              "      const div = document.createElement('div');\n",
              "      const label = document.createElement('label');\n",
              "      label.textContent = `Downloading \"${filename}\": `;\n",
              "      div.appendChild(label);\n",
              "      const progress = document.createElement('progress');\n",
              "      progress.max = size;\n",
              "      div.appendChild(progress);\n",
              "      document.body.appendChild(div);\n",
              "\n",
              "      const buffers = [];\n",
              "      let downloaded = 0;\n",
              "\n",
              "      const channel = await google.colab.kernel.comms.open(id);\n",
              "      // Send a message to notify the kernel that we're ready.\n",
              "      channel.send({})\n",
              "\n",
              "      for await (const message of channel.messages) {\n",
              "        // Send a message to notify the kernel that we're ready.\n",
              "        channel.send({})\n",
              "        if (message.buffers) {\n",
              "          for (const buffer of message.buffers) {\n",
              "            buffers.push(buffer);\n",
              "            downloaded += buffer.byteLength;\n",
              "            progress.value = downloaded;\n",
              "          }\n",
              "        }\n",
              "      }\n",
              "      const blob = new Blob(buffers, {type: 'application/binary'});\n",
              "      const a = document.createElement('a');\n",
              "      a.href = window.URL.createObjectURL(blob);\n",
              "      a.download = filename;\n",
              "      div.appendChild(a);\n",
              "      a.click();\n",
              "      div.remove();\n",
              "    }\n",
              "  "
            ]
          },
          "metadata": {}
        },
        {
          "output_type": "display_data",
          "data": {
            "text/plain": [
              "<IPython.core.display.Javascript object>"
            ],
            "application/javascript": [
              "download(\"download_d97c5fbc-34bc-4a13-a0c9-372203c301e2\", \"._SUCCESS.crc\", 8)"
            ]
          },
          "metadata": {}
        },
        {
          "output_type": "display_data",
          "data": {
            "text/plain": [
              "<IPython.core.display.Javascript object>"
            ],
            "application/javascript": [
              "\n",
              "    async function download(id, filename, size) {\n",
              "      if (!google.colab.kernel.accessAllowed) {\n",
              "        return;\n",
              "      }\n",
              "      const div = document.createElement('div');\n",
              "      const label = document.createElement('label');\n",
              "      label.textContent = `Downloading \"${filename}\": `;\n",
              "      div.appendChild(label);\n",
              "      const progress = document.createElement('progress');\n",
              "      progress.max = size;\n",
              "      div.appendChild(progress);\n",
              "      document.body.appendChild(div);\n",
              "\n",
              "      const buffers = [];\n",
              "      let downloaded = 0;\n",
              "\n",
              "      const channel = await google.colab.kernel.comms.open(id);\n",
              "      // Send a message to notify the kernel that we're ready.\n",
              "      channel.send({})\n",
              "\n",
              "      for await (const message of channel.messages) {\n",
              "        // Send a message to notify the kernel that we're ready.\n",
              "        channel.send({})\n",
              "        if (message.buffers) {\n",
              "          for (const buffer of message.buffers) {\n",
              "            buffers.push(buffer);\n",
              "            downloaded += buffer.byteLength;\n",
              "            progress.value = downloaded;\n",
              "          }\n",
              "        }\n",
              "      }\n",
              "      const blob = new Blob(buffers, {type: 'application/binary'});\n",
              "      const a = document.createElement('a');\n",
              "      a.href = window.URL.createObjectURL(blob);\n",
              "      a.download = filename;\n",
              "      div.appendChild(a);\n",
              "      a.click();\n",
              "      div.remove();\n",
              "    }\n",
              "  "
            ]
          },
          "metadata": {}
        },
        {
          "output_type": "display_data",
          "data": {
            "text/plain": [
              "<IPython.core.display.Javascript object>"
            ],
            "application/javascript": [
              "download(\"download_56459726-569b-4fa2-baff-edb19146aa19\", \"part-00000-cfa68b51-5ec8-4ba4-a3e4-ca3b3cd895a4-c000.csv\", 713)"
            ]
          },
          "metadata": {}
        },
        {
          "output_type": "display_data",
          "data": {
            "text/plain": [
              "<IPython.core.display.Javascript object>"
            ],
            "application/javascript": [
              "\n",
              "    async function download(id, filename, size) {\n",
              "      if (!google.colab.kernel.accessAllowed) {\n",
              "        return;\n",
              "      }\n",
              "      const div = document.createElement('div');\n",
              "      const label = document.createElement('label');\n",
              "      label.textContent = `Downloading \"${filename}\": `;\n",
              "      div.appendChild(label);\n",
              "      const progress = document.createElement('progress');\n",
              "      progress.max = size;\n",
              "      div.appendChild(progress);\n",
              "      document.body.appendChild(div);\n",
              "\n",
              "      const buffers = [];\n",
              "      let downloaded = 0;\n",
              "\n",
              "      const channel = await google.colab.kernel.comms.open(id);\n",
              "      // Send a message to notify the kernel that we're ready.\n",
              "      channel.send({})\n",
              "\n",
              "      for await (const message of channel.messages) {\n",
              "        // Send a message to notify the kernel that we're ready.\n",
              "        channel.send({})\n",
              "        if (message.buffers) {\n",
              "          for (const buffer of message.buffers) {\n",
              "            buffers.push(buffer);\n",
              "            downloaded += buffer.byteLength;\n",
              "            progress.value = downloaded;\n",
              "          }\n",
              "        }\n",
              "      }\n",
              "      const blob = new Blob(buffers, {type: 'application/binary'});\n",
              "      const a = document.createElement('a');\n",
              "      a.href = window.URL.createObjectURL(blob);\n",
              "      a.download = filename;\n",
              "      div.appendChild(a);\n",
              "      a.click();\n",
              "      div.remove();\n",
              "    }\n",
              "  "
            ]
          },
          "metadata": {}
        },
        {
          "output_type": "display_data",
          "data": {
            "text/plain": [
              "<IPython.core.display.Javascript object>"
            ],
            "application/javascript": [
              "download(\"download_cced8a5e-03ee-4d3a-94cb-3d4082b15203\", \"part-00000-29707348-ea07-4677-a3aa-6ec382423a7d-c000.csv\", 808)"
            ]
          },
          "metadata": {}
        },
        {
          "output_type": "display_data",
          "data": {
            "text/plain": [
              "<IPython.core.display.Javascript object>"
            ],
            "application/javascript": [
              "\n",
              "    async function download(id, filename, size) {\n",
              "      if (!google.colab.kernel.accessAllowed) {\n",
              "        return;\n",
              "      }\n",
              "      const div = document.createElement('div');\n",
              "      const label = document.createElement('label');\n",
              "      label.textContent = `Downloading \"${filename}\": `;\n",
              "      div.appendChild(label);\n",
              "      const progress = document.createElement('progress');\n",
              "      progress.max = size;\n",
              "      div.appendChild(progress);\n",
              "      document.body.appendChild(div);\n",
              "\n",
              "      const buffers = [];\n",
              "      let downloaded = 0;\n",
              "\n",
              "      const channel = await google.colab.kernel.comms.open(id);\n",
              "      // Send a message to notify the kernel that we're ready.\n",
              "      channel.send({})\n",
              "\n",
              "      for await (const message of channel.messages) {\n",
              "        // Send a message to notify the kernel that we're ready.\n",
              "        channel.send({})\n",
              "        if (message.buffers) {\n",
              "          for (const buffer of message.buffers) {\n",
              "            buffers.push(buffer);\n",
              "            downloaded += buffer.byteLength;\n",
              "            progress.value = downloaded;\n",
              "          }\n",
              "        }\n",
              "      }\n",
              "      const blob = new Blob(buffers, {type: 'application/binary'});\n",
              "      const a = document.createElement('a');\n",
              "      a.href = window.URL.createObjectURL(blob);\n",
              "      a.download = filename;\n",
              "      div.appendChild(a);\n",
              "      a.click();\n",
              "      div.remove();\n",
              "    }\n",
              "  "
            ]
          },
          "metadata": {}
        },
        {
          "output_type": "display_data",
          "data": {
            "text/plain": [
              "<IPython.core.display.Javascript object>"
            ],
            "application/javascript": [
              "download(\"download_72d5cb3d-83c9-4ff3-a178-73b8c8e63c6d\", \"part-00000-3a21e4f8-9625-4d68-a449-8eef89e6d385-c000.csv\", 796)"
            ]
          },
          "metadata": {}
        },
        {
          "output_type": "display_data",
          "data": {
            "text/plain": [
              "<IPython.core.display.Javascript object>"
            ],
            "application/javascript": [
              "\n",
              "    async function download(id, filename, size) {\n",
              "      if (!google.colab.kernel.accessAllowed) {\n",
              "        return;\n",
              "      }\n",
              "      const div = document.createElement('div');\n",
              "      const label = document.createElement('label');\n",
              "      label.textContent = `Downloading \"${filename}\": `;\n",
              "      div.appendChild(label);\n",
              "      const progress = document.createElement('progress');\n",
              "      progress.max = size;\n",
              "      div.appendChild(progress);\n",
              "      document.body.appendChild(div);\n",
              "\n",
              "      const buffers = [];\n",
              "      let downloaded = 0;\n",
              "\n",
              "      const channel = await google.colab.kernel.comms.open(id);\n",
              "      // Send a message to notify the kernel that we're ready.\n",
              "      channel.send({})\n",
              "\n",
              "      for await (const message of channel.messages) {\n",
              "        // Send a message to notify the kernel that we're ready.\n",
              "        channel.send({})\n",
              "        if (message.buffers) {\n",
              "          for (const buffer of message.buffers) {\n",
              "            buffers.push(buffer);\n",
              "            downloaded += buffer.byteLength;\n",
              "            progress.value = downloaded;\n",
              "          }\n",
              "        }\n",
              "      }\n",
              "      const blob = new Blob(buffers, {type: 'application/binary'});\n",
              "      const a = document.createElement('a');\n",
              "      a.href = window.URL.createObjectURL(blob);\n",
              "      a.download = filename;\n",
              "      div.appendChild(a);\n",
              "      a.click();\n",
              "      div.remove();\n",
              "    }\n",
              "  "
            ]
          },
          "metadata": {}
        },
        {
          "output_type": "display_data",
          "data": {
            "text/plain": [
              "<IPython.core.display.Javascript object>"
            ],
            "application/javascript": [
              "download(\"download_82f54635-477d-4c53-8466-86df1bc73c67\", \"part-00000-53fdc4e9-6e97-48e7-8fa7-8bc9af6342f7-c000.csv\", 705)"
            ]
          },
          "metadata": {}
        },
        {
          "output_type": "stream",
          "name": "stdout",
          "text": [
            "All datasets have been exported to your computer.\n"
          ]
        }
      ]
    },
    {
      "cell_type": "code",
      "source": [
        "export_datasets_to_computer(folder_path=\"/content/dataset_20KB.csv_stage_metrics\")\n"
      ],
      "metadata": {
        "colab": {
          "base_uri": "https://localhost:8080/",
          "height": 35
        },
        "id": "cFS2kVF4-agj",
        "outputId": "c4419049-4275-489c-8a12-edfdbf3d424b"
      },
      "execution_count": 15,
      "outputs": [
        {
          "output_type": "display_data",
          "data": {
            "text/plain": [
              "<IPython.core.display.Javascript object>"
            ],
            "application/javascript": [
              "\n",
              "    async function download(id, filename, size) {\n",
              "      if (!google.colab.kernel.accessAllowed) {\n",
              "        return;\n",
              "      }\n",
              "      const div = document.createElement('div');\n",
              "      const label = document.createElement('label');\n",
              "      label.textContent = `Downloading \"${filename}\": `;\n",
              "      div.appendChild(label);\n",
              "      const progress = document.createElement('progress');\n",
              "      progress.max = size;\n",
              "      div.appendChild(progress);\n",
              "      document.body.appendChild(div);\n",
              "\n",
              "      const buffers = [];\n",
              "      let downloaded = 0;\n",
              "\n",
              "      const channel = await google.colab.kernel.comms.open(id);\n",
              "      // Send a message to notify the kernel that we're ready.\n",
              "      channel.send({})\n",
              "\n",
              "      for await (const message of channel.messages) {\n",
              "        // Send a message to notify the kernel that we're ready.\n",
              "        channel.send({})\n",
              "        if (message.buffers) {\n",
              "          for (const buffer of message.buffers) {\n",
              "            buffers.push(buffer);\n",
              "            downloaded += buffer.byteLength;\n",
              "            progress.value = downloaded;\n",
              "          }\n",
              "        }\n",
              "      }\n",
              "      const blob = new Blob(buffers, {type: 'application/binary'});\n",
              "      const a = document.createElement('a');\n",
              "      a.href = window.URL.createObjectURL(blob);\n",
              "      a.download = filename;\n",
              "      div.appendChild(a);\n",
              "      a.click();\n",
              "      div.remove();\n",
              "    }\n",
              "  "
            ]
          },
          "metadata": {}
        },
        {
          "output_type": "display_data",
          "data": {
            "text/plain": [
              "<IPython.core.display.Javascript object>"
            ],
            "application/javascript": [
              "download(\"download_3bc9b5b8-1d1f-45a0-bed5-845846a7d0a5\", \".part-00000-ab6166f5-6482-4cc9-bc6f-25fed7cce1ea-c000.csv.crc\", 16)"
            ]
          },
          "metadata": {}
        },
        {
          "output_type": "display_data",
          "data": {
            "text/plain": [
              "<IPython.core.display.Javascript object>"
            ],
            "application/javascript": [
              "\n",
              "    async function download(id, filename, size) {\n",
              "      if (!google.colab.kernel.accessAllowed) {\n",
              "        return;\n",
              "      }\n",
              "      const div = document.createElement('div');\n",
              "      const label = document.createElement('label');\n",
              "      label.textContent = `Downloading \"${filename}\": `;\n",
              "      div.appendChild(label);\n",
              "      const progress = document.createElement('progress');\n",
              "      progress.max = size;\n",
              "      div.appendChild(progress);\n",
              "      document.body.appendChild(div);\n",
              "\n",
              "      const buffers = [];\n",
              "      let downloaded = 0;\n",
              "\n",
              "      const channel = await google.colab.kernel.comms.open(id);\n",
              "      // Send a message to notify the kernel that we're ready.\n",
              "      channel.send({})\n",
              "\n",
              "      for await (const message of channel.messages) {\n",
              "        // Send a message to notify the kernel that we're ready.\n",
              "        channel.send({})\n",
              "        if (message.buffers) {\n",
              "          for (const buffer of message.buffers) {\n",
              "            buffers.push(buffer);\n",
              "            downloaded += buffer.byteLength;\n",
              "            progress.value = downloaded;\n",
              "          }\n",
              "        }\n",
              "      }\n",
              "      const blob = new Blob(buffers, {type: 'application/binary'});\n",
              "      const a = document.createElement('a');\n",
              "      a.href = window.URL.createObjectURL(blob);\n",
              "      a.download = filename;\n",
              "      div.appendChild(a);\n",
              "      a.click();\n",
              "      div.remove();\n",
              "    }\n",
              "  "
            ]
          },
          "metadata": {}
        },
        {
          "output_type": "display_data",
          "data": {
            "text/plain": [
              "<IPython.core.display.Javascript object>"
            ],
            "application/javascript": [
              "download(\"download_a37577c6-a054-471e-a709-32f47db96728\", \"part-00000-d2eea38c-8543-4829-84a4-c19d6c4e6a50-c000.csv\", 797)"
            ]
          },
          "metadata": {}
        },
        {
          "output_type": "display_data",
          "data": {
            "text/plain": [
              "<IPython.core.display.Javascript object>"
            ],
            "application/javascript": [
              "\n",
              "    async function download(id, filename, size) {\n",
              "      if (!google.colab.kernel.accessAllowed) {\n",
              "        return;\n",
              "      }\n",
              "      const div = document.createElement('div');\n",
              "      const label = document.createElement('label');\n",
              "      label.textContent = `Downloading \"${filename}\": `;\n",
              "      div.appendChild(label);\n",
              "      const progress = document.createElement('progress');\n",
              "      progress.max = size;\n",
              "      div.appendChild(progress);\n",
              "      document.body.appendChild(div);\n",
              "\n",
              "      const buffers = [];\n",
              "      let downloaded = 0;\n",
              "\n",
              "      const channel = await google.colab.kernel.comms.open(id);\n",
              "      // Send a message to notify the kernel that we're ready.\n",
              "      channel.send({})\n",
              "\n",
              "      for await (const message of channel.messages) {\n",
              "        // Send a message to notify the kernel that we're ready.\n",
              "        channel.send({})\n",
              "        if (message.buffers) {\n",
              "          for (const buffer of message.buffers) {\n",
              "            buffers.push(buffer);\n",
              "            downloaded += buffer.byteLength;\n",
              "            progress.value = downloaded;\n",
              "          }\n",
              "        }\n",
              "      }\n",
              "      const blob = new Blob(buffers, {type: 'application/binary'});\n",
              "      const a = document.createElement('a');\n",
              "      a.href = window.URL.createObjectURL(blob);\n",
              "      a.download = filename;\n",
              "      div.appendChild(a);\n",
              "      a.click();\n",
              "      div.remove();\n",
              "    }\n",
              "  "
            ]
          },
          "metadata": {}
        },
        {
          "output_type": "display_data",
          "data": {
            "text/plain": [
              "<IPython.core.display.Javascript object>"
            ],
            "application/javascript": [
              "download(\"download_08336045-80c1-4351-90cc-b991dc5a66f3\", \".part-00000-d2eea38c-8543-4829-84a4-c19d6c4e6a50-c000.csv.crc\", 16)"
            ]
          },
          "metadata": {}
        },
        {
          "output_type": "display_data",
          "data": {
            "text/plain": [
              "<IPython.core.display.Javascript object>"
            ],
            "application/javascript": [
              "\n",
              "    async function download(id, filename, size) {\n",
              "      if (!google.colab.kernel.accessAllowed) {\n",
              "        return;\n",
              "      }\n",
              "      const div = document.createElement('div');\n",
              "      const label = document.createElement('label');\n",
              "      label.textContent = `Downloading \"${filename}\": `;\n",
              "      div.appendChild(label);\n",
              "      const progress = document.createElement('progress');\n",
              "      progress.max = size;\n",
              "      div.appendChild(progress);\n",
              "      document.body.appendChild(div);\n",
              "\n",
              "      const buffers = [];\n",
              "      let downloaded = 0;\n",
              "\n",
              "      const channel = await google.colab.kernel.comms.open(id);\n",
              "      // Send a message to notify the kernel that we're ready.\n",
              "      channel.send({})\n",
              "\n",
              "      for await (const message of channel.messages) {\n",
              "        // Send a message to notify the kernel that we're ready.\n",
              "        channel.send({})\n",
              "        if (message.buffers) {\n",
              "          for (const buffer of message.buffers) {\n",
              "            buffers.push(buffer);\n",
              "            downloaded += buffer.byteLength;\n",
              "            progress.value = downloaded;\n",
              "          }\n",
              "        }\n",
              "      }\n",
              "      const blob = new Blob(buffers, {type: 'application/binary'});\n",
              "      const a = document.createElement('a');\n",
              "      a.href = window.URL.createObjectURL(blob);\n",
              "      a.download = filename;\n",
              "      div.appendChild(a);\n",
              "      a.click();\n",
              "      div.remove();\n",
              "    }\n",
              "  "
            ]
          },
          "metadata": {}
        },
        {
          "output_type": "display_data",
          "data": {
            "text/plain": [
              "<IPython.core.display.Javascript object>"
            ],
            "application/javascript": [
              "download(\"download_88071227-7747-4750-a8f2-20311b6dee5d\", \"part-00000-ab6166f5-6482-4cc9-bc6f-25fed7cce1ea-c000.csv\", 809)"
            ]
          },
          "metadata": {}
        },
        {
          "output_type": "display_data",
          "data": {
            "text/plain": [
              "<IPython.core.display.Javascript object>"
            ],
            "application/javascript": [
              "\n",
              "    async function download(id, filename, size) {\n",
              "      if (!google.colab.kernel.accessAllowed) {\n",
              "        return;\n",
              "      }\n",
              "      const div = document.createElement('div');\n",
              "      const label = document.createElement('label');\n",
              "      label.textContent = `Downloading \"${filename}\": `;\n",
              "      div.appendChild(label);\n",
              "      const progress = document.createElement('progress');\n",
              "      progress.max = size;\n",
              "      div.appendChild(progress);\n",
              "      document.body.appendChild(div);\n",
              "\n",
              "      const buffers = [];\n",
              "      let downloaded = 0;\n",
              "\n",
              "      const channel = await google.colab.kernel.comms.open(id);\n",
              "      // Send a message to notify the kernel that we're ready.\n",
              "      channel.send({})\n",
              "\n",
              "      for await (const message of channel.messages) {\n",
              "        // Send a message to notify the kernel that we're ready.\n",
              "        channel.send({})\n",
              "        if (message.buffers) {\n",
              "          for (const buffer of message.buffers) {\n",
              "            buffers.push(buffer);\n",
              "            downloaded += buffer.byteLength;\n",
              "            progress.value = downloaded;\n",
              "          }\n",
              "        }\n",
              "      }\n",
              "      const blob = new Blob(buffers, {type: 'application/binary'});\n",
              "      const a = document.createElement('a');\n",
              "      a.href = window.URL.createObjectURL(blob);\n",
              "      a.download = filename;\n",
              "      div.appendChild(a);\n",
              "      a.click();\n",
              "      div.remove();\n",
              "    }\n",
              "  "
            ]
          },
          "metadata": {}
        },
        {
          "output_type": "display_data",
          "data": {
            "text/plain": [
              "<IPython.core.display.Javascript object>"
            ],
            "application/javascript": [
              "download(\"download_7703399d-eeaa-444f-a996-ae99b3b90cde\", \".part-00000-68583316-9ae4-4c7d-bb99-a6a2f77afa71-c000.csv.crc\", 16)"
            ]
          },
          "metadata": {}
        },
        {
          "output_type": "display_data",
          "data": {
            "text/plain": [
              "<IPython.core.display.Javascript object>"
            ],
            "application/javascript": [
              "\n",
              "    async function download(id, filename, size) {\n",
              "      if (!google.colab.kernel.accessAllowed) {\n",
              "        return;\n",
              "      }\n",
              "      const div = document.createElement('div');\n",
              "      const label = document.createElement('label');\n",
              "      label.textContent = `Downloading \"${filename}\": `;\n",
              "      div.appendChild(label);\n",
              "      const progress = document.createElement('progress');\n",
              "      progress.max = size;\n",
              "      div.appendChild(progress);\n",
              "      document.body.appendChild(div);\n",
              "\n",
              "      const buffers = [];\n",
              "      let downloaded = 0;\n",
              "\n",
              "      const channel = await google.colab.kernel.comms.open(id);\n",
              "      // Send a message to notify the kernel that we're ready.\n",
              "      channel.send({})\n",
              "\n",
              "      for await (const message of channel.messages) {\n",
              "        // Send a message to notify the kernel that we're ready.\n",
              "        channel.send({})\n",
              "        if (message.buffers) {\n",
              "          for (const buffer of message.buffers) {\n",
              "            buffers.push(buffer);\n",
              "            downloaded += buffer.byteLength;\n",
              "            progress.value = downloaded;\n",
              "          }\n",
              "        }\n",
              "      }\n",
              "      const blob = new Blob(buffers, {type: 'application/binary'});\n",
              "      const a = document.createElement('a');\n",
              "      a.href = window.URL.createObjectURL(blob);\n",
              "      a.download = filename;\n",
              "      div.appendChild(a);\n",
              "      a.click();\n",
              "      div.remove();\n",
              "    }\n",
              "  "
            ]
          },
          "metadata": {}
        },
        {
          "output_type": "display_data",
          "data": {
            "text/plain": [
              "<IPython.core.display.Javascript object>"
            ],
            "application/javascript": [
              "download(\"download_ecb6f9af-71b3-4284-b5a9-5e4afeb41013\", \".part-00000-10e3ed9d-bfe0-4f3d-9f7b-66754acb9ab9-c000.csv.crc\", 16)"
            ]
          },
          "metadata": {}
        },
        {
          "output_type": "display_data",
          "data": {
            "text/plain": [
              "<IPython.core.display.Javascript object>"
            ],
            "application/javascript": [
              "\n",
              "    async function download(id, filename, size) {\n",
              "      if (!google.colab.kernel.accessAllowed) {\n",
              "        return;\n",
              "      }\n",
              "      const div = document.createElement('div');\n",
              "      const label = document.createElement('label');\n",
              "      label.textContent = `Downloading \"${filename}\": `;\n",
              "      div.appendChild(label);\n",
              "      const progress = document.createElement('progress');\n",
              "      progress.max = size;\n",
              "      div.appendChild(progress);\n",
              "      document.body.appendChild(div);\n",
              "\n",
              "      const buffers = [];\n",
              "      let downloaded = 0;\n",
              "\n",
              "      const channel = await google.colab.kernel.comms.open(id);\n",
              "      // Send a message to notify the kernel that we're ready.\n",
              "      channel.send({})\n",
              "\n",
              "      for await (const message of channel.messages) {\n",
              "        // Send a message to notify the kernel that we're ready.\n",
              "        channel.send({})\n",
              "        if (message.buffers) {\n",
              "          for (const buffer of message.buffers) {\n",
              "            buffers.push(buffer);\n",
              "            downloaded += buffer.byteLength;\n",
              "            progress.value = downloaded;\n",
              "          }\n",
              "        }\n",
              "      }\n",
              "      const blob = new Blob(buffers, {type: 'application/binary'});\n",
              "      const a = document.createElement('a');\n",
              "      a.href = window.URL.createObjectURL(blob);\n",
              "      a.download = filename;\n",
              "      div.appendChild(a);\n",
              "      a.click();\n",
              "      div.remove();\n",
              "    }\n",
              "  "
            ]
          },
          "metadata": {}
        },
        {
          "output_type": "display_data",
          "data": {
            "text/plain": [
              "<IPython.core.display.Javascript object>"
            ],
            "application/javascript": [
              "download(\"download_30e59109-71e7-4063-ac15-8971611e39c4\", \"part-00000-10e3ed9d-bfe0-4f3d-9f7b-66754acb9ab9-c000.csv\", 706)"
            ]
          },
          "metadata": {}
        },
        {
          "output_type": "display_data",
          "data": {
            "text/plain": [
              "<IPython.core.display.Javascript object>"
            ],
            "application/javascript": [
              "\n",
              "    async function download(id, filename, size) {\n",
              "      if (!google.colab.kernel.accessAllowed) {\n",
              "        return;\n",
              "      }\n",
              "      const div = document.createElement('div');\n",
              "      const label = document.createElement('label');\n",
              "      label.textContent = `Downloading \"${filename}\": `;\n",
              "      div.appendChild(label);\n",
              "      const progress = document.createElement('progress');\n",
              "      progress.max = size;\n",
              "      div.appendChild(progress);\n",
              "      document.body.appendChild(div);\n",
              "\n",
              "      const buffers = [];\n",
              "      let downloaded = 0;\n",
              "\n",
              "      const channel = await google.colab.kernel.comms.open(id);\n",
              "      // Send a message to notify the kernel that we're ready.\n",
              "      channel.send({})\n",
              "\n",
              "      for await (const message of channel.messages) {\n",
              "        // Send a message to notify the kernel that we're ready.\n",
              "        channel.send({})\n",
              "        if (message.buffers) {\n",
              "          for (const buffer of message.buffers) {\n",
              "            buffers.push(buffer);\n",
              "            downloaded += buffer.byteLength;\n",
              "            progress.value = downloaded;\n",
              "          }\n",
              "        }\n",
              "      }\n",
              "      const blob = new Blob(buffers, {type: 'application/binary'});\n",
              "      const a = document.createElement('a');\n",
              "      a.href = window.URL.createObjectURL(blob);\n",
              "      a.download = filename;\n",
              "      div.appendChild(a);\n",
              "      a.click();\n",
              "      div.remove();\n",
              "    }\n",
              "  "
            ]
          },
          "metadata": {}
        },
        {
          "output_type": "display_data",
          "data": {
            "text/plain": [
              "<IPython.core.display.Javascript object>"
            ],
            "application/javascript": [
              "download(\"download_5d883986-c53c-43bd-8d63-e5cf2390b7d1\", \"_SUCCESS\", 0)"
            ]
          },
          "metadata": {}
        },
        {
          "output_type": "display_data",
          "data": {
            "text/plain": [
              "<IPython.core.display.Javascript object>"
            ],
            "application/javascript": [
              "\n",
              "    async function download(id, filename, size) {\n",
              "      if (!google.colab.kernel.accessAllowed) {\n",
              "        return;\n",
              "      }\n",
              "      const div = document.createElement('div');\n",
              "      const label = document.createElement('label');\n",
              "      label.textContent = `Downloading \"${filename}\": `;\n",
              "      div.appendChild(label);\n",
              "      const progress = document.createElement('progress');\n",
              "      progress.max = size;\n",
              "      div.appendChild(progress);\n",
              "      document.body.appendChild(div);\n",
              "\n",
              "      const buffers = [];\n",
              "      let downloaded = 0;\n",
              "\n",
              "      const channel = await google.colab.kernel.comms.open(id);\n",
              "      // Send a message to notify the kernel that we're ready.\n",
              "      channel.send({})\n",
              "\n",
              "      for await (const message of channel.messages) {\n",
              "        // Send a message to notify the kernel that we're ready.\n",
              "        channel.send({})\n",
              "        if (message.buffers) {\n",
              "          for (const buffer of message.buffers) {\n",
              "            buffers.push(buffer);\n",
              "            downloaded += buffer.byteLength;\n",
              "            progress.value = downloaded;\n",
              "          }\n",
              "        }\n",
              "      }\n",
              "      const blob = new Blob(buffers, {type: 'application/binary'});\n",
              "      const a = document.createElement('a');\n",
              "      a.href = window.URL.createObjectURL(blob);\n",
              "      a.download = filename;\n",
              "      div.appendChild(a);\n",
              "      a.click();\n",
              "      div.remove();\n",
              "    }\n",
              "  "
            ]
          },
          "metadata": {}
        },
        {
          "output_type": "display_data",
          "data": {
            "text/plain": [
              "<IPython.core.display.Javascript object>"
            ],
            "application/javascript": [
              "download(\"download_17feda0b-4822-4022-80b3-ed02cc194c8d\", \"part-00000-68583316-9ae4-4c7d-bb99-a6a2f77afa71-c000.csv\", 794)"
            ]
          },
          "metadata": {}
        },
        {
          "output_type": "display_data",
          "data": {
            "text/plain": [
              "<IPython.core.display.Javascript object>"
            ],
            "application/javascript": [
              "\n",
              "    async function download(id, filename, size) {\n",
              "      if (!google.colab.kernel.accessAllowed) {\n",
              "        return;\n",
              "      }\n",
              "      const div = document.createElement('div');\n",
              "      const label = document.createElement('label');\n",
              "      label.textContent = `Downloading \"${filename}\": `;\n",
              "      div.appendChild(label);\n",
              "      const progress = document.createElement('progress');\n",
              "      progress.max = size;\n",
              "      div.appendChild(progress);\n",
              "      document.body.appendChild(div);\n",
              "\n",
              "      const buffers = [];\n",
              "      let downloaded = 0;\n",
              "\n",
              "      const channel = await google.colab.kernel.comms.open(id);\n",
              "      // Send a message to notify the kernel that we're ready.\n",
              "      channel.send({})\n",
              "\n",
              "      for await (const message of channel.messages) {\n",
              "        // Send a message to notify the kernel that we're ready.\n",
              "        channel.send({})\n",
              "        if (message.buffers) {\n",
              "          for (const buffer of message.buffers) {\n",
              "            buffers.push(buffer);\n",
              "            downloaded += buffer.byteLength;\n",
              "            progress.value = downloaded;\n",
              "          }\n",
              "        }\n",
              "      }\n",
              "      const blob = new Blob(buffers, {type: 'application/binary'});\n",
              "      const a = document.createElement('a');\n",
              "      a.href = window.URL.createObjectURL(blob);\n",
              "      a.download = filename;\n",
              "      div.appendChild(a);\n",
              "      a.click();\n",
              "      div.remove();\n",
              "    }\n",
              "  "
            ]
          },
          "metadata": {}
        },
        {
          "output_type": "display_data",
          "data": {
            "text/plain": [
              "<IPython.core.display.Javascript object>"
            ],
            "application/javascript": [
              "download(\"download_2a2c8eac-c9ef-4961-b98f-d174306a8a08\", \"._SUCCESS.crc\", 8)"
            ]
          },
          "metadata": {}
        },
        {
          "output_type": "stream",
          "name": "stdout",
          "text": [
            "All datasets have been exported to your computer.\n"
          ]
        }
      ]
    },
    {
      "cell_type": "code",
      "source": [
        "export_datasets_to_computer(folder_path=\"/content/dataset_30KB.csv_stage_metrics\")\n"
      ],
      "metadata": {
        "colab": {
          "base_uri": "https://localhost:8080/",
          "height": 35
        },
        "id": "upuEtMPc-b3g",
        "outputId": "1ac5a463-8c8a-445b-9024-136b4fe1c9ef"
      },
      "execution_count": 16,
      "outputs": [
        {
          "output_type": "display_data",
          "data": {
            "text/plain": [
              "<IPython.core.display.Javascript object>"
            ],
            "application/javascript": [
              "\n",
              "    async function download(id, filename, size) {\n",
              "      if (!google.colab.kernel.accessAllowed) {\n",
              "        return;\n",
              "      }\n",
              "      const div = document.createElement('div');\n",
              "      const label = document.createElement('label');\n",
              "      label.textContent = `Downloading \"${filename}\": `;\n",
              "      div.appendChild(label);\n",
              "      const progress = document.createElement('progress');\n",
              "      progress.max = size;\n",
              "      div.appendChild(progress);\n",
              "      document.body.appendChild(div);\n",
              "\n",
              "      const buffers = [];\n",
              "      let downloaded = 0;\n",
              "\n",
              "      const channel = await google.colab.kernel.comms.open(id);\n",
              "      // Send a message to notify the kernel that we're ready.\n",
              "      channel.send({})\n",
              "\n",
              "      for await (const message of channel.messages) {\n",
              "        // Send a message to notify the kernel that we're ready.\n",
              "        channel.send({})\n",
              "        if (message.buffers) {\n",
              "          for (const buffer of message.buffers) {\n",
              "            buffers.push(buffer);\n",
              "            downloaded += buffer.byteLength;\n",
              "            progress.value = downloaded;\n",
              "          }\n",
              "        }\n",
              "      }\n",
              "      const blob = new Blob(buffers, {type: 'application/binary'});\n",
              "      const a = document.createElement('a');\n",
              "      a.href = window.URL.createObjectURL(blob);\n",
              "      a.download = filename;\n",
              "      div.appendChild(a);\n",
              "      a.click();\n",
              "      div.remove();\n",
              "    }\n",
              "  "
            ]
          },
          "metadata": {}
        },
        {
          "output_type": "display_data",
          "data": {
            "text/plain": [
              "<IPython.core.display.Javascript object>"
            ],
            "application/javascript": [
              "download(\"download_1333ce7b-e470-4f68-bb54-24c820dacf12\", \".part-00000-027587a6-e076-4ece-8d4b-7f878a7eb85b-c000.csv.crc\", 16)"
            ]
          },
          "metadata": {}
        },
        {
          "output_type": "display_data",
          "data": {
            "text/plain": [
              "<IPython.core.display.Javascript object>"
            ],
            "application/javascript": [
              "\n",
              "    async function download(id, filename, size) {\n",
              "      if (!google.colab.kernel.accessAllowed) {\n",
              "        return;\n",
              "      }\n",
              "      const div = document.createElement('div');\n",
              "      const label = document.createElement('label');\n",
              "      label.textContent = `Downloading \"${filename}\": `;\n",
              "      div.appendChild(label);\n",
              "      const progress = document.createElement('progress');\n",
              "      progress.max = size;\n",
              "      div.appendChild(progress);\n",
              "      document.body.appendChild(div);\n",
              "\n",
              "      const buffers = [];\n",
              "      let downloaded = 0;\n",
              "\n",
              "      const channel = await google.colab.kernel.comms.open(id);\n",
              "      // Send a message to notify the kernel that we're ready.\n",
              "      channel.send({})\n",
              "\n",
              "      for await (const message of channel.messages) {\n",
              "        // Send a message to notify the kernel that we're ready.\n",
              "        channel.send({})\n",
              "        if (message.buffers) {\n",
              "          for (const buffer of message.buffers) {\n",
              "            buffers.push(buffer);\n",
              "            downloaded += buffer.byteLength;\n",
              "            progress.value = downloaded;\n",
              "          }\n",
              "        }\n",
              "      }\n",
              "      const blob = new Blob(buffers, {type: 'application/binary'});\n",
              "      const a = document.createElement('a');\n",
              "      a.href = window.URL.createObjectURL(blob);\n",
              "      a.download = filename;\n",
              "      div.appendChild(a);\n",
              "      a.click();\n",
              "      div.remove();\n",
              "    }\n",
              "  "
            ]
          },
          "metadata": {}
        },
        {
          "output_type": "display_data",
          "data": {
            "text/plain": [
              "<IPython.core.display.Javascript object>"
            ],
            "application/javascript": [
              "download(\"download_9f51e04a-544d-4da7-af9d-6f65ba95d50e\", \"part-00000-f9a4c15e-45b6-4214-98b3-7fab5a332a36-c000.csv\", 815)"
            ]
          },
          "metadata": {}
        },
        {
          "output_type": "display_data",
          "data": {
            "text/plain": [
              "<IPython.core.display.Javascript object>"
            ],
            "application/javascript": [
              "\n",
              "    async function download(id, filename, size) {\n",
              "      if (!google.colab.kernel.accessAllowed) {\n",
              "        return;\n",
              "      }\n",
              "      const div = document.createElement('div');\n",
              "      const label = document.createElement('label');\n",
              "      label.textContent = `Downloading \"${filename}\": `;\n",
              "      div.appendChild(label);\n",
              "      const progress = document.createElement('progress');\n",
              "      progress.max = size;\n",
              "      div.appendChild(progress);\n",
              "      document.body.appendChild(div);\n",
              "\n",
              "      const buffers = [];\n",
              "      let downloaded = 0;\n",
              "\n",
              "      const channel = await google.colab.kernel.comms.open(id);\n",
              "      // Send a message to notify the kernel that we're ready.\n",
              "      channel.send({})\n",
              "\n",
              "      for await (const message of channel.messages) {\n",
              "        // Send a message to notify the kernel that we're ready.\n",
              "        channel.send({})\n",
              "        if (message.buffers) {\n",
              "          for (const buffer of message.buffers) {\n",
              "            buffers.push(buffer);\n",
              "            downloaded += buffer.byteLength;\n",
              "            progress.value = downloaded;\n",
              "          }\n",
              "        }\n",
              "      }\n",
              "      const blob = new Blob(buffers, {type: 'application/binary'});\n",
              "      const a = document.createElement('a');\n",
              "      a.href = window.URL.createObjectURL(blob);\n",
              "      a.download = filename;\n",
              "      div.appendChild(a);\n",
              "      a.click();\n",
              "      div.remove();\n",
              "    }\n",
              "  "
            ]
          },
          "metadata": {}
        },
        {
          "output_type": "display_data",
          "data": {
            "text/plain": [
              "<IPython.core.display.Javascript object>"
            ],
            "application/javascript": [
              "download(\"download_6828f15c-a47e-456a-aedf-42e91674497f\", \"_SUCCESS\", 0)"
            ]
          },
          "metadata": {}
        },
        {
          "output_type": "display_data",
          "data": {
            "text/plain": [
              "<IPython.core.display.Javascript object>"
            ],
            "application/javascript": [
              "\n",
              "    async function download(id, filename, size) {\n",
              "      if (!google.colab.kernel.accessAllowed) {\n",
              "        return;\n",
              "      }\n",
              "      const div = document.createElement('div');\n",
              "      const label = document.createElement('label');\n",
              "      label.textContent = `Downloading \"${filename}\": `;\n",
              "      div.appendChild(label);\n",
              "      const progress = document.createElement('progress');\n",
              "      progress.max = size;\n",
              "      div.appendChild(progress);\n",
              "      document.body.appendChild(div);\n",
              "\n",
              "      const buffers = [];\n",
              "      let downloaded = 0;\n",
              "\n",
              "      const channel = await google.colab.kernel.comms.open(id);\n",
              "      // Send a message to notify the kernel that we're ready.\n",
              "      channel.send({})\n",
              "\n",
              "      for await (const message of channel.messages) {\n",
              "        // Send a message to notify the kernel that we're ready.\n",
              "        channel.send({})\n",
              "        if (message.buffers) {\n",
              "          for (const buffer of message.buffers) {\n",
              "            buffers.push(buffer);\n",
              "            downloaded += buffer.byteLength;\n",
              "            progress.value = downloaded;\n",
              "          }\n",
              "        }\n",
              "      }\n",
              "      const blob = new Blob(buffers, {type: 'application/binary'});\n",
              "      const a = document.createElement('a');\n",
              "      a.href = window.URL.createObjectURL(blob);\n",
              "      a.download = filename;\n",
              "      div.appendChild(a);\n",
              "      a.click();\n",
              "      div.remove();\n",
              "    }\n",
              "  "
            ]
          },
          "metadata": {}
        },
        {
          "output_type": "display_data",
          "data": {
            "text/plain": [
              "<IPython.core.display.Javascript object>"
            ],
            "application/javascript": [
              "download(\"download_206c7d20-8ac9-4935-8c3f-117c09ae1074\", \"part-00000-027587a6-e076-4ece-8d4b-7f878a7eb85b-c000.csv\", 706)"
            ]
          },
          "metadata": {}
        },
        {
          "output_type": "display_data",
          "data": {
            "text/plain": [
              "<IPython.core.display.Javascript object>"
            ],
            "application/javascript": [
              "\n",
              "    async function download(id, filename, size) {\n",
              "      if (!google.colab.kernel.accessAllowed) {\n",
              "        return;\n",
              "      }\n",
              "      const div = document.createElement('div');\n",
              "      const label = document.createElement('label');\n",
              "      label.textContent = `Downloading \"${filename}\": `;\n",
              "      div.appendChild(label);\n",
              "      const progress = document.createElement('progress');\n",
              "      progress.max = size;\n",
              "      div.appendChild(progress);\n",
              "      document.body.appendChild(div);\n",
              "\n",
              "      const buffers = [];\n",
              "      let downloaded = 0;\n",
              "\n",
              "      const channel = await google.colab.kernel.comms.open(id);\n",
              "      // Send a message to notify the kernel that we're ready.\n",
              "      channel.send({})\n",
              "\n",
              "      for await (const message of channel.messages) {\n",
              "        // Send a message to notify the kernel that we're ready.\n",
              "        channel.send({})\n",
              "        if (message.buffers) {\n",
              "          for (const buffer of message.buffers) {\n",
              "            buffers.push(buffer);\n",
              "            downloaded += buffer.byteLength;\n",
              "            progress.value = downloaded;\n",
              "          }\n",
              "        }\n",
              "      }\n",
              "      const blob = new Blob(buffers, {type: 'application/binary'});\n",
              "      const a = document.createElement('a');\n",
              "      a.href = window.URL.createObjectURL(blob);\n",
              "      a.download = filename;\n",
              "      div.appendChild(a);\n",
              "      a.click();\n",
              "      div.remove();\n",
              "    }\n",
              "  "
            ]
          },
          "metadata": {}
        },
        {
          "output_type": "display_data",
          "data": {
            "text/plain": [
              "<IPython.core.display.Javascript object>"
            ],
            "application/javascript": [
              "download(\"download_68faa428-7cca-4f88-a136-6e064cec664c\", \".part-00000-d8a672bc-87fc-4ae6-ae66-d641973e38c3-c000.csv.crc\", 16)"
            ]
          },
          "metadata": {}
        },
        {
          "output_type": "display_data",
          "data": {
            "text/plain": [
              "<IPython.core.display.Javascript object>"
            ],
            "application/javascript": [
              "\n",
              "    async function download(id, filename, size) {\n",
              "      if (!google.colab.kernel.accessAllowed) {\n",
              "        return;\n",
              "      }\n",
              "      const div = document.createElement('div');\n",
              "      const label = document.createElement('label');\n",
              "      label.textContent = `Downloading \"${filename}\": `;\n",
              "      div.appendChild(label);\n",
              "      const progress = document.createElement('progress');\n",
              "      progress.max = size;\n",
              "      div.appendChild(progress);\n",
              "      document.body.appendChild(div);\n",
              "\n",
              "      const buffers = [];\n",
              "      let downloaded = 0;\n",
              "\n",
              "      const channel = await google.colab.kernel.comms.open(id);\n",
              "      // Send a message to notify the kernel that we're ready.\n",
              "      channel.send({})\n",
              "\n",
              "      for await (const message of channel.messages) {\n",
              "        // Send a message to notify the kernel that we're ready.\n",
              "        channel.send({})\n",
              "        if (message.buffers) {\n",
              "          for (const buffer of message.buffers) {\n",
              "            buffers.push(buffer);\n",
              "            downloaded += buffer.byteLength;\n",
              "            progress.value = downloaded;\n",
              "          }\n",
              "        }\n",
              "      }\n",
              "      const blob = new Blob(buffers, {type: 'application/binary'});\n",
              "      const a = document.createElement('a');\n",
              "      a.href = window.URL.createObjectURL(blob);\n",
              "      a.download = filename;\n",
              "      div.appendChild(a);\n",
              "      a.click();\n",
              "      div.remove();\n",
              "    }\n",
              "  "
            ]
          },
          "metadata": {}
        },
        {
          "output_type": "display_data",
          "data": {
            "text/plain": [
              "<IPython.core.display.Javascript object>"
            ],
            "application/javascript": [
              "download(\"download_476fce30-3db4-4806-a6d4-5232a54d6e77\", \"._SUCCESS.crc\", 8)"
            ]
          },
          "metadata": {}
        },
        {
          "output_type": "display_data",
          "data": {
            "text/plain": [
              "<IPython.core.display.Javascript object>"
            ],
            "application/javascript": [
              "\n",
              "    async function download(id, filename, size) {\n",
              "      if (!google.colab.kernel.accessAllowed) {\n",
              "        return;\n",
              "      }\n",
              "      const div = document.createElement('div');\n",
              "      const label = document.createElement('label');\n",
              "      label.textContent = `Downloading \"${filename}\": `;\n",
              "      div.appendChild(label);\n",
              "      const progress = document.createElement('progress');\n",
              "      progress.max = size;\n",
              "      div.appendChild(progress);\n",
              "      document.body.appendChild(div);\n",
              "\n",
              "      const buffers = [];\n",
              "      let downloaded = 0;\n",
              "\n",
              "      const channel = await google.colab.kernel.comms.open(id);\n",
              "      // Send a message to notify the kernel that we're ready.\n",
              "      channel.send({})\n",
              "\n",
              "      for await (const message of channel.messages) {\n",
              "        // Send a message to notify the kernel that we're ready.\n",
              "        channel.send({})\n",
              "        if (message.buffers) {\n",
              "          for (const buffer of message.buffers) {\n",
              "            buffers.push(buffer);\n",
              "            downloaded += buffer.byteLength;\n",
              "            progress.value = downloaded;\n",
              "          }\n",
              "        }\n",
              "      }\n",
              "      const blob = new Blob(buffers, {type: 'application/binary'});\n",
              "      const a = document.createElement('a');\n",
              "      a.href = window.URL.createObjectURL(blob);\n",
              "      a.download = filename;\n",
              "      div.appendChild(a);\n",
              "      a.click();\n",
              "      div.remove();\n",
              "    }\n",
              "  "
            ]
          },
          "metadata": {}
        },
        {
          "output_type": "display_data",
          "data": {
            "text/plain": [
              "<IPython.core.display.Javascript object>"
            ],
            "application/javascript": [
              "download(\"download_2f064f6f-3629-47d4-84d1-455b5f556482\", \"part-00000-d8a672bc-87fc-4ae6-ae66-d641973e38c3-c000.csv\", 798)"
            ]
          },
          "metadata": {}
        },
        {
          "output_type": "display_data",
          "data": {
            "text/plain": [
              "<IPython.core.display.Javascript object>"
            ],
            "application/javascript": [
              "\n",
              "    async function download(id, filename, size) {\n",
              "      if (!google.colab.kernel.accessAllowed) {\n",
              "        return;\n",
              "      }\n",
              "      const div = document.createElement('div');\n",
              "      const label = document.createElement('label');\n",
              "      label.textContent = `Downloading \"${filename}\": `;\n",
              "      div.appendChild(label);\n",
              "      const progress = document.createElement('progress');\n",
              "      progress.max = size;\n",
              "      div.appendChild(progress);\n",
              "      document.body.appendChild(div);\n",
              "\n",
              "      const buffers = [];\n",
              "      let downloaded = 0;\n",
              "\n",
              "      const channel = await google.colab.kernel.comms.open(id);\n",
              "      // Send a message to notify the kernel that we're ready.\n",
              "      channel.send({})\n",
              "\n",
              "      for await (const message of channel.messages) {\n",
              "        // Send a message to notify the kernel that we're ready.\n",
              "        channel.send({})\n",
              "        if (message.buffers) {\n",
              "          for (const buffer of message.buffers) {\n",
              "            buffers.push(buffer);\n",
              "            downloaded += buffer.byteLength;\n",
              "            progress.value = downloaded;\n",
              "          }\n",
              "        }\n",
              "      }\n",
              "      const blob = new Blob(buffers, {type: 'application/binary'});\n",
              "      const a = document.createElement('a');\n",
              "      a.href = window.URL.createObjectURL(blob);\n",
              "      a.download = filename;\n",
              "      div.appendChild(a);\n",
              "      a.click();\n",
              "      div.remove();\n",
              "    }\n",
              "  "
            ]
          },
          "metadata": {}
        },
        {
          "output_type": "display_data",
          "data": {
            "text/plain": [
              "<IPython.core.display.Javascript object>"
            ],
            "application/javascript": [
              "download(\"download_641d2955-ab5d-4cdb-918a-ccb900136b8a\", \".part-00000-f9a4c15e-45b6-4214-98b3-7fab5a332a36-c000.csv.crc\", 16)"
            ]
          },
          "metadata": {}
        },
        {
          "output_type": "stream",
          "name": "stdout",
          "text": [
            "All datasets have been exported to your computer.\n"
          ]
        }
      ]
    },
    {
      "cell_type": "code",
      "source": [
        "export_datasets_to_computer(folder_path=\"/content/dataset_50KB.csv_stage_metrics\")"
      ],
      "metadata": {
        "colab": {
          "base_uri": "https://localhost:8080/",
          "height": 35
        },
        "id": "EQuJGM2E-dPF",
        "outputId": "e6bc53f1-3e97-476e-e61a-bd86c683553c"
      },
      "execution_count": 17,
      "outputs": [
        {
          "output_type": "display_data",
          "data": {
            "text/plain": [
              "<IPython.core.display.Javascript object>"
            ],
            "application/javascript": [
              "\n",
              "    async function download(id, filename, size) {\n",
              "      if (!google.colab.kernel.accessAllowed) {\n",
              "        return;\n",
              "      }\n",
              "      const div = document.createElement('div');\n",
              "      const label = document.createElement('label');\n",
              "      label.textContent = `Downloading \"${filename}\": `;\n",
              "      div.appendChild(label);\n",
              "      const progress = document.createElement('progress');\n",
              "      progress.max = size;\n",
              "      div.appendChild(progress);\n",
              "      document.body.appendChild(div);\n",
              "\n",
              "      const buffers = [];\n",
              "      let downloaded = 0;\n",
              "\n",
              "      const channel = await google.colab.kernel.comms.open(id);\n",
              "      // Send a message to notify the kernel that we're ready.\n",
              "      channel.send({})\n",
              "\n",
              "      for await (const message of channel.messages) {\n",
              "        // Send a message to notify the kernel that we're ready.\n",
              "        channel.send({})\n",
              "        if (message.buffers) {\n",
              "          for (const buffer of message.buffers) {\n",
              "            buffers.push(buffer);\n",
              "            downloaded += buffer.byteLength;\n",
              "            progress.value = downloaded;\n",
              "          }\n",
              "        }\n",
              "      }\n",
              "      const blob = new Blob(buffers, {type: 'application/binary'});\n",
              "      const a = document.createElement('a');\n",
              "      a.href = window.URL.createObjectURL(blob);\n",
              "      a.download = filename;\n",
              "      div.appendChild(a);\n",
              "      a.click();\n",
              "      div.remove();\n",
              "    }\n",
              "  "
            ]
          },
          "metadata": {}
        },
        {
          "output_type": "display_data",
          "data": {
            "text/plain": [
              "<IPython.core.display.Javascript object>"
            ],
            "application/javascript": [
              "download(\"download_b580955b-a0da-43b3-b6ad-2db4c648847d\", \".part-00000-26a9768c-0e25-414b-85b7-1d5721138bea-c000.csv.crc\", 16)"
            ]
          },
          "metadata": {}
        },
        {
          "output_type": "display_data",
          "data": {
            "text/plain": [
              "<IPython.core.display.Javascript object>"
            ],
            "application/javascript": [
              "\n",
              "    async function download(id, filename, size) {\n",
              "      if (!google.colab.kernel.accessAllowed) {\n",
              "        return;\n",
              "      }\n",
              "      const div = document.createElement('div');\n",
              "      const label = document.createElement('label');\n",
              "      label.textContent = `Downloading \"${filename}\": `;\n",
              "      div.appendChild(label);\n",
              "      const progress = document.createElement('progress');\n",
              "      progress.max = size;\n",
              "      div.appendChild(progress);\n",
              "      document.body.appendChild(div);\n",
              "\n",
              "      const buffers = [];\n",
              "      let downloaded = 0;\n",
              "\n",
              "      const channel = await google.colab.kernel.comms.open(id);\n",
              "      // Send a message to notify the kernel that we're ready.\n",
              "      channel.send({})\n",
              "\n",
              "      for await (const message of channel.messages) {\n",
              "        // Send a message to notify the kernel that we're ready.\n",
              "        channel.send({})\n",
              "        if (message.buffers) {\n",
              "          for (const buffer of message.buffers) {\n",
              "            buffers.push(buffer);\n",
              "            downloaded += buffer.byteLength;\n",
              "            progress.value = downloaded;\n",
              "          }\n",
              "        }\n",
              "      }\n",
              "      const blob = new Blob(buffers, {type: 'application/binary'});\n",
              "      const a = document.createElement('a');\n",
              "      a.href = window.URL.createObjectURL(blob);\n",
              "      a.download = filename;\n",
              "      div.appendChild(a);\n",
              "      a.click();\n",
              "      div.remove();\n",
              "    }\n",
              "  "
            ]
          },
          "metadata": {}
        },
        {
          "output_type": "display_data",
          "data": {
            "text/plain": [
              "<IPython.core.display.Javascript object>"
            ],
            "application/javascript": [
              "download(\"download_304b9c0a-17c7-4437-b4ff-8811f9939f3c\", \"part-00000-d21ecaa3-67c0-49ee-b0d2-337cfb4297d8-c000.csv\", 808)"
            ]
          },
          "metadata": {}
        },
        {
          "output_type": "display_data",
          "data": {
            "text/plain": [
              "<IPython.core.display.Javascript object>"
            ],
            "application/javascript": [
              "\n",
              "    async function download(id, filename, size) {\n",
              "      if (!google.colab.kernel.accessAllowed) {\n",
              "        return;\n",
              "      }\n",
              "      const div = document.createElement('div');\n",
              "      const label = document.createElement('label');\n",
              "      label.textContent = `Downloading \"${filename}\": `;\n",
              "      div.appendChild(label);\n",
              "      const progress = document.createElement('progress');\n",
              "      progress.max = size;\n",
              "      div.appendChild(progress);\n",
              "      document.body.appendChild(div);\n",
              "\n",
              "      const buffers = [];\n",
              "      let downloaded = 0;\n",
              "\n",
              "      const channel = await google.colab.kernel.comms.open(id);\n",
              "      // Send a message to notify the kernel that we're ready.\n",
              "      channel.send({})\n",
              "\n",
              "      for await (const message of channel.messages) {\n",
              "        // Send a message to notify the kernel that we're ready.\n",
              "        channel.send({})\n",
              "        if (message.buffers) {\n",
              "          for (const buffer of message.buffers) {\n",
              "            buffers.push(buffer);\n",
              "            downloaded += buffer.byteLength;\n",
              "            progress.value = downloaded;\n",
              "          }\n",
              "        }\n",
              "      }\n",
              "      const blob = new Blob(buffers, {type: 'application/binary'});\n",
              "      const a = document.createElement('a');\n",
              "      a.href = window.URL.createObjectURL(blob);\n",
              "      a.download = filename;\n",
              "      div.appendChild(a);\n",
              "      a.click();\n",
              "      div.remove();\n",
              "    }\n",
              "  "
            ]
          },
          "metadata": {}
        },
        {
          "output_type": "display_data",
          "data": {
            "text/plain": [
              "<IPython.core.display.Javascript object>"
            ],
            "application/javascript": [
              "download(\"download_8c8a34aa-6cf7-4445-87a8-1abb48b362fc\", \".part-00000-3d1643d3-12a7-446b-8da1-35847cd45d3a-c000.csv.crc\", 16)"
            ]
          },
          "metadata": {}
        },
        {
          "output_type": "display_data",
          "data": {
            "text/plain": [
              "<IPython.core.display.Javascript object>"
            ],
            "application/javascript": [
              "\n",
              "    async function download(id, filename, size) {\n",
              "      if (!google.colab.kernel.accessAllowed) {\n",
              "        return;\n",
              "      }\n",
              "      const div = document.createElement('div');\n",
              "      const label = document.createElement('label');\n",
              "      label.textContent = `Downloading \"${filename}\": `;\n",
              "      div.appendChild(label);\n",
              "      const progress = document.createElement('progress');\n",
              "      progress.max = size;\n",
              "      div.appendChild(progress);\n",
              "      document.body.appendChild(div);\n",
              "\n",
              "      const buffers = [];\n",
              "      let downloaded = 0;\n",
              "\n",
              "      const channel = await google.colab.kernel.comms.open(id);\n",
              "      // Send a message to notify the kernel that we're ready.\n",
              "      channel.send({})\n",
              "\n",
              "      for await (const message of channel.messages) {\n",
              "        // Send a message to notify the kernel that we're ready.\n",
              "        channel.send({})\n",
              "        if (message.buffers) {\n",
              "          for (const buffer of message.buffers) {\n",
              "            buffers.push(buffer);\n",
              "            downloaded += buffer.byteLength;\n",
              "            progress.value = downloaded;\n",
              "          }\n",
              "        }\n",
              "      }\n",
              "      const blob = new Blob(buffers, {type: 'application/binary'});\n",
              "      const a = document.createElement('a');\n",
              "      a.href = window.URL.createObjectURL(blob);\n",
              "      a.download = filename;\n",
              "      div.appendChild(a);\n",
              "      a.click();\n",
              "      div.remove();\n",
              "    }\n",
              "  "
            ]
          },
          "metadata": {}
        },
        {
          "output_type": "display_data",
          "data": {
            "text/plain": [
              "<IPython.core.display.Javascript object>"
            ],
            "application/javascript": [
              "download(\"download_2d086df3-de2a-464b-8e1d-9ba4bf27e4bc\", \"part-00000-3d1643d3-12a7-446b-8da1-35847cd45d3a-c000.csv\", 706)"
            ]
          },
          "metadata": {}
        },
        {
          "output_type": "display_data",
          "data": {
            "text/plain": [
              "<IPython.core.display.Javascript object>"
            ],
            "application/javascript": [
              "\n",
              "    async function download(id, filename, size) {\n",
              "      if (!google.colab.kernel.accessAllowed) {\n",
              "        return;\n",
              "      }\n",
              "      const div = document.createElement('div');\n",
              "      const label = document.createElement('label');\n",
              "      label.textContent = `Downloading \"${filename}\": `;\n",
              "      div.appendChild(label);\n",
              "      const progress = document.createElement('progress');\n",
              "      progress.max = size;\n",
              "      div.appendChild(progress);\n",
              "      document.body.appendChild(div);\n",
              "\n",
              "      const buffers = [];\n",
              "      let downloaded = 0;\n",
              "\n",
              "      const channel = await google.colab.kernel.comms.open(id);\n",
              "      // Send a message to notify the kernel that we're ready.\n",
              "      channel.send({})\n",
              "\n",
              "      for await (const message of channel.messages) {\n",
              "        // Send a message to notify the kernel that we're ready.\n",
              "        channel.send({})\n",
              "        if (message.buffers) {\n",
              "          for (const buffer of message.buffers) {\n",
              "            buffers.push(buffer);\n",
              "            downloaded += buffer.byteLength;\n",
              "            progress.value = downloaded;\n",
              "          }\n",
              "        }\n",
              "      }\n",
              "      const blob = new Blob(buffers, {type: 'application/binary'});\n",
              "      const a = document.createElement('a');\n",
              "      a.href = window.URL.createObjectURL(blob);\n",
              "      a.download = filename;\n",
              "      div.appendChild(a);\n",
              "      a.click();\n",
              "      div.remove();\n",
              "    }\n",
              "  "
            ]
          },
          "metadata": {}
        },
        {
          "output_type": "display_data",
          "data": {
            "text/plain": [
              "<IPython.core.display.Javascript object>"
            ],
            "application/javascript": [
              "download(\"download_3a249763-07ae-4abc-bed1-b8988f7c3abe\", \"part-00000-7cac6a96-841c-4dc1-838b-86b0ba369ff1-c000.csv\", 714)"
            ]
          },
          "metadata": {}
        },
        {
          "output_type": "display_data",
          "data": {
            "text/plain": [
              "<IPython.core.display.Javascript object>"
            ],
            "application/javascript": [
              "\n",
              "    async function download(id, filename, size) {\n",
              "      if (!google.colab.kernel.accessAllowed) {\n",
              "        return;\n",
              "      }\n",
              "      const div = document.createElement('div');\n",
              "      const label = document.createElement('label');\n",
              "      label.textContent = `Downloading \"${filename}\": `;\n",
              "      div.appendChild(label);\n",
              "      const progress = document.createElement('progress');\n",
              "      progress.max = size;\n",
              "      div.appendChild(progress);\n",
              "      document.body.appendChild(div);\n",
              "\n",
              "      const buffers = [];\n",
              "      let downloaded = 0;\n",
              "\n",
              "      const channel = await google.colab.kernel.comms.open(id);\n",
              "      // Send a message to notify the kernel that we're ready.\n",
              "      channel.send({})\n",
              "\n",
              "      for await (const message of channel.messages) {\n",
              "        // Send a message to notify the kernel that we're ready.\n",
              "        channel.send({})\n",
              "        if (message.buffers) {\n",
              "          for (const buffer of message.buffers) {\n",
              "            buffers.push(buffer);\n",
              "            downloaded += buffer.byteLength;\n",
              "            progress.value = downloaded;\n",
              "          }\n",
              "        }\n",
              "      }\n",
              "      const blob = new Blob(buffers, {type: 'application/binary'});\n",
              "      const a = document.createElement('a');\n",
              "      a.href = window.URL.createObjectURL(blob);\n",
              "      a.download = filename;\n",
              "      div.appendChild(a);\n",
              "      a.click();\n",
              "      div.remove();\n",
              "    }\n",
              "  "
            ]
          },
          "metadata": {}
        },
        {
          "output_type": "display_data",
          "data": {
            "text/plain": [
              "<IPython.core.display.Javascript object>"
            ],
            "application/javascript": [
              "download(\"download_198f7427-9182-4d5f-bdc2-4b1df815b738\", \"_SUCCESS\", 0)"
            ]
          },
          "metadata": {}
        },
        {
          "output_type": "display_data",
          "data": {
            "text/plain": [
              "<IPython.core.display.Javascript object>"
            ],
            "application/javascript": [
              "\n",
              "    async function download(id, filename, size) {\n",
              "      if (!google.colab.kernel.accessAllowed) {\n",
              "        return;\n",
              "      }\n",
              "      const div = document.createElement('div');\n",
              "      const label = document.createElement('label');\n",
              "      label.textContent = `Downloading \"${filename}\": `;\n",
              "      div.appendChild(label);\n",
              "      const progress = document.createElement('progress');\n",
              "      progress.max = size;\n",
              "      div.appendChild(progress);\n",
              "      document.body.appendChild(div);\n",
              "\n",
              "      const buffers = [];\n",
              "      let downloaded = 0;\n",
              "\n",
              "      const channel = await google.colab.kernel.comms.open(id);\n",
              "      // Send a message to notify the kernel that we're ready.\n",
              "      channel.send({})\n",
              "\n",
              "      for await (const message of channel.messages) {\n",
              "        // Send a message to notify the kernel that we're ready.\n",
              "        channel.send({})\n",
              "        if (message.buffers) {\n",
              "          for (const buffer of message.buffers) {\n",
              "            buffers.push(buffer);\n",
              "            downloaded += buffer.byteLength;\n",
              "            progress.value = downloaded;\n",
              "          }\n",
              "        }\n",
              "      }\n",
              "      const blob = new Blob(buffers, {type: 'application/binary'});\n",
              "      const a = document.createElement('a');\n",
              "      a.href = window.URL.createObjectURL(blob);\n",
              "      a.download = filename;\n",
              "      div.appendChild(a);\n",
              "      a.click();\n",
              "      div.remove();\n",
              "    }\n",
              "  "
            ]
          },
          "metadata": {}
        },
        {
          "output_type": "display_data",
          "data": {
            "text/plain": [
              "<IPython.core.display.Javascript object>"
            ],
            "application/javascript": [
              "download(\"download_ff135f7c-71b2-41c1-af62-e0535dcca39c\", \".part-00000-d21ecaa3-67c0-49ee-b0d2-337cfb4297d8-c000.csv.crc\", 16)"
            ]
          },
          "metadata": {}
        },
        {
          "output_type": "display_data",
          "data": {
            "text/plain": [
              "<IPython.core.display.Javascript object>"
            ],
            "application/javascript": [
              "\n",
              "    async function download(id, filename, size) {\n",
              "      if (!google.colab.kernel.accessAllowed) {\n",
              "        return;\n",
              "      }\n",
              "      const div = document.createElement('div');\n",
              "      const label = document.createElement('label');\n",
              "      label.textContent = `Downloading \"${filename}\": `;\n",
              "      div.appendChild(label);\n",
              "      const progress = document.createElement('progress');\n",
              "      progress.max = size;\n",
              "      div.appendChild(progress);\n",
              "      document.body.appendChild(div);\n",
              "\n",
              "      const buffers = [];\n",
              "      let downloaded = 0;\n",
              "\n",
              "      const channel = await google.colab.kernel.comms.open(id);\n",
              "      // Send a message to notify the kernel that we're ready.\n",
              "      channel.send({})\n",
              "\n",
              "      for await (const message of channel.messages) {\n",
              "        // Send a message to notify the kernel that we're ready.\n",
              "        channel.send({})\n",
              "        if (message.buffers) {\n",
              "          for (const buffer of message.buffers) {\n",
              "            buffers.push(buffer);\n",
              "            downloaded += buffer.byteLength;\n",
              "            progress.value = downloaded;\n",
              "          }\n",
              "        }\n",
              "      }\n",
              "      const blob = new Blob(buffers, {type: 'application/binary'});\n",
              "      const a = document.createElement('a');\n",
              "      a.href = window.URL.createObjectURL(blob);\n",
              "      a.download = filename;\n",
              "      div.appendChild(a);\n",
              "      a.click();\n",
              "      div.remove();\n",
              "    }\n",
              "  "
            ]
          },
          "metadata": {}
        },
        {
          "output_type": "display_data",
          "data": {
            "text/plain": [
              "<IPython.core.display.Javascript object>"
            ],
            "application/javascript": [
              "download(\"download_0c368cad-aa8e-49c4-aefa-5b48c2a3bada\", \"part-00000-26a9768c-0e25-414b-85b7-1d5721138bea-c000.csv\", 804)"
            ]
          },
          "metadata": {}
        },
        {
          "output_type": "display_data",
          "data": {
            "text/plain": [
              "<IPython.core.display.Javascript object>"
            ],
            "application/javascript": [
              "\n",
              "    async function download(id, filename, size) {\n",
              "      if (!google.colab.kernel.accessAllowed) {\n",
              "        return;\n",
              "      }\n",
              "      const div = document.createElement('div');\n",
              "      const label = document.createElement('label');\n",
              "      label.textContent = `Downloading \"${filename}\": `;\n",
              "      div.appendChild(label);\n",
              "      const progress = document.createElement('progress');\n",
              "      progress.max = size;\n",
              "      div.appendChild(progress);\n",
              "      document.body.appendChild(div);\n",
              "\n",
              "      const buffers = [];\n",
              "      let downloaded = 0;\n",
              "\n",
              "      const channel = await google.colab.kernel.comms.open(id);\n",
              "      // Send a message to notify the kernel that we're ready.\n",
              "      channel.send({})\n",
              "\n",
              "      for await (const message of channel.messages) {\n",
              "        // Send a message to notify the kernel that we're ready.\n",
              "        channel.send({})\n",
              "        if (message.buffers) {\n",
              "          for (const buffer of message.buffers) {\n",
              "            buffers.push(buffer);\n",
              "            downloaded += buffer.byteLength;\n",
              "            progress.value = downloaded;\n",
              "          }\n",
              "        }\n",
              "      }\n",
              "      const blob = new Blob(buffers, {type: 'application/binary'});\n",
              "      const a = document.createElement('a');\n",
              "      a.href = window.URL.createObjectURL(blob);\n",
              "      a.download = filename;\n",
              "      div.appendChild(a);\n",
              "      a.click();\n",
              "      div.remove();\n",
              "    }\n",
              "  "
            ]
          },
          "metadata": {}
        },
        {
          "output_type": "display_data",
          "data": {
            "text/plain": [
              "<IPython.core.display.Javascript object>"
            ],
            "application/javascript": [
              "download(\"download_fd6c3d35-ed53-4415-a046-d4afa60bd8fd\", \"._SUCCESS.crc\", 8)"
            ]
          },
          "metadata": {}
        },
        {
          "output_type": "display_data",
          "data": {
            "text/plain": [
              "<IPython.core.display.Javascript object>"
            ],
            "application/javascript": [
              "\n",
              "    async function download(id, filename, size) {\n",
              "      if (!google.colab.kernel.accessAllowed) {\n",
              "        return;\n",
              "      }\n",
              "      const div = document.createElement('div');\n",
              "      const label = document.createElement('label');\n",
              "      label.textContent = `Downloading \"${filename}\": `;\n",
              "      div.appendChild(label);\n",
              "      const progress = document.createElement('progress');\n",
              "      progress.max = size;\n",
              "      div.appendChild(progress);\n",
              "      document.body.appendChild(div);\n",
              "\n",
              "      const buffers = [];\n",
              "      let downloaded = 0;\n",
              "\n",
              "      const channel = await google.colab.kernel.comms.open(id);\n",
              "      // Send a message to notify the kernel that we're ready.\n",
              "      channel.send({})\n",
              "\n",
              "      for await (const message of channel.messages) {\n",
              "        // Send a message to notify the kernel that we're ready.\n",
              "        channel.send({})\n",
              "        if (message.buffers) {\n",
              "          for (const buffer of message.buffers) {\n",
              "            buffers.push(buffer);\n",
              "            downloaded += buffer.byteLength;\n",
              "            progress.value = downloaded;\n",
              "          }\n",
              "        }\n",
              "      }\n",
              "      const blob = new Blob(buffers, {type: 'application/binary'});\n",
              "      const a = document.createElement('a');\n",
              "      a.href = window.URL.createObjectURL(blob);\n",
              "      a.download = filename;\n",
              "      div.appendChild(a);\n",
              "      a.click();\n",
              "      div.remove();\n",
              "    }\n",
              "  "
            ]
          },
          "metadata": {}
        },
        {
          "output_type": "display_data",
          "data": {
            "text/plain": [
              "<IPython.core.display.Javascript object>"
            ],
            "application/javascript": [
              "download(\"download_8300df10-f32c-410c-ac6c-b4f84b3f6baa\", \".part-00000-7cac6a96-841c-4dc1-838b-86b0ba369ff1-c000.csv.crc\", 16)"
            ]
          },
          "metadata": {}
        },
        {
          "output_type": "display_data",
          "data": {
            "text/plain": [
              "<IPython.core.display.Javascript object>"
            ],
            "application/javascript": [
              "\n",
              "    async function download(id, filename, size) {\n",
              "      if (!google.colab.kernel.accessAllowed) {\n",
              "        return;\n",
              "      }\n",
              "      const div = document.createElement('div');\n",
              "      const label = document.createElement('label');\n",
              "      label.textContent = `Downloading \"${filename}\": `;\n",
              "      div.appendChild(label);\n",
              "      const progress = document.createElement('progress');\n",
              "      progress.max = size;\n",
              "      div.appendChild(progress);\n",
              "      document.body.appendChild(div);\n",
              "\n",
              "      const buffers = [];\n",
              "      let downloaded = 0;\n",
              "\n",
              "      const channel = await google.colab.kernel.comms.open(id);\n",
              "      // Send a message to notify the kernel that we're ready.\n",
              "      channel.send({})\n",
              "\n",
              "      for await (const message of channel.messages) {\n",
              "        // Send a message to notify the kernel that we're ready.\n",
              "        channel.send({})\n",
              "        if (message.buffers) {\n",
              "          for (const buffer of message.buffers) {\n",
              "            buffers.push(buffer);\n",
              "            downloaded += buffer.byteLength;\n",
              "            progress.value = downloaded;\n",
              "          }\n",
              "        }\n",
              "      }\n",
              "      const blob = new Blob(buffers, {type: 'application/binary'});\n",
              "      const a = document.createElement('a');\n",
              "      a.href = window.URL.createObjectURL(blob);\n",
              "      a.download = filename;\n",
              "      div.appendChild(a);\n",
              "      a.click();\n",
              "      div.remove();\n",
              "    }\n",
              "  "
            ]
          },
          "metadata": {}
        },
        {
          "output_type": "display_data",
          "data": {
            "text/plain": [
              "<IPython.core.display.Javascript object>"
            ],
            "application/javascript": [
              "download(\"download_2075558d-e24c-4ce2-a252-72b9377cae85\", \"part-00000-c3d38b05-c8db-48c1-bd30-a38af06b1f4c-c000.csv\", 822)"
            ]
          },
          "metadata": {}
        },
        {
          "output_type": "display_data",
          "data": {
            "text/plain": [
              "<IPython.core.display.Javascript object>"
            ],
            "application/javascript": [
              "\n",
              "    async function download(id, filename, size) {\n",
              "      if (!google.colab.kernel.accessAllowed) {\n",
              "        return;\n",
              "      }\n",
              "      const div = document.createElement('div');\n",
              "      const label = document.createElement('label');\n",
              "      label.textContent = `Downloading \"${filename}\": `;\n",
              "      div.appendChild(label);\n",
              "      const progress = document.createElement('progress');\n",
              "      progress.max = size;\n",
              "      div.appendChild(progress);\n",
              "      document.body.appendChild(div);\n",
              "\n",
              "      const buffers = [];\n",
              "      let downloaded = 0;\n",
              "\n",
              "      const channel = await google.colab.kernel.comms.open(id);\n",
              "      // Send a message to notify the kernel that we're ready.\n",
              "      channel.send({})\n",
              "\n",
              "      for await (const message of channel.messages) {\n",
              "        // Send a message to notify the kernel that we're ready.\n",
              "        channel.send({})\n",
              "        if (message.buffers) {\n",
              "          for (const buffer of message.buffers) {\n",
              "            buffers.push(buffer);\n",
              "            downloaded += buffer.byteLength;\n",
              "            progress.value = downloaded;\n",
              "          }\n",
              "        }\n",
              "      }\n",
              "      const blob = new Blob(buffers, {type: 'application/binary'});\n",
              "      const a = document.createElement('a');\n",
              "      a.href = window.URL.createObjectURL(blob);\n",
              "      a.download = filename;\n",
              "      div.appendChild(a);\n",
              "      a.click();\n",
              "      div.remove();\n",
              "    }\n",
              "  "
            ]
          },
          "metadata": {}
        },
        {
          "output_type": "display_data",
          "data": {
            "text/plain": [
              "<IPython.core.display.Javascript object>"
            ],
            "application/javascript": [
              "download(\"download_7d7f9364-ee54-4b7c-ac96-1677892078a3\", \"part-00000-af331b64-a43e-49ce-8a8f-3cc0dfa228be-c000.csv\", 801)"
            ]
          },
          "metadata": {}
        },
        {
          "output_type": "display_data",
          "data": {
            "text/plain": [
              "<IPython.core.display.Javascript object>"
            ],
            "application/javascript": [
              "\n",
              "    async function download(id, filename, size) {\n",
              "      if (!google.colab.kernel.accessAllowed) {\n",
              "        return;\n",
              "      }\n",
              "      const div = document.createElement('div');\n",
              "      const label = document.createElement('label');\n",
              "      label.textContent = `Downloading \"${filename}\": `;\n",
              "      div.appendChild(label);\n",
              "      const progress = document.createElement('progress');\n",
              "      progress.max = size;\n",
              "      div.appendChild(progress);\n",
              "      document.body.appendChild(div);\n",
              "\n",
              "      const buffers = [];\n",
              "      let downloaded = 0;\n",
              "\n",
              "      const channel = await google.colab.kernel.comms.open(id);\n",
              "      // Send a message to notify the kernel that we're ready.\n",
              "      channel.send({})\n",
              "\n",
              "      for await (const message of channel.messages) {\n",
              "        // Send a message to notify the kernel that we're ready.\n",
              "        channel.send({})\n",
              "        if (message.buffers) {\n",
              "          for (const buffer of message.buffers) {\n",
              "            buffers.push(buffer);\n",
              "            downloaded += buffer.byteLength;\n",
              "            progress.value = downloaded;\n",
              "          }\n",
              "        }\n",
              "      }\n",
              "      const blob = new Blob(buffers, {type: 'application/binary'});\n",
              "      const a = document.createElement('a');\n",
              "      a.href = window.URL.createObjectURL(blob);\n",
              "      a.download = filename;\n",
              "      div.appendChild(a);\n",
              "      a.click();\n",
              "      div.remove();\n",
              "    }\n",
              "  "
            ]
          },
          "metadata": {}
        },
        {
          "output_type": "display_data",
          "data": {
            "text/plain": [
              "<IPython.core.display.Javascript object>"
            ],
            "application/javascript": [
              "download(\"download_9f3a0897-bd11-443e-a50a-054d1f107115\", \".part-00000-af331b64-a43e-49ce-8a8f-3cc0dfa228be-c000.csv.crc\", 16)"
            ]
          },
          "metadata": {}
        },
        {
          "output_type": "display_data",
          "data": {
            "text/plain": [
              "<IPython.core.display.Javascript object>"
            ],
            "application/javascript": [
              "\n",
              "    async function download(id, filename, size) {\n",
              "      if (!google.colab.kernel.accessAllowed) {\n",
              "        return;\n",
              "      }\n",
              "      const div = document.createElement('div');\n",
              "      const label = document.createElement('label');\n",
              "      label.textContent = `Downloading \"${filename}\": `;\n",
              "      div.appendChild(label);\n",
              "      const progress = document.createElement('progress');\n",
              "      progress.max = size;\n",
              "      div.appendChild(progress);\n",
              "      document.body.appendChild(div);\n",
              "\n",
              "      const buffers = [];\n",
              "      let downloaded = 0;\n",
              "\n",
              "      const channel = await google.colab.kernel.comms.open(id);\n",
              "      // Send a message to notify the kernel that we're ready.\n",
              "      channel.send({})\n",
              "\n",
              "      for await (const message of channel.messages) {\n",
              "        // Send a message to notify the kernel that we're ready.\n",
              "        channel.send({})\n",
              "        if (message.buffers) {\n",
              "          for (const buffer of message.buffers) {\n",
              "            buffers.push(buffer);\n",
              "            downloaded += buffer.byteLength;\n",
              "            progress.value = downloaded;\n",
              "          }\n",
              "        }\n",
              "      }\n",
              "      const blob = new Blob(buffers, {type: 'application/binary'});\n",
              "      const a = document.createElement('a');\n",
              "      a.href = window.URL.createObjectURL(blob);\n",
              "      a.download = filename;\n",
              "      div.appendChild(a);\n",
              "      a.click();\n",
              "      div.remove();\n",
              "    }\n",
              "  "
            ]
          },
          "metadata": {}
        },
        {
          "output_type": "display_data",
          "data": {
            "text/plain": [
              "<IPython.core.display.Javascript object>"
            ],
            "application/javascript": [
              "download(\"download_fe02f5f6-3c0c-4ee0-b231-e6e07284da12\", \".part-00000-c3d38b05-c8db-48c1-bd30-a38af06b1f4c-c000.csv.crc\", 16)"
            ]
          },
          "metadata": {}
        },
        {
          "output_type": "stream",
          "name": "stdout",
          "text": [
            "All datasets have been exported to your computer.\n"
          ]
        }
      ]
    }
  ],
  "metadata": {
    "colab": {
      "machine_shape": "hm",
      "provenance": []
    },
    "kernelspec": {
      "display_name": "Python 3",
      "name": "python3"
    },
    "language_info": {
      "name": "python"
    }
  },
  "nbformat": 4,
  "nbformat_minor": 0
}