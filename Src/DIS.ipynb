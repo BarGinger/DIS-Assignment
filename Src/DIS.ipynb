{
  "cells": [
    {
      "cell_type": "markdown",
      "metadata": {
        "id": "view-in-github",
        "colab_type": "text"
      },
      "source": [
        "<a href=\"https://colab.research.google.com/github/BarGinger/DIS-Assignment/blob/main/Src/DIS.ipynb\" target=\"_parent\"><img src=\"https://colab.research.google.com/assets/colab-badge.svg\" alt=\"Open In Colab\"/></a>"
      ]
    },
    {
      "metadata": {
        "id": "an6YJ7868pQe"
      },
      "cell_type": "code",
      "outputs": [],
      "execution_count": null,
      "source": []
    },
    {
      "cell_type": "code",
      "source": [
        "from google.colab import drive\n",
        "drive.mount('/content/drive')"
      ],
      "metadata": {
        "colab": {
          "base_uri": "https://localhost:8080/"
        },
        "id": "nfNk5yxs-fkc",
        "outputId": "e78f55bd-e133-46cc-95c3-7ac2018fd991"
      },
      "execution_count": 18,
      "outputs": [
        {
          "output_type": "stream",
          "name": "stdout",
          "text": [
            "Mounted at /content/drive\n"
          ]
        }
      ]
    },
    {
      "cell_type": "code",
      "execution_count": 1,
      "metadata": {
        "colab": {
          "base_uri": "https://localhost:8080/"
        },
        "id": "OzYyB7NMhHXF",
        "outputId": "6673bf19-3809-44ee-ce18-1e1cd4dd7fa1"
      },
      "outputs": [
        {
          "output_type": "stream",
          "name": "stdout",
          "text": [
            "Collecting neo4j\n",
            "  Downloading neo4j-5.25.0-py3-none-any.whl.metadata (5.7 kB)\n",
            "Requirement already satisfied: pytz in /usr/local/lib/python3.10/dist-packages (from neo4j) (2024.2)\n",
            "Downloading neo4j-5.25.0-py3-none-any.whl (296 kB)\n",
            "\u001b[2K   \u001b[90m━━━━━━━━━━━━━━━━━━━━━━━━━━━━━━━━━━━━━━━━\u001b[0m \u001b[32m296.6/296.6 kB\u001b[0m \u001b[31m3.6 MB/s\u001b[0m eta \u001b[36m0:00:00\u001b[0m\n",
            "\u001b[?25hInstalling collected packages: neo4j\n",
            "Successfully installed neo4j-5.25.0\n",
            "Requirement already satisfied: pyspark in /usr/local/lib/python3.10/dist-packages (3.5.3)\n",
            "Requirement already satisfied: py4j==0.10.9.7 in /usr/local/lib/python3.10/dist-packages (from pyspark) (0.10.9.7)\n",
            "The following additional packages will be installed:\n",
            "  libxtst6 openjdk-8-jre-headless\n",
            "Suggested packages:\n",
            "  openjdk-8-demo openjdk-8-source libnss-mdns fonts-dejavu-extra fonts-nanum fonts-ipafont-gothic\n",
            "  fonts-ipafont-mincho fonts-wqy-microhei fonts-wqy-zenhei fonts-indic\n",
            "The following NEW packages will be installed:\n",
            "  libxtst6 openjdk-8-jdk-headless openjdk-8-jre-headless\n",
            "0 upgraded, 3 newly installed, 0 to remove and 49 not upgraded.\n",
            "Need to get 39.6 MB of archives.\n",
            "After this operation, 144 MB of additional disk space will be used.\n",
            "Selecting previously unselected package libxtst6:amd64.\n",
            "(Reading database ... 123622 files and directories currently installed.)\n",
            "Preparing to unpack .../libxtst6_2%3a1.2.3-1build4_amd64.deb ...\n",
            "Unpacking libxtst6:amd64 (2:1.2.3-1build4) ...\n",
            "Selecting previously unselected package openjdk-8-jre-headless:amd64.\n",
            "Preparing to unpack .../openjdk-8-jre-headless_8u422-b05-1~22.04_amd64.deb ...\n",
            "Unpacking openjdk-8-jre-headless:amd64 (8u422-b05-1~22.04) ...\n",
            "Selecting previously unselected package openjdk-8-jdk-headless:amd64.\n",
            "Preparing to unpack .../openjdk-8-jdk-headless_8u422-b05-1~22.04_amd64.deb ...\n",
            "Unpacking openjdk-8-jdk-headless:amd64 (8u422-b05-1~22.04) ...\n",
            "Setting up libxtst6:amd64 (2:1.2.3-1build4) ...\n",
            "Setting up openjdk-8-jre-headless:amd64 (8u422-b05-1~22.04) ...\n",
            "update-alternatives: using /usr/lib/jvm/java-8-openjdk-amd64/jre/bin/orbd to provide /usr/bin/orbd (orbd) in auto mode\n",
            "update-alternatives: using /usr/lib/jvm/java-8-openjdk-amd64/jre/bin/servertool to provide /usr/bin/servertool (servertool) in auto mode\n",
            "update-alternatives: using /usr/lib/jvm/java-8-openjdk-amd64/jre/bin/tnameserv to provide /usr/bin/tnameserv (tnameserv) in auto mode\n",
            "Setting up openjdk-8-jdk-headless:amd64 (8u422-b05-1~22.04) ...\n",
            "update-alternatives: using /usr/lib/jvm/java-8-openjdk-amd64/bin/clhsdb to provide /usr/bin/clhsdb (clhsdb) in auto mode\n",
            "update-alternatives: using /usr/lib/jvm/java-8-openjdk-amd64/bin/extcheck to provide /usr/bin/extcheck (extcheck) in auto mode\n",
            "update-alternatives: using /usr/lib/jvm/java-8-openjdk-amd64/bin/hsdb to provide /usr/bin/hsdb (hsdb) in auto mode\n",
            "update-alternatives: using /usr/lib/jvm/java-8-openjdk-amd64/bin/idlj to provide /usr/bin/idlj (idlj) in auto mode\n",
            "update-alternatives: using /usr/lib/jvm/java-8-openjdk-amd64/bin/javah to provide /usr/bin/javah (javah) in auto mode\n",
            "update-alternatives: using /usr/lib/jvm/java-8-openjdk-amd64/bin/jhat to provide /usr/bin/jhat (jhat) in auto mode\n",
            "update-alternatives: using /usr/lib/jvm/java-8-openjdk-amd64/bin/jsadebugd to provide /usr/bin/jsadebugd (jsadebugd) in auto mode\n",
            "update-alternatives: using /usr/lib/jvm/java-8-openjdk-amd64/bin/native2ascii to provide /usr/bin/native2ascii (native2ascii) in auto mode\n",
            "update-alternatives: using /usr/lib/jvm/java-8-openjdk-amd64/bin/schemagen to provide /usr/bin/schemagen (schemagen) in auto mode\n",
            "update-alternatives: using /usr/lib/jvm/java-8-openjdk-amd64/bin/wsgen to provide /usr/bin/wsgen (wsgen) in auto mode\n",
            "update-alternatives: using /usr/lib/jvm/java-8-openjdk-amd64/bin/wsimport to provide /usr/bin/wsimport (wsimport) in auto mode\n",
            "update-alternatives: using /usr/lib/jvm/java-8-openjdk-amd64/bin/xjc to provide /usr/bin/xjc (xjc) in auto mode\n",
            "Processing triggers for libc-bin (2.35-0ubuntu3.4) ...\n",
            "/sbin/ldconfig.real: /usr/local/lib/libtbbbind_2_0.so.3 is not a symbolic link\n",
            "\n",
            "/sbin/ldconfig.real: /usr/local/lib/libur_adapter_opencl.so.0 is not a symbolic link\n",
            "\n",
            "/sbin/ldconfig.real: /usr/local/lib/libtbbbind.so.3 is not a symbolic link\n",
            "\n",
            "/sbin/ldconfig.real: /usr/local/lib/libtbbmalloc.so.2 is not a symbolic link\n",
            "\n",
            "/sbin/ldconfig.real: /usr/local/lib/libur_loader.so.0 is not a symbolic link\n",
            "\n",
            "/sbin/ldconfig.real: /usr/local/lib/libtbbbind_2_5.so.3 is not a symbolic link\n",
            "\n",
            "/sbin/ldconfig.real: /usr/local/lib/libtbbmalloc_proxy.so.2 is not a symbolic link\n",
            "\n",
            "/sbin/ldconfig.real: /usr/local/lib/libur_adapter_level_zero.so.0 is not a symbolic link\n",
            "\n",
            "/sbin/ldconfig.real: /usr/local/lib/libtbb.so.12 is not a symbolic link\n",
            "\n",
            "Collecting graphframes\n",
            "  Downloading graphframes-0.6-py2.py3-none-any.whl.metadata (934 bytes)\n",
            "Requirement already satisfied: numpy in /usr/local/lib/python3.10/dist-packages (from graphframes) (1.26.4)\n",
            "Collecting nose (from graphframes)\n",
            "  Downloading nose-1.3.7-py3-none-any.whl.metadata (1.7 kB)\n",
            "Downloading graphframes-0.6-py2.py3-none-any.whl (18 kB)\n",
            "Downloading nose-1.3.7-py3-none-any.whl (154 kB)\n",
            "\u001b[2K   \u001b[90m━━━━━━━━━━━━━━━━━━━━━━━━━━━━━━━━━━━━━━━━\u001b[0m \u001b[32m154.7/154.7 kB\u001b[0m \u001b[31m3.0 MB/s\u001b[0m eta \u001b[36m0:00:00\u001b[0m\n",
            "\u001b[?25hInstalling collected packages: nose, graphframes\n",
            "Successfully installed graphframes-0.6 nose-1.3.7\n"
          ]
        }
      ],
      "source": [
        "!pip install neo4j\n",
        "!pip install pyspark\n",
        "!pip install -U -q PyDrive\n",
        "!apt install openjdk-8-jdk-headless -qq\n",
        "!pip install graphframes\n",
        "import csv\n",
        "from neo4j import GraphDatabase\n",
        "import pyspark\n",
        "from pyspark.sql import SparkSession\n",
        "from pyspark.sql.functions import udf, col, collect_list, countDistinct, struct\n",
        "from pyspark.sql.types import StringType\n",
        "from datetime import datetime\n",
        "from graphframes import GraphFrame\n",
        "import os\n",
        "os.environ[\"JAVA_HOME\"] = \"/usr/lib/jvm/java-8-openjdk-amd64\""
      ]
    },
    {
      "cell_type": "code",
      "source": [
        "import pkg_resources\n",
        "version = pkg_resources.get_distribution(\"graphframes\").version\n",
        "print(f\"GraphFrames version: {version}\")"
      ],
      "metadata": {
        "colab": {
          "base_uri": "https://localhost:8080/"
        },
        "id": "sfy4wBd2_AEN",
        "outputId": "6ae0754e-a6e7-4521-ce2a-33b8b0866cd9"
      },
      "execution_count": 2,
      "outputs": [
        {
          "output_type": "stream",
          "name": "stdout",
          "text": [
            "GraphFrames version: 0.6\n"
          ]
        }
      ]
    },
    {
      "cell_type": "code",
      "execution_count": 3,
      "metadata": {
        "id": "ALIa16C9h4zR"
      },
      "outputs": [],
      "source": [
        "# Neo4j Aura credentials\n",
        "uri = \"neo4j+s://1c8010b1.databases.neo4j.io\"\n",
        "user = \"neo4j\"  # Default username for Aura\n",
        "password = \"VS4XqVmt4_YN6m6_7y5VoVIQCgYghry-sDgXIeiJ7ws\"\n",
        "driver = GraphDatabase.driver(uri, auth=(user, password))"
      ]
    },
    {
      "cell_type": "code",
      "execution_count": 4,
      "metadata": {
        "id": "vghM4Tj_QJ8s"
      },
      "outputs": [],
      "source": [
        "# Initialize Spark session\n",
        "spark = SparkSession.builder \\\n",
        "    .appName(\"PhoneCallsCommunityDetection\") \\\n",
        "    .config(\"spark.jars.packages\", \"graphframes:graphframes:0.8.2-spark3.1-s_2.12\") \\\n",
        "    .config(\"spark.executor.memory\", \"4g\") \\\n",
        "    .config(\"spark.driver.memory\", \"4g\") \\\n",
        "    .config(\"spark.default.parallelism\", \"8\") \\\n",
        "    .config(\"spark.sql.shuffle.partitions\", \"8\") \\\n",
        "    .getOrCreate()\n",
        "\n",
        "# Set a checkpoint directory for Spark\n",
        "spark.sparkContext.setCheckpointDir(\"/tmp/spark-checkpoints\")"
      ]
    },
    {
      "cell_type": "code",
      "execution_count": 5,
      "metadata": {
        "id": "uRcOBbMNMLUt"
      },
      "outputs": [],
      "source": [
        "def clear_database():\n",
        "    with driver.session() as session:\n",
        "        clear_query = \"\"\"\n",
        "        MATCH (n)\n",
        "        DETACH DELETE n\n",
        "        \"\"\"\n",
        "        session.run(clear_query)"
      ]
    },
    {
      "cell_type": "code",
      "execution_count": 6,
      "metadata": {
        "id": "-Ata37vJSEFo"
      },
      "outputs": [],
      "source": [
        "# Function to load CSV data into Neo4j\n",
        "def load_csv_to_neo4j(csv_file_path):\n",
        "    with driver.session() as session:\n",
        "        with open(csv_file_path, 'r') as csvfile:\n",
        "            reader = csv.DictReader(csvfile)\n",
        "            for row in reader:\n",
        "                session.execute_write(\n",
        "                    create_nodes_and_relationships,\n",
        "                    row['Client1'],\n",
        "                    row['Client2'],\n",
        "                    row['Start_Time'],\n",
        "                    row['End_Time']\n",
        "                )"
      ]
    },
    {
      "cell_type": "code",
      "execution_count": 7,
      "metadata": {
        "id": "IYygNOQGXf35"
      },
      "outputs": [],
      "source": [
        "def create_nodes_and_relationships(tx, client1, client2, start_time, end_time):\n",
        "    query = \"\"\"\n",
        "    MERGE (c1:Client {id: $client1})\n",
        "    MERGE (c2:Client {id: $client2})\n",
        "    MERGE (c1)-[r:CALL {\n",
        "        start_time: $start_time,\n",
        "        end_time: $end_time\n",
        "    }]->(c2)\n",
        "    \"\"\"\n",
        "    tx.run(query, client1=client1, client2=client2, start_time=start_time, end_time=end_time)"
      ]
    },
    {
      "cell_type": "code",
      "execution_count": 8,
      "metadata": {
        "id": "pvyVx62e0nRF"
      },
      "outputs": [],
      "source": [
        "def load_data_from_neo4j():\n",
        "    query = \"\"\"\n",
        "    MATCH (c1:Client)-[r:CALL]->(c2:Client)\n",
        "    RETURN c1.id AS Client1, c2.id AS Client2, r.start_time AS Start_Time, r.end_time AS End_Time\n",
        "    \"\"\"\n",
        "    with driver.session() as session:\n",
        "        result = session.run(query)\n",
        "        records = [record.data() for record in result]\n",
        "\n",
        "    # Convert to Spark DataFrame\n",
        "    df = spark.createDataFrame(records)\n",
        "\n",
        "    return df"
      ]
    },
    {
      "cell_type": "code",
      "execution_count": 9,
      "metadata": {
        "id": "Td7XGDPNSF8J"
      },
      "outputs": [],
      "source": [
        "def convert_to_datetime(yyMMddHHMM):\n",
        "    \"\"\"\n",
        "    formatter function of time datetime\n",
        "    \"\"\"\n",
        "    return datetime.strptime(str(yyMMddHHMM), '%y%m%d%H%M')"
      ]
    },
    {
      "cell_type": "code",
      "execution_count": 10,
      "metadata": {
        "id": "OYi3fDX4SJcn"
      },
      "outputs": [],
      "source": [
        "def convert_duration_to_DDHHMM(start_time, end_time):\n",
        "    start_dt = convert_to_datetime(start_time)\n",
        "    end_dt = convert_to_datetime(end_time)\n",
        "    duration = end_dt - start_dt\n",
        "\n",
        "    days = duration.days\n",
        "    hours, remainder = divmod(duration.seconds, 3600)\n",
        "    minutes = remainder // 60\n",
        "    return f'{days:02d}{hours:02d}{minutes:02d}'"
      ]
    },
    {
      "cell_type": "code",
      "execution_count": 11,
      "metadata": {
        "id": "maN1-mG-SNeo"
      },
      "outputs": [],
      "source": [
        "# Register the UDF in Spark\n",
        "convert_duration_udf = udf(convert_duration_to_DDHHMM, StringType())"
      ]
    },
    {
      "cell_type": "code",
      "execution_count": 12,
      "metadata": {
        "id": "ZiiocslVSSjM"
      },
      "outputs": [],
      "source": [
        "# Function to use GraphFrames to detect communities\n",
        "def detect_communities(df):\n",
        "    # Add a column for duration in DDHHMM format\n",
        "    df = df.withColumn('duration_DDHHMM', convert_duration_udf(col('Start_Time'), col('End_Time')))\n",
        "\n",
        "    # Create Graph using GraphFrames for community detection\n",
        "    vertices = df.selectExpr(\"Client1 as id\").union(df.selectExpr(\"Client2 as id\")).distinct()\n",
        "    edges = df.selectExpr(\"Client1 as src\", \"Client2 as dst\")\n",
        "\n",
        "    # Cache vertices and edges\n",
        "    vertices.cache()\n",
        "    edges.cache()\n",
        "\n",
        "    # Create a GraphFrame\n",
        "    g = GraphFrame(vertices, edges)\n",
        "    print(g)\n",
        "    # Find connected components (communities) using GraphFrames\n",
        "    result = g.connectedComponents()\n",
        "    print(result)\n",
        "    # Validate result DataFrame\n",
        "    result.show(truncate=False)\n",
        "\n",
        "    # Join the result (community IDs) with the original dataframe\n",
        "    df_with_communities = df.join(result, df['Client1'] == result['id'], 'inner').withColumnRenamed('component', 'community_id')\n",
        "\n",
        "    # Calculate the number of unique clients (community size) per community\n",
        "    community_sizes = df_with_communities.select(\"community_id\", \"Client1\").union(df_with_communities.select(\"community_id\", \"Client2\")) \\\n",
        "        .distinct() \\\n",
        "        .groupBy(\"community_id\").agg(countDistinct(\"Client1\").alias(\"community_size\"))\n",
        "\n",
        "    # Merge the community sizes into the main DataFrame\n",
        "    df_final = df_with_communities.join(community_sizes, 'community_id')\n",
        "\n",
        "    # Get list of tuples for each community member by considering both Client1 and Client2\n",
        "    community_members = df_final.select(\"community_id\", \"Client1\", \"Client2\", \"duration_DDHHMM\") \\\n",
        "        .distinct() \\\n",
        "        .groupBy(\"community_id\") \\\n",
        "        .agg(collect_list(struct(col(\"Client1\"), col(\"Client2\"), col(\"duration_DDHHMM\"))).alias(\"members\"))\n",
        "\n",
        "    return df_final, community_members\n"
      ]
    },
    {
      "cell_type": "code",
      "execution_count": 13,
      "metadata": {
        "id": "kCJ_IkNo053E"
      },
      "outputs": [],
      "source": [
        "def update_neo4j_with_communities(df_final):\n",
        "    with driver.session() as session:\n",
        "        for row in df_final.collect():\n",
        "            session.execute_write(\n",
        "                update_client_community,\n",
        "                row['Client1'],\n",
        "                row['community_id'],\n",
        "                row['community_size']\n",
        "            )\n",
        "            session.execute_write(\n",
        "                update_client_community,\n",
        "                row['Client2'],\n",
        "                row['community_id'],\n",
        "                row['community_size']\n",
        "            )"
      ]
    },
    {
      "cell_type": "code",
      "execution_count": 14,
      "metadata": {
        "id": "pIAtu1OgWT2l"
      },
      "outputs": [],
      "source": [
        "# Function to update community information in Neo4j nodes\n",
        "def update_client_community(tx, client_id, community_id, community_size):\n",
        "    query = \"\"\"\n",
        "    MATCH (c:Client {id: $client_id})\n",
        "    SET c.communityId = $community_id, c.communitySize = $community_size\n",
        "    \"\"\"\n",
        "    tx.run(query, client_id=client_id, community_id=str(community_id), community_size=community_size)"
      ]
    },
    {
      "cell_type": "code",
      "execution_count": 15,
      "metadata": {
        "id": "yPTqbL8cUl6P"
      },
      "outputs": [],
      "source": [
        "def output_full_database():\n",
        "    with driver.session() as session:\n",
        "        get_full_table_query = \"\"\"\n",
        "        MATCH (c1:Client)-[r:CALL]->(c2:Client)\n",
        "        RETURN c1.id AS client1, c2.id AS client2, r.start_time AS startTime, r.end_time AS endTime,\n",
        "               c1.communityId AS communityId, c1.communitySize AS communitySize\n",
        "        ORDER BY communityId\n",
        "        \"\"\"\n",
        "        result = session.run(get_full_table_query)\n",
        "\n",
        "        print(\"Client1 | Client2 | Start Time | End Time | Community ID | Community Size\")\n",
        "        print(\"----------------------------------------------------------------------------\")\n",
        "        for record in result:\n",
        "            community_size = record['communitySize'] if record['communitySize'] else 'N/A'\n",
        "            start_time = record['startTime'] if record['startTime'] else 'N/A'\n",
        "            end_time = record['endTime'] if record['endTime'] else 'N/A'\n",
        "            print(f\"{record['client1']:7} | {record['client2']:7} | {start_time:10} | {end_time:8} | \"\n",
        "                  f\"{record['communityId']:12} | {community_size:14}\")"
      ]
    },
    {
      "cell_type": "code",
      "execution_count": 16,
      "metadata": {
        "id": "m4J_8z5XLtSd"
      },
      "outputs": [],
      "source": [
        "def output_community_members(community_members):\n",
        "    community_members.show(truncate=False)\n"
      ]
    },
    {
      "cell_type": "code",
      "execution_count": 20,
      "metadata": {
        "id": "Kg4wmwDRmT23",
        "colab": {
          "base_uri": "https://localhost:8080/"
        },
        "outputId": "7290d5a9-6e6a-4039-e9cc-25a976d461d4"
      },
      "outputs": [
        {
          "output_type": "stream",
          "name": "stdout",
          "text": [
            "GraphFrame(v:[id: string], e:[src: string, dst: string])\n",
            "DataFrame[id: string, component: bigint]\n",
            "+---+-----------+\n",
            "|id |component  |\n",
            "+---+-----------+\n",
            "|1  |0          |\n",
            "|14 |8589934592 |\n",
            "|5  |8589934593 |\n",
            "|12 |17179869184|\n",
            "|3  |0          |\n",
            "|8  |17179869186|\n",
            "|10 |17179869184|\n",
            "|11 |17179869184|\n",
            "|6  |8589934593 |\n",
            "|7  |8589934593 |\n",
            "|9  |17179869186|\n",
            "|2  |0          |\n",
            "|4  |8589934593 |\n",
            "|13 |8589934592 |\n",
            "|15 |8589934592 |\n",
            "+---+-----------+\n",
            "\n",
            "Client1 | Client2 | Start Time | End Time | Community ID | Community Size\n",
            "----------------------------------------------------------------------------\n",
            "1       | 2       | 2408191800 | 2408202000 | 0            |              3\n",
            "2       | 3       | 2411171605 | 2411171640 | 0            |              3\n",
            "10      | 11      | 2402220756 | 2402220825 | 17179869184  |              3\n",
            "11      | 12      | 2410032109 | 2410032324 | 17179869184  |              3\n",
            "8       | 9       | 2404230735 | 2404231008 | 17179869186  |              2\n",
            "13      | 14      | 2402172235 | 2402180007 | 8589934592   |              3\n",
            "14      | 15      | 2412161605 | 2412161713 | 8589934592   |              3\n",
            "4       | 5       | 2406291350 | 2406291448 | 8589934593   |              4\n",
            "5       | 6       | 2411070022 | 2411070319 | 8589934593   |              4\n",
            "6       | 7       | 2408201805 | 2408202005 | 8589934593   |              4\n"
          ]
        }
      ],
      "source": [
        "csv_file_path = \"/content/drive/MyDrive/DIS/adjusted_phone_calls.csv\"\n",
        "\n",
        "# Clear the database\n",
        "clear_database()\n",
        "\n",
        "# Load data from CSV into Neo4j\n",
        "load_csv_to_neo4j(csv_file_path)\n",
        "\n",
        "# Load data from Neo4j into Spark DataFrame\n",
        "df = load_data_from_neo4j()\n",
        "\n",
        "# # Detect communities using Spark GraphFrames\n",
        "df_final, community_members = detect_communities(df)\n",
        "\n",
        "# # Update Neo4j nodes with community information\n",
        "update_neo4j_with_communities(df_final)\n",
        "\n",
        "# # Output the full database table\n",
        "output_full_database()\n"
      ]
    },
    {
      "cell_type": "code",
      "source": [
        "df.head(n=10)"
      ],
      "metadata": {
        "colab": {
          "base_uri": "https://localhost:8080/"
        },
        "id": "4mVUrKLY7gog",
        "outputId": "3c010c52-0e05-43c7-ad09-8fc49694842b"
      },
      "execution_count": null,
      "outputs": [
        {
          "output_type": "execute_result",
          "data": {
            "text/plain": [
              "[Row(Client1='13', Client2='14', End_Time='2402180007', Start_Time='2402172235'),\n",
              " Row(Client1='14', Client2='15', End_Time='2412161713', Start_Time='2412161605'),\n",
              " Row(Client1='1', Client2='2', End_Time='2408202000', Start_Time='2408191800'),\n",
              " Row(Client1='2', Client2='3', End_Time='2411171640', Start_Time='2411171605'),\n",
              " Row(Client1='4', Client2='5', End_Time='2406291448', Start_Time='2406291350'),\n",
              " Row(Client1='5', Client2='6', End_Time='2411070319', Start_Time='2411070022'),\n",
              " Row(Client1='6', Client2='7', End_Time='2408202005', Start_Time='2408201805'),\n",
              " Row(Client1='8', Client2='9', End_Time='2404231008', Start_Time='2404230735'),\n",
              " Row(Client1='10', Client2='11', End_Time='2402220825', Start_Time='2402220756'),\n",
              " Row(Client1='11', Client2='12', End_Time='2410032324', Start_Time='2410032109')]"
            ]
          },
          "metadata": {},
          "execution_count": 25
        }
      ]
    }
  ],
  "metadata": {
    "colab": {
      "provenance": [],
      "include_colab_link": true
    },
    "kernelspec": {
      "display_name": "Python 3",
      "name": "python3"
    },
    "language_info": {
      "name": "python"
    }
  },
  "nbformat": 4,
  "nbformat_minor": 0
}