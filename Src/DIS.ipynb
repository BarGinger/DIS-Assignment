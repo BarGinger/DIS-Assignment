{
 "cells": [
  {
   "metadata": {},
   "cell_type": "markdown",
   "source": "<a href=\"https://colab.research.google.com/github/BarGinger/DIS-Assignment/blob/main/Src/DIS.ipynb\" target=\"_parent\"><img src=\"https://colab.research.google.com/assets/colab-badge.svg\" alt=\"Open In Colab\"/></a>"
  },
  {
   "metadata": {},
   "cell_type": "code",
   "outputs": [],
   "execution_count": null,
   "source": [
    "from google.colab import drive\n",
    "drive.mount('/content/drive')"
   ]
  },
  {
   "metadata": {},
   "cell_type": "code",
   "outputs": [],
   "execution_count": null,
   "source": [
    "!pip install neo4j\n",
    "!pip install pyspark\n",
    "!pip install -U -q PyDrive\n",
    "!apt install openjdk-8-jdk-headless -qq\n",
    "!pip install graphframes\n",
    "import csv\n",
    "from neo4j import GraphDatabase\n",
    "import pyspark\n",
    "from pyspark.sql import SparkSession\n",
    "from pyspark.sql.functions import udf, col, collect_list, countDistinct, struct\n",
    "from pyspark.sql.types import StringType\n",
    "from datetime import datetime\n",
    "from graphframes import GraphFrame\n",
    "import os\n",
    "os.environ[\"JAVA_HOME\"] = \"/usr/lib/jvm/java-8-openjdk-amd64\""
   ]
  },
  {
   "metadata": {},
   "cell_type": "code",
   "outputs": [],
   "execution_count": null,
   "source": [
    "# Initialize Spark session\n",
    "spark = SparkSession.builder \\\n",
    "    .appName(\"PhoneCallsCommunityDetection\") \\\n",
    "    .config(\"spark.jars.packages\", \"graphframes:graphframes:0.8.2-spark3.1-s_2.12\") \\\n",
    "    .config(\"spark.executor.memory\", \"4g\") \\\n",
    "    .config(\"spark.driver.memory\", \"4g\") \\\n",
    "    .config(\"spark.default.parallelism\", \"8\") \\\n",
    "    .config(\"spark.sql.shuffle.partitions\", \"8\") \\\n",
    "    .getOrCreate()\n",
    "\n",
    "# Set a checkpoint directory for Spark\n",
    "spark.sparkContext.setCheckpointDir(\"/tmp/spark-checkpoints\")"
   ]
  },
  {
   "metadata": {},
   "cell_type": "code",
   "outputs": [],
   "execution_count": null,
   "source": [
    "file_path = '../../Data/adjusted_phone_calls.csv'\n",
    "df = spark.read.csv(file_path, header=True, inferSchema=True)"
   ]
  },
  {
   "metadata": {},
   "cell_type": "code",
   "outputs": [],
   "execution_count": null,
   "source": [
    "def convert_to_datetime(yyMMddHHMM):\n",
    "    return datetime.strptime(str(yyMMddHHMM), '%y%m%d%H%M')"
   ]
  },
  {
   "metadata": {},
   "cell_type": "code",
   "outputs": [],
   "execution_count": null,
   "source": [
    "def convert_duration_to_DDHHMM(start_time, end_time):\n",
    "    start_dt = convert_to_datetime(start_time)\n",
    "    end_dt = convert_to_datetime(end_time)\n",
    "    duration = end_dt - start_dt\n",
    "\n",
    "    days = duration.days\n",
    "    hours, remainder = divmod(duration.seconds, 3600)\n",
    "    minutes = remainder // 60\n",
    "    return f'{days:02d}{hours:02d}{minutes:02d}'"
   ]
  },
  {
   "metadata": {},
   "cell_type": "code",
   "outputs": [],
   "execution_count": null,
   "source": [
    "# Register the UDF in Spark\n",
    "convert_duration_udf = udf(convert_duration_to_DDHHMM, StringType())\n",
    "# Add a column for duration in DDHHMM format\n",
    "df = df.withColumn('duration_DDHHMM', convert_duration_udf(col('Start_Time'), col('End_Time')))\n",
    "\n",
    "# Create Graph using GraphFrames for community detection\n",
    "vertices = df.selectExpr(\"Client1 as id\").union(df.selectExpr(\"Client2 as id\")).distinct()\n",
    "edges = df.selectExpr(\"Client1 as src\", \"Client2 as dst\")\n",
    "\n",
    "vertices.cache()\n",
    "edges.cache()"
   ]
  },
  {
   "metadata": {},
   "cell_type": "code",
   "outputs": [],
   "execution_count": null,
   "source": [
    "# Create a GraphFrame\n",
    "g = GraphFrame(vertices, edges)\n",
    "\n",
    "# Find connected components (communities) using GraphFrames\n",
    "result = g.connectedComponents()"
   ]
  },
  {
   "metadata": {},
   "cell_type": "code",
   "outputs": [],
   "execution_count": null,
   "source": [
    "# Join the result (community IDs) with the original dataframe\n",
    "df_with_communities = df.join(result, df['Client1'] == result['id'], 'inner').withColumnRenamed('component', 'community_id')\n",
    "\n",
    "# Calculate the number of unique clients (community size) per community\n",
    "community_sizes = df_with_communities.select(\"community_id\", \"Client1\").union(df_with_communities.select(\"community_id\", \"Client2\")) \\\n",
    "    .distinct() \\\n",
    "    .groupBy(\"community_id\").agg(countDistinct(\"Client1\").alias(\"community_size\"))\n",
    "\n",
    "# Merge the community sizes into the main DataFrame\n",
    "df_final = df_with_communities.join(community_sizes, 'community_id')\n",
    "\n",
    "# Get list of tuples for each community member by considering both Client1 and Client2\n",
    "community_members = df_final.select(\"community_id\", \"Client1\").union(df_final.select(\"community_id\", \"Client2\")) \\\n",
    "    .distinct() \\\n",
    "    .groupBy(\"community_id\").agg(collect_list(\"Client1\").alias(\"members\"))\n",
    "\n",
    "# Show the final DataFrame with community IDs, duration, and community sizes\n",
    "df_final.select('Client1', 'Client2', 'duration_DDHHMM', 'community_id', 'community_size').show()\n",
    "\n",
    "# Show the list of community members as tuples\n",
    "community_members.show(n=20, truncate=30)  # Display first 20 rows, truncating columns to 30 characters wide\n",
    "\n",
    "\n",
    "# Create the list of lists of tuples for communities\n",
    "communities = []\n",
    "\n",
    "# Group by community_id and collect the edges (Client1, Client2, duration_DDHHMM)\n",
    "grouped_data = df_final.groupBy(\"community_id\").agg(\n",
    "    collect_list(col(\"Client1\")).alias(\"Client1\"),\n",
    "    collect_list(col(\"Client2\")).alias(\"Client2\"),\n",
    "    collect_list(col(\"duration_DDHHMM\")).alias(\"durations\")\n",
    ").collect()\n",
    "\n",
    "# Iterate through each row in grouped_data\n",
    "for row in grouped_data:\n",
    "    community_id = row['community_id']  # Access community_id\n",
    "    community_tuples = []\n",
    "    for client1, client2, duration in zip(row['Client1'], row['Client2'], row['durations']):\n",
    "        community_tuples.append((client1, client2, duration))  # Create the tuple for each edge\n",
    "    communities.append(community_tuples)\n",
    "\n",
    "# Print the formatted output for verification\n",
    "for idx, community in enumerate(communities, start=1):\n",
    "    print(f\"Community {idx}: {community}\")"
   ]
  }
 ],
 "metadata": {
  "colab": {
   "provenance": []
  },
  "kernelspec": {
   "display_name": "Python 3 (ipykernel)",
   "name": "python3",
   "language": "python"
  },
  "language_info": {
   "name": "python"
  }
 },
 "nbformat": 4,
 "nbformat_minor": 0
}
