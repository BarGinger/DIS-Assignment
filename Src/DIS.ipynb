{
  "cells": [
    {
      "metadata": {
        "id": "zv2Pv7NNQrP_"
      },
      "cell_type": "markdown",
      "source": [
        "<a href=\"https://colab.research.google.com/github/BarGinger/DIS-Assignment/blob/main/Src/DIS.ipynb\" target=\"_parent\"><img src=\"https://colab.research.google.com/assets/colab-badge.svg\" alt=\"Open In Colab\"/></a>"
      ]
    },
    {
      "metadata": {
        "id": "wpH36fS3QrQC",
        "outputId": "917730af-fb5e-4603-eaac-7c27b5c0ffe0",
        "colab": {
          "base_uri": "https://localhost:8080/"
        }
      },
      "cell_type": "code",
      "outputs": [
        {
          "output_type": "stream",
          "name": "stdout",
          "text": [
            "Drive already mounted at /content/drive; to attempt to forcibly remount, call drive.mount(\"/content/drive\", force_remount=True).\n"
          ]
        }
      ],
      "execution_count": 64,
      "source": [
        "from google.colab import drive\n",
        "drive.mount('/content/drive')"
      ]
    },
    {
      "metadata": {
        "id": "jwzFhH4BQrQE",
        "outputId": "66a5dc82-e25b-422a-c486-4fdcc7289750",
        "colab": {
          "base_uri": "https://localhost:8080/"
        }
      },
      "cell_type": "code",
      "outputs": [
        {
          "output_type": "stream",
          "name": "stdout",
          "text": [
            "Requirement already satisfied: neo4j in /usr/local/lib/python3.10/dist-packages (5.25.0)\n",
            "Requirement already satisfied: pytz in /usr/local/lib/python3.10/dist-packages (from neo4j) (2024.2)\n",
            "Requirement already satisfied: pyspark in /usr/local/lib/python3.10/dist-packages (3.5.3)\n",
            "Requirement already satisfied: py4j==0.10.9.7 in /usr/local/lib/python3.10/dist-packages (from pyspark) (0.10.9.7)\n",
            "openjdk-8-jdk-headless is already the newest version (8u422-b05-1~22.04).\n",
            "0 upgraded, 0 newly installed, 0 to remove and 49 not upgraded.\n",
            "Requirement already satisfied: graphframes in /usr/local/lib/python3.10/dist-packages (0.6)\n",
            "Requirement already satisfied: numpy in /usr/local/lib/python3.10/dist-packages (from graphframes) (1.26.4)\n",
            "Requirement already satisfied: nose in /usr/local/lib/python3.10/dist-packages (from graphframes) (1.3.7)\n"
          ]
        }
      ],
      "execution_count": 65,
      "source": [
        "!pip install neo4j\n",
        "!pip install pyspark\n",
        "!pip install -U -q PyDrive\n",
        "!apt install openjdk-8-jdk-headless -qq\n",
        "!pip install graphframes\n",
        "import csv\n",
        "from neo4j import GraphDatabase\n",
        "import pyspark\n",
        "from pyspark.sql import SparkSession\n",
        "from pyspark.sql.functions import udf, col, collect_list, countDistinct, struct\n",
        "from pyspark.sql.types import StringType\n",
        "from datetime import datetime\n",
        "from graphframes import GraphFrame\n",
        "import os\n",
        "os.environ[\"JAVA_HOME\"] = \"/usr/lib/jvm/java-8-openjdk-amd64\""
      ]
    },
    {
      "metadata": {
        "id": "RU2iq6yEQrQF"
      },
      "cell_type": "code",
      "outputs": [],
      "execution_count": 77,
      "source": [
        "# Initialize Spark session\n",
        "spark = SparkSession.builder \\\n",
        "    .appName(\"PhoneCallsCommunityDetection\") \\\n",
        "    .config(\"spark.jars.packages\", \"graphframes:graphframes:0.8.2-spark3.1-s_2.12\") \\\n",
        "    .config(\"spark.executor.memory\", \"4g\") \\\n",
        "    .config(\"spark.driver.memory\", \"4g\") \\\n",
        "    .config(\"spark.default.parallelism\", \"16\") \\\n",
        "    .config(\"spark.sql.shuffle.partitions\", \"16\") \\\n",
        "    .getOrCreate()\n",
        "\n",
        "# Set a checkpoint directory for Spark\n",
        "spark.sparkContext.setCheckpointDir(\"/tmp/spark-checkpoints\")"
      ]
    },
    {
      "metadata": {
        "id": "APK3hfMoQrQG",
        "outputId": "3ea5d5e7-c5a4-41ec-91d9-fac060fb1b22",
        "colab": {
          "base_uri": "https://localhost:8080/"
        }
      },
      "cell_type": "code",
      "outputs": [
        {
          "output_type": "stream",
          "name": "stdout",
          "text": [
            "+-------+-------+----------+----------+\n",
            "|Client1|Client2|Start_Time|  End_Time|\n",
            "+-------+-------+----------+----------+\n",
            "|      1|      2|2408191800|2408202000|\n",
            "|      2|      3|2411171605|2411171640|\n",
            "|      4|      5|2406291350|2406291448|\n",
            "|      5|      6|2411070022|2411070319|\n",
            "|      6|      7|2408201805|2408202005|\n",
            "|      8|      9|2404230735|2404231008|\n",
            "|     10|     11|2402220756|2402220825|\n",
            "|     11|     12|2410032109|2410032324|\n",
            "|     13|     14|2402172235|2402180007|\n",
            "|     14|     15|2412161605|2412161713|\n",
            "+-------+-------+----------+----------+\n",
            "\n"
          ]
        }
      ],
      "execution_count": 78,
      "source": [
        "file_path = '/content/drive/MyDrive/DIS/adjusted_phone_calls.csv' #'../../Data/adjusted_phone_calls.csv'\n",
        "df = spark.read.csv(file_path, header=True, inferSchema=True)\n",
        "df.show(n=20, truncate=30)"
      ]
    },
    {
      "metadata": {
        "id": "0LyausyBQrQG"
      },
      "cell_type": "code",
      "outputs": [],
      "execution_count": 79,
      "source": [
        "def convert_to_datetime(yyMMddHHMM):\n",
        "    return datetime.strptime(str(yyMMddHHMM), '%y%m%d%H%M')"
      ]
    },
    {
      "metadata": {
        "id": "G_B0B3tIQrQH"
      },
      "cell_type": "code",
      "outputs": [],
      "execution_count": 80,
      "source": [
        "def convert_duration_to_DDHHMM(start_time, end_time):\n",
        "    start_dt = convert_to_datetime(start_time)\n",
        "    end_dt = convert_to_datetime(end_time)\n",
        "    duration = end_dt - start_dt\n",
        "\n",
        "    days = duration.days\n",
        "    hours, remainder = divmod(duration.seconds, 3600)\n",
        "    minutes = remainder // 60\n",
        "    return f'{days:02d}{hours:02d}{minutes:02d}'"
      ]
    },
    {
      "metadata": {
        "id": "RPPuIoLnQrQH",
        "outputId": "84ceac0c-d07a-4642-dc7e-df8d9dbe64a5",
        "colab": {
          "base_uri": "https://localhost:8080/"
        }
      },
      "cell_type": "code",
      "outputs": [
        {
          "output_type": "execute_result",
          "data": {
            "text/plain": [
              "DataFrame[src: int, dst: int]"
            ]
          },
          "metadata": {},
          "execution_count": 81
        }
      ],
      "execution_count": 81,
      "source": [
        "# Register the UDF in Spark\n",
        "convert_duration_udf = udf(convert_duration_to_DDHHMM, StringType())\n",
        "# Add a column for duration in DDHHMM format\n",
        "df = df.withColumn('duration_DDHHMM', convert_duration_udf(col('Start_Time'), col('End_Time')))\n",
        "\n",
        "# Create Graph using GraphFrames for community detection\n",
        "vertices = df.selectExpr(\"Client1 as id\").union(df.selectExpr(\"Client2 as id\")).distinct()\n",
        "edges = df.selectExpr(\"Client1 as src\", \"Client2 as dst\")\n",
        "\n",
        "vertices.cache()\n",
        "edges.cache()"
      ]
    },
    {
      "metadata": {
        "id": "0UiZ7a8xQrQI"
      },
      "cell_type": "code",
      "outputs": [],
      "execution_count": 82,
      "source": [
        "# Create a GraphFrame\n",
        "g = GraphFrame(vertices, edges)\n",
        "\n",
        "# Find connected components (communities) using GraphFrames\n",
        "result = g.connectedComponents()"
      ]
    },
    {
      "metadata": {
        "id": "j92d8dlqQrQJ",
        "outputId": "69c5ae6c-60f5-47be-ee4c-87578c7b36aa",
        "colab": {
          "base_uri": "https://localhost:8080/"
        }
      },
      "cell_type": "code",
      "outputs": [
        {
          "output_type": "stream",
          "name": "stdout",
          "text": [
            "+-------+-------+---------------+------------+--------------+\n",
            "|Client1|Client2|duration_DDHHMM|community_id|community_size|\n",
            "+-------+-------+---------------+------------+--------------+\n",
            "|      4|      5|         000058|           4|             4|\n",
            "|      6|      7|         000200|           4|             4|\n",
            "|      5|      6|         000257|           4|             4|\n",
            "|     14|     15|         000108|          13|             3|\n",
            "|     13|     14|         000132|          13|             3|\n",
            "|      8|      9|         000233|           8|             2|\n",
            "|     11|     12|         000215|          10|             3|\n",
            "|     10|     11|         000029|          10|             3|\n",
            "|      2|      3|         000035|           1|             3|\n",
            "|      1|      2|         010200|           1|             3|\n",
            "+-------+-------+---------------+------------+--------------+\n",
            "\n",
            "+------------+------------+\n",
            "|community_id|     members|\n",
            "+------------+------------+\n",
            "|           4|[5, 4, 6, 7]|\n",
            "|          13|[14, 13, 15]|\n",
            "|           8|      [8, 9]|\n",
            "|          10|[10, 11, 12]|\n",
            "|           1|   [1, 2, 3]|\n",
            "+------------+------------+\n",
            "\n",
            "Community 1: [(4, 5, '000058'), (6, 7, '000200'), (5, 6, '000257')]\n",
            "Community 2: [(11, 12, '000215'), (10, 11, '000029')]\n",
            "Community 3: [(2, 3, '000035'), (1, 2, '010200')]\n",
            "Community 4: [(14, 15, '000108'), (13, 14, '000132')]\n",
            "Community 5: [(8, 9, '000233')]\n"
          ]
        }
      ],
      "execution_count": 83,
      "source": [
        "# Join the result (community IDs) with the original dataframe\n",
        "df_with_communities = df.join(result, df['Client1'] == result['id'], 'inner').withColumnRenamed('component', 'community_id')\n",
        "\n",
        "# Calculate the number of unique clients (community size) per community\n",
        "community_sizes = df_with_communities.select(\"community_id\", \"Client1\").union(df_with_communities.select(\"community_id\", \"Client2\")) \\\n",
        "    .distinct() \\\n",
        "    .groupBy(\"community_id\").agg(countDistinct(\"Client1\").alias(\"community_size\"))\n",
        "\n",
        "# Merge the community sizes into the main DataFrame\n",
        "df_final = df_with_communities.join(community_sizes, 'community_id')\n",
        "\n",
        "# Get list of tuples for each community member by considering both Client1 and Client2\n",
        "community_members = df_final.select(\"community_id\", \"Client1\").union(df_final.select(\"community_id\", \"Client2\")) \\\n",
        "    .distinct() \\\n",
        "    .groupBy(\"community_id\").agg(collect_list(\"Client1\").alias(\"members\"))\n",
        "\n",
        "# Show the final DataFrame with community IDs, duration, and community sizes\n",
        "df_final.select('Client1', 'Client2', 'duration_DDHHMM', 'community_id', 'community_size').show()\n",
        "\n",
        "# Show the list of community members as tuples\n",
        "community_members.show(n=20, truncate=30)  # Display first 20 rows, truncating columns to 30 characters wide\n",
        "\n",
        "\n",
        "# Create the list of lists of tuples for communities\n",
        "communities = []\n",
        "\n",
        "# Group by community_id and collect the edges (Client1, Client2, duration_DDHHMM)\n",
        "grouped_data = df_final.groupBy(\"community_id\").agg(\n",
        "    collect_list(col(\"Client1\")).alias(\"Client1\"),\n",
        "    collect_list(col(\"Client2\")).alias(\"Client2\"),\n",
        "    collect_list(col(\"duration_DDHHMM\")).alias(\"durations\")\n",
        ").collect()\n",
        "\n",
        "# Iterate through each row in grouped_data\n",
        "for row in grouped_data:\n",
        "    community_id = row['community_id']  # Access community_id\n",
        "    community_tuples = []\n",
        "    for client1, client2, duration in zip(row['Client1'], row['Client2'], row['durations']):\n",
        "        community_tuples.append((client1, client2, duration))  # Create the tuple for each edge\n",
        "    communities.append(community_tuples)\n",
        "\n",
        "# Print the formatted output for verification\n",
        "for idx, community in enumerate(communities, start=1):\n",
        "    print(f\"Community {idx}: {community}\")"
      ]
    }
  ],
  "metadata": {
    "colab": {
      "provenance": []
    },
    "kernelspec": {
      "display_name": "Python 3 (ipykernel)",
      "name": "python3",
      "language": "python"
    },
    "language_info": {
      "name": "python"
    }
  },
  "nbformat": 4,
  "nbformat_minor": 0
}